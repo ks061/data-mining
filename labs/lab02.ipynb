{
 "cells": [
  {
   "cell_type": "markdown",
   "id": "understood-summit",
   "metadata": {},
   "source": [
    "# Lab 02 - numpy\n",
    "\n",
    "Name: Kartikeya Sharma  \n",
    "Class: CSCI 349 - Intro to Data Mining  \n",
    "Semester: 2021SP  \n",
    "Instructor: Brian King  "
   ]
  },
  {
   "cell_type": "code",
   "execution_count": 1,
   "id": "waiting-malaysia",
   "metadata": {},
   "outputs": [
    {
     "name": "stdout",
     "output_type": "stream",
     "text": [
      "3.8.8 (default, Feb 24 2021, 13:46:16) \n",
      "[Clang 10.0.0 ]\n",
      "1.19.2\n"
     ]
    }
   ],
   "source": [
    "import sys\n",
    "import numpy as np\n",
    "print(sys.version)\n",
    "print(np.__version__)"
   ]
  },
  {
   "cell_type": "markdown",
   "id": "ecological-unknown",
   "metadata": {},
   "source": [
    "#### 1. [P] Create a 52500 x 75 matrix of zeros, stored as X. Then, print out the shape of the matrix, the base data type, the individual item size in the array, and the total size of the array in bytes (as an integer). Also, print out the total size in megabytes with 3 significant digits."
   ]
  },
  {
   "cell_type": "code",
   "execution_count": 2,
   "id": "falling-mauritius",
   "metadata": {},
   "outputs": [
    {
     "name": "stdout",
     "output_type": "stream",
     "text": [
      "Statistics of ndarray X:\n",
      "\n",
      "shape of the matrix: (52500, 75)\n",
      "base data type: float64\n",
      "individual item size (bytes): 8 bytes\n",
      "total size (in bytes) 31500000 bytes\n",
      "total size (in megabytes): 31.5 MB\n"
     ]
    }
   ],
   "source": [
    "# parameters\n",
    "X_num_rows = 52500\n",
    "X_num_cols = 75\n",
    "num_sig_figs = 3\n",
    "\n",
    "X = np.zeros((X_num_rows, X_num_cols))\n",
    "\n",
    "print(\"Statistics of ndarray X:\")\n",
    "print()\n",
    "print(\"shape of the matrix: \" + str(X.shape))\n",
    "print(\"base data type: \" + str(X.dtype))\n",
    "print(\"individual item size (bytes): \" + str(X.itemsize) + \" bytes\")\n",
    "print(\"total size (in bytes) \" + str(X.nbytes) + \" bytes\")\n",
    "\n",
    "bytes_to_megabytes_factor = 1 / 10**6 # multiply this by # bytes to convert\n",
    "                                      # bytes to MB; 1/2^20 was used\n",
    "                                      # traditionally, but what was formerly \n",
    "                                      # called megabyte is now called mebibyte\n",
    "                                      # <sup>1 2</sup> <-- sources (see bottom)\n",
    "total_size_in_megabytes = X.nbytes * bytes_to_megabytes_factor\n",
    "\n",
    "def get_to_sig_figs(input_value, num_sig_figs):\n",
    "    '''\n",
    "    Utility has been borrowed in full (with slight modification) from the following source:\n",
    "    https://stackoverflow.com/questions/42052605/round-python-float-to-4-significant-digits-on-output-in-different-numeric-range\n",
    "    '''\n",
    "    from decimal import Decimal,ROUND_HALF_EVEN,Context\n",
    "    ctx = Context(prec=num_sig_figs, rounding=ROUND_HALF_EVEN)\n",
    "    return str(ctx.create_decimal(input_value))\n",
    "\n",
    "print(\"total size (in megabytes): \" + \\\n",
    "      str(get_to_sig_figs(total_size_in_megabytes, num_sig_figs)) + \" MB\" \\\n",
    "     )\n",
    "\n",
    "# Sources:\n",
    "#     1. https://www.wolframalpha.com/input/?i=bytes+to+megabytes\n",
    "#     2. https://stackoverflow.com/questions/2365100/converting-bytes-to-megabytes"
   ]
  },
  {
   "cell_type": "markdown",
   "id": "documented-sessions",
   "metadata": {},
   "source": [
    "#### 2. [P] Resize X to have the same number of elements, but with 100 columns. Show the shape. Show the number of bytes (which should be the same as the previous answer)"
   ]
  },
  {
   "cell_type": "code",
   "execution_count": 3,
   "id": "received-evans",
   "metadata": {},
   "outputs": [
    {
     "name": "stdout",
     "output_type": "stream",
     "text": [
      "shape of X: (39375, 100)\n",
      "total size (in bytes): 31500000 bytes\n"
     ]
    }
   ],
   "source": [
    "num_cols = 100\n",
    "num_rows = (int) (X.size / num_cols)\n",
    "X.resize(num_rows, num_cols)\n",
    "print(\"shape of X: \" + str(X.shape))\n",
    "print(\"total size (in bytes): \" + str(X.nbytes) + \" bytes\")"
   ]
  },
  {
   "cell_type": "markdown",
   "id": "hawaiian-register",
   "metadata": {},
   "source": [
    "#### 3. [P] Redo #1, but use a base datatype of 16-bit integers."
   ]
  },
  {
   "cell_type": "code",
   "execution_count": 4,
   "id": "pharmaceutical-colombia",
   "metadata": {},
   "outputs": [
    {
     "name": "stdout",
     "output_type": "stream",
     "text": [
      "Statistics of ndarray X:\n",
      "\n",
      "shape of the matrix: (52500, 75)\n",
      "base data type: int16\n",
      "individual item size (bytes): 2 bytes\n",
      "total size (in bytes) 7875000 bytes\n",
      "total size (in megabytes): 7.88 MB\n"
     ]
    }
   ],
   "source": [
    "# parameters\n",
    "X_num_rows = 52500\n",
    "X_num_cols = 75\n",
    "num_sig_figs = 3\n",
    "\n",
    "X = np.zeros((X_num_rows, X_num_cols), dtype=np.int16)\n",
    "\n",
    "print(\"Statistics of ndarray X:\")\n",
    "print()\n",
    "print(\"shape of the matrix: \" + str(X.shape))\n",
    "print(\"base data type: \" + str(X.dtype))\n",
    "print(\"individual item size (bytes): \" + str(X.itemsize) + \" bytes\")\n",
    "print(\"total size (in bytes) \" + str(X.nbytes) + \" bytes\")\n",
    "\n",
    "bytes_to_megabytes_factor = 1 / 10**6 # multiply this by # bytes to convert\n",
    "                                      # bytes to MB; 1/2^20 was used\n",
    "                                      # traditionally, but what was formerly \n",
    "                                      # called megabyte is now called mebibyte\n",
    "                                      # <sup>1 2</sup> <-- sources (see bottom)\n",
    "total_size_in_megabytes = X.nbytes * bytes_to_megabytes_factor\n",
    "\n",
    "def get_to_sig_figs(input_value, num_sig_figs):\n",
    "    '''\n",
    "    Utility has been borrowed in full (with slight modification) from the following source:\n",
    "    https://stackoverflow.com/questions/42052605/round-python-float-to-4-significant-digits-on-output-in-different-numeric-range\n",
    "    '''\n",
    "    from decimal import Decimal,ROUND_HALF_EVEN,Context\n",
    "    ctx = Context(prec=num_sig_figs, rounding=ROUND_HALF_EVEN)\n",
    "    return str(ctx.create_decimal(input_value))\n",
    "\n",
    "print(\"total size (in megabytes): \" + \\\n",
    "      str(get_to_sig_figs(total_size_in_megabytes, num_sig_figs)) + \" MB\" \\\n",
    "     )\n",
    "\n",
    "# Sources:\n",
    "#     1. https://www.wolframalpha.com/input/?i=bytes+to+megabytes\n",
    "#     2. https://stackoverflow.com/questions/2365100/converting-bytes-to-megabytes"
   ]
  },
  {
   "cell_type": "markdown",
   "id": "confused-handy",
   "metadata": {},
   "source": [
    "#### 4. [P] How many dimensions does X have? Answer using the appropriate property of np.ndarray objects."
   ]
  },
  {
   "cell_type": "code",
   "execution_count": 5,
   "id": "elegant-horizon",
   "metadata": {},
   "outputs": [
    {
     "name": "stdout",
     "output_type": "stream",
     "text": [
      "number of dimensions of X: 2 dimensions\n"
     ]
    }
   ],
   "source": [
    "print(\"number of dimensions of X: \" + str(X.ndim) + \" dimensions\")"
   ]
  },
  {
   "cell_type": "markdown",
   "id": "printable-peripheral",
   "metadata": {},
   "source": [
    "#### 5. [P] Enter the following Python list in your cell:\n",
    "\n",
    "```python str_nums = ['2.14', '-9.300', '42'] ```\n",
    "\n",
    "#### Convert this to a numpy array named X. What is the base type? Show the contents of X.\n",
    "\n",
    "#### Then, convert X to an array of single precision floating point numbers. (HINT: use astype). Show X again."
   ]
  },
  {
   "cell_type": "code",
   "execution_count": 6,
   "id": "featured-robertson",
   "metadata": {},
   "outputs": [
    {
     "name": "stdout",
     "output_type": "stream",
     "text": [
      "base type of X: <U6 (little-endian 6-length Unicode string)\n",
      "['2.14' '-9.300' '42']\n",
      "\n",
      "X as single precision floating point as base type: \n",
      "[ 2.14 -9.3  42.  ]\n"
     ]
    }
   ],
   "source": [
    "str_nums = ['2.14', '-9.300', '42'] # given in instructions\n",
    "\n",
    "X = np.array(str_nums)\n",
    "print(\"base type of X: \" + str(X.dtype) + \" (little-endian 6-length Unicode string)\")\n",
    "print(X)\n",
    "print()\n",
    "X = X.astype(np.float32, copy=False)\n",
    "print(\"X as single precision floating point as base type: \\n\" + str(X))"
   ]
  },
  {
   "cell_type": "markdown",
   "id": "potential-deployment",
   "metadata": {},
   "source": [
    "#### Let's assume you have two week's worth of quiz scores. Quizzes are out of 10 points, and are given every day. Enter the following in your cell:\n",
    "\n",
    "#### ```python days = [\"Mon\",\"Tue\",\"Wed\",\"Thu\",\"Fri\"] ```\n",
    "#### ```python scores_1 = [9.5, 8.75, 8, 10, 7.75] ```\n",
    "#### ```python scores_2 = [9, 8, 10, 8.75, 7.25] ```\n",
    "\n",
    "#### The array scores_1 represents quiz scores from week 1, and scores_2 is week 2. The days array will be used for data selection purposes."
   ]
  },
  {
   "cell_type": "markdown",
   "id": "european-class",
   "metadata": {},
   "source": [
    "#### 6. [P] Copy the three definitions above for the Python lists days, scores_1, and scores_2. Create a numpy array called scores that has scores_1 as the first row and scores_2 as the second row using np.concatenate. Then, change days into a np.array from the list days. Show the contents of scores and days, and output their shape."
   ]
  },
  {
   "cell_type": "code",
   "execution_count": 7,
   "id": "fixed-lewis",
   "metadata": {},
   "outputs": [
    {
     "name": "stdout",
     "output_type": "stream",
     "text": [
      "scores: \n",
      "[[ 9.5   8.75  8.   10.    7.75]\n",
      " [ 9.    8.   10.    8.75  7.25]]\n",
      "days: ['Mon' 'Tue' 'Wed' 'Thu' 'Fri']\n",
      "\n",
      "shape of scores: (2, 5)\n",
      "shape of days: (5,)\n"
     ]
    }
   ],
   "source": [
    "days = [\"Mon\",\"Tue\",\"Wed\",\"Thu\",\"Fri\"]\n",
    "scores_1 = [9.5, 8.75, 8, 10, 7.75]\n",
    "scores_2 = [9, 8, 10, 8.75, 7.25]\n",
    "\n",
    "scores = np.concatenate(([scores_1], [scores_2]))\n",
    "\n",
    "days = np.array(days)\n",
    "\n",
    "print(\"scores: \\n\" + str(scores))\n",
    "print(\"days: \" + str(days))\n",
    "print()\n",
    "print(\"shape of scores: \" + str(scores.shape))\n",
    "print(\"shape of days: \" + str(days.shape))"
   ]
  },
  {
   "cell_type": "markdown",
   "id": "reported-nashville",
   "metadata": {},
   "source": [
    "#### 7. [P] Repeat the previous problem with the creation of scores from the Python lists scores_1 and scores_2, but now do it with np.vstack. The array should be identical.\n",
    "\n",
    "#### REMINDER - Do not simply answer questions using functions or methods you know nothing about! If you have not seen vstack before, then look it up!"
   ]
  },
  {
   "cell_type": "code",
   "execution_count": 8,
   "id": "typical-driving",
   "metadata": {},
   "outputs": [
    {
     "name": "stdout",
     "output_type": "stream",
     "text": [
      "scores: \n",
      "[[ 9.5   8.75  8.   10.    7.75]\n",
      " [ 9.    8.   10.    8.75  7.25]]\n",
      "days: ['Mon' 'Tue' 'Wed' 'Thu' 'Fri']\n",
      "\n",
      "shape of scores: (2, 5)\n",
      "shape of days: (5,)\n"
     ]
    }
   ],
   "source": [
    "days = [\"Mon\",\"Tue\",\"Wed\",\"Thu\",\"Fri\"]\n",
    "scores_1 = [9.5, 8.75, 8, 10, 7.75]\n",
    "scores_2 = [9, 8, 10, 8.75, 7.25]\n",
    "\n",
    "scores = np.vstack((scores_1, scores_2))\n",
    "\n",
    "days = np.array(days)\n",
    "\n",
    "print(\"scores: \\n\" + str(scores))\n",
    "print(\"days: \" + str(days))\n",
    "print()\n",
    "print(\"shape of scores: \" + str(scores.shape))\n",
    "print(\"shape of days: \" + str(days.shape))"
   ]
  },
  {
   "cell_type": "markdown",
   "id": "modern-success",
   "metadata": {},
   "source": [
    "#### For the next several questions, you are going to exercise some advanced data selection techniques using the days array to assist with looking up data. For example, if you are asked to reveal the scores from only Friday, then you must write the numpy selection expression to do this. For example, the following shows the scores only from Friday:\n",
    "\n",
    "```python scores[:, days == \"Fri\"] ```"
   ]
  },
  {
   "cell_type": "markdown",
   "id": "opening-exposure",
   "metadata": {},
   "source": [
    "#### 8. [P/M] Compare the result of the expression days == \"Fri\" if the variable days was a Python list as entered above, vs. days being a numpy array. What is the difference in the result? **In general, how does numpy deal with standard comparison operators?**"
   ]
  },
  {
   "cell_type": "code",
   "execution_count": 9,
   "id": "effective-wednesday",
   "metadata": {},
   "outputs": [
    {
     "name": "stdout",
     "output_type": "stream",
     "text": [
      "days == Fri if days is Python list: False\n",
      "days == Fri if days is numpy array: [False False False False  True]\n"
     ]
    }
   ],
   "source": [
    "days = [\"Mon\",\"Tue\",\"Wed\",\"Thu\",\"Fri\"]\n",
    "print(\"days == Fri if days is Python list: \" + str(days == \"Fri\"))\n",
    "\n",
    "days = np.array(days)\n",
    "print(\"days == Fri if days is numpy array: \" + str(days == \"Fri\"))"
   ]
  },
  {
   "cell_type": "markdown",
   "id": "automatic-enemy",
   "metadata": {},
   "source": [
    "<br/>\n",
    "\n",
    "As a Python list, days as a Python list object is compared against the string object \"Fri,\" which are not equivalent to one another. Hence, False is outputted when the result of this comparison is printed. \n",
    "\n",
    "On the other hand, in the case where days is a numpy array, the value of the string \"Fri\" is compared with, for value-equivalency rather than memory address being referenced that is, each string item within the days array. Each item in the output numpy array was a boolean value positionally-corresponding to whether the string value at the corresponding position in days was \"Fri\" (True) or not (False). The == operator is processed by the Python interpretor as a call to the hidden (private) method \\_\\_eq\\_\\_, which are presumably implemented differently in the built-in Python list class and numpy ndarray class.<sup>2</sup> \n",
    "\n",
    "Unlike what is the case with using built-in Python operations, NumPy allows developers using the NumPy package to perform operations on arrays without manually writing iterative loops. This reduces the inefficiency/overhead traditionally required in order to perform those operations in Python (iteratively so, i.e. with for loops); within the development community associated with NumPy, this concept is known as vectorization.<sup>1</sup> By default, NumPy interprets standard operators to be operated upon \"element-wise.\"<sup>1</sup> In \"element-wise\" operations, each value at a particular position in the array before the operation is operated with the positionally corresponding value in the latter array; the result of each such operation is position-correspondingly placed in the array resulting from the operation.<sup>1</sup> Of course, this would require the two arrays being operated with, as well as the resulting array, to be of the same dimensions. \n",
    "\n",
    "Sources\n",
    "1. https://learning.oreilly.com/library/view/python-for-data/9781491957653/ch04.html\n",
    "2. *The source of this knowledge is from what I learned in CSCI 204 \"Data Structures & Algorithms.\"*"
   ]
  },
  {
   "cell_type": "markdown",
   "id": "alpine-atlantic",
   "metadata": {},
   "source": [
    "#### 9. [P] Select the scores that fell on Monday. \n",
    "#### HINT: For cells that ask for only one output, you can sometimes avoid a print statement. The expression evaluated as the last line of a cell will also be the output of the cell. For example, if I did not use the print function, here's what the answer would look like:\n",
    "\n",
    "   #### &emsp;&ensp; 9) Select the scores that fell on Monday\n",
    "   #### &emsp;&ensp; ``` scores[:,days==\"Mon\"] ```\n",
    "   #### &emsp;&ensp; array(\\[\\[9.5\\],\n",
    "   #### &emsp;&ensp; &emsp;&emsp;&emsp;&nbsp;\\[9. \\]\\])\n",
    "   \n",
    "    "
   ]
  },
  {
   "cell_type": "code",
   "execution_count": 10,
   "id": "alleged-december",
   "metadata": {},
   "outputs": [
    {
     "data": {
      "text/plain": [
       "array([[9.5],\n",
       "       [9. ]])"
      ]
     },
     "execution_count": 10,
     "metadata": {},
     "output_type": "execute_result"
    }
   ],
   "source": [
    "monday_cond = days==\"Mon\" # condition for which positions along the \n",
    "                          # 0 axis in scores contains scores that fell on Monday.\n",
    "\n",
    "scores[:,monday_cond]"
   ]
  },
  {
   "cell_type": "markdown",
   "id": "broke-filter",
   "metadata": {},
   "source": [
    "#### 10. [P] Select all of the scores that are NOT on Monday (Hint – look up the ~ operator)"
   ]
  },
  {
   "cell_type": "code",
   "execution_count": 11,
   "id": "global-copper",
   "metadata": {},
   "outputs": [
    {
     "data": {
      "text/plain": [
       "array([[ 8.75,  8.  , 10.  ,  7.75],\n",
       "       [ 8.  , 10.  ,  8.75,  7.25]])"
      ]
     },
     "execution_count": 11,
     "metadata": {},
     "output_type": "execute_result"
    }
   ],
   "source": [
    "scores[:,~monday_cond]"
   ]
  },
  {
   "cell_type": "markdown",
   "id": "suffering-arnold",
   "metadata": {},
   "source": [
    "#### 11. [P] Select the scores that were on Tuesday or Thursday"
   ]
  },
  {
   "cell_type": "code",
   "execution_count": 12,
   "id": "wrong-arthur",
   "metadata": {},
   "outputs": [
    {
     "data": {
      "text/plain": [
       "array([[ 8.75, 10.  ],\n",
       "       [ 8.  ,  8.75]])"
      ]
     },
     "execution_count": 12,
     "metadata": {},
     "output_type": "execute_result"
    }
   ],
   "source": [
    "scores[:,((days==\"Tue\") | (days==\"Thu\"))]"
   ]
  },
  {
   "cell_type": "markdown",
   "id": "adjustable-lawrence",
   "metadata": {},
   "source": [
    "#### 12. [P] Show the minimum and maximum scores for the entire array of scores"
   ]
  },
  {
   "cell_type": "code",
   "execution_count": 13,
   "id": "assisted-driver",
   "metadata": {},
   "outputs": [
    {
     "name": "stdout",
     "output_type": "stream",
     "text": [
      "maximum score in ndarray scores: 10.0\n",
      "minimum score in ndarray scores: 7.25\n"
     ]
    }
   ],
   "source": [
    "print(\"maximum score in ndarray scores: \" + str(scores.max()))\n",
    "print(\"minimum score in ndarray scores: \" + str(scores.min()))"
   ]
  },
  {
   "cell_type": "markdown",
   "id": "specific-length",
   "metadata": {},
   "source": [
    "#### 13. [P] Show the minimum scores for each week as a new array. The result should have the same dimensions (hint – use the keepdims parameter of np.min). Your result should be something like:\n",
    "\n",
    "   #### &emsp;&ensp; array(\\[\\[7.75\\],\n",
    "   #### &emsp;&ensp; &emsp;&emsp;&emsp;&nbsp;\\[7.25\\]\\])"
   ]
  },
  {
   "cell_type": "code",
   "execution_count": 14,
   "id": "loose-triple",
   "metadata": {},
   "outputs": [
    {
     "data": {
      "text/plain": [
       "array([[7.75],\n",
       "       [7.25]])"
      ]
     },
     "execution_count": 14,
     "metadata": {},
     "output_type": "execute_result"
    }
   ],
   "source": [
    "scores.min(axis=1, keepdims=True)"
   ]
  },
  {
   "cell_type": "markdown",
   "id": "removable-confirmation",
   "metadata": {},
   "source": [
    "#### 14. [P] Report the day that the maximum score occurred each week. (HINT: use argmax and use that result to index days.)"
   ]
  },
  {
   "cell_type": "code",
   "execution_count": 15,
   "id": "proper-outreach",
   "metadata": {},
   "outputs": [
    {
     "data": {
      "text/plain": [
       "array([['Thu'],\n",
       "       ['Wed']], dtype='<U3')"
      ]
     },
     "execution_count": 15,
     "metadata": {},
     "output_type": "execute_result"
    }
   ],
   "source": [
    "def argmax_keepdims(x, axis):\n",
    "    \"\"\"\n",
    "    Returns the indices of the maximum values along an axis.\n",
    "\n",
    "    The axis which is reduced is left in the result as dimension with size one.\n",
    "    The result will broadcast correctly against the input array.\n",
    "\n",
    "    Original numpy.argmax() implementation does not currently support the keepdims parameter.\n",
    "    See https://github.com/numpy/numpy/issues/8710 for further information.\n",
    "    \"\"\"\n",
    "    output_shape = list(x.shape)\n",
    "    output_shape[axis] = 1\n",
    "    return np.argmax(x, axis=axis).reshape(output_shape)\n",
    "\n",
    "days[argmax_keepdims(scores, 1)] # keep dimensions\n",
    "                                 # display weekday of max score \n",
    "                                 # for each week in each row"
   ]
  },
  {
   "cell_type": "markdown",
   "id": "african-difficulty",
   "metadata": {},
   "source": [
    "#### 15. [P] Report the mean of the scores of each week"
   ]
  },
  {
   "cell_type": "code",
   "execution_count": 16,
   "id": "sharp-facial",
   "metadata": {},
   "outputs": [
    {
     "data": {
      "text/plain": [
       "array([[8.8],\n",
       "       [8.6]])"
      ]
     },
     "execution_count": 16,
     "metadata": {},
     "output_type": "execute_result"
    }
   ],
   "source": [
    "scores.mean(axis=1, keepdims=True)"
   ]
  },
  {
   "cell_type": "markdown",
   "id": "young-valley",
   "metadata": {},
   "source": [
    "#### 16. [P] Suppose the lowest score was dropped from each week. Report the mean of each week, but without the minimum score for that week."
   ]
  },
  {
   "cell_type": "code",
   "execution_count": 17,
   "id": "wireless-prediction",
   "metadata": {},
   "outputs": [
    {
     "data": {
      "text/plain": [
       "array([[9.0625],\n",
       "       [8.9375]])"
      ]
     },
     "execution_count": 17,
     "metadata": {},
     "output_type": "execute_result"
    }
   ],
   "source": [
    "scores_wo_lowest_score_in_wk = np.delete(scores,scores.argmin(axis=1),axis=1)\n",
    "scores_wo_lowest_score_in_wk.mean(axis=1, keepdims=True)"
   ]
  },
  {
   "cell_type": "markdown",
   "id": "worth-first",
   "metadata": {},
   "source": [
    "#### 17. [P] Convert the scores to fall on a scale from 0-100 instead of 0-10. Show the result."
   ]
  },
  {
   "cell_type": "code",
   "execution_count": 18,
   "id": "premier-jumping",
   "metadata": {},
   "outputs": [
    {
     "name": "stdout",
     "output_type": "stream",
     "text": [
      "scores:\n",
      "[[ 95.   87.5  80.  100.   77.5]\n",
      " [ 90.   80.  100.   87.5  72.5]]\n"
     ]
    }
   ],
   "source": [
    "# assuming scale starts at 0 and includes integers\n",
    "# creating section for parameters to avoid magic numbers\n",
    "curr_max_scale_val = 10\n",
    "target_max_scale_val = 100\n",
    "change_max_scale_factor = target_max_scale_val / curr_max_scale_val\n",
    "\n",
    "scores *= change_max_scale_factor\n",
    "print(\"scores:\\n\" + str(scores))"
   ]
  },
  {
   "cell_type": "markdown",
   "id": "blocked-biography",
   "metadata": {},
   "source": [
    "#### Copy and paste this code into a cell:"
   ]
  },
  {
   "cell_type": "code",
   "execution_count": 19,
   "id": "ecological-wound",
   "metadata": {},
   "outputs": [
    {
     "data": {
      "text/plain": [
       "array([[48, 84, 39, 54, 77],\n",
       "       [25, 16, 50, 24, 27],\n",
       "       [31, 44, 31, 27, 59],\n",
       "       [93, 70, 81, 74, 48],\n",
       "       [51, 77, 38, 35, 39],\n",
       "       [68, 12,  1, 76, 81],\n",
       "       [ 4,  3, 20, 13, 66],\n",
       "       [76, 82, 15, 72, 61],\n",
       "       [47, 29, 82, 88, 14],\n",
       "       [97, 13, 70, 96, 32]])"
      ]
     },
     "execution_count": 19,
     "metadata": {},
     "output_type": "execute_result"
    }
   ],
   "source": [
    "np.random.seed(1234)\n",
    "X = np.random.randint(1,100,50).reshape((10,5))\n",
    "X"
   ]
  },
  {
   "cell_type": "markdown",
   "id": "fundamental-webcam",
   "metadata": {},
   "source": [
    "#### You may use standard selection techniques with integers and slicing for the following exercises. Be sure to show your results of each. (Most of these are one-line statements, and thus you won't need a print function.) For each of these, you should only show the result of the selection. Do NOT reassign X."
   ]
  },
  {
   "cell_type": "markdown",
   "id": "final-effects",
   "metadata": {},
   "source": [
    "#### 18. [P] Select the first row of X"
   ]
  },
  {
   "cell_type": "code",
   "execution_count": 20,
   "id": "parental-costume",
   "metadata": {},
   "outputs": [
    {
     "data": {
      "text/plain": [
       "array([[48, 84, 39, 54, 77]])"
      ]
     },
     "execution_count": 20,
     "metadata": {},
     "output_type": "execute_result"
    }
   ],
   "source": [
    "num_row_to_select = 1 # 1 for 1st, 2 for 2nd, and so on\n",
    "X[[num_row_to_select-1],:]   # keep dimensions"
   ]
  },
  {
   "cell_type": "markdown",
   "id": "thorough-remove",
   "metadata": {},
   "source": [
    "#### 19. [P] Select the last column of X"
   ]
  },
  {
   "cell_type": "code",
   "execution_count": 21,
   "id": "british-squad",
   "metadata": {},
   "outputs": [
    {
     "data": {
      "text/plain": [
       "array([[77],\n",
       "       [27],\n",
       "       [59],\n",
       "       [48],\n",
       "       [39],\n",
       "       [81],\n",
       "       [66],\n",
       "       [61],\n",
       "       [14],\n",
       "       [32]])"
      ]
     },
     "execution_count": 21,
     "metadata": {},
     "output_type": "execute_result"
    }
   ],
   "source": [
    "X[:,-1:]"
   ]
  },
  {
   "cell_type": "markdown",
   "id": "parental-rotation",
   "metadata": {},
   "source": [
    "#### 20. [P] Select the first AND last column of X"
   ]
  },
  {
   "cell_type": "code",
   "execution_count": 22,
   "id": "collaborative-friendly",
   "metadata": {},
   "outputs": [
    {
     "data": {
      "text/plain": [
       "array([[48, 77],\n",
       "       [25, 27],\n",
       "       [31, 59],\n",
       "       [93, 48],\n",
       "       [51, 39],\n",
       "       [68, 81],\n",
       "       [ 4, 66],\n",
       "       [76, 61],\n",
       "       [47, 14],\n",
       "       [97, 32]])"
      ]
     },
     "execution_count": 22,
     "metadata": {},
     "output_type": "execute_result"
    }
   ],
   "source": [
    "column_index_values = [0, -1]\n",
    "\n",
    "X[:,column_index_values]"
   ]
  },
  {
   "cell_type": "markdown",
   "id": "social-catalyst",
   "metadata": {},
   "source": [
    "#### 21. [P] Select every other row of X"
   ]
  },
  {
   "cell_type": "code",
   "execution_count": 23,
   "id": "developed-bidding",
   "metadata": {},
   "outputs": [
    {
     "data": {
      "text/plain": [
       "array([[48, 84, 39, 54, 77],\n",
       "       [31, 44, 31, 27, 59],\n",
       "       [51, 77, 38, 35, 39],\n",
       "       [ 4,  3, 20, 13, 66],\n",
       "       [47, 29, 82, 88, 14]])"
      ]
     },
     "execution_count": 23,
     "metadata": {},
     "output_type": "execute_result"
    }
   ],
   "source": [
    "every_nth_row = 2 # every nth row (after first row)\n",
    "\n",
    "X[::every_nth_row,:]"
   ]
  },
  {
   "cell_type": "markdown",
   "id": "mental-chancellor",
   "metadata": {},
   "source": [
    "#### 22. [P] Show the transpose of X, but don't change X itself"
   ]
  },
  {
   "cell_type": "code",
   "execution_count": 24,
   "id": "focal-detail",
   "metadata": {},
   "outputs": [
    {
     "data": {
      "text/plain": [
       "array([[48, 25, 31, 93, 51, 68,  4, 76, 47, 97],\n",
       "       [84, 16, 44, 70, 77, 12,  3, 82, 29, 13],\n",
       "       [39, 50, 31, 81, 38,  1, 20, 15, 82, 70],\n",
       "       [54, 24, 27, 74, 35, 76, 13, 72, 88, 96],\n",
       "       [77, 27, 59, 48, 39, 81, 66, 61, 14, 32]])"
      ]
     },
     "execution_count": 24,
     "metadata": {},
     "output_type": "execute_result"
    }
   ],
   "source": [
    "X.T"
   ]
  },
  {
   "cell_type": "markdown",
   "id": "supposed-information",
   "metadata": {},
   "source": [
    "#### 23. [P] Select the first column of X and set the result to Y. "
   ]
  },
  {
   "cell_type": "code",
   "execution_count": 25,
   "id": "professional-halloween",
   "metadata": {},
   "outputs": [
    {
     "data": {
      "text/plain": [
       "array([[48],\n",
       "       [25],\n",
       "       [31],\n",
       "       [93],\n",
       "       [51],\n",
       "       [68],\n",
       "       [ 4],\n",
       "       [76],\n",
       "       [47],\n",
       "       [97]])"
      ]
     },
     "execution_count": 25,
     "metadata": {},
     "output_type": "execute_result"
    }
   ],
   "source": [
    "# parameters to avoid magic numbers\n",
    "column_num = 1 # 1 is first, 2 is second, etc.\n",
    "column_index = column_num - 1\n",
    "\n",
    "Y = X[:,[column_index]]\n",
    "Y"
   ]
  },
  {
   "cell_type": "markdown",
   "id": "equivalent-numbers",
   "metadata": {},
   "source": [
    "#### 24. [P] Increment the first value of Y, then show the corresponding value of X. Did both values in X and Y change? THIS IS AN IMPORTANT OBSERVATION WHEN DEALING WITH SELECTING DATA!"
   ]
  },
  {
   "cell_type": "code",
   "execution_count": 26,
   "id": "speaking-moral",
   "metadata": {},
   "outputs": [
    {
     "name": "stdout",
     "output_type": "stream",
     "text": [
      "X: \n",
      "[[48 84 39 54 77]\n",
      " [25 16 50 24 27]\n",
      " [31 44 31 27 59]\n",
      " [93 70 81 74 48]\n",
      " [51 77 38 35 39]\n",
      " [68 12  1 76 81]\n",
      " [ 4  3 20 13 66]\n",
      " [76 82 15 72 61]\n",
      " [47 29 82 88 14]\n",
      " [97 13 70 96 32]]\n",
      "\n",
      "Y: \n",
      "[[49]\n",
      " [25]\n",
      " [31]\n",
      " [93]\n",
      " [51]\n",
      " [68]\n",
      " [ 4]\n",
      " [76]\n",
      " [47]\n",
      " [97]]\n"
     ]
    }
   ],
   "source": [
    "# parameters\n",
    "row_index = 0\n",
    "col_index = 0\n",
    "\n",
    "Y[row_index][col_index] += 1\n",
    "print(\"X: \\n\" + str(X))\n",
    "print()\n",
    "print(\"Y: \\n\" + str(Y))"
   ]
  },
  {
   "cell_type": "markdown",
   "id": "plastic-studio",
   "metadata": {},
   "source": [
    "Yes, both X and Y changed because Y is a 'sliced' view of the array in X."
   ]
  },
  {
   "cell_type": "markdown",
   "id": "important-value",
   "metadata": {},
   "source": [
    "#### 24. [P] Repeat exercise 23, but ensure that Y is assigned a copy of the selected data. Increment the first value of Y again and ensure that the corresponding value of X did not change."
   ]
  },
  {
   "cell_type": "code",
   "execution_count": 27,
   "id": "changing-mistake",
   "metadata": {},
   "outputs": [
    {
     "name": "stdout",
     "output_type": "stream",
     "text": [
      "X: \n",
      "[[48 84 39 54 77]\n",
      " [25 16 50 24 27]\n",
      " [31 44 31 27 59]\n",
      " [93 70 81 74 48]\n",
      " [51 77 38 35 39]\n",
      " [68 12  1 76 81]\n",
      " [ 4  3 20 13 66]\n",
      " [76 82 15 72 61]\n",
      " [47 29 82 88 14]\n",
      " [97 13 70 96 32]]\n",
      "\n",
      "Y: \n",
      "[[49]\n",
      " [25]\n",
      " [31]\n",
      " [93]\n",
      " [51]\n",
      " [68]\n",
      " [ 4]\n",
      " [76]\n",
      " [47]\n",
      " [97]]\n"
     ]
    }
   ],
   "source": [
    "Y = X[:,:1].copy()\n",
    "\n",
    "Y[0][0] += 1\n",
    "print(\"X: \\n\" + str(X))\n",
    "print()\n",
    "print(\"Y: \\n\" + str(Y))"
   ]
  },
  {
   "cell_type": "markdown",
   "id": "discrete-mailing",
   "metadata": {},
   "source": [
    "The first value of Y was successfully incremented and the corresponding value of X was not. This is due to the fact that a deep copy was made of the sliced view of X, which was then assigned to Y. Afterwards, the first value in Y was incremented, incrementing the first value in Y and not of the corresponding value in X."
   ]
  },
  {
   "cell_type": "markdown",
   "id": "dangerous-twenty",
   "metadata": {},
   "source": [
    "#### 26. [P] Create an array that contains the sequence of numbers 0, 0.1, 0.2, ... 9.8, 9.9 using arange, as a 10x10 matrix, stored as X."
   ]
  },
  {
   "cell_type": "code",
   "execution_count": 28,
   "id": "civil-controversy",
   "metadata": {},
   "outputs": [
    {
     "name": "stdout",
     "output_type": "stream",
     "text": [
      "[[0.  0.1 0.2 0.3 0.4 0.5 0.6 0.7 0.8 0.9]\n",
      " [1.  1.1 1.2 1.3 1.4 1.5 1.6 1.7 1.8 1.9]\n",
      " [2.  2.1 2.2 2.3 2.4 2.5 2.6 2.7 2.8 2.9]\n",
      " [3.  3.1 3.2 3.3 3.4 3.5 3.6 3.7 3.8 3.9]\n",
      " [4.  4.1 4.2 4.3 4.4 4.5 4.6 4.7 4.8 4.9]\n",
      " [5.  5.1 5.2 5.3 5.4 5.5 5.6 5.7 5.8 5.9]\n",
      " [6.  6.1 6.2 6.3 6.4 6.5 6.6 6.7 6.8 6.9]\n",
      " [7.  7.1 7.2 7.3 7.4 7.5 7.6 7.7 7.8 7.9]\n",
      " [8.  8.1 8.2 8.3 8.4 8.5 8.6 8.7 8.8 8.9]\n",
      " [9.  9.1 9.2 9.3 9.4 9.5 9.6 9.7 9.8 9.9]]\n"
     ]
    }
   ],
   "source": [
    "X = np.arange(0,10,0.1).reshape(10,10)\n",
    "print(X)"
   ]
  },
  {
   "cell_type": "markdown",
   "id": "southwest-lewis",
   "metadata": {},
   "source": [
    "#### 27. [P] Set the RNG seed to 1234. Then create an array X of 100 uniformly distributed numbers, with all values between 1.0 and 10.0. Then, show the mean, the median, the minimum and maximum values of X."
   ]
  },
  {
   "cell_type": "code",
   "execution_count": 29,
   "id": "bronze-writer",
   "metadata": {},
   "outputs": [
    {
     "name": "stdout",
     "output_type": "stream",
     "text": [
      "mean of X: 5.548214281453924\n",
      "median of X: 5.184208167881808\n",
      "minimum value of X: 1.0281905871204642\n",
      "maximum value of X: 9.930333065388572\n"
     ]
    }
   ],
   "source": [
    "rng_obj = np.random.default_rng(1234)\n",
    "X = rng_obj.uniform(low=1.0, high=10.0, size=100)\n",
    "print(\"mean of X: \" + str(np.mean(X)))\n",
    "print(\"median of X: \" + str(np.median(X)))\n",
    "print(\"minimum value of X: \" + str(np.min(X)))\n",
    "print(\"maximum value of X: \" + str(np.max(X)))"
   ]
  },
  {
   "cell_type": "markdown",
   "id": "heavy-samba",
   "metadata": {},
   "source": [
    "#### 28. [M] Define what is meant by a normal distribution. What are the parameters of a normal distribution?"
   ]
  },
  {
   "cell_type": "markdown",
   "id": "employed-adjustment",
   "metadata": {},
   "source": [
    "In statistics, a *distribution* is a relative model of how many times each value an output variable will hold in some number of trials.<sup>1</sup> A *normal* distribution is, generally speaking, a statistical distribution characterized by a symmetric bell curve (one peak/unimodal) that asymptotically approaches 0 from either direction descending from the peak (theoretically with an infinite number of trials for a perfectly normal distribution), where the mean, median, and mode are equal.<sup>2</sup> About 68 percent of the trials have a value within one standard deviation of the mean value, about 95 percent of the trials have a value within two standard deviations of the mean value, and about 99.7 percent of the trials have a value within three standard deviations of the mean value.<sup>2</sup> Strictly speaking, a normal distribution having an output variable $x$, mean $\\mu$, and standard deviation $\\sigma$ is characterized by a \"probability density function $P(x) = \\frac{1}{\\sigma \\sqrt[]{2\\pi}} e^{-(x-\\mu)^2/(2\\sigma^2)}$ ,\" where the domain of $x$ ranges from -$\\infty$ to $\\infty$.<sup>3</sup> \n",
    "\n",
    "Specifically, the parameters for a *perfectly* normal distribution are the mean $\\mu$ and the standard deviation $\\sigma$; an approximate normal distribution would require additional specification of their unique probability density function (assuming the output variable is continuous) or their probability mass function (if the output variable is instead discrete but a plot of the number of outcome of values across trials resembles a normal distribution).\n",
    "\n",
    "Normal distributions have been useful for describing naturally occurring phenomenon with \"tiny, random disturbances.\"<sup>4</sup>\n",
    "\n",
    "Sources: \n",
    "1. https://mathworld.wolfram.com/StatisticalDistribution.html\n",
    "2. https://www.khanacademy.org/math/statistics-probability/modeling-distributions-of-data/normal-distributions-library/a/normal-distributions-review\n",
    "3. https://mathworld.wolfram.com/NormalDistribution.html\n",
    "4. https://numpy.org/doc/stable/reference/random/generated/numpy.random.Generator.normal.html#numpy.random.Generator.normal"
   ]
  },
  {
   "cell_type": "markdown",
   "id": "entire-cover",
   "metadata": {},
   "source": [
    "#### 29. [M] In simple terms, using a normal distribution, what does the Law of Large Numbers tell us?"
   ]
  },
  {
   "cell_type": "markdown",
   "id": "advanced-partnership",
   "metadata": {},
   "source": [
    "The Law of Large Numbers says that as more (generally many) independent<sup>*</sup> samples are taken, the average of the samples will approach/converge to (with large likelihood) that of the true, \"underlying distribution.\" <sup>1 2 3</sup> The 'underlying distribution' can be thought of as the distribution of the whole dataset being sampled, estimated, analyzed, etc. Moreover, it says that the density histogram of those samples will approach that of the true, \"underlying distribution,\" which, in this case, is a normal distribution because the prompt specifies that the answer should use a normal distribution. <sup>1</sup>\n",
    "\n",
    "<font size=\"2\"> *meaning that the result of one sample is not affected by factors outside of the sample like the result of other samples, the order in which the sample is taken relative to the other samples taken, or changes to the probability density function mid-experiment <sup>3</sup></font>\n",
    "\n",
    "Sources:\n",
    "1. https://ocw.mit.edu/courses/mathematics/18-05-introduction-to-probability-and-statistics-spring-2014/readings/MIT18_05S14_Reading6b.pdf\n",
    "2. http://www2.stat.duke.edu/~vp58/sta111/lecture8.pdf\n",
    "3. https://www.math.arizona.edu/~rsims/ma464/chap8_11_22.pdf"
   ]
  },
  {
   "cell_type": "markdown",
   "id": "psychological-bottle",
   "metadata": {},
   "source": [
    "#### 30. [P] Write a function called ```test_normal_dist```. The purpose of this function is to evaluate the law of large numbers. It should have four parameters: \n",
    "\n",
    "#### ```mu``` = mean of distribution \n",
    "#### ```sd``` = standard deviation\n",
    "#### ```vec_length``` = length of the vector to generate randomly from a normal distribution, with mu and sd as parameters\n",
    "#### ```num_trials``` = number of times to repeat the experiment\n",
    "\n",
    "#### The function should behave as follows. First, initialize the seed value to 1234, before your loop. Then, loop for ```num_trials```, generating ```vec_length``` numbers from a normal distribution. Compute the mean of that vector, then compute its deviation (absolute value of the observed mean - expected mean). This should be repeated for all trials, and then return the *average deviation* over all trials."
   ]
  },
  {
   "cell_type": "code",
   "execution_count": 30,
   "id": "legendary-mentor",
   "metadata": {},
   "outputs": [],
   "source": [
    "def test_normal_dist(mu, sd, vec_length, num_trials):\n",
    "    rand_num_gen = np.random.default_rng(1234) # setting random number generator \n",
    "                                               # seed to 1234\n",
    "    samp_vecs = np.zeros((num_trials, vec_length)) # intializing sample vectors with 0\n",
    "    for i in range(num_trials): # problem specifies loop, \n",
    "                                # so did not make 2d arr with normal method\n",
    "        samp_vecs[i] = rand_num_gen.normal(mu, sd, vec_length) # generating rand vectors\n",
    "    samp_vec_mean = np.mean(samp_vecs, axis=1, keepdims=True) # compute vector mean\n",
    "    samp_vec_deviation = np.abs(samp_vec_mean - mu) # calculate vector deviation\n",
    "    return np.mean(samp_vec_deviation) # return average deviation for experiment\n",
    "\n"
   ]
  },
  {
   "cell_type": "markdown",
   "id": "spread-february",
   "metadata": {},
   "source": [
    "#### 31. [P] Use test_normal_dist to obtain the deviation for vector lengths of 10, 100, 1000, 10000, and 100000. Use a fixed number of trials of 100 for each experiment. Report the results as a numpy array with two dimensions. the first being the vector length, and the second being the average deviation resulting from your test_normal_dist function. Your resulting array should look like:\n",
    "\n",
    "####   ```[[    10.        0.4772]```\n",
    "####   &ensp;&nbsp;```[   100.        0.1619]```\n",
    "####   &ensp;&nbsp;```[  1000.        0.0446]```\n",
    "####   &ensp;&nbsp;```[ 10000.        0.0159]```\n",
    "####   &ensp;&nbsp;```[100000.        0.0049]```\n",
    "\n",
    "\n",
    "#### In other words, your results should confirm the Law of Large Numbers."
   ]
  },
  {
   "cell_type": "code",
   "execution_count": 31,
   "id": "favorite-rehabilitation",
   "metadata": {},
   "outputs": [
    {
     "name": "stdout",
     "output_type": "stream",
     "text": [
      "[[    10.          0.2436]\n",
      " [   100.          0.0784]\n",
      " [  1000.          0.0249]\n",
      " [ 10000.          0.0076]\n",
      " [100000.          0.0024]]\n"
     ]
    }
   ],
   "source": [
    "mu = 0\n",
    "sd = 1\n",
    "num_trials = 100 # constant specified in problem description\n",
    "vec_lengths = np.power(10, (np.arange(1,6))).T # array of vector lengths \n",
    "                                               # 10^1 through 10^5\n",
    "vectorized_test_normal_dist = \\\n",
    "np.vectorize(test_normal_dist, \\\n",
    "             excluded=['mu','sd','num_trials']) # vectorized function of \n",
    "                                                # test_normal_dist\n",
    "                                                # exclude constant parameters\n",
    "                                                # from being vectorized\n",
    "                                                # the only parameter requiring\n",
    "                                                # vectorization is the\n",
    "                                                # list of vector lengths\n",
    "results = vectorized_test_normal_dist(mu=mu, \\\n",
    "                                      sd=sd, \\\n",
    "                                      vec_length=vec_lengths, \\\n",
    "                                      num_trials=num_trials) \n",
    "vec_lengths_and_results = np.vstack((vec_lengths, results)).T # stack vector lengths\n",
    "                                                              # and standard deviation\n",
    "                                                              # results, then store\n",
    "                                                              # transpose; transposed\n",
    "                                                              # matrix pairs the columns\n",
    "                                                              # such that each vector\n",
    "                                                              # length in the first row\n",
    "                                                              # and each resulting standard\n",
    "                                                              # deviation in the second row \n",
    "                                                              # of the original matrix are\n",
    "                                                              # in the same row of the\n",
    "                                                              # transposed matrix\n",
    "\n",
    "np.set_printoptions(precision=4, suppress=True) # specify how many decimals to print\n",
    "print(vec_lengths_and_results)"
   ]
  },
  {
   "cell_type": "code",
   "execution_count": null,
   "id": "electronic-symposium",
   "metadata": {},
   "outputs": [],
   "source": []
  }
 ],
 "metadata": {
  "kernelspec": {
   "display_name": "Python 3",
   "language": "python",
   "name": "python3"
  },
  "language_info": {
   "codemirror_mode": {
    "name": "ipython",
    "version": 3
   },
   "file_extension": ".py",
   "mimetype": "text/x-python",
   "name": "python",
   "nbconvert_exporter": "python",
   "pygments_lexer": "ipython3",
   "version": "3.8.8"
  }
 },
 "nbformat": 4,
 "nbformat_minor": 5
}
