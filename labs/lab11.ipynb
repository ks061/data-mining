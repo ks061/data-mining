{
 "cells": [
  {
   "cell_type": "markdown",
   "id": "collaborative-scroll",
   "metadata": {},
   "source": [
    "# Lab 11 - TensorFlow/Keras\n",
    "\n",
    "Name: Kartikeya Sharma  \n",
    "Class: CSCI 349 - Intro to Data Mining  \n",
    "Semester: 2021SP  \n",
    "Instructor: Brian King  "
   ]
  },
  {
   "cell_type": "markdown",
   "id": "c0b76934-bc77-4158-a3b7-1311433ba354",
   "metadata": {},
   "source": [
    "### Exercise 1"
   ]
  },
  {
   "cell_type": "markdown",
   "id": "894cc94d-7082-4896-925e-784a53324048",
   "metadata": {},
   "source": [
    "#### 1) What is an artificial neural network (ANN)?\n"
   ]
  },
  {
   "cell_type": "markdown",
   "id": "c9502756-7a73-4780-a6f4-d4ff2288c27c",
   "metadata": {},
   "source": [
    "Analogous to the biological ability of neural networks in the human brain to process complex input, an artificial neural network is used to transform a series of input into (or close to) a series of desired output.<sup>1 3</sup> The model is first taught, or \"supervised,\" what the desired set of outputs should look like for each corresponding set of inputs.<sup>2</sup> Through this process, the ANN model builds its mathematical understanding<sup>+</sup> of the very intricate, non-linear, many-dimensional weightage<sup>++</sup> of connections amongst the neurons, that is, from the input layer, to the hidden layer(s), and to the output layer.<sup>2 3 4 5</sup> \n",
    "\n",
    "<sup>+</sup> Backpropagation is the tool which serves as, as Adam Smith once said in economics about the free markets, the 'invisible hand' of the ANN learning process.<sup>3</sup>\n",
    "<sup>++</sup> \n",
    "\n",
    "For the sake of simplicity, I am including activation function as weightage; neuron not being activated is a weight of 0 for each corresponding input of that neuron to the neurons in the next layer.<sup>5</sup>\n",
    "\n",
    "Sources:\n",
    "1. https://www.sciencedirect.com/science/article/pii/B9780444636232000074\n",
    "2. https://www.sciencedirect.com/topics/engineering/artificial-neural-network\n",
    "3. https://www.investopedia.com/terms/a/artificial-neural-networks-ann.asp\n",
    "4. https://www.forbes.com/sites/bernardmarr/2018/09/24/what-are-artificial-neural-networks-a-simple-explanation-for-absolutely-anyone/?sh=73dfa6581245\n",
    "5. https://towardsdatascience.com/applied-deep-learning-part-1-artificial-neural-networks-d7834f67a4f6"
   ]
  },
  {
   "cell_type": "markdown",
   "id": "c18f0a14-b8c0-4aa6-83fe-5641faa0f5b0",
   "metadata": {},
   "source": [
    "#### 2) What is deep learning? How does it relate to an ANN?\n"
   ]
  },
  {
   "cell_type": "markdown",
   "id": "245b8ac9-d90a-44a6-b3c4-96e435ccb3d4",
   "metadata": {},
   "source": [
    "Deep learning is a subset of machine learning that hinges on artificial neural networks (ANN) that have more than three layers (at least two hidden layers, in addition to the input layer and output layer); this type of neural network is also known as a deep neural network.<sup>1</sup> The *depth* of the *deep* neural network is what separates it from a single neural network.<sup>1</sup>\n",
    "\n",
    "Sources:\n",
    "1. https://www.ibm.com/cloud/blog/ai-vs-machine-learning-vs-deep-learning-vs-neural-networks"
   ]
  },
  {
   "cell_type": "markdown",
   "id": "c9c24cf4-64bd-41ea-b72d-7f87e44df5ff",
   "metadata": {},
   "source": [
    "#### 3) Name a couple of examples where deep learning has made a tremendous impact."
   ]
  },
  {
   "cell_type": "markdown",
   "id": "55ca98e8-51f1-4b55-acd0-a3984792df82",
   "metadata": {},
   "source": [
    "Deep learning has been able to interpret X-ray images to characterize the images as potentially containing signs of particular medical phenomenon, arguably surpassing the accuracy at which radiologist could do the same.<sup>1</sup>\n",
    "\n",
    "It has also played a role in the development of driverless cars, where the machine can now recognize traffic lights, other cars, people, bikes, etc.<sup>2</sup>\n",
    "\n",
    "Sources:\n",
    "1. https://www.forbes.com/sites/robtoews/2020/02/09/deep-learning-has-limits-but-its-commercial-impact-has-just-begun/?sh=5820ae4c6e1a\n",
    "2. https://www.mathworks.com/discovery/deep-learning.html"
   ]
  },
  {
   "cell_type": "markdown",
   "id": "9b488eed-9c4e-4279-a82d-b56e6e5a56b9",
   "metadata": {},
   "source": [
    "#### 4) Briefly, what is the feedforward algorithm with a neural net?\n"
   ]
  },
  {
   "cell_type": "markdown",
   "id": "c7a38548-e4f5-4bdc-8169-80625b6bbafd",
   "metadata": {},
   "source": [
    "The feedforward algorithm with a neural net is that the information from the input nodes pass through any hidden nodes (sequentially, i.e. in order towards the output nodes) prior to finally reaching the output nodes.<sup>1</sup> It should be noted that information from each perceptron, or neuron, and each input or hidden layer is passed onto each perceptron in the following layer, first weighted by a particular value; hence, the information is being \"fed forward.\"<sup>2</sup>\n",
    "\n",
    "Sources:\n",
    "1. https://www.fon.hum.uva.nl/praat/manual/Feedforward_neural_networks_1__What_is_a_feedforward_ne.html\n",
    "2. https://cs.stanford.edu/people/eroberts/courses/soco/projects/neural-networks/Architecture/feedforward.html"
   ]
  },
  {
   "cell_type": "markdown",
   "id": "e458fe59-1c69-41dd-ae1a-d0061c04eb3c",
   "metadata": {},
   "source": [
    "#### 5) In the context of machine learning, what is a loss function?\n"
   ]
  },
  {
   "cell_type": "markdown",
   "id": "ca627fe0-c0f4-4f1f-ac2f-c42ff89f683b",
   "metadata": {},
   "source": [
    "A loss function is a function used to measure the amount of error between the predicted output and the expected output, which is then, in turn, used to modify the weights of the connections within the neural network.<sup>1</sup> In a broad sense, it quantifies how well the machine learning algorithm models the data set, particularly associated with the accuracy of the model.<sup>2 3 4</sup>\n",
    "\n",
    "Sources:\n",
    "1. https://machinelearningmastery.com/loss-and-loss-functions-for-training-deep-learning-neural-networks/\n",
    "2. https://web.stanford.edu/class/biods220/lectures/lecture2.pdf\n",
    "3. http://www.cs.cmu.edu/~yandongl/loss.html\n",
    "4. https://algorithmia.com/blog/introduction-to-loss-functions#whats-a-loss-function"
   ]
  },
  {
   "cell_type": "markdown",
   "id": "8530a916-e58f-456e-9c9c-c95472c8c327",
   "metadata": {},
   "source": [
    "#### 6) What is gradient descent? And how is the loss function a critical part of gradient descent?\n"
   ]
  },
  {
   "cell_type": "markdown",
   "id": "388b06b0-2ed3-4cba-b4d0-195e633beb60",
   "metadata": {},
   "source": [
    "Gradient descent is an algorithm which follows the path with the highest negative slope, which is the negative of the gradient, at a particular point and aims to eventually reach the minimum of a function.<sup>1</sup> Because the loss function is trying to be minimized to increase the model accuracy, the gradient descent algorithm is performed on this cost function to find how to update the weights such as to minimize the cost function.<sup>1</sup>\n",
    " \n",
    " Sources:\n",
    " 1. https://ml-cheatsheet.readthedocs.io/en/latest/gradient_descent.html"
   ]
  },
  {
   "cell_type": "markdown",
   "id": "5be9def2-1207-49af-93e8-664d54710cf8",
   "metadata": {},
   "source": [
    "#### 7) Training a neural net involves the backpropagation algorithm. In a few sentences, describe what this algorithm does."
   ]
  },
  {
   "cell_type": "markdown",
   "id": "488fefe5-752f-4af5-bc53-e0ff48b211f1",
   "metadata": {},
   "source": [
    "The backpropagation algorithm is a supervised-learning algorithm that adjusts the weights of each connection within the network with respect to how much that particular weight contributed to the error of the last neural network output with respect to the respective expected output.<sup>1 2</sup> \n",
    "\n",
    "Sources:\n",
    "1. https://ml-cheatsheet.readthedocs.io/en/latest/backpropagation.html\n",
    "2. https://www.youtube.com/watch?v=nnZRnBS5vDY"
   ]
  },
  {
   "cell_type": "markdown",
   "id": "dd230239-487e-42ba-94a3-ac7a20bda430",
   "metadata": {},
   "source": [
    "#### 8) What is the difference between batch gradient descent and stochastic gradient descent?\n"
   ]
  },
  {
   "cell_type": "markdown",
   "id": "30c31e59-5d35-4c9f-b9c2-b7d7194ad6f5",
   "metadata": {},
   "source": [
    "The calculation of the gradient in the batch gradient descent requires adding the cost, which includes the difference between the expected output and actual output of a sample, of each sample.<sup>1 2</sup> On the other hand, stochastic gradient descent uses the gradient of the cost of the one sample ('good enough' rather than 'optimal') being fed through the neural network at a particular iteration.<sup>1 2 3</sup>\n",
    "\n",
    "Sources:\n",
    "1. https://towardsdatascience.com/difference-between-batch-gradient-descent-and-stochastic-gradient-descent-1187f1291aa1\n",
    "2. https://stats.stackexchange.com/questions/49528/batch-gradient-descent-versus-stochastic-gradient-descent\n",
    "3. https://www.geeksforgeeks.org/difference-between-batch-gradient-descent-and-stochastic-gradient-descent/"
   ]
  },
  {
   "cell_type": "markdown",
   "id": "53542c1e-69c7-4e01-a88f-e942c3304cb3",
   "metadata": {},
   "source": [
    "#### 9) In the context of neural network training, explain the terms epoch and batch.\n"
   ]
  },
  {
   "cell_type": "markdown",
   "id": "61c1c5c6-ed91-4b4f-89fd-b6ff7a698a25",
   "metadata": {},
   "source": [
    "Epoch is essentially the number of times that the whole training data has been used to allow the neural network to 'learn,' or update its respective parameters like weight.<sup> 1 2</sup> A badge is a set of observations that are passed through the neural network, whose errors (from each observation) are then summed prior to updating the weights of the connections within the neural network.<sup>2</sup>\n",
    "\n",
    "Sources:\n",
    "1. https://www.cs.toronto.edu/~lczhang/360/lec/w02/training.html\n",
    "2. https://www.youtube.com/watch?v=NZ9AkroY5Jg"
   ]
  },
  {
   "cell_type": "markdown",
   "id": "0b0374e5-69c5-454e-8227-af42787d9ff8",
   "metadata": {},
   "source": [
    "#### 10) In the context of machine learning, what is a hyperparameter?\n"
   ]
  },
  {
   "cell_type": "markdown",
   "id": "5408e41d-547e-403d-9e52-0edb04c0ce02",
   "metadata": {},
   "source": [
    "A hyperparameter is a parameter that is used to specify or change the learning process in machine learning.<sup>1 2</sup> On the other hand, parameters like node weights are within the learning process/model itself.<sup>2</sup> Hyperparameters, in this context, can also be thought of as meta-parameters that control the changing of the parameters within the learning model.\n",
    "\n",
    "Sources:\n",
    "1. https://jmlr.csail.mit.edu/papers/volume20/18-444/18-444.pdf\n",
    "2. https://en.wikipedia.org/wiki/Hyperparameter_(machine_learning)"
   ]
  },
  {
   "cell_type": "markdown",
   "id": "6ec77767-d328-4561-9136-70a94bc03017",
   "metadata": {},
   "source": [
    "#### 11) In the context of neural nets training, what are examples of hyperparameters that can affect model performance?\n"
   ]
  },
  {
   "cell_type": "markdown",
   "id": "a2872477-8568-4134-946d-dfb5d4761134",
   "metadata": {},
   "source": [
    "Examples of hyperparameters that can affect model performance are:\n",
    "- rate at which weights are changed based upon gradient decent (\"learning rate\")<sup>1</sup> (lower learning rate: slower, less likely to miss absolute minimum; vice versa for higher learning rate)\n",
    "- the K in a KNN classifier that specifies how many neighboring points will be used to determine probabilities of a particular input set of values yielding corresponding output labels<sup>1</sup> (higher k, till some point, i.e. before the algorithm looks too far from the data point, can provide a more comprehensive probability distribution for label outcomes for a particular data point, but may take more time to find more nearest neighbors for each point and, that is, compute relevant statistics related to those neighbors)\n",
    "- number of hidden layers (determining structure of neural network) <sup>2</sup> (more layers could lead to better accuracy due to more non-linear dimensionality captured but also may lead to overfitting; more hidden layers also means more time spent propagating information through, forwards and backwards that is, the neural network)\n",
    "- number of epochs to train the neural network for <sup>3</sup> (more epochs could improve the predictive capability of the model or, instead, overfit; more epochs also means more time needed to train the model)\n",
    "- which activation fucntion to use for each node/perceptron/neuron within the neural network <sup>3</sup> (changes learning of model, which affects predictive performance of model)\n",
    "Sources:\n",
    "1. https://www.datacamp.com/community/tutorials/parameter-optimization-machine-learning-models\n",
    "2. https://towardsdatascience.com/what-are-hyperparameters-and-how-to-tune-the-hyperparameters-in-a-deep-neural-network-d0604917584a\n",
    "3. https://medium.com/@jorgesleonel/hyperparameters-in-machine-deep-learning-ca69ad10b981"
   ]
  },
  {
   "cell_type": "markdown",
   "id": "e5dfaaec-3f27-4a1c-b12a-4ca331ddb233",
   "metadata": {},
   "source": [
    "#### 12) What is an activation function?\n"
   ]
  },
  {
   "cell_type": "markdown",
   "id": "cb06f8ee-0acf-4d02-a4ef-62d355eb55e4",
   "metadata": {},
   "source": [
    "An activation function determines whether a neuron will be fired or not (if the value is above a particular threshold, it will fire; otherwise, it will not).\n",
    "\n",
    "Sources:\n",
    "1. https://www.youtube.com/watch?v=NZ9AkroY5Jg"
   ]
  },
  {
   "cell_type": "markdown",
   "id": "6e3b292f-0ffb-49d6-a2b2-75f7977a8b09",
   "metadata": {},
   "source": [
    "#### 13) Most agree that the most popular activation functions are sigmoid, hyperbolic tangent (tanh), softmax, and ReLu (rectified linear unit). Compare and contrast each, using whatever resources you want. Again, 1-2 sentences for each Is sufficient."
   ]
  },
  {
   "cell_type": "markdown",
   "id": "7d2e6036-3ed9-4e86-82a9-7e395db16b35",
   "metadata": {},
   "source": [
    "The sigmoid activation function keeps the output of the neuron to be a positive value, in between zero and one.<sup>1</sup> The hyperbolic tangent activation function is similar in that it keeps the output of the neuron bounded between two values; this activation function, however, keeps the value between -1 and one instead of 0 and 1, allowing the output to be positive or negative.<sup>1</sup> These two activation functions also increase as the independent variable increases.<sup>1</sup>\n",
    "\n",
    "Like the previous two activation functions, the rectified linear activation function has a lower bound, which in this case is zero.<sup>1</sup> It is also similar in that it increases as the independent variable of the function increases.<sup>1</sup> However, it is different in that it does not have an upper bound.<sup>1</sup>\n",
    "\n",
    "Unlike the previous activation functions, the softmax activation function is only to be used in the output layer of the neural network.<sup>2</sup> This activation function also makes it such that the output can be a probability distribution; this is mathematically attributed to the fact that the function condenses the value into the range (0,1] throughout the domain of x, the independent variable of the function. So, like the sigmoid activation function and hyperbolic tangent activation function, then, it is bounded (upper and lower).<sup>2</sup>\n",
    "\n",
    "\n",
    "Sources:\n",
    "1. https://www.cs.cmu.edu/~rsalakhu/10707/Lectures/Lecture_NN_Part1.pdf\n",
    "2. https://www.youtube.com/watch?v=nnZRnBS5vDY"
   ]
  },
  {
   "cell_type": "markdown",
   "id": "f47f5692-6992-417d-96ce-baa0750d80de",
   "metadata": {},
   "source": [
    "#### 14) Why is ReLu so popular for large, deep learning networks?\n"
   ]
  },
  {
   "cell_type": "markdown",
   "id": "755eee05-3cc8-49ef-b2aa-c59419613ecd",
   "metadata": {},
   "source": [
    "The rectified linear unit activation function is popular due to its \"computational simplicity\" and ability to restrict the output of a neuron to a binary one, namely zero or one, for all values of the independent variable of this function.<sup>1</sup> It also resembles an actual neuron, which can be found in the human brain.<sup>1</sup>\n",
    "\n",
    "Sources:\n",
    "1. https://www.youtube.com/watch?v=nnZRnBS5vDY"
   ]
  },
  {
   "cell_type": "markdown",
   "id": "373320a1-bc2e-4056-95e0-9da7f86952ae",
   "metadata": {},
   "source": [
    "#### 15) Why is softmax most appropriate for the output layer, especially for classification problems?\n"
   ]
  },
  {
   "cell_type": "markdown",
   "id": "5d833499-dcb5-4f9c-8d38-7dc0bfe4fa67",
   "metadata": {},
   "source": [
    "It is mostly appropriate for the output layer, especially for classification problems, because it condenses the output into a range (0, 1], which can provide a descriptive set of probabilistic estimates of the likelihood for the set of inputs passed into the neural networks to be attributed to each respective class or label that those inputs can be mapped to for a given problem.<sup>1</sup>\n",
    "\n",
    "Sources:\n",
    "1. https://www.youtube.com/watch?v=nnZRnBS5vDY"
   ]
  },
  {
   "cell_type": "markdown",
   "id": "ec93d029-6b88-4188-80f4-f6120198bb63",
   "metadata": {},
   "source": [
    "#### 16) What does ReLu sometimes suffer from, and how does a Leaky ReLu activation address it?"
   ]
  },
  {
   "cell_type": "markdown",
   "id": "129e7a03-7e30-4792-ad5d-f71330aecd0f",
   "metadata": {},
   "source": [
    "The rectified linear unit activation function sometimes suffers from the fact that if an x value (the independent variable) becomes too far negative, the output of the activation function (may) remains to be zero (making the perceptrons in that state unable to continue to train based upon new data that is being fed to it), especially if the learning rate is not set low enough for the output of a perceptron to potentially follow a 'path' (figuratively a series of output changes over time) towards 1 (firing).<sup>1</sup> Essentially, perceptrons in this 'stuck' state become \"deactivated.\"<sup>2</sup> Because the output value of the neuron, when x is negative, is slightly negative in the case of a leaky ReLu, the gradient remains to be a value that is not 0, allowing the weight-changing and training process related to the neuron to continue.\n",
    "\n",
    "Sources:\n",
    "1. https://www.youtube.com/watch?v=nnZRnBS5vDY\n",
    "2. https://www.mygreatlearning.com/blog/relu-activation-function/"
   ]
  },
  {
   "cell_type": "markdown",
   "id": "9b047419-e302-44d0-8de9-b2cc6fbc5702",
   "metadata": {},
   "source": [
    "#### 17) What is Tensorflow? Who created it?"
   ]
  },
  {
   "cell_type": "markdown",
   "id": "48b14c82-21bf-4710-85c7-6bcef81521ce",
   "metadata": {},
   "source": [
    "Tensorflow was created by the Google Brain team \"within Google's Machine Intelligence organization.\"<sup>1</sup> It is an open source library that allows developers to deploy machine learning models on various platforms, including on the web, on a computer, on a smartphone.<sup>1 2</sup>\n",
    "\n",
    "Sources:\n",
    "1. https://github.com/tensorflow/tensorflow\n",
    "2. https://www.tensorflow.org/learn"
   ]
  },
  {
   "cell_type": "markdown",
   "id": "e3baacfe-823a-40a1-b90e-c77d3f427338",
   "metadata": {},
   "source": [
    "#### 18) What are tensors?"
   ]
  },
  {
   "cell_type": "markdown",
   "id": "e4fc7e2e-5000-4992-bc32-0e909024a281",
   "metadata": {},
   "source": [
    "Generally speaking, a tensor is a mathematical construct that establishes multi-dimensional relationships amongst data in a particular n-dimensional space.<sup>1</sup>\n",
    "\n",
    "Sources:\n",
    "1. https://mathworld.wolfram.com/Tensor.html\n",
    "2. https://en.wikipedia.org/wiki/Tensor"
   ]
  },
  {
   "cell_type": "markdown",
   "id": "43fc250d-6769-4e87-bd52-b69727380572",
   "metadata": {},
   "source": [
    "#### 19) What is keras? Who created it?"
   ]
  },
  {
   "cell_type": "markdown",
   "id": "90c6d3f8-0e79-4045-b0eb-9450ca7f1092",
   "metadata": {},
   "source": [
    "keras is an application user interface (API) that uses Tensorflow, amongst other libraries, to provide an interface for creating deep neural networks, while making it easier to do so.<sup>1 2 4</sup> It was (primarily) created by François Chollet, an engineer at Google.<sup>2 3</sup>\n",
    "\n",
    "Sources:\n",
    "1. https://www.tutorialspoint.com/keras/keras_introduction.htm\n",
    "2. https://en.wikipedia.org/wiki/Keras\n",
    "3. https://machinelearningmastery.com/introduction-python-deep-learning-library-keras/\n",
    "4. https://www.javatpoint.com/tensorflow-vs-keras"
   ]
  },
  {
   "cell_type": "markdown",
   "id": "5bbff4e9-9765-4bb2-88ea-be264dd274e9",
   "metadata": {},
   "source": [
    "#### 20) Explain the relationship between keras and tensorflow. How are they similar? Different?"
   ]
  },
  {
   "cell_type": "markdown",
   "id": "6c134d4c-f588-4abf-a6dc-dc297ab7c0ce",
   "metadata": {},
   "source": []
  },
  {
   "cell_type": "markdown",
   "id": "683111c5-77e0-4c58-a66b-2d5904087f57",
   "metadata": {},
   "source": [
    "keras and Tensorflow are similar in that they both are software libraries that perform machine learning-related tasks.<sup>1 2</sup> keras has a simpler, when compared to Tensorflow, user interface, which can partially be attributed to the fact that it is written in Python.<sup>2 3 4</sup> In turn, keras is easier to debug than Tensorflow.<sup>5</sup> keras is used for datasets that are smaller in size, whereas Tensorflow can scale to run models at high performance levels (fast).<sup>5</sup>\n",
    "\n",
    "Sources:\n",
    "1. https://mathworld.wolfram.com/Tensor.html\n",
    "2. https://www.tutorialspoint.com/keras/keras_introduction.htm\n",
    "3. https://www.simplilearn.com/keras-vs-tensorflow-vs-pytorch-article\n",
    "4. https://www.upgrad.com/blog/the-whats-what-of-keras-and-tensorflow/\n",
    "5. https://www.javatpoint.com/tensorflow-vs-keras"
   ]
  },
  {
   "cell_type": "markdown",
   "id": "c38bcae4-3845-4035-9556-12fb4d5c76e5",
   "metadata": {},
   "source": [
    "#### 21) Describe at a very top level what the Functional API is"
   ]
  },
  {
   "cell_type": "markdown",
   "id": "f273e48f-3afe-4c3b-870e-71677949cda2",
   "metadata": {},
   "source": [
    "At a very top level, the Keras Functional API allows for building layers in the shape of mathematical graphs rather than linear stacks, \"multiple inputs or outputs,\"<sup>2</sup> and shared layers (layers \"that are reused multiple times in the same model\"<sup>2</sup>).<sup>1 2</sup> \n",
    "\n",
    "Sources:\n",
    "1. https://keras.io/about/\n",
    "2. https://keras.io/guides/functional_api/"
   ]
  },
  {
   "cell_type": "markdown",
   "id": "ae480104-d8ce-46ea-9084-9309bfe5e19c",
   "metadata": {},
   "source": [
    "#### 22) What is the ```Sequential``` class, and how does it compare / contrast to the Functional API?"
   ]
  },
  {
   "cell_type": "markdown",
   "id": "581f156b-794f-4bd9-acf1-34cc823e420a",
   "metadata": {},
   "source": [
    "The Sequential class represents a neural network model that has linearly stacked layers, where \"each layer has exactly one input tensor and one output tensor.\"<sup>1</sup>\n",
    "\n",
    "Sources:\n",
    "1. https://keras.io/guides/sequential_model/"
   ]
  },
  {
   "cell_type": "markdown",
   "id": "3ac03f44-25ff-4e1f-b571-039b3ae1a16e",
   "metadata": {},
   "source": [
    "#### 23) What is a layer? How is a layer added to a model?"
   ]
  },
  {
   "cell_type": "markdown",
   "id": "76268a56-ebee-4c9a-8578-80c540b02cac",
   "metadata": {},
   "source": [
    "A particular layer in a neural network model algebraically manipulates input(s) into output(s), where the outfit is generated based upon the weighted summation of the layers of the neurons of the previous layer; in the case of the input layer, the input itself is the input to the input layer.<sup>1</sup> Logically, there is no input coming from other neurons to neurons in the input layer because there are no layers sequentially before the input layer (not sequentially as in sequentially for back propagation, as this is not referencing tweaking weights but rather mathematically converting input(s) to output(s)). \n",
    "\n",
    "Layer is added to an instance of the Sequential class (which, in turn, is within an instance of a model), which is a type of neural network model that has linearly stacked layers of neurons.<sup>2 3</sup> The Sequential add method \"adds a layer instance on top of the layer stack.\"<sup>2</sup>\n",
    "\n",
    "Sources:\n",
    "1. https://keras.io/guides/making_new_layers_and_models_via_subclassing/\n",
    "2. https://keras.io/api/models/sequential/\n",
    "3. https://towardsdatascience.com/building-our-first-neural-network-in-keras-bdc8abbc17f5"
   ]
  },
  {
   "cell_type": "markdown",
   "id": "75651661-75f1-4051-bcbc-ab07281d34b3",
   "metadata": {},
   "source": [
    "#### 24) What is a ```Dense``` layer?"
   ]
  },
  {
   "cell_type": "markdown",
   "id": "93c3e8d7-eaf3-47f4-ae55-7ce61a807f64",
   "metadata": {},
   "source": [
    "A Dense layer is a \"densely-connected\" layer in a neural network.<sup>1</sup> Densely-connected just means that each neuron in a hidden layer or output layer receives input from each neuron in the sequentially preceding layer.<sup>1 2</sup>\n",
    "\n",
    "Sources:\n",
    "1. https://keras.io/api/layers/core_layers/dense/\n",
    "2. https://www.quora.com/In-Keras-what-is-a-dense-and-a-dropout-layer (just used for clarification)"
   ]
  },
  {
   "cell_type": "markdown",
   "id": "1b5d6338-b164-41fa-85e2-27d33e2f5d3f",
   "metadata": {},
   "source": [
    "#### 25) What does the compile method do for a model, and what two parameters are required to compile every model?\n",
    "\n",
    "# AREN'T THERE THREE (E.G. PROBLEM 11 EX 2)"
   ]
  },
  {
   "cell_type": "markdown",
   "id": "c30fb41f-5ab7-4f2c-96f9-49d1cd3f0e70",
   "metadata": {},
   "source": [
    "The Model compile method sets up the neural network model in preparation for training the model.<sup>1</sup> Because the optimizer parameter for the model compile method is already set to \"rmsprop\" by default, only the loss objective function, namely the loss parameter, and the metrics parameter need to be specified to compile every model.<sup>1 2 3</sup>\n",
    "\n",
    "Sources:\n",
    "1. https://keras.io/api/models/model_training_apis/\n",
    "2. https://keras.io/api/models/model/\n",
    "3. https://keras.io/api/metrics/"
   ]
  },
  {
   "cell_type": "markdown",
   "id": "0f701ff9-18e5-477d-9a1e-33bb531b3c6d",
   "metadata": {},
   "source": [
    "### Exercise 2 – The return of iris"
   ]
  },
  {
   "cell_type": "code",
   "execution_count": 1,
   "id": "01bcae51-e1a5-4a0f-ab08-3089ca936cfe",
   "metadata": {},
   "outputs": [
    {
     "name": "stdout",
     "output_type": "stream",
     "text": [
      "2.4.1\n",
      "2.4.0\n"
     ]
    }
   ],
   "source": [
    "# standard import statements\n",
    "import numpy as np\n",
    "import pandas as pd\n",
    "import seaborn as sns\n",
    "import matplotlib.pyplot as plt\n",
    "import matplotlib as mpl\n",
    "\n",
    "# additional import statements\n",
    "from sklearn.model_selection import train_test_split, KFold\n",
    "from sklearn.metrics import classification_report, confusion_matrix \n",
    "from sklearn.utils import shuffle\n",
    "import tensorflow as tf\n",
    "from tensorflow import keras\n",
    "from tensorflow.keras import Input, Model\n",
    "from tensorflow.keras.layers import Dense, Activation\n",
    "from tensorflow.keras.utils import plot_model\n",
    "print(tf.__version__) \n",
    "print(keras.__version__)"
   ]
  },
  {
   "cell_type": "markdown",
   "id": "c60ebfe0-c512-40d0-a70b-dfd6cc1e9a33",
   "metadata": {},
   "source": [
    "#### 1) [P] Copy over your code from the previous lab that read in and pre-processed the iris dataset from ```seaborn```. You should have a pandas dataframe that contains four numeric variables and one categorical variable representing the target class. You should have one dataframe ```X``` and a dataframe ```y``` representing the target class. Do not split your data into training and testing data yet.<br/><br/>NORMALLY, I would always expect some EDA tasks to be performed to understand the distributions of your data (i.e. the center, shape, spread of your variables, etc). However, you did a lot of that in the previous lab. Generally, these variables have very similar distributions, with centers that are near each other. Thus, technically, you really don't need to standardize your variables. However, for most models we've learned about, it's a good idea. So, if you did not standardize, go ahead and do that to your ```X``` dataframe now using a z-score standardization. (All variables are numeric, so this is quite straightforward.)\n"
   ]
  },
  {
   "cell_type": "code",
   "execution_count": 2,
   "id": "1e349ca6-8174-4700-a7ff-eba2282040f5",
   "metadata": {},
   "outputs": [
    {
     "data": {
      "text/html": [
       "<div>\n",
       "<style scoped>\n",
       "    .dataframe tbody tr th:only-of-type {\n",
       "        vertical-align: middle;\n",
       "    }\n",
       "\n",
       "    .dataframe tbody tr th {\n",
       "        vertical-align: top;\n",
       "    }\n",
       "\n",
       "    .dataframe thead th {\n",
       "        text-align: right;\n",
       "    }\n",
       "</style>\n",
       "<table border=\"1\" class=\"dataframe\">\n",
       "  <thead>\n",
       "    <tr style=\"text-align: right;\">\n",
       "      <th></th>\n",
       "      <th>sepal_length</th>\n",
       "      <th>sepal_width</th>\n",
       "      <th>petal_length</th>\n",
       "      <th>petal_width</th>\n",
       "    </tr>\n",
       "  </thead>\n",
       "  <tbody>\n",
       "    <tr>\n",
       "      <th>0</th>\n",
       "      <td>5.1</td>\n",
       "      <td>3.5</td>\n",
       "      <td>1.4</td>\n",
       "      <td>0.2</td>\n",
       "    </tr>\n",
       "    <tr>\n",
       "      <th>1</th>\n",
       "      <td>4.9</td>\n",
       "      <td>3.0</td>\n",
       "      <td>1.4</td>\n",
       "      <td>0.2</td>\n",
       "    </tr>\n",
       "    <tr>\n",
       "      <th>2</th>\n",
       "      <td>4.7</td>\n",
       "      <td>3.2</td>\n",
       "      <td>1.3</td>\n",
       "      <td>0.2</td>\n",
       "    </tr>\n",
       "    <tr>\n",
       "      <th>3</th>\n",
       "      <td>4.6</td>\n",
       "      <td>3.1</td>\n",
       "      <td>1.5</td>\n",
       "      <td>0.2</td>\n",
       "    </tr>\n",
       "    <tr>\n",
       "      <th>4</th>\n",
       "      <td>5.0</td>\n",
       "      <td>3.6</td>\n",
       "      <td>1.4</td>\n",
       "      <td>0.2</td>\n",
       "    </tr>\n",
       "    <tr>\n",
       "      <th>...</th>\n",
       "      <td>...</td>\n",
       "      <td>...</td>\n",
       "      <td>...</td>\n",
       "      <td>...</td>\n",
       "    </tr>\n",
       "    <tr>\n",
       "      <th>145</th>\n",
       "      <td>6.7</td>\n",
       "      <td>3.0</td>\n",
       "      <td>5.2</td>\n",
       "      <td>2.3</td>\n",
       "    </tr>\n",
       "    <tr>\n",
       "      <th>146</th>\n",
       "      <td>6.3</td>\n",
       "      <td>2.5</td>\n",
       "      <td>5.0</td>\n",
       "      <td>1.9</td>\n",
       "    </tr>\n",
       "    <tr>\n",
       "      <th>147</th>\n",
       "      <td>6.5</td>\n",
       "      <td>3.0</td>\n",
       "      <td>5.2</td>\n",
       "      <td>2.0</td>\n",
       "    </tr>\n",
       "    <tr>\n",
       "      <th>148</th>\n",
       "      <td>6.2</td>\n",
       "      <td>3.4</td>\n",
       "      <td>5.4</td>\n",
       "      <td>2.3</td>\n",
       "    </tr>\n",
       "    <tr>\n",
       "      <th>149</th>\n",
       "      <td>5.9</td>\n",
       "      <td>3.0</td>\n",
       "      <td>5.1</td>\n",
       "      <td>1.8</td>\n",
       "    </tr>\n",
       "  </tbody>\n",
       "</table>\n",
       "<p>150 rows × 4 columns</p>\n",
       "</div>"
      ],
      "text/plain": [
       "     sepal_length  sepal_width  petal_length  petal_width\n",
       "0             5.1          3.5           1.4          0.2\n",
       "1             4.9          3.0           1.4          0.2\n",
       "2             4.7          3.2           1.3          0.2\n",
       "3             4.6          3.1           1.5          0.2\n",
       "4             5.0          3.6           1.4          0.2\n",
       "..            ...          ...           ...          ...\n",
       "145           6.7          3.0           5.2          2.3\n",
       "146           6.3          2.5           5.0          1.9\n",
       "147           6.5          3.0           5.2          2.0\n",
       "148           6.2          3.4           5.4          2.3\n",
       "149           5.9          3.0           5.1          1.8\n",
       "\n",
       "[150 rows x 4 columns]"
      ]
     },
     "execution_count": 2,
     "metadata": {},
     "output_type": "execute_result"
    }
   ],
   "source": [
    "# import, species col set to categorical type,\n",
    "# and X and y set\n",
    "df_iris = sns.load_dataset('iris')\n",
    "\n",
    "df_iris['species'] = pd.Categorical(df_iris['species'])\n",
    "\n",
    "X = df_iris.drop(\"species\", axis=1)\n",
    "y = df_iris[\"species\"]\n",
    "\n",
    "X"
   ]
  },
  {
   "cell_type": "code",
   "execution_count": 3,
   "id": "68d41548-239e-4408-8e2d-c8ea93b84148",
   "metadata": {},
   "outputs": [
    {
     "data": {
      "text/html": [
       "<div>\n",
       "<style scoped>\n",
       "    .dataframe tbody tr th:only-of-type {\n",
       "        vertical-align: middle;\n",
       "    }\n",
       "\n",
       "    .dataframe tbody tr th {\n",
       "        vertical-align: top;\n",
       "    }\n",
       "\n",
       "    .dataframe thead th {\n",
       "        text-align: right;\n",
       "    }\n",
       "</style>\n",
       "<table border=\"1\" class=\"dataframe\">\n",
       "  <thead>\n",
       "    <tr style=\"text-align: right;\">\n",
       "      <th></th>\n",
       "      <th>sepal_length</th>\n",
       "      <th>sepal_width</th>\n",
       "      <th>petal_length</th>\n",
       "      <th>petal_width</th>\n",
       "    </tr>\n",
       "  </thead>\n",
       "  <tbody>\n",
       "    <tr>\n",
       "      <th>0</th>\n",
       "      <td>-0.897674</td>\n",
       "      <td>1.015602</td>\n",
       "      <td>-1.335752</td>\n",
       "      <td>-1.311052</td>\n",
       "    </tr>\n",
       "    <tr>\n",
       "      <th>1</th>\n",
       "      <td>-1.139200</td>\n",
       "      <td>-0.131539</td>\n",
       "      <td>-1.335752</td>\n",
       "      <td>-1.311052</td>\n",
       "    </tr>\n",
       "    <tr>\n",
       "      <th>2</th>\n",
       "      <td>-1.380727</td>\n",
       "      <td>0.327318</td>\n",
       "      <td>-1.392399</td>\n",
       "      <td>-1.311052</td>\n",
       "    </tr>\n",
       "    <tr>\n",
       "      <th>3</th>\n",
       "      <td>-1.501490</td>\n",
       "      <td>0.097889</td>\n",
       "      <td>-1.279104</td>\n",
       "      <td>-1.311052</td>\n",
       "    </tr>\n",
       "    <tr>\n",
       "      <th>4</th>\n",
       "      <td>-1.018437</td>\n",
       "      <td>1.245030</td>\n",
       "      <td>-1.335752</td>\n",
       "      <td>-1.311052</td>\n",
       "    </tr>\n",
       "    <tr>\n",
       "      <th>...</th>\n",
       "      <td>...</td>\n",
       "      <td>...</td>\n",
       "      <td>...</td>\n",
       "      <td>...</td>\n",
       "    </tr>\n",
       "    <tr>\n",
       "      <th>145</th>\n",
       "      <td>1.034539</td>\n",
       "      <td>-0.131539</td>\n",
       "      <td>0.816859</td>\n",
       "      <td>1.443994</td>\n",
       "    </tr>\n",
       "    <tr>\n",
       "      <th>146</th>\n",
       "      <td>0.551486</td>\n",
       "      <td>-1.278680</td>\n",
       "      <td>0.703564</td>\n",
       "      <td>0.919223</td>\n",
       "    </tr>\n",
       "    <tr>\n",
       "      <th>147</th>\n",
       "      <td>0.793012</td>\n",
       "      <td>-0.131539</td>\n",
       "      <td>0.816859</td>\n",
       "      <td>1.050416</td>\n",
       "    </tr>\n",
       "    <tr>\n",
       "      <th>148</th>\n",
       "      <td>0.430722</td>\n",
       "      <td>0.786174</td>\n",
       "      <td>0.930154</td>\n",
       "      <td>1.443994</td>\n",
       "    </tr>\n",
       "    <tr>\n",
       "      <th>149</th>\n",
       "      <td>0.068433</td>\n",
       "      <td>-0.131539</td>\n",
       "      <td>0.760211</td>\n",
       "      <td>0.788031</td>\n",
       "    </tr>\n",
       "  </tbody>\n",
       "</table>\n",
       "<p>150 rows × 4 columns</p>\n",
       "</div>"
      ],
      "text/plain": [
       "     sepal_length  sepal_width  petal_length  petal_width\n",
       "0       -0.897674     1.015602     -1.335752    -1.311052\n",
       "1       -1.139200    -0.131539     -1.335752    -1.311052\n",
       "2       -1.380727     0.327318     -1.392399    -1.311052\n",
       "3       -1.501490     0.097889     -1.279104    -1.311052\n",
       "4       -1.018437     1.245030     -1.335752    -1.311052\n",
       "..            ...          ...           ...          ...\n",
       "145      1.034539    -0.131539      0.816859     1.443994\n",
       "146      0.551486    -1.278680      0.703564     0.919223\n",
       "147      0.793012    -0.131539      0.816859     1.050416\n",
       "148      0.430722     0.786174      0.930154     1.443994\n",
       "149      0.068433    -0.131539      0.760211     0.788031\n",
       "\n",
       "[150 rows x 4 columns]"
      ]
     },
     "execution_count": 3,
     "metadata": {},
     "output_type": "execute_result"
    }
   ],
   "source": [
    "# standardization (z-score)\n",
    "\n",
    "x_mean = X.mean(axis=0)\n",
    "x_std = X.std(axis=0)\n",
    "\n",
    "X_z_scores = (X - x_mean) / x_std\n",
    "\n",
    "X_z_scores"
   ]
  },
  {
   "cell_type": "markdown",
   "id": "afd1f2c7-36cd-4450-9b46-5eea709f873b",
   "metadata": {},
   "source": [
    "#### 2) [P] Shuffle your data in your data frames. This will be important for later exercises. Read about the ```shuffle()``` function in ```sklearn.utils```. Import it, and use it to shuffle your ```X``` and ```y``` data frames. Use ```random_state=0```. Remember – it returns the shuffled data! So, be sure to reassign ```X``` and ```y```."
   ]
  },
  {
   "cell_type": "code",
   "execution_count": 4,
   "id": "9bb024c8-4f9b-43b7-8470-72f69f1edd74",
   "metadata": {},
   "outputs": [],
   "source": [
    "X, y = shuffle(X, y, random_state=0)"
   ]
  },
  {
   "cell_type": "markdown",
   "id": "2715ef27-74ba-4fcd-a294-d99414f3207b",
   "metadata": {},
   "source": [
    "#### 3) [P] Use ```train_test_split``` to split your data, but this time, let's use an even smaller split, using a 50/50 split, initializing with a random state of 0. (Why? This is a relatively simple dataset. Let's make the problem a bit more challenging by introducing a smaller training data size.)<br/><br/>Completing this will result in ```X_train```, ```X_test```, ```y_train``` and ```y_test data``` frames, both with 75 instances."
   ]
  },
  {
   "cell_type": "code",
   "execution_count": 5,
   "id": "f5f5e455-4098-481a-bd02-74e09eaec744",
   "metadata": {},
   "outputs": [],
   "source": [
    "X_train, X_test, y_train, y_test = train_test_split(X, y, test_size=0.5, random_state=0)"
   ]
  },
  {
   "cell_type": "code",
   "execution_count": 6,
   "id": "cc38020f-aed3-4325-a939-cbb9f185e3b3",
   "metadata": {},
   "outputs": [
    {
     "data": {
      "text/plain": [
       "(75, 4)"
      ]
     },
     "metadata": {},
     "output_type": "display_data"
    },
    {
     "data": {
      "text/plain": [
       "(75, 4)"
      ]
     },
     "metadata": {},
     "output_type": "display_data"
    },
    {
     "data": {
      "text/plain": [
       "(75,)"
      ]
     },
     "metadata": {},
     "output_type": "display_data"
    },
    {
     "data": {
      "text/plain": [
       "(75,)"
      ]
     },
     "metadata": {},
     "output_type": "display_data"
    }
   ],
   "source": [
    "display(X_train.shape)\n",
    "display(X_test.shape)\n",
    "display(y_train.shape)\n",
    "display(y_test.shape)"
   ]
  },
  {
   "cell_type": "markdown",
   "id": "8e35bd11-881a-42b5-a60c-25b7170f8862",
   "metadata": {},
   "source": [
    "#### 4) [M] How many inputs will your network need to have?"
   ]
  },
  {
   "cell_type": "markdown",
   "id": "fae899b3-3e25-4e4b-88eb-69b42f9fcd63",
   "metadata": {},
   "source": [
    "My network will need to have four inputs, namely those corresponding to sepal_length, sepal_width, petal_length, and petal_width."
   ]
  },
  {
   "cell_type": "markdown",
   "id": "ee42e0b1-d7af-4413-93e4-ec469fc9ba6f",
   "metadata": {},
   "source": [
    "#### 5) [M] Consider the outputs required for a neural network. Remember that the ```iris``` dataset is a *multi-class* dataset. It has to predict three different, categorical values. How do you represent a multi-class target variable in a model like a neural net? For the ```iris``` data, what does the final layer of your neural net structure need to look like?\n",
    "\n",
    "# DISCUSS 1 OR 2 POSSIBLE REPRESENTATIONAL STRUCTURES?? SEE VERY BOTTOM FOR ARCHIVED RESPONSE"
   ]
  },
  {
   "cell_type": "markdown",
   "id": "9b974564-2b50-4e00-87c6-852a0f99d743",
   "metadata": {},
   "source": [
    "The multi-class target variable, which holds, of course, nominal data, should be a set of values from 0 to 1 that estimate the probability that a particular set of input(s) would map to the class label corresponding to the probability. Because there are three possible classes, there would ideally be three neurons in the final layer of the neural network, where each neuron represents a probability that the input(s) belong to a particular class label."
   ]
  },
  {
   "cell_type": "markdown",
   "id": "485e47a2-43a8-4a3d-b391-4ecce7e41a78",
   "metadata": {},
   "source": [
    "#### 6) [P] Write the code to convert the iris target variables (i.e. ```y_train``` and ```y_test```) to a set of *binarized* variables derived from the target class variable (why? Hopefully you figured out why based on your previous answer!)<br/><br/>With ```iris```, this means that the \"```species```\" variable should be converted to a data frame (or numpy array) of three variables, one representing each species. (HINT: as usual, there are many ways to do this. I like pandas ```get_dummies()``` or scikit-learn's ```OneHotEncoder```.)"
   ]
  },
  {
   "cell_type": "code",
   "execution_count": 7,
   "id": "a937dd08-6cda-412f-8f6d-d0bbe78850a0",
   "metadata": {},
   "outputs": [],
   "source": [
    "y_train = pd.get_dummies(y_train)\n",
    "y_test = pd.get_dummies(y_test)"
   ]
  },
  {
   "cell_type": "markdown",
   "id": "64bbe784-18bc-4078-8c50-55f60f68cd84",
   "metadata": {},
   "source": [
    "#### 7) [P] Create your input node using ```Input```. Usually, these are simply called ```inputs```. When you create your model, you will need a distinct reference to the input later, so clearly name this. Remember how many inputs your network will have. Specify this here using the ```shape=``` parameter."
   ]
  },
  {
   "cell_type": "code",
   "execution_count": 8,
   "id": "b8cfdd97-e4c1-4709-9b39-a257bc3e7d69",
   "metadata": {},
   "outputs": [],
   "source": [
    "inputs = keras.Input(shape=(4,))"
   ]
  },
  {
   "cell_type": "markdown",
   "id": "92c228d4-9bcc-41f3-b7e1-c2478a160857",
   "metadata": {},
   "source": [
    "#### 8) [P] Add the hidden layer(s), and specify the input as you move along that each layer should receive. We will keep it simple: we will just have one hidden layer, which is a Dense object. Specify the number of units in the layer (e.g. 9-12 is a good start for these simple data.) Specify an activation function of your choosing. Most basic nets use a '```sigmoid```' or '```tanh```' activation, though deep learning emphasizes '```relu```'. (Be sure you understand why. It's explained in the second video on neural nets posted!) Any of the above activations are fine.<br/><br/>```Dense``` returns an object that you need to set the inputs on.<br/><br/>Here is what this step might look like for you:<br/><br/>```# Set my first hidden layer to 12 units, sigmoid activation```<br/>```layer = Dense(12, activation='sigmoid')```<br/><br/>```# Connect my inputs```<br/>```layer(inputs)```<br/><br/>Or, you can do it as one call:<br/><br/>```# Set my first hidden layer to 12 units, sigmoid activation, connected to my inputs```<br/>```layer = Dense(12, activation='sigmoid')(inputs)```<br/><br/>(This assumes that my object created in the previous step was called ```inputs```.)"
   ]
  },
  {
   "cell_type": "code",
   "execution_count": 9,
   "id": "947e7acb-96e6-4ac6-a5ad-4cd04d3d8692",
   "metadata": {},
   "outputs": [],
   "source": [
    "# Set my first hidden layer to 12 units, sigmoid activation \n",
    "layer = Dense(12, activation='sigmoid')\n",
    "\n",
    "# Connect my inputs\n",
    "x = layer(inputs); # made into separate line for readability"
   ]
  },
  {
   "cell_type": "markdown",
   "id": "4490ed8f-7800-4c37-929d-26b8a1ff24df",
   "metadata": {},
   "source": [
    "#### 9) [P] Add one more ```Dense``` layer representing the output layer. Be sure to specify the correct number of outputs. Use a '```softmax```' activation here. Be sure to connect the previous layer.\n"
   ]
  },
  {
   "cell_type": "code",
   "execution_count": 10,
   "id": "9a8da344-c549-4cea-9786-a383b1bb53eb",
   "metadata": {},
   "outputs": [],
   "source": [
    "output_layer = Dense(3, activation='softmax')\n",
    "outputs = output_layer(x);"
   ]
  },
  {
   "cell_type": "markdown",
   "id": "1ca7a3c2-e69d-478d-bea7-48bca6bfae16",
   "metadata": {},
   "source": [
    "#### 10) [P]Create an instance of ```Model```. Specify the ```inputs```, the ```outputs```, and name the model \"```simple_iris_model```\". Then, report a summary of your model using the ```summary()``` function. If you did everything correctly, your model should look as follows:<br/><br/>*output below matches that given in the assignment*\n"
   ]
  },
  {
   "cell_type": "code",
   "execution_count": 11,
   "id": "a59c69e0-9f01-49f5-b5be-583b3931de7e",
   "metadata": {},
   "outputs": [
    {
     "name": "stdout",
     "output_type": "stream",
     "text": [
      "Model: \"mnist_model\"\n",
      "_________________________________________________________________\n",
      "Layer (type)                 Output Shape              Param #   \n",
      "=================================================================\n",
      "input_1 (InputLayer)         [(None, 4)]               0         \n",
      "_________________________________________________________________\n",
      "dense (Dense)                (None, 12)                60        \n",
      "_________________________________________________________________\n",
      "dense_1 (Dense)              (None, 3)                 39        \n",
      "=================================================================\n",
      "Total params: 99\n",
      "Trainable params: 99\n",
      "Non-trainable params: 0\n",
      "_________________________________________________________________\n"
     ]
    }
   ],
   "source": [
    "simple_iris_model = Model(inputs=inputs, outputs=outputs, name=\"mnist_model\")\n",
    "simple_iris_model.summary()"
   ]
  },
  {
   "cell_type": "markdown",
   "id": "4e730970-5649-4d6d-be08-481eae3e544a",
   "metadata": {},
   "source": [
    "#### 11) [P] OK. Now compile your model. Look at the documentation for the compile() method. You'll need to specify the following parameters:<br/><br/>a) Choose an ```optimizer``` – This is a GREATLY HEATED TOPIC on deep learning and ANN blogs. The facts: **Stochastic Gradient Descent** (SGD) is *the* quintessential standard. It is the basis of neural net learning. It is mathematically sound, though it can suffer from the worst computational performance (i.e. timing to convergence.) All enhancements and newer methods are based on SGD. For SGD, an appropriate selection of a *momentum* parameter makes a *huge* difference, and papers have come out demonstrating that SGD + a good momentum parameter are as effective as the most hyped optimization techniques, *if you can identify good parameters*. (For example: https://arxiv.org/abs/1705.08292 ) Selecting good learning rates, momentum and other parameters is not easy. Theoretically, there are an infinite number of combinations you could choose. So, several other methods have come out to help address the challenges of selecting good parameters. Adam is most commonly used optimizer in practice for deep learning. So, use ```optimizer='sgd'``` to start, but then go back and set it to ```optimizer = 'adam'```.<br/><br/>b) Choose the ```loss``` function – This is the function that gives you the error that is backpropagated. Use ```loss='categorical_crossentropy'``` for this problem.<br/><br/>c) Choose the performance ```metrics``` – Typically, you will stick with ```metrics=['accuracy']``` here. You can do far more with your predictions later.\n",
    "\n",
    "# isn't it 3 params not 2?!?! "
   ]
  },
  {
   "cell_type": "code",
   "execution_count": 12,
   "id": "ccdc06c5-20d1-42b7-886d-ce2e77da156e",
   "metadata": {},
   "outputs": [],
   "source": [
    "simple_iris_model.compile(optimizer='sgd', loss='categorical_crossentropy', metrics=['accuracy'])"
   ]
  },
  {
   "cell_type": "markdown",
   "id": "fa68a753-9ede-4472-a3b5-683db8b851d8",
   "metadata": {},
   "source": [
    "#### 12) [P] OK, your structure is set. Now you need to train the model. Look at the documentation for the ```fit()``` method. Use ```fit``` to train your model with ```X_train``` and your binarized ```y_train``` data. There are many additional parameters available that basically control how you perform weight updates. This is where, depending on your data size and your selection of parameters, you could be waiting a while. This is a SIMPLE dataset, and should take no more than a 5-10 seconds to get good results.<br/><br/>You can start with the following:<br/><br/>a) ```epochs =```number of epochs to train the model. An epoch is an iteration over all your training data. You will need to experiment. Start with a value of 100.<br/><br/>b) ```batch_size = ``` number of samples per gradient update. Updating every instance will usually converge the earliest, but with high variance. At the other extreme, batch_size using the entire dataset is slow, but very smooth convergence. Experiment. Use 1, 5, 15. You'll need to select the number of epochs in conjunction with this parameter. For this simple problem, ```batch_size = 1``` will likely work just fine.<br/><br/>c) ```verbose = 1``` will show output as training progresses. Very useful!<br/><br/>d) Use ```validation_data``` to pass your test data for model validation purposes. This will make it easy to understand if your model is overfitting your data. (This slows things down a bit more, but it's so important to capture how your model is doing on BOTH training and test data!)<br/><br/>The ```fit()``` method returns a ```History``` object. Look up what this is, and store this result! You'll use it in the next step!\n",
    "\n",
    "# all 100 lines in there??"
   ]
  },
  {
   "cell_type": "code",
   "execution_count": 13,
   "id": "92605e4b-cbfa-405d-b5c6-3a35f7cf6dd3",
   "metadata": {},
   "outputs": [
    {
     "name": "stdout",
     "output_type": "stream",
     "text": [
      "Epoch 1/100\n",
      "75/75 [==============================] - 1s 9ms/step - loss: 1.4066 - accuracy: 0.3003 - val_loss: 1.1537 - val_accuracy: 0.3067\n",
      "Epoch 2/100\n",
      "75/75 [==============================] - 0s 1ms/step - loss: 1.0874 - accuracy: 0.5401 - val_loss: 1.0680 - val_accuracy: 0.3333\n",
      "Epoch 3/100\n",
      "75/75 [==============================] - 0s 1ms/step - loss: 1.0157 - accuracy: 0.5082 - val_loss: 1.0254 - val_accuracy: 0.6000\n",
      "Epoch 4/100\n",
      "75/75 [==============================] - 0s 1ms/step - loss: 0.9511 - accuracy: 0.7266 - val_loss: 0.9722 - val_accuracy: 0.6000\n",
      "Epoch 5/100\n",
      "75/75 [==============================] - 0s 1ms/step - loss: 0.9227 - accuracy: 0.7396 - val_loss: 0.9337 - val_accuracy: 0.6000\n",
      "Epoch 6/100\n",
      "75/75 [==============================] - 0s 1ms/step - loss: 0.8906 - accuracy: 0.6286 - val_loss: 0.9208 - val_accuracy: 0.6000\n",
      "Epoch 7/100\n",
      "75/75 [==============================] - 0s 1ms/step - loss: 0.8947 - accuracy: 0.6614 - val_loss: 0.8692 - val_accuracy: 0.6000\n",
      "Epoch 8/100\n",
      "75/75 [==============================] - 0s 996us/step - loss: 0.7981 - accuracy: 0.7106 - val_loss: 0.8374 - val_accuracy: 0.6000\n",
      "Epoch 9/100\n",
      "75/75 [==============================] - 0s 1ms/step - loss: 0.7545 - accuracy: 0.7714 - val_loss: 0.7937 - val_accuracy: 0.6000\n",
      "Epoch 10/100\n",
      "75/75 [==============================] - 0s 1ms/step - loss: 0.7618 - accuracy: 0.6984 - val_loss: 0.7592 - val_accuracy: 0.6000\n",
      "Epoch 11/100\n",
      "75/75 [==============================] - 0s 1ms/step - loss: 0.7044 - accuracy: 0.6653 - val_loss: 0.7354 - val_accuracy: 0.6000\n",
      "Epoch 12/100\n",
      "75/75 [==============================] - 0s 1ms/step - loss: 0.6617 - accuracy: 0.6967 - val_loss: 0.6938 - val_accuracy: 0.6000\n",
      "Epoch 13/100\n",
      "75/75 [==============================] - 0s 1ms/step - loss: 0.6527 - accuracy: 0.7821 - val_loss: 0.6651 - val_accuracy: 0.6000\n",
      "Epoch 14/100\n",
      "75/75 [==============================] - 0s 994us/step - loss: 0.6789 - accuracy: 0.6972 - val_loss: 0.6546 - val_accuracy: 0.6000\n",
      "Epoch 15/100\n",
      "75/75 [==============================] - 0s 1ms/step - loss: 0.5833 - accuracy: 0.7317 - val_loss: 0.6478 - val_accuracy: 0.6000\n",
      "Epoch 16/100\n",
      "75/75 [==============================] - 0s 1ms/step - loss: 0.5882 - accuracy: 0.6716 - val_loss: 0.6486 - val_accuracy: 0.6000\n",
      "Epoch 17/100\n",
      "75/75 [==============================] - 0s 1ms/step - loss: 0.5875 - accuracy: 0.6770 - val_loss: 0.6201 - val_accuracy: 0.6000\n",
      "Epoch 18/100\n",
      "75/75 [==============================] - 0s 1ms/step - loss: 0.5260 - accuracy: 0.7325 - val_loss: 0.6064 - val_accuracy: 0.6000\n",
      "Epoch 19/100\n",
      "75/75 [==============================] - 0s 1ms/step - loss: 0.5460 - accuracy: 0.7580 - val_loss: 0.5748 - val_accuracy: 0.6000\n",
      "Epoch 20/100\n",
      "75/75 [==============================] - 0s 997us/step - loss: 0.5355 - accuracy: 0.7013 - val_loss: 0.5856 - val_accuracy: 0.6000\n",
      "Epoch 21/100\n",
      "75/75 [==============================] - 0s 999us/step - loss: 0.5244 - accuracy: 0.7384 - val_loss: 0.5768 - val_accuracy: 0.6000\n",
      "Epoch 22/100\n",
      "75/75 [==============================] - 0s 1ms/step - loss: 0.5431 - accuracy: 0.7253 - val_loss: 0.5644 - val_accuracy: 0.6000\n",
      "Epoch 23/100\n",
      "75/75 [==============================] - 0s 1ms/step - loss: 0.5236 - accuracy: 0.7043 - val_loss: 0.5719 - val_accuracy: 0.6000\n",
      "Epoch 24/100\n",
      "75/75 [==============================] - 0s 1ms/step - loss: 0.4682 - accuracy: 0.8027 - val_loss: 0.5377 - val_accuracy: 0.6267\n",
      "Epoch 25/100\n",
      "75/75 [==============================] - 0s 1ms/step - loss: 0.5021 - accuracy: 0.7971 - val_loss: 0.5268 - val_accuracy: 0.7333\n",
      "Epoch 26/100\n",
      "75/75 [==============================] - 0s 993us/step - loss: 0.4720 - accuracy: 0.7841 - val_loss: 0.5340 - val_accuracy: 0.6133\n",
      "Epoch 27/100\n",
      "75/75 [==============================] - 0s 1ms/step - loss: 0.5314 - accuracy: 0.7346 - val_loss: 0.5325 - val_accuracy: 0.6000\n",
      "Epoch 28/100\n",
      "75/75 [==============================] - 0s 1ms/step - loss: 0.4752 - accuracy: 0.7708 - val_loss: 0.5124 - val_accuracy: 0.7733\n",
      "Epoch 29/100\n",
      "75/75 [==============================] - 0s 998us/step - loss: 0.4689 - accuracy: 0.8107 - val_loss: 0.5195 - val_accuracy: 0.6267\n",
      "Epoch 30/100\n",
      "75/75 [==============================] - 0s 1ms/step - loss: 0.4303 - accuracy: 0.8329 - val_loss: 0.5090 - val_accuracy: 0.6800\n",
      "Epoch 31/100\n",
      "75/75 [==============================] - 0s 1ms/step - loss: 0.4556 - accuracy: 0.7881 - val_loss: 0.5100 - val_accuracy: 0.6400\n",
      "Epoch 32/100\n",
      "75/75 [==============================] - 0s 1ms/step - loss: 0.3991 - accuracy: 0.8657 - val_loss: 0.5264 - val_accuracy: 0.6000\n",
      "Epoch 33/100\n",
      "75/75 [==============================] - 0s 1ms/step - loss: 0.4122 - accuracy: 0.7622 - val_loss: 0.4945 - val_accuracy: 0.7333\n",
      "Epoch 34/100\n",
      "75/75 [==============================] - 0s 1ms/step - loss: 0.4104 - accuracy: 0.8110 - val_loss: 0.4794 - val_accuracy: 0.9200\n",
      "Epoch 35/100\n",
      "75/75 [==============================] - 0s 1ms/step - loss: 0.4145 - accuracy: 0.9442 - val_loss: 0.5004 - val_accuracy: 0.6267\n",
      "Epoch 36/100\n",
      "75/75 [==============================] - 0s 1ms/step - loss: 0.4142 - accuracy: 0.8466 - val_loss: 0.4934 - val_accuracy: 0.6400\n",
      "Epoch 37/100\n",
      "75/75 [==============================] - 0s 1ms/step - loss: 0.4321 - accuracy: 0.8595 - val_loss: 0.5000 - val_accuracy: 0.6267\n",
      "Epoch 38/100\n",
      "75/75 [==============================] - 0s 1ms/step - loss: 0.3903 - accuracy: 0.8447 - val_loss: 0.4643 - val_accuracy: 0.9067\n",
      "Epoch 39/100\n",
      "75/75 [==============================] - 0s 1ms/step - loss: 0.4498 - accuracy: 0.9243 - val_loss: 0.4758 - val_accuracy: 0.7200\n",
      "Epoch 40/100\n",
      "75/75 [==============================] - 0s 1ms/step - loss: 0.3997 - accuracy: 0.8381 - val_loss: 0.4612 - val_accuracy: 0.8400\n",
      "Epoch 41/100\n",
      "75/75 [==============================] - 0s 1ms/step - loss: 0.4164 - accuracy: 0.9288 - val_loss: 0.4619 - val_accuracy: 0.8133\n",
      "Epoch 42/100\n",
      "75/75 [==============================] - 0s 989us/step - loss: 0.3782 - accuracy: 0.8916 - val_loss: 0.4499 - val_accuracy: 0.8667\n",
      "Epoch 43/100\n",
      "75/75 [==============================] - 0s 1ms/step - loss: 0.3909 - accuracy: 0.9276 - val_loss: 0.4835 - val_accuracy: 0.6400\n",
      "Epoch 44/100\n",
      "75/75 [==============================] - 0s 1ms/step - loss: 0.3685 - accuracy: 0.8590 - val_loss: 0.4323 - val_accuracy: 0.9467\n",
      "Epoch 45/100\n",
      "75/75 [==============================] - 0s 1ms/step - loss: 0.3768 - accuracy: 0.9645 - val_loss: 0.4406 - val_accuracy: 0.8400\n",
      "Epoch 46/100\n",
      "75/75 [==============================] - 0s 1ms/step - loss: 0.3817 - accuracy: 0.9597 - val_loss: 0.4378 - val_accuracy: 0.8400\n",
      "Epoch 47/100\n",
      "75/75 [==============================] - 0s 1000us/step - loss: 0.3642 - accuracy: 0.9035 - val_loss: 0.4387 - val_accuracy: 0.8400\n",
      "Epoch 48/100\n",
      "75/75 [==============================] - 0s 1ms/step - loss: 0.4029 - accuracy: 0.9373 - val_loss: 0.4394 - val_accuracy: 0.8000\n",
      "Epoch 49/100\n",
      "75/75 [==============================] - 0s 1ms/step - loss: 0.3855 - accuracy: 0.9478 - val_loss: 0.4211 - val_accuracy: 0.8800\n",
      "Epoch 50/100\n",
      "75/75 [==============================] - 0s 1ms/step - loss: 0.3365 - accuracy: 0.9724 - val_loss: 0.4128 - val_accuracy: 0.9200\n",
      "Epoch 51/100\n",
      "75/75 [==============================] - 0s 1ms/step - loss: 0.4180 - accuracy: 0.9238 - val_loss: 0.4143 - val_accuracy: 0.8667\n",
      "Epoch 52/100\n",
      "75/75 [==============================] - 0s 1ms/step - loss: 0.3304 - accuracy: 0.9544 - val_loss: 0.4008 - val_accuracy: 0.9200\n",
      "Epoch 53/100\n",
      "75/75 [==============================] - 0s 1ms/step - loss: 0.3617 - accuracy: 0.9580 - val_loss: 0.4031 - val_accuracy: 0.9067\n",
      "Epoch 54/100\n",
      "75/75 [==============================] - 0s 1ms/step - loss: 0.3463 - accuracy: 0.9458 - val_loss: 0.4034 - val_accuracy: 0.8667\n",
      "Epoch 55/100\n",
      "75/75 [==============================] - 0s 1ms/step - loss: 0.3227 - accuracy: 0.9591 - val_loss: 0.3997 - val_accuracy: 0.8667\n",
      "Epoch 56/100\n",
      "75/75 [==============================] - 0s 1ms/step - loss: 0.3167 - accuracy: 0.9421 - val_loss: 0.3809 - val_accuracy: 0.9200\n",
      "Epoch 57/100\n",
      "75/75 [==============================] - 0s 1ms/step - loss: 0.3573 - accuracy: 0.9637 - val_loss: 0.3772 - val_accuracy: 0.9200\n",
      "Epoch 58/100\n",
      "75/75 [==============================] - 0s 1ms/step - loss: 0.3188 - accuracy: 0.9965 - val_loss: 0.3736 - val_accuracy: 0.9200\n",
      "Epoch 59/100\n",
      "75/75 [==============================] - 0s 1ms/step - loss: 0.3237 - accuracy: 0.9806 - val_loss: 0.3940 - val_accuracy: 0.8667\n",
      "Epoch 60/100\n",
      "75/75 [==============================] - 0s 1ms/step - loss: 0.2935 - accuracy: 0.9591 - val_loss: 0.3745 - val_accuracy: 0.9067\n",
      "Epoch 61/100\n",
      "75/75 [==============================] - 0s 1ms/step - loss: 0.2943 - accuracy: 0.9817 - val_loss: 0.3647 - val_accuracy: 0.9200\n",
      "Epoch 62/100\n",
      "75/75 [==============================] - 0s 1ms/step - loss: 0.3161 - accuracy: 0.9934 - val_loss: 0.3715 - val_accuracy: 0.8800\n",
      "Epoch 63/100\n",
      "75/75 [==============================] - 0s 1ms/step - loss: 0.2719 - accuracy: 0.9662 - val_loss: 0.3474 - val_accuracy: 0.9733\n",
      "Epoch 64/100\n",
      "75/75 [==============================] - 0s 1ms/step - loss: 0.3135 - accuracy: 0.9855 - val_loss: 0.3760 - val_accuracy: 0.8800\n",
      "Epoch 65/100\n",
      "75/75 [==============================] - 0s 1ms/step - loss: 0.2934 - accuracy: 0.9683 - val_loss: 0.3604 - val_accuracy: 0.8800\n",
      "Epoch 66/100\n",
      "75/75 [==============================] - 0s 1ms/step - loss: 0.2719 - accuracy: 0.9615 - val_loss: 0.3368 - val_accuracy: 0.9467\n",
      "Epoch 67/100\n",
      "75/75 [==============================] - 0s 1ms/step - loss: 0.2394 - accuracy: 0.9749 - val_loss: 0.3524 - val_accuracy: 0.8933\n",
      "Epoch 68/100\n",
      "75/75 [==============================] - 0s 1ms/step - loss: 0.3011 - accuracy: 0.9479 - val_loss: 0.3300 - val_accuracy: 0.9467\n",
      "Epoch 69/100\n",
      "75/75 [==============================] - 0s 1ms/step - loss: 0.2871 - accuracy: 0.9722 - val_loss: 0.3302 - val_accuracy: 0.9200\n",
      "Epoch 70/100\n",
      "75/75 [==============================] - 0s 1ms/step - loss: 0.2451 - accuracy: 0.9469 - val_loss: 0.3328 - val_accuracy: 0.9200\n",
      "Epoch 71/100\n",
      "75/75 [==============================] - 0s 1ms/step - loss: 0.2474 - accuracy: 0.9980 - val_loss: 0.3162 - val_accuracy: 0.9467\n",
      "Epoch 72/100\n",
      "75/75 [==============================] - 0s 1ms/step - loss: 0.2528 - accuracy: 0.9353 - val_loss: 0.3137 - val_accuracy: 0.9733\n",
      "Epoch 73/100\n",
      "75/75 [==============================] - 0s 1ms/step - loss: 0.2476 - accuracy: 0.9779 - val_loss: 0.3145 - val_accuracy: 0.9200\n",
      "Epoch 74/100\n",
      "75/75 [==============================] - 0s 1ms/step - loss: 0.2826 - accuracy: 0.9425 - val_loss: 0.3067 - val_accuracy: 0.9467\n",
      "Epoch 75/100\n",
      "75/75 [==============================] - 0s 1ms/step - loss: 0.3131 - accuracy: 0.9709 - val_loss: 0.3180 - val_accuracy: 0.9200\n",
      "Epoch 76/100\n",
      "75/75 [==============================] - 0s 1ms/step - loss: 0.2155 - accuracy: 0.9750 - val_loss: 0.3096 - val_accuracy: 0.9200\n",
      "Epoch 77/100\n",
      "75/75 [==============================] - 0s 1ms/step - loss: 0.2159 - accuracy: 0.9634 - val_loss: 0.3075 - val_accuracy: 0.9200\n",
      "Epoch 78/100\n",
      "75/75 [==============================] - 0s 1ms/step - loss: 0.2252 - accuracy: 0.9813 - val_loss: 0.2940 - val_accuracy: 0.9467\n",
      "Epoch 79/100\n",
      "75/75 [==============================] - 0s 1ms/step - loss: 0.2606 - accuracy: 0.8863 - val_loss: 0.2901 - val_accuracy: 0.9733\n",
      "Epoch 80/100\n",
      "75/75 [==============================] - 0s 1ms/step - loss: 0.2033 - accuracy: 0.9636 - val_loss: 0.3112 - val_accuracy: 0.9067\n",
      "Epoch 81/100\n",
      "75/75 [==============================] - 0s 1ms/step - loss: 0.2338 - accuracy: 1.0000 - val_loss: 0.2869 - val_accuracy: 0.9333\n",
      "Epoch 82/100\n",
      "75/75 [==============================] - 0s 1ms/step - loss: 0.2390 - accuracy: 0.9298 - val_loss: 0.3161 - val_accuracy: 0.8800\n",
      "Epoch 83/100\n",
      "75/75 [==============================] - 0s 1ms/step - loss: 0.1994 - accuracy: 0.9865 - val_loss: 0.3015 - val_accuracy: 0.9067\n",
      "Epoch 84/100\n",
      "75/75 [==============================] - 0s 1ms/step - loss: 0.2412 - accuracy: 0.9874 - val_loss: 0.2726 - val_accuracy: 0.9733\n",
      "Epoch 85/100\n",
      "75/75 [==============================] - 0s 1ms/step - loss: 0.2254 - accuracy: 0.9712 - val_loss: 0.2806 - val_accuracy: 0.9200\n",
      "Epoch 86/100\n",
      "75/75 [==============================] - 0s 1ms/step - loss: 0.2029 - accuracy: 0.9797 - val_loss: 0.2726 - val_accuracy: 0.9333\n",
      "Epoch 87/100\n",
      "75/75 [==============================] - 0s 1ms/step - loss: 0.2228 - accuracy: 0.9929 - val_loss: 0.2721 - val_accuracy: 0.9200\n",
      "Epoch 88/100\n",
      "75/75 [==============================] - 0s 1ms/step - loss: 0.1798 - accuracy: 0.9939 - val_loss: 0.2621 - val_accuracy: 0.9733\n",
      "Epoch 89/100\n",
      "75/75 [==============================] - 0s 1ms/step - loss: 0.2070 - accuracy: 0.9811 - val_loss: 0.2694 - val_accuracy: 0.9200\n",
      "Epoch 90/100\n",
      "75/75 [==============================] - 0s 1ms/step - loss: 0.2023 - accuracy: 0.9805 - val_loss: 0.2721 - val_accuracy: 0.9200\n",
      "Epoch 91/100\n",
      "75/75 [==============================] - 0s 1ms/step - loss: 0.2051 - accuracy: 0.9703 - val_loss: 0.2585 - val_accuracy: 0.9333\n",
      "Epoch 92/100\n",
      "75/75 [==============================] - 0s 1ms/step - loss: 0.2289 - accuracy: 0.9621 - val_loss: 0.2519 - val_accuracy: 0.9733\n",
      "Epoch 93/100\n",
      "75/75 [==============================] - 0s 1ms/step - loss: 0.2002 - accuracy: 0.9686 - val_loss: 0.2670 - val_accuracy: 0.9200\n",
      "Epoch 94/100\n",
      "75/75 [==============================] - 0s 1ms/step - loss: 0.2007 - accuracy: 0.9960 - val_loss: 0.2448 - val_accuracy: 0.9600\n",
      "Epoch 95/100\n",
      "75/75 [==============================] - 0s 1ms/step - loss: 0.1990 - accuracy: 0.9987 - val_loss: 0.2534 - val_accuracy: 0.9200\n",
      "Epoch 96/100\n",
      "75/75 [==============================] - 0s 1ms/step - loss: 0.1581 - accuracy: 0.9854 - val_loss: 0.2419 - val_accuracy: 0.9733\n",
      "Epoch 97/100\n",
      "75/75 [==============================] - 0s 1ms/step - loss: 0.1908 - accuracy: 0.9813 - val_loss: 0.2636 - val_accuracy: 0.9067\n",
      "Epoch 98/100\n",
      "75/75 [==============================] - 0s 1ms/step - loss: 0.1802 - accuracy: 0.9913 - val_loss: 0.3034 - val_accuracy: 0.8800\n",
      "Epoch 99/100\n",
      "75/75 [==============================] - 0s 1ms/step - loss: 0.2006 - accuracy: 0.9984 - val_loss: 0.2337 - val_accuracy: 0.9733\n",
      "Epoch 100/100\n",
      "75/75 [==============================] - 0s 996us/step - loss: 0.1944 - accuracy: 0.9762 - val_loss: 0.2391 - val_accuracy: 0.9200\n"
     ]
    }
   ],
   "source": [
    "history = simple_iris_model.fit(X_train, y_train, epochs=100, batch_size=1, verbose=1, validation_data=(X_test, y_test))"
   ]
  },
  {
   "cell_type": "markdown",
   "id": "448ab0e3-6f20-446f-a281-87c64eb7b654",
   "metadata": {},
   "source": [
    "A History object stores loss values and other metrics associated with training and associated with validation."
   ]
  },
  {
   "cell_type": "markdown",
   "id": "6d370014-c2f2-4067-bb9b-645a905bf94d",
   "metadata": {},
   "source": [
    "#### 13) [P] It's important to understand your accuracy and loss rates as your model proceeds through training. Visualize the loss on training and test data. Look at the code presented here: https://machinelearningmastery.com/display-deep-learning-model-training-history-in-keras/. You may adapt it, or make it more fancy if you choose to do so. Pay attention to the section of code that shows **Training history visualization**. If you did everything correctly, you should show two graphs, one for **model loss**, and one for **model accuracy**.<br/><br/>Below are my example graphs, based on the code given on the Keras documentation page. I used ```'sgd'``` for optimization, a single hidden layer with 12 units, and ```'sigmoid'``` activation. I trained with ```epochs=100```, and ```batch_size=1```. You'll see that these parameters do pretty well for these data. Even the test data performs quite well.<br/><br/>*output below matches that given in the assignment*<br/><br/>You could also simply create a pd.DataFrame with the history object, and then use Seaborn or whatever you want. For example, here's a quick, simple example that gets me access to the pandas plotting interface, which is about as simple as you can get for plotting:<br/><br/>```pd.DataFrame(history.history).plot(```<br/>&emsp;&emsp;```figsize=(8, 5),grid=True,```<br/>&emsp;&emsp;```lim=(0,1),ylabel=\"Loss\")```<br/>```plt.show()```:<br/><br/>*output below matches that given in the assignment*<br/><br/>You can see how useful these plots are. Both loss curves are only *starting* to stabilize! This suggests that it may be worth repeating this with 150 epochs? Or, do we reduce the number of hidden units? Change the optimization? The momentum? Argh! There are so many parameters that can influence getting the best model!\n",
    "\n",
    "# my curves look different"
   ]
  },
  {
   "cell_type": "code",
   "execution_count": 14,
   "id": "a24e92a2-8de8-448c-b71e-2c785954170e",
   "metadata": {},
   "outputs": [
    {
     "data": {
      "image/png": "[encoded data removed]",
      "text/plain": [
       "<Figure size 1008x432 with 1 Axes>"
      ]
     },
     "metadata": {
      "needs_background": "light"
     },
     "output_type": "display_data"
    }
   ],
   "source": [
    "plt.figure(figsize=(14,6))\n",
    "ax = sns.lineplot(x=np.arange(1,len(history.history['accuracy'])+1), \n",
    "                  y=history.history['accuracy'],\n",
    "                  label='training')\n",
    "sns.lineplot(x=np.arange(1,len(history.history['val_accuracy'])+1), \n",
    "             y=history.history['val_accuracy'], \n",
    "             label='testing',\n",
    "             ax=ax)\n",
    "ax.set_xlabel(\"Epoch #\")\n",
    "ax.set_ylabel(\"Accuracy\")\n",
    "ax.set_title(\"ANN Model Accuracy\");"
   ]
  },
  {
   "cell_type": "code",
   "execution_count": 15,
   "id": "8a0d5a06-a12c-43f1-85cf-19e19ed94624",
   "metadata": {},
   "outputs": [
    {
     "data": {
      "image/png": "[encoded data removed]",
      "text/plain": [
       "<Figure size 1008x432 with 1 Axes>"
      ]
     },
     "metadata": {
      "needs_background": "light"
     },
     "output_type": "display_data"
    }
   ],
   "source": [
    "plt.figure(figsize=(14,6))\n",
    "ax = sns.lineplot(x=np.arange(1,len(history.history['loss'])+1), \n",
    "                  y=history.history['loss'],\n",
    "                  label='training')\n",
    "sns.lineplot(x=np.arange(1,len(history.history['val_loss'])+1), \n",
    "             y=history.history['val_loss'], \n",
    "             label='testing',\n",
    "             ax=ax)\n",
    "ax.set_xlabel(\"Epoch #\")\n",
    "ax.set_ylabel(\"Loss\")\n",
    "ax.set_title(\"ANN Model Loss\");"
   ]
  },
  {
   "cell_type": "code",
   "execution_count": 16,
   "id": "5063b4f8-78bd-4af1-a0b5-162a7ea8b555",
   "metadata": {},
   "outputs": [
    {
     "data": {
      "image/png": "[encoded data removed]",
      "text/plain": [
       "<Figure size 576x360 with 1 Axes>"
      ]
     },
     "metadata": {
      "needs_background": "light"
     },
     "output_type": "display_data"
    }
   ],
   "source": [
    "pd.DataFrame(history.history).plot(\n",
    "    figsize=(8, 5),grid=True,\n",
    "    ylim=(0,1),ylabel=\"Loss\")\n",
    "plt.show()"
   ]
  },
  {
   "cell_type": "markdown",
   "id": "70dcfd90-fc53-4921-8703-d387f3469a71",
   "metadata": {},
   "source": [
    "#### 14) [P] – THIS STEP IS OPTIONAL! Look at the example flow of a keras project as presented in https://keras.io/guides/functional_api/. Notice the steps to plot the model as a graph. You can generate a nice visualization of the model. You don't need to do it for this step, but might be good to try out and know how to do for your future."
   ]
  },
  {
   "cell_type": "code",
   "execution_count": 17,
   "id": "1167fb09-b533-426e-95d8-d7fcfd1de138",
   "metadata": {},
   "outputs": [
    {
     "name": "stdout",
     "output_type": "stream",
     "text": [
      "('Failed to import pydot. You must `pip install pydot` and install graphviz (https://graphviz.gitlab.io/download/), ', 'for `pydotprint` to work.')\n"
     ]
    }
   ],
   "source": [
    "plot_model(simple_iris_model, show_shapes=True)"
   ]
  },
  {
   "cell_type": "markdown",
   "id": "b65be5e6-cae3-4d06-8d2f-90226deab818",
   "metadata": {},
   "source": [
    "**=== END OF LAB ===**"
   ]
  },
  {
   "cell_type": "markdown",
   "id": "e783d86c-e53d-41b5-ba24-a1cd90a4fc7a",
   "metadata": {},
   "source": [
    "ARCHIVED/SAVED IN CASE NEEDED (PLEASE IGNORE THIS IN CASE LEFT BEHIND WHEN SUBMITTED FOR GRADING) \n",
    "\n",
    "ex 2, num 5 (old, not quite the right answer)\n",
    "\n",
    "A multi-class target variable in a model like a neural network could be a positive integer corresponding to each class label. Or, it can look like a set of probabilities, where each probability (in the output layer) corresponds to the likelihood that a particular input (fed into the input layer) belongs to a particular class. \n",
    "\n",
    "In the former case, the final layer will need to have at least the number of neurons needed to capture the highest integer representing a class label (e.g., label 1 = 0, label 2 = 1... label 15 = 14), whether that be in binary form (neurons have an arrangement of 1s and 0s that correspond to a number, which corresponds to a class label) or that be in absolute form (one output neuron outputs the number of the predicted class label). In the later case presented above (related to outputting a series of probabilities), the final layer will need to have a number of output neurons equal to the number of possible class labels that the set of inputs for this problem can be predicted to have/have; this way, probabilities for the input(s) having a particular class label are outputted (one neuron per probability for one particular class label)."
   ]
  },
  {
   "cell_type": "code",
   "execution_count": null,
   "id": "5a76992f-3c50-4f07-8494-cda05e4cdf3c",
   "metadata": {},
   "outputs": [],
   "source": []
  }
 ],
 "metadata": {
  "kernelspec": {
   "display_name": "Python 3",
   "language": "python",
   "name": "python3"
  },
  "language_info": {
   "codemirror_mode": {
    "name": "ipython",
    "version": 3
   },
   "file_extension": ".py",
   "mimetype": "text/x-python",
   "name": "python",
   "nbconvert_exporter": "python",
   "pygments_lexer": "ipython3",
   "version": "3.8.8"
  }
 },
 "nbformat": 4,
 "nbformat_minor": 5
}
