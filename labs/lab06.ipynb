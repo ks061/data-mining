{
 "cells": [
  {
   "cell_type": "code",
   "execution_count": 9,
   "id": "nearby-knowing",
   "metadata": {},
   "outputs": [],
   "source": [
    "import numpy as np\n",
    "import pandas as pd\n",
    "import matplotlib.pyplot as plt\n",
    "import seaborn as sns"
   ]
  },
  {
   "cell_type": "markdown",
   "id": "authentic-judges",
   "metadata": {},
   "source": [
    "#### 1)"
   ]
  },
  {
   "cell_type": "code",
   "execution_count": 19,
   "id": "desperate-tanzania",
   "metadata": {},
   "outputs": [],
   "source": [
    "df_temps = pd.read_csv(\"../data/faa_hourly-KIPT_20000101-20201231_raw.csv\", skiprows=25)"
   ]
  },
  {
   "cell_type": "code",
   "execution_count": 20,
   "id": "applied-execution",
   "metadata": {},
   "outputs": [
    {
     "name": "stdout",
     "output_type": "stream",
     "text": [
      "<class 'pandas.core.frame.DataFrame'>\n",
      "RangeIndex: 181943 entries, 0 to 181942\n",
      "Data columns (total 14 columns):\n",
      " #   Column                         Non-Null Count   Dtype  \n",
      "---  ------                         --------------   -----  \n",
      " 0   Date/Time (GMT)                181943 non-null  object \n",
      " 1   Number of Observations (n/a)   181943 non-null  int64  \n",
      " 2   Average Temp (F)               180938 non-null  float64\n",
      " 3   Max Temp (F)                   180938 non-null  float64\n",
      " 4   Min Temp (F)                   180938 non-null  float64\n",
      " 5   Average Dewpoint Temp (F)      180816 non-null  float64\n",
      " 6   1 Hour Precip (in)             30294 non-null   float64\n",
      " 7   Max Wind Gust (mph)            24708 non-null   float64\n",
      " 8   Average Relative Humidity (%)  177114 non-null  float64\n",
      " 9   Average Wind Speed (mph)       181394 non-null  float64\n",
      " 10  Average Station Pressure (mb)  181647 non-null  float64\n",
      " 11  Average Wind Direction (deg)   148822 non-null  float64\n",
      " 12  Max Wind Speed (mph)           181394 non-null  float64\n",
      " 13  Unnamed: 13                    0 non-null       float64\n",
      "dtypes: float64(12), int64(1), object(1)\n",
      "memory usage: 19.4+ MB\n"
     ]
    }
   ],
   "source": [
    "df_temps.info()"
   ]
  },
  {
   "cell_type": "code",
   "execution_count": 21,
   "id": "dutch-enforcement",
   "metadata": {},
   "outputs": [
    {
     "data": {
      "text/plain": [
       "Index                                 128\n",
       "Date/Time (GMT)                  13827668\n",
       "Number of Observations (n/a)      1455544\n",
       "Average Temp (F)                  1455544\n",
       "Max Temp (F)                      1455544\n",
       "Min Temp (F)                      1455544\n",
       "Average Dewpoint Temp (F)         1455544\n",
       "1 Hour Precip (in)                1455544\n",
       "Max Wind Gust (mph)               1455544\n",
       "Average Relative Humidity (%)     1455544\n",
       "Average Wind Speed (mph)          1455544\n",
       "Average Station Pressure (mb)     1455544\n",
       "Average Wind Direction (deg)      1455544\n",
       "Max Wind Speed (mph)              1455544\n",
       "Unnamed: 13                       1455544\n",
       "dtype: int64"
      ]
     },
     "execution_count": 21,
     "metadata": {},
     "output_type": "execute_result"
    }
   ],
   "source": [
    "df_temps.memory_usage(deep=True)"
   ]
  },
  {
   "cell_type": "code",
   "execution_count": 22,
   "id": "quantitative-status",
   "metadata": {},
   "outputs": [
    {
     "data": {
      "text/plain": [
       "32.749868"
      ]
     },
     "execution_count": 22,
     "metadata": {},
     "output_type": "execute_result"
    }
   ],
   "source": [
    "original_memory = df_temps.memory_usage(deep=True).sum() / 10**6"
   ]
  },
  {
   "cell_type": "code",
   "execution_count": 23,
   "id": "american-contact",
   "metadata": {},
   "outputs": [
    {
     "data": {
      "text/plain": [
       "0"
      ]
     },
     "execution_count": 23,
     "metadata": {},
     "output_type": "execute_result"
    }
   ],
   "source": [
    "df_temps.iloc[:,-1].count()"
   ]
  },
  {
   "cell_type": "code",
   "execution_count": 24,
   "id": "retired-trinidad",
   "metadata": {},
   "outputs": [],
   "source": [
    "df_temps.drop(labels=df_temps.columns[-1], axis=1, inplace=True)"
   ]
  },
  {
   "cell_type": "code",
   "execution_count": 25,
   "id": "australian-brooks",
   "metadata": {},
   "outputs": [
    {
     "name": "stdout",
     "output_type": "stream",
     "text": [
      "<class 'pandas.core.frame.DataFrame'>\n",
      "RangeIndex: 181943 entries, 0 to 181942\n",
      "Data columns (total 13 columns):\n",
      " #   Column                         Non-Null Count   Dtype  \n",
      "---  ------                         --------------   -----  \n",
      " 0   Date/Time (GMT)                181943 non-null  object \n",
      " 1   Number of Observations (n/a)   181943 non-null  int64  \n",
      " 2   Average Temp (F)               180938 non-null  float64\n",
      " 3   Max Temp (F)                   180938 non-null  float64\n",
      " 4   Min Temp (F)                   180938 non-null  float64\n",
      " 5   Average Dewpoint Temp (F)      180816 non-null  float64\n",
      " 6   1 Hour Precip (in)             30294 non-null   float64\n",
      " 7   Max Wind Gust (mph)            24708 non-null   float64\n",
      " 8   Average Relative Humidity (%)  177114 non-null  float64\n",
      " 9   Average Wind Speed (mph)       181394 non-null  float64\n",
      " 10  Average Station Pressure (mb)  181647 non-null  float64\n",
      " 11  Average Wind Direction (deg)   148822 non-null  float64\n",
      " 12  Max Wind Speed (mph)           181394 non-null  float64\n",
      "dtypes: float64(11), int64(1), object(1)\n",
      "memory usage: 18.0+ MB\n"
     ]
    }
   ],
   "source": [
    "df_temps.info()"
   ]
  },
  {
   "cell_type": "code",
   "execution_count": 26,
   "id": "first-beach",
   "metadata": {},
   "outputs": [
    {
     "data": {
      "text/plain": [
       "Date/Time (GMT)                       0\n",
       "Number of Observations (n/a)          0\n",
       "Average Temp (F)                   1005\n",
       "Max Temp (F)                       1005\n",
       "Min Temp (F)                       1005\n",
       "Average Dewpoint Temp (F)          1127\n",
       "1 Hour Precip (in)               151649\n",
       "Max Wind Gust (mph)              157235\n",
       "Average Relative Humidity (%)      4829\n",
       "Average Wind Speed (mph)            549\n",
       "Average Station Pressure (mb)       296\n",
       "Average Wind Direction (deg)      33121\n",
       "Max Wind Speed (mph)                549\n",
       "dtype: int64"
      ]
     },
     "execution_count": 26,
     "metadata": {},
     "output_type": "execute_result"
    }
   ],
   "source": [
    "df_temps.isna().sum()"
   ]
  },
  {
   "cell_type": "code",
   "execution_count": 28,
   "id": "particular-chocolate",
   "metadata": {},
   "outputs": [
    {
     "data": {
      "text/plain": [
       "Date/Time (GMT)                   0.000000\n",
       "Number of Observations (n/a)      0.000000\n",
       "Average Temp (F)                  0.285212\n",
       "Max Temp (F)                      0.285212\n",
       "Min Temp (F)                      0.285212\n",
       "Average Dewpoint Temp (F)         0.319834\n",
       "1 Hour Precip (in)               43.036865\n",
       "Max Wind Gust (mph)              44.622130\n",
       "Average Relative Humidity (%)     1.370434\n",
       "Average Wind Speed (mph)          0.155802\n",
       "Average Station Pressure (mb)     0.084003\n",
       "Average Wind Direction (deg)      9.399495\n",
       "Max Wind Speed (mph)              0.155802\n",
       "dtype: float64"
      ]
     },
     "execution_count": 28,
     "metadata": {},
     "output_type": "execute_result"
    }
   ],
   "source": [
    "(df_temps.isna().sum() / df_temps.isna().sum().sum()) * 100"
   ]
  },
  {
   "cell_type": "code",
   "execution_count": null,
   "id": "resistant-vienna",
   "metadata": {},
   "outputs": [],
   "source": []
  }
 ],
 "metadata": {
  "kernelspec": {
   "display_name": "Python 3",
   "language": "python",
   "name": "python3"
  },
  "language_info": {
   "codemirror_mode": {
    "name": "ipython",
    "version": 3
   },
   "file_extension": ".py",
   "mimetype": "text/x-python",
   "name": "python",
   "nbconvert_exporter": "python",
   "pygments_lexer": "ipython3",
   "version": "3.8.8"
  }
 },
 "nbformat": 4,
 "nbformat_minor": 5
}
