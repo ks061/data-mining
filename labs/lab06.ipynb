{
 "cells": [
  {
   "cell_type": "markdown",
   "id": "executive-illustration",
   "metadata": {},
   "source": [
    "# Lab 06 - Data preprocessing I\n",
    "\n",
    "Name: Kartikeya Sharma  \n",
    "Class: CSCI 349 - Intro to Data Mining  \n",
    "Semester: 2021SP  \n",
    "Instructor: Brian King  "
   ]
  },
  {
   "cell_type": "code",
   "execution_count": 1,
   "id": "nearby-knowing",
   "metadata": {},
   "outputs": [],
   "source": [
    "import numpy as np\n",
    "import pandas as pd\n",
    "import matplotlib as mpl\n",
    "import matplotlib.pyplot as plt\n",
    "import seaborn as sns"
   ]
  },
  {
   "cell_type": "markdown",
   "id": "authentic-judges",
   "metadata": {},
   "source": [
    "#### Data Importing) [M]<br/><br/>Penn State has an excellent public database of weather observations collected from a wide range of stations scattered throughout the state. Some of them go back to the 1940s. For this lab, we're going to explore one of those datasets – Williamsport, PA. <br/><br/>Go to the The Pennsylvania State Climatologist at http://climate.met.psu.edu From this page, find their page to download their data (Select Data à then Data Archive). Now you will select a \"network\". Select FAA Hourly data. You are going to investigate the weather observations Williamsport, PA, whose FAA code is KIPT. Select it.<br/><br/>On the next screen, enter the following:<br/><br/>• Start and End Dates: 2000-01-01 to 2020-12-31.<br/><br/>• Select EVERY attribute to download (from Date/Time, Number of observations... etc... right through MaxWind Speed).<br/><br/>• Output file type should be a CSV file<br/><br/>• Select Yes to include Metadata. (Metadata is information about data. This usually contains valuable information, and you almost always want to retain this information.)<br/><br/>Click **Submit**. Download the data (which will most likely place your data into your Downloads folder.) It'll be a longfilename. That's fine. I usually always add the suffix \"_raw\" to indicate this is the raw data that I'm working with from my source. Never lose track of your original dataset.<br/><br/>You are not done until you have a data file in your data directory (which should be at the same level as your labs directory.) If you placed the .csv file in the correct place, then your path should be:<br/><br/>*\"../data/faa_hourly-KIPT_20000101-20201231_raw.csv\"*"
   ]
  },
  {
   "cell_type": "markdown",
   "id": "checked-lancaster",
   "metadata": {},
   "source": [
    "Completed."
   ]
  },
  {
   "cell_type": "markdown",
   "id": "bacterial-scott",
   "metadata": {},
   "source": [
    "#### 1) [P] Use pandas to read in your CSV data file you downloaded above. (You should have placed in your data directory.) Call the data frame ```df_temps```. Read in the entire dataset, however, peek at the dataset first. You'll notice 16 rows of metadata. Ignore the first 16 rows (HINT: Use the ```skiprows=```option!)<br/><br/><u>NOTE</u>: ALWAYS BE SURE TO LOOK AT YOUR ACTUAL DATA BEFORE TRYING TO READ IN A RAW DATASET! JUST BECAUSE A DATASET HAS A .CSV EXTENSION DOES NOT MEAN THAT YOU CAN RELY ON EVERY ROW BEING A PROPERLY FORMATTED ROW! **For instance, notice that the header row is scattered throughout your data!** Notice that you have some extra columns at the end that are consistently empty! The inexperienced are tempted to manually edit the file to make it easy to read. NO. WRONG! BAD DATA SCIENTIST! Never change your raw data. <u>**Instead, write your Python cleaning code to always work with raw, uncleaned data.**</u> Why? In practice, your data file may be huge. You may need to repeatedly grab fresh data, that will only have the same issues. Do you really want to repeat your manual editing silliness every time you have a fresh file? No! **It may take a bit more work up front, but ALWAYS strive to write code to preprocess every aspect of your raw data file!** It will always save you work later!"
   ]
  },
  {
   "cell_type": "code",
   "execution_count": 2,
   "id": "stuffed-muslim",
   "metadata": {},
   "outputs": [],
   "source": [
    "df_temps = pd.read_csv(\n",
    "    \"../data/faa_hourly-KIPT_20000101-20201231_raw.csv\",\n",
    "    skiprows=25)"
   ]
  },
  {
   "cell_type": "markdown",
   "id": "plain-sunday",
   "metadata": {},
   "source": [
    "#### 2) Report the general structure of the data frame using ```df_temps.info()```. You should notice that almost every variable was read in as a plan object data type. You have a lot of work to do!<br/><br/>Your result should look as follows:<br/><br/>*output below matches output in assignment*"
   ]
  },
  {
   "cell_type": "code",
   "execution_count": 3,
   "id": "applied-execution",
   "metadata": {},
   "outputs": [
    {
     "name": "stdout",
     "output_type": "stream",
     "text": [
      "<class 'pandas.core.frame.DataFrame'>\n",
      "RangeIndex: 181943 entries, 0 to 181942\n",
      "Data columns (total 14 columns):\n",
      " #   Column                         Non-Null Count   Dtype  \n",
      "---  ------                         --------------   -----  \n",
      " 0   Date/Time (GMT)                181943 non-null  object \n",
      " 1   Number of Observations (n/a)   181943 non-null  int64  \n",
      " 2   Average Temp (F)               180938 non-null  float64\n",
      " 3   Max Temp (F)                   180938 non-null  float64\n",
      " 4   Min Temp (F)                   180938 non-null  float64\n",
      " 5   Average Dewpoint Temp (F)      180816 non-null  float64\n",
      " 6   1 Hour Precip (in)             30294 non-null   float64\n",
      " 7   Max Wind Gust (mph)            24708 non-null   float64\n",
      " 8   Average Relative Humidity (%)  177114 non-null  float64\n",
      " 9   Average Wind Speed (mph)       181394 non-null  float64\n",
      " 10  Average Station Pressure (mb)  181647 non-null  float64\n",
      " 11  Average Wind Direction (deg)   148822 non-null  float64\n",
      " 12  Max Wind Speed (mph)           181394 non-null  float64\n",
      " 13  Unnamed: 13                    0 non-null       float64\n",
      "dtypes: float64(12), int64(1), object(1)\n",
      "memory usage: 19.4+ MB\n"
     ]
    }
   ],
   "source": [
    "df_temps.info()"
   ]
  },
  {
   "cell_type": "markdown",
   "id": "adopted-gasoline",
   "metadata": {},
   "source": [
    "#### 3) [P] Read about the ```memory_usage()``` method of pandas data frames. Then, report the total memory in bytes for each variable of ```df_temps```. Set the parameter ```deep=True```, to get the most accurate assessment of your total memory usage. (NOTE – this could take a bit of time to return an answer.)"
   ]
  },
  {
   "cell_type": "code",
   "execution_count": 4,
   "id": "dutch-enforcement",
   "metadata": {},
   "outputs": [
    {
     "data": {
      "text/plain": [
       "Index                                 128\n",
       "Date/Time (GMT)                  13827668\n",
       "Number of Observations (n/a)      1455544\n",
       "Average Temp (F)                  1455544\n",
       "Max Temp (F)                      1455544\n",
       "Min Temp (F)                      1455544\n",
       "Average Dewpoint Temp (F)         1455544\n",
       "1 Hour Precip (in)                1455544\n",
       "Max Wind Gust (mph)               1455544\n",
       "Average Relative Humidity (%)     1455544\n",
       "Average Wind Speed (mph)          1455544\n",
       "Average Station Pressure (mb)     1455544\n",
       "Average Wind Direction (deg)      1455544\n",
       "Max Wind Speed (mph)              1455544\n",
       "Unnamed: 13                       1455544\n",
       "dtype: int64"
      ]
     },
     "metadata": {},
     "output_type": "display_data"
    }
   ],
   "source": [
    "df_temps_original_memory = df_temps.memory_usage(deep=True)\n",
    "\n",
    "display(df_temps_original_memory)"
   ]
  },
  {
   "cell_type": "markdown",
   "id": "south-fraction",
   "metadata": {},
   "source": [
    "#### 4) [P] Report the *total memory* required for the data frame in MB. (Just sum the previous answer.) You should get an answer showing over a hundred megabytes! Also, store the total as a variable called ```original_memory```. We're going to compare memory after we're done."
   ]
  },
  {
   "cell_type": "code",
   "execution_count": 5,
   "id": "quantitative-status",
   "metadata": {},
   "outputs": [
    {
     "name": "stdout",
     "output_type": "stream",
     "text": [
      "32.75 MB\n"
     ]
    }
   ],
   "source": [
    "# reported numbers printed to two decimal places for common usage\n",
    "\n",
    "original_memory = df_temps_original_memory.sum() / 10**6\n",
    "\n",
    "print(str(round(original_memory, 2)) + \" MB\")"
   ]
  },
  {
   "cell_type": "markdown",
   "id": "early-response",
   "metadata": {},
   "source": [
    "#### 5) [P] You have a rather annoying extra column that was read in in the last column position. (Look closely at the output of `info()` above!) You should always confirm that it's garbage before deleting it. Write the single line of code that reports the *count* of valid values in the last column (HINT: ```count()```)"
   ]
  },
  {
   "cell_type": "code",
   "execution_count": 6,
   "id": "american-contact",
   "metadata": {},
   "outputs": [
    {
     "data": {
      "text/plain": [
       "0"
      ]
     },
     "execution_count": 6,
     "metadata": {},
     "output_type": "execute_result"
    }
   ],
   "source": [
    "df_temps.iloc[:,-1].count()"
   ]
  },
  {
   "cell_type": "markdown",
   "id": "basic-member",
   "metadata": {},
   "source": [
    "#### 6) [P] Drop that last column from ```df_temps```."
   ]
  },
  {
   "cell_type": "code",
   "execution_count": 7,
   "id": "retired-trinidad",
   "metadata": {},
   "outputs": [],
   "source": [
    "df_temps.drop(labels=df_temps.columns[-1], axis=1, inplace=True)"
   ]
  },
  {
   "cell_type": "markdown",
   "id": "structured-quebec",
   "metadata": {},
   "source": [
    "#### 7) [M] Look over the data type column in the ```info()``` output. ALWAYS pay attention to the types of each variable. In particular, pay attention to the variables that are read in as \"```object```\" type. This implies that pandas did not have enough confidence to convert the type itself, and you need to do it. Are there any ```object``` types? If so what? What format are the data in that column(s)?"
   ]
  },
  {
   "cell_type": "markdown",
   "id": "appropriate-insulin",
   "metadata": {},
   "source": [
    "df_temps.info()"
   ]
  },
  {
   "cell_type": "markdown",
   "id": "boxed-causing",
   "metadata": {},
   "source": [
    "#### 8) [P] How many NaN values are in each variable? (NOTE: Leave the NaN fields alone! The fact that they are missing is IMPORTANT! And, leave the date/time variable in the first column alone.)"
   ]
  },
  {
   "cell_type": "code",
   "execution_count": 8,
   "id": "first-beach",
   "metadata": {},
   "outputs": [],
   "source": [
    "# parameters\n",
    "num_nan_per_col = df_temps.isna().sum()"
   ]
  },
  {
   "cell_type": "code",
   "execution_count": 9,
   "id": "northern-services",
   "metadata": {},
   "outputs": [
    {
     "data": {
      "text/plain": [
       "Date/Time (GMT)                       0\n",
       "Number of Observations (n/a)          0\n",
       "Average Temp (F)                   1005\n",
       "Max Temp (F)                       1005\n",
       "Min Temp (F)                       1005\n",
       "Average Dewpoint Temp (F)          1127\n",
       "1 Hour Precip (in)               151649\n",
       "Max Wind Gust (mph)              157235\n",
       "Average Relative Humidity (%)      4829\n",
       "Average Wind Speed (mph)            549\n",
       "Average Station Pressure (mb)       296\n",
       "Average Wind Direction (deg)      33121\n",
       "Max Wind Speed (mph)                549\n",
       "dtype: int64"
      ]
     },
     "metadata": {},
     "output_type": "display_data"
    }
   ],
   "source": [
    "display(num_nan_per_col)"
   ]
  },
  {
   "cell_type": "markdown",
   "id": "occasional-rogers",
   "metadata": {},
   "source": [
    "#### 9) [P] Report the NaN output as a percentage of the total number of values that are missing for each variable"
   ]
  },
  {
   "cell_type": "code",
   "execution_count": 10,
   "id": "acceptable-collector",
   "metadata": {},
   "outputs": [],
   "source": [
    "# parameters\n",
    "num_rows = df_temps.shape[0]"
   ]
  },
  {
   "cell_type": "code",
   "execution_count": 11,
   "id": "particular-chocolate",
   "metadata": {},
   "outputs": [
    {
     "name": "stdout",
     "output_type": "stream",
     "text": [
      "NaN output as % of total numberof values in each column/variable:\n"
     ]
    },
    {
     "data": {
      "text/plain": [
       "Date/Time (GMT)                   0.000000\n",
       "Number of Observations (n/a)      0.000000\n",
       "Average Temp (F)                  0.552371\n",
       "Max Temp (F)                      0.552371\n",
       "Min Temp (F)                      0.552371\n",
       "Average Dewpoint Temp (F)         0.619425\n",
       "1 Hour Precip (in)               83.349730\n",
       "Max Wind Gust (mph)              86.419923\n",
       "Average Relative Humidity (%)     2.654128\n",
       "Average Wind Speed (mph)          0.301743\n",
       "Average Station Pressure (mb)     0.162688\n",
       "Average Wind Direction (deg)     18.204053\n",
       "Max Wind Speed (mph)              0.301743\n",
       "dtype: float64"
      ]
     },
     "metadata": {},
     "output_type": "display_data"
    }
   ],
   "source": [
    "pct_nan_per_col = num_nan_per_col / num_rows * 100\n",
    "\n",
    "print(\"NaN output as % of total number\" +\\\n",
    "      \"of values in each column/variable:\")\n",
    "display(pct_nan_per_col)"
   ]
  },
  {
   "cell_type": "markdown",
   "id": "bulgarian-clark",
   "metadata": {},
   "source": [
    "#### 10) [PM] Report the number of observations that are complete, meaning, they have NO missing variable in the observation. Report this as a raw number and as a percentage of the total number of observations. Then, clearly state why this is NOT a problem to be concerned about for this particular dataset. (HINT: Which variable(s) contain most of the missing data and why?)"
   ]
  },
  {
   "cell_type": "code",
   "execution_count": 12,
   "id": "optional-martin",
   "metadata": {},
   "outputs": [],
   "source": [
    "# parameter(s)\n",
    "num_nan_rows = df_temps.isna().any(axis=1).sum()\n",
    "num_non_nan_rows = num_rows - num_nan_rows\n",
    "pct_non_nan_rows = num_non_nan_rows / num_rows * 100"
   ]
  },
  {
   "cell_type": "code",
   "execution_count": 13,
   "id": "standard-hamburg",
   "metadata": {},
   "outputs": [
    {
     "name": "stdout",
     "output_type": "stream",
     "text": [
      "KS: \n",
      "Observations complete, meaning, non-NAN/missing: 5552\n",
      "Percent of observations complete, etc.: 3.05%\n"
     ]
    }
   ],
   "source": [
    "print(\"KS: \")\n",
    "print(\"Observations complete, meaning, non-NAN/missing: \" + \\\n",
    "      str(num_non_nan_rows)\n",
    "     )\n",
    "\n",
    "print(\"Percent of observations complete, etc.: \" + \\\n",
    "      str(round(pct_non_nan_rows, 2)) + \\\n",
    "      \"%\"\n",
    "     )"
   ]
  },
  {
   "cell_type": "markdown",
   "id": "acoustic-penguin",
   "metadata": {},
   "source": [
    "1 Hour Precip (in) and Max Wind Gust (mph) contain most of the missing data because with regards to the former, there may be hours in which there is no preciptation, and with regards to the latter, the term 'gust' is used when wind speeds are above 10 to 15 knots, which is equivalent to about 11.51 mph to 17.26 mph, which also may only happen within the particularly windy hours.\n",
    "\n",
    "Sources: \n",
    "1. https://en.wikipedia.org/wiki/Wind_gust *(assuming that this is an acceptable source from what I have gathered about this course...)*"
   ]
  },
  {
   "cell_type": "markdown",
   "id": "artificial-deficit",
   "metadata": {},
   "source": [
    "#### 11) [P] Look over your data types. By default, most of the time pandas will convert your integer types to a 64-bit integer, and floating point types will use double precision numbers. You can do far better. Read over the ```pd.to_numeric()``` function. Did you notice the parameter called ```downcast```? Go back and read about this parameter. Downcast your types accordingly. Then look over the output of ```info()```, and report your latest memory usage in MB."
   ]
  },
  {
   "cell_type": "code",
   "execution_count": 14,
   "id": "recovered-indicator",
   "metadata": {},
   "outputs": [
    {
     "name": "stdout",
     "output_type": "stream",
     "text": [
      "<class 'pandas.core.frame.DataFrame'>\n",
      "RangeIndex: 181943 entries, 0 to 181942\n",
      "Data columns (total 13 columns):\n",
      " #   Column                         Non-Null Count   Dtype  \n",
      "---  ------                         --------------   -----  \n",
      " 0   Date/Time (GMT)                181943 non-null  object \n",
      " 1   Number of Observations (n/a)   181943 non-null  int8   \n",
      " 2   Average Temp (F)               180938 non-null  float32\n",
      " 3   Max Temp (F)                   180938 non-null  float32\n",
      " 4   Min Temp (F)                   180938 non-null  float32\n",
      " 5   Average Dewpoint Temp (F)      180816 non-null  float32\n",
      " 6   1 Hour Precip (in)             30294 non-null   float32\n",
      " 7   Max Wind Gust (mph)            24708 non-null   float32\n",
      " 8   Average Relative Humidity (%)  177114 non-null  float32\n",
      " 9   Average Wind Speed (mph)       181394 non-null  float32\n",
      " 10  Average Station Pressure (mb)  181647 non-null  float32\n",
      " 11  Average Wind Direction (deg)   148822 non-null  float32\n",
      " 12  Max Wind Speed (mph)           181394 non-null  float32\n",
      "dtypes: float32(11), int8(1), object(1)\n",
      "memory usage: 9.2+ MB\n"
     ]
    },
    {
     "data": {
      "text/plain": [
       "None"
      ]
     },
     "metadata": {},
     "output_type": "display_data"
    }
   ],
   "source": [
    "def _series_downcast_float_int(x):\n",
    "    if (x.dtype is np.dtype(float)):\n",
    "        return pd.to_numeric(x, downcast='float')\n",
    "    elif ((x.dtype is np.dtype(int))): \n",
    "        return pd.to_numeric(x, downcast='integer')\n",
    "    else: return x\n",
    "\n",
    "df_temps = df_temps.transform(_series_downcast_float_int)\n",
    "\n",
    "display(df_temps.info())"
   ]
  },
  {
   "cell_type": "markdown",
   "id": "derived-geography",
   "metadata": {},
   "source": [
    "#### 12) [P] How much did our memory footprint improve? (Show the total memory usage using deep=True). Report the total memory usage in MB, and report the percentage improvement."
   ]
  },
  {
   "cell_type": "code",
   "execution_count": 15,
   "id": "altered-press",
   "metadata": {},
   "outputs": [
    {
     "name": "stdout",
     "output_type": "stream",
     "text": [
      "improved total memory usage: 22.02 MB\n",
      "percentage improvement: 32.78%\n"
     ]
    }
   ],
   "source": [
    "# reported numbers printed to two decimal places for common usage\n",
    "\n",
    "df_temps_imprvmnt_memory = df_temps.memory_usage(deep=True)\n",
    "imprvmnt_memory = df_temps_imprvmnt_memory.sum() / 10**6\n",
    "print(\"improved total memory usage: \" + str(round(imprvmnt_memory, 2)) + \" MB\")\n",
    "\n",
    "\n",
    "pct_imprvmnt = 100 - (imprvmnt_memory / original_memory * 100)\n",
    "print(\"percentage improvement: \" + str(round(pct_imprvmnt, 2)) + \"%\")"
   ]
  },
  {
   "cell_type": "markdown",
   "id": "inappropriate-landscape",
   "metadata": {},
   "source": [
    "#### 13) [M] There are four primary classes in pandas for working with dates and times? Consider the Scalar Class for each, and state what concept each is representing. (Again, if you think you are going to be working with data in your future, make some good notes for yourself here!)"
   ]
  },
  {
   "cell_type": "markdown",
   "id": "realistic-difference",
   "metadata": {},
   "source": [
    "The four primary classes in pandas for working with dates and times are Timestamp, Timedelta, Period, and DateOffset.<sup>1</sup> The concept behind each is as follows:\n",
    "1. Timestamp: this class represents \"date times,\" which refers to a particular date and time at, if applicable, a particular timezone.<sup>1</sup> For example, the following creates a Timestamp object representing September 2, 2017 at 5:00 PM Eastern Standard Time: ```pandas.Timestamp(ts_input=\"09/02/2017 05:00:00\", tz=\"EST\")```.\n",
    "2. Timedelta: this class represents \"time deltas,\" which refers to a length of time (unsigned).<sup>2</sup> For example, ```pandas.Timedelta(days=1)``` represents a length of time of one day, which can be used to increment timestamps.\n",
    "3. Period: this class represents \"a span of time,\" which is defined by a particular time and a related frequency which describes what range of time that particular time encompasses.<sup>3</sup> For example, ```pandas.Period(\"2013-01\", freq=\"2M\")``` creates a two-month period including January 2013 and February 2013.\n",
    "4. DateOffset: this class represents \"a relative time duration that respects calendar arithmetic.\"<sup>1</sup> This essentially means that like Timedelta objects, it represents a length of time, but it also respects calendar rules that account for blips in date/time patterns; for example, a DateOffset object representing a day will increment a Timestamp to the identical time on the following day, regardless of whether the day might, in absolute terms, \"[represent]] 23, 24, or 25 hours due to daylight savings time.\"<sup>4</sup> For example, ```pandas.DateOffset(days=1)``` represents one calendar day, which can also be used to increment timestamps (though in accordance with 'calendar arithmetic rules').\n",
    "\n",
    "Sources:\n",
    "1. https://pandas.pydata.org/pandas-docs/stable/user_guide/timeseries.html#overview\n",
    "2. https://pandas.pydata.org/pandas-docs/stable/user_guide/timeseries.html#dateoffset-objects\n",
    "3. https://pandas.pydata.org/pandas-docs/stable/user_guide/timeseries.html#period\n",
    "4. https://pandas.pydata.org/pandas-docs/stable/user_guide/timeseries.html#dateoffset-objects"
   ]
  },
  {
   "cell_type": "code",
   "execution_count": 16,
   "id": "collected-classics",
   "metadata": {},
   "outputs": [
    {
     "data": {
      "text/plain": [
       "Timestamp('2017-09-02 05:00:00-0500', tz='EST')"
      ]
     },
     "metadata": {},
     "output_type": "display_data"
    },
    {
     "data": {
      "text/plain": [
       "Timedelta('1 days 00:00:00')"
      ]
     },
     "metadata": {},
     "output_type": "display_data"
    },
    {
     "data": {
      "text/plain": [
       "Period('2013-01', '2M')"
      ]
     },
     "metadata": {},
     "output_type": "display_data"
    },
    {
     "data": {
      "text/plain": [
       "<DateOffset: days=1>"
      ]
     },
     "metadata": {},
     "output_type": "display_data"
    }
   ],
   "source": [
    "# running examples from above\n",
    "\n",
    "display(pd.Timestamp(ts_input=\"09/02/2017 05:00:00\", tz=\"EST\"))\n",
    "display(pd.Timedelta(days=1))\n",
    "display(pd.Period(\"2013-01\", freq=\"2M\"))\n",
    "display(pd.DateOffset(days=1))"
   ]
  },
  {
   "cell_type": "markdown",
   "id": "welsh-leone",
   "metadata": {},
   "source": [
    "#### 14) [M] For each above, state the primary creation method used to create each type of data"
   ]
  },
  {
   "cell_type": "markdown",
   "id": "japanese-twins",
   "metadata": {},
   "source": [
    "The following are the primary creation method used to create each type of data is as follows:\n",
    "1. Timestamp: ```pandas.to_datetime``` to create a Timestamp object to represent a point in time (or ```pandas.date_range``` to create an index containing a collection of points in time, i.e. DatetimeIndex)<sup>1 2</sup>\n",
    "2. Timedelta: ```pandas.to_timedelta``` to create a Timedelta object to represent a length of time (or ```pandas.timedelta_range``` to create an index containing a collection of lengths of time, i.e. TimedeltaIndex)<sup>1 3</sup>\n",
    "3. Period: ```pandas.Period``` to create a Period object to represent a span of time, which is essentially the time and range of time that it encompasses (or ```pandas.period_range``` to create an index contaiing a collection of spans of time, i.e. PeriodIndex)<sup>1 4</sup>\n",
    "4. DateOffset: ```pandas.tseries.offsets.DateOffset``` to create a DateOffset object to represent a duration of time relativistically obeying specific rules concerning calendar arithmetic\n",
    "\n",
    "Sources:\n",
    "1. https://pandas.pydata.org/pandas-docs/stable/user_guide/timeseries.html#overview\n",
    "2. https://pandas.pydata.org/docs/reference/api/pandas.date_range.html\n",
    "3. https://pandas.pydata.org/docs/reference/api/pandas.timedelta_range.html\n",
    "4. https://pandas.pydata.org/docs/reference/api/pandas.period_range.html"
   ]
  },
  {
   "cell_type": "markdown",
   "id": "stupid-words",
   "metadata": {},
   "source": [
    "#### 15) [P] Create a ```Timestamp``` object from the string \"07/04/19\", which is a date representing July 4, 2019. Store the object as ```d1``` and show it."
   ]
  },
  {
   "cell_type": "code",
   "execution_count": 17,
   "id": "macro-olive",
   "metadata": {},
   "outputs": [
    {
     "data": {
      "text/plain": [
       "Timestamp('2019-07-04 00:00:00')"
      ]
     },
     "metadata": {},
     "output_type": "display_data"
    }
   ],
   "source": [
    "d1 = pd.Timestamp(\"07/04/19\")\n",
    "display(d1)"
   ]
  },
  {
   "cell_type": "markdown",
   "id": "personal-craft",
   "metadata": {},
   "source": [
    "#### 16) [P] Using ```d1``` and string formatting codes, print the string from ```d1```:<br/><br/>&emsp;&emsp;&emsp;&emsp;\"Today's date is Thursday, July 4, 2019\"."
   ]
  },
  {
   "cell_type": "code",
   "execution_count": 18,
   "id": "native-rochester",
   "metadata": {},
   "outputs": [
    {
     "name": "stdout",
     "output_type": "stream",
     "text": [
      "Today's date is Thursday, July 4, 2019\n"
     ]
    }
   ],
   "source": [
    "# Reference: https://docs.python.org/3/library/datetime.html#strftime-and-strptime-behavior\n",
    "print(\"Today's date is {}\".format(d1.strftime(\"%A, %B %-d, %Y\")))"
   ]
  },
  {
   "cell_type": "markdown",
   "id": "changing-robertson",
   "metadata": {},
   "source": [
    "#### 17) [P] Create another Timestamp object representing Sept 7, 2019 at 3pm, called ```d2```. Report it"
   ]
  },
  {
   "cell_type": "code",
   "execution_count": 19,
   "id": "entire-designation",
   "metadata": {},
   "outputs": [
    {
     "data": {
      "text/plain": [
       "Timestamp('2019-09-07 15:00:00')"
      ]
     },
     "metadata": {},
     "output_type": "display_data"
    }
   ],
   "source": [
    "d2 = pd.Timestamp(\"Sept 7, 2019 at 3pm\")\n",
    "display(d2)"
   ]
  },
  {
   "cell_type": "markdown",
   "id": "occupational-washington",
   "metadata": {},
   "source": [
    "#### 18) [P] Subtract ```d2 – d1```, and report the difference as the number of days and seconds between these two. Also report the difference as total seconds. (NOTE: The difference should be 65 days, 54000 seconds. Or 5670000 total seconds.)"
   ]
  },
  {
   "cell_type": "code",
   "execution_count": 20,
   "id": "controlling-packing",
   "metadata": {},
   "outputs": [
    {
     "name": "stdout",
     "output_type": "stream",
     "text": [
      "65 days, 54000 seconds\n",
      "5670000 total seconds\n"
     ]
    }
   ],
   "source": [
    "diff = d2 - d1\n",
    "print(str(diff.days) + \" days, \" + \\\n",
    "      str(diff.seconds) + \" seconds\")\n",
    "print(str(round(diff.total_seconds())) + \" total seconds\")"
   ]
  },
  {
   "cell_type": "markdown",
   "id": "blind-crowd",
   "metadata": {},
   "source": [
    "#### 19) [P] Create a new Timestamp object from the string \"2019-07-01 08:30pm\", but localize the timestamp to represent the time in the US Eastern Time Zone. Store the result as ```d3`` and output it.\""
   ]
  },
  {
   "cell_type": "code",
   "execution_count": 21,
   "id": "charged-baker",
   "metadata": {},
   "outputs": [
    {
     "data": {
      "text/plain": [
       "Timestamp('2019-07-01 20:30:00-0400', tz='US/Eastern')"
      ]
     },
     "metadata": {},
     "output_type": "display_data"
    }
   ],
   "source": [
    "d3 = pd.Timestamp(\"2019-07-01 8:30pm\", tz=\"US/Eastern\")\n",
    "display(d3)"
   ]
  },
  {
   "cell_type": "markdown",
   "id": "urban-thomas",
   "metadata": {},
   "source": [
    "#### 20) [P] Show time represented by ```d3```, but converted to the US / Pacific Time Zone. The time reported should be three hours earlier than EST shown in the previous question."
   ]
  },
  {
   "cell_type": "code",
   "execution_count": 22,
   "id": "burning-sound",
   "metadata": {},
   "outputs": [
    {
     "data": {
      "text/plain": [
       "Timestamp('2019-07-01 17:30:00-0700', tz='US/Pacific')"
      ]
     },
     "metadata": {},
     "output_type": "display_data"
    }
   ],
   "source": [
    "display(d3.tz_convert(\"US/Pacific\"))"
   ]
  },
  {
   "cell_type": "markdown",
   "id": "expensive-protocol",
   "metadata": {},
   "source": [
    "#### 21) [P] Create a Timestamp object representing right now, stored as ```ts_now```. Show the result."
   ]
  },
  {
   "cell_type": "code",
   "execution_count": 23,
   "id": "generic-burner",
   "metadata": {},
   "outputs": [
    {
     "data": {
      "text/plain": [
       "Timestamp('2021-05-01 11:13:50.412964')"
      ]
     },
     "metadata": {},
     "output_type": "display_data"
    }
   ],
   "source": [
    "# because problem did not specify time zone, will not include it\n",
    "ts_now = pd.Timestamp.now()\n",
    "display(ts_now)"
   ]
  },
  {
   "cell_type": "markdown",
   "id": "traditional-tradition",
   "metadata": {},
   "source": [
    "#### 22) [P] Create a Timedelta object representing 1 hour, stored as ```td_hour```. Show the result."
   ]
  },
  {
   "cell_type": "code",
   "execution_count": 24,
   "id": "novel-treasurer",
   "metadata": {},
   "outputs": [
    {
     "data": {
      "text/plain": [
       "Timedelta('0 days 01:00:00')"
      ]
     },
     "metadata": {},
     "output_type": "display_data"
    }
   ],
   "source": [
    "td_hour = pd.Timedelta(\"1 hour\")\n",
    "display(td_hour)"
   ]
  },
  {
   "cell_type": "markdown",
   "id": "elect-twist",
   "metadata": {},
   "source": [
    "#### 23) [P] Demonstrate how you can do basic mathematical operations by adding 6 hours to ```ts_now``` using ```td_hour``` and basic math operations. (i.e. No loops or further calculations necessary!)"
   ]
  },
  {
   "cell_type": "code",
   "execution_count": 25,
   "id": "established-albany",
   "metadata": {},
   "outputs": [
    {
     "data": {
      "text/plain": [
       "Timestamp('2021-05-01 17:13:50.412964')"
      ]
     },
     "metadata": {},
     "output_type": "display_data"
    }
   ],
   "source": [
    "display(ts_now + 6 * td_hour)"
   ]
  },
  {
   "cell_type": "markdown",
   "id": "super-supervision",
   "metadata": {},
   "source": [
    "#### 24) [P] Create a ```DatetimeIndex``` object that represents every hour during the month of January, 2021. The first index should be midnight, January 1, 2021, and the last index should be January 31, 2021 at 11pm. Store the object as ```dr```. (HINT – use the ```pd.date_range()``` method!)"
   ]
  },
  {
   "cell_type": "code",
   "execution_count": 26,
   "id": "molecular-firewall",
   "metadata": {},
   "outputs": [
    {
     "data": {
      "text/plain": [
       "DatetimeIndex(['2021-01-01 00:00:00', '2021-01-01 01:00:00',\n",
       "               '2021-01-01 02:00:00', '2021-01-01 03:00:00',\n",
       "               '2021-01-01 04:00:00', '2021-01-01 05:00:00',\n",
       "               '2021-01-01 06:00:00', '2021-01-01 07:00:00',\n",
       "               '2021-01-01 08:00:00', '2021-01-01 09:00:00',\n",
       "               ...\n",
       "               '2021-01-31 14:00:00', '2021-01-31 15:00:00',\n",
       "               '2021-01-31 16:00:00', '2021-01-31 17:00:00',\n",
       "               '2021-01-31 18:00:00', '2021-01-31 19:00:00',\n",
       "               '2021-01-31 20:00:00', '2021-01-31 21:00:00',\n",
       "               '2021-01-31 22:00:00', '2021-01-31 23:00:00'],\n",
       "              dtype='datetime64[ns]', length=744, freq='H')"
      ]
     },
     "metadata": {},
     "output_type": "display_data"
    }
   ],
   "source": [
    "dr = pd.date_range(start=\"January 1 2021 12am\", \n",
    "                   end=\"January 31, 2021 11pm\", \n",
    "                   freq=\"H\")\n",
    "display(dr)"
   ]
  },
  {
   "cell_type": "markdown",
   "id": "federal-bottom",
   "metadata": {},
   "source": [
    "#### 25) [P] The first variable in our data is currently an object. But, notice the name and its units? It's a date/time in the GMT time zone! Convert the first column of data into an actual time stamp.<br/><br/>NOTE: You can NOT simply generate this column using your own date range object! You must generate it directly from the actual time/date stamp in the data! Why? This is very important. Do NOT ever be fooled into thinking any real-world dataset you are dealing with is 100% complete. There are missing observations in these data, and your data will be massively flawed if you neglect this! If you simply try to use a date range between 1/1 – 12/31, with every hour, you are making an incorrect assumption that every observation is present.<br/><br/>(HINT: Go back to your reference table. You are creating an array of timestamps. Which function? Either ```to_datetime``` or ```date_range```. We already told you that date_range is wrong!)"
   ]
  },
  {
   "cell_type": "code",
   "execution_count": 27,
   "id": "injured-anger",
   "metadata": {},
   "outputs": [],
   "source": [
    "# parameters used in this problem and perhaps subsequent one(s)\n",
    "df_temps_date_time_col_label = \"Date/Time (GMT)\""
   ]
  },
  {
   "cell_type": "code",
   "execution_count": 28,
   "id": "composed-wrong",
   "metadata": {},
   "outputs": [],
   "source": [
    "df_temps.loc[\n",
    "    :, df_temps_date_time_col_label] = pd.to_datetime(\n",
    "    df_temps.loc[\n",
    "        :, df_temps_date_time_col_label]).dt.tz_localize(\n",
    "    tz='GMT')"
   ]
  },
  {
   "cell_type": "markdown",
   "id": "allied-fisher",
   "metadata": {},
   "source": [
    "#### 26) [P] Confirm that your first column data type is now a timestamp by showing the output of ```df_temps.info()```. (It should show that it is ```datetime64```, to be exact) . Then, show the values of the first column of the first AND last row only. Your result should look like:<br/><br/>```0      2000-01-01 00:00:00```<br/><br/>```181942 2020-12-31 23:00:00```"
   ]
  },
  {
   "cell_type": "code",
   "execution_count": 29,
   "id": "australian-magnet",
   "metadata": {},
   "outputs": [
    {
     "name": "stdout",
     "output_type": "stream",
     "text": [
      "<class 'pandas.core.frame.DataFrame'>\n",
      "RangeIndex: 181943 entries, 0 to 181942\n",
      "Data columns (total 13 columns):\n",
      " #   Column                         Non-Null Count   Dtype              \n",
      "---  ------                         --------------   -----              \n",
      " 0   Date/Time (GMT)                181943 non-null  datetime64[ns, GMT]\n",
      " 1   Number of Observations (n/a)   181943 non-null  int8               \n",
      " 2   Average Temp (F)               180938 non-null  float32            \n",
      " 3   Max Temp (F)                   180938 non-null  float32            \n",
      " 4   Min Temp (F)                   180938 non-null  float32            \n",
      " 5   Average Dewpoint Temp (F)      180816 non-null  float32            \n",
      " 6   1 Hour Precip (in)             30294 non-null   float32            \n",
      " 7   Max Wind Gust (mph)            24708 non-null   float32            \n",
      " 8   Average Relative Humidity (%)  177114 non-null  float32            \n",
      " 9   Average Wind Speed (mph)       181394 non-null  float32            \n",
      " 10  Average Station Pressure (mb)  181647 non-null  float32            \n",
      " 11  Average Wind Direction (deg)   148822 non-null  float32            \n",
      " 12  Max Wind Speed (mph)           181394 non-null  float32            \n",
      "dtypes: datetime64[ns, GMT](1), float32(11), int8(1)\n",
      "memory usage: 9.2 MB\n"
     ]
    }
   ],
   "source": [
    "df_temps.info()"
   ]
  },
  {
   "cell_type": "code",
   "execution_count": 30,
   "id": "moral-component",
   "metadata": {},
   "outputs": [],
   "source": [
    "# parameters used in this problem and perhaps subsequent one(s)\n",
    "df_temps_date_time_col = df_temps[df_temps_date_time_col_label]"
   ]
  },
  {
   "cell_type": "code",
   "execution_count": 31,
   "id": "sound-cornell",
   "metadata": {},
   "outputs": [
    {
     "data": {
      "text/plain": [
       "0        2000-01-01 00:00:00+00:00\n",
       "181942   2020-12-31 23:00:00+00:00\n",
       "Name: Date/Time (GMT), dtype: datetime64[ns, GMT]"
      ]
     },
     "metadata": {},
     "output_type": "display_data"
    }
   ],
   "source": [
    "display(df_temps_date_time_col.iloc[[0, -1]])"
   ]
  },
  {
   "cell_type": "markdown",
   "id": "terminal-maine",
   "metadata": {},
   "source": [
    "#### 27) [P] Finally, let's move that first column to be the new index for your dataframe. Use the ```set_index``` method of of ```df_temps``` to be the first column of data, then use the ```drop``` method to eliminate the first column. It is now your index, and thus there is no need to keep this information twice."
   ]
  },
  {
   "cell_type": "code",
   "execution_count": 32,
   "id": "suffering-assumption",
   "metadata": {},
   "outputs": [],
   "source": [
    "df_temps.set_index(\n",
    "    df_temps_date_time_col, \n",
    "    inplace=True)\n",
    "df_temps.drop(\n",
    "    labels=df_temps_date_time_col_label,\n",
    "    axis=1,\n",
    "    inplace=True\n",
    ")"
   ]
  },
  {
   "cell_type": "markdown",
   "id": "guilty-indicator",
   "metadata": {},
   "source": [
    "#### 28) [P] Give one final report on the total memory usage, and also show the % memory reduction made compared to when you first loaded the data.<br/><br/>Again, please take this seriously. This is a substantial amount of memory saved! Why? Because you took the time to properly process every column to have it represent its most accurate type, using the smallest type necessary. HUGE savings!"
   ]
  },
  {
   "cell_type": "code",
   "execution_count": 33,
   "id": "maritime-declaration",
   "metadata": {},
   "outputs": [
    {
     "name": "stdout",
     "output_type": "stream",
     "text": [
      "total memory usage: 9.64 MB\n",
      "(final) percentage improvement: 70.56 %\n"
     ]
    }
   ],
   "source": [
    "# rounding to two decimal places for readability\n",
    "final_memory = df_temps.memory_usage(deep=True).sum() / 10**6\n",
    "print(\"total memory usage: \" + \\\n",
    "      str(round(final_memory, 2)) +\\\n",
    "      \" MB\")\n",
    "\n",
    "pct_imprvmnt_final = 100 - (final_memory / original_memory * 100)\n",
    "print(\"(final) percentage improvement: \" + \\\n",
    "      str(round(pct_imprvmnt_final, 2)) + \\\n",
    "      \" %\")"
   ]
  },
  {
   "cell_type": "markdown",
   "id": "framed-nickname",
   "metadata": {},
   "source": [
    "#### 29) [P] This dataset has missing observations. But, how many? First, calculate how many observations SHOULD be there. Use the difference between the first and last index value to compute this.<br/><br/>(HINT: You should have well over 2000 missing hourly observations.)"
   ]
  },
  {
   "cell_type": "code",
   "execution_count": 34,
   "id": "proprietary-killing",
   "metadata": {},
   "outputs": [],
   "source": [
    "# parameters\n",
    "df_temps_start_time = df_temps.index[0]\n",
    "df_temps_end_time = df_temps.index[-1]\n",
    "num_observations_expected = round(\n",
    "    (df_temps_end_time - df_temps_start_time) / \\\n",
    "    pd.Timedelta(\"1 hour\") + \\\n",
    "    1)\n",
    "num_observations_actual = df_temps.shape[0]\n",
    "if num_observations_expected > num_observations_actual:\n",
    "    num_observations_missing = num_observations_expected - \\\n",
    "    num_observations_actual"
   ]
  },
  {
   "cell_type": "code",
   "execution_count": 35,
   "id": "liquid-niger",
   "metadata": {},
   "outputs": [
    {
     "name": "stdout",
     "output_type": "stream",
     "text": [
      "number of observations that should be there (expected): 184104\n",
      "number of observations that are there (actual): 181943\n",
      "number of observations that are missing: 2161\n"
     ]
    }
   ],
   "source": [
    "\n",
    "print(\"number of observations that \" + \\\n",
    "      \"should be there (expected): \" + \\\n",
    "      str(num_observations_expected))\n",
    "\n",
    "num_observations_actual = len(df_temps.index.values)\n",
    "print(\"number of observations that are there (actual): \" + \\\n",
    "      str(num_observations_actual))\n",
    "\n",
    "try:\n",
    "    print(\"number of observations that are missing: \" + \\\n",
    "          str(num_observations_missing))\n",
    "except:\n",
    "    raise"
   ]
  },
  {
   "cell_type": "markdown",
   "id": "arabic-agenda",
   "metadata": {},
   "source": [
    "#### 30) [P] There are quite a lot! It's time to investigate. Create a data frame called ```df_missing``` that has an index of the time stamp of every missing date, with a simple variable called \"missing\" that has a value of 1 for every entry. (i.e. it should only contain the missing dates.) Report the number of rows in ```df_missing```. It should match the number you computed previously."
   ]
  },
  {
   "cell_type": "code",
   "execution_count": 36,
   "id": "stopped-pakistan",
   "metadata": {},
   "outputs": [
    {
     "name": "stdout",
     "output_type": "stream",
     "text": [
      "number of rows in df_missing: 2161\n"
     ]
    }
   ],
   "source": [
    "data_date_time_index = df_temps.index\n",
    "complete_date_time_index = pd.date_range(\n",
    "    start=df_temps_start_time, \n",
    "    end=df_temps_end_time,\n",
    "    freq=\"H\")\n",
    "difference_date_time = complete_date_time_index.difference(data_date_time_index)\n",
    "df_missing = pd.DataFrame({\"missing\": 1}, index=difference_date_time)\n",
    "df_missing_num_rows = df_missing.shape[0]\n",
    "print(\"number of rows in df_missing: \" + str(df_missing_num_rows))"
   ]
  },
  {
   "cell_type": "markdown",
   "id": "unexpected-mouth",
   "metadata": {},
   "source": [
    "#### 31) [P] Let's get a sense of which years seem to be missing the most dates. How? Well, the easiest approach is probably to use the ```resample()``` method of data frames. Check out this section: https://pandas.pydata.org/pandas-docs/stable/user_guide/timeseries.html#resampling . This method works phenomenally well for grouping and aggregating your data when you have a datetime index type!<br/><br/>We're going to resample our data by year, and perform a count aggregation all in one line:<br/><br/>Enter the following:<br/><br/>```df_missing_by_year = df_missing.resample('Y').count()```<br/><br/>There are many, many ways you can resample your data. You need to jump over to the options for dateoffset objects. The letter codes are specified there:<br/><br/>https://pandas.pydata.org/pandas-docs/stable/user_guide/timeseries.html#dateoffset-objects<br/><br/>Show the result of ```df_missing_by_year```<br/><br/>(HINT: The first five rows of your new data frame should look as follows:<br/><br/>&emsp;&emsp;*output below matches the one in the assignment*"
   ]
  },
  {
   "cell_type": "code",
   "execution_count": 37,
   "id": "cooked-conservative",
   "metadata": {},
   "outputs": [
    {
     "data": {
      "text/html": [
       "<div>\n",
       "<style scoped>\n",
       "    .dataframe tbody tr th:only-of-type {\n",
       "        vertical-align: middle;\n",
       "    }\n",
       "\n",
       "    .dataframe tbody tr th {\n",
       "        vertical-align: top;\n",
       "    }\n",
       "\n",
       "    .dataframe thead th {\n",
       "        text-align: right;\n",
       "    }\n",
       "</style>\n",
       "<table border=\"1\" class=\"dataframe\">\n",
       "  <thead>\n",
       "    <tr style=\"text-align: right;\">\n",
       "      <th></th>\n",
       "      <th>missing</th>\n",
       "    </tr>\n",
       "  </thead>\n",
       "  <tbody>\n",
       "    <tr>\n",
       "      <th>2000-12-31 00:00:00+00:00</th>\n",
       "      <td>792</td>\n",
       "    </tr>\n",
       "    <tr>\n",
       "      <th>2001-12-31 00:00:00+00:00</th>\n",
       "      <td>54</td>\n",
       "    </tr>\n",
       "    <tr>\n",
       "      <th>2002-12-31 00:00:00+00:00</th>\n",
       "      <td>30</td>\n",
       "    </tr>\n",
       "    <tr>\n",
       "      <th>2003-12-31 00:00:00+00:00</th>\n",
       "      <td>39</td>\n",
       "    </tr>\n",
       "    <tr>\n",
       "      <th>2004-12-31 00:00:00+00:00</th>\n",
       "      <td>72</td>\n",
       "    </tr>\n",
       "    <tr>\n",
       "      <th>2005-12-31 00:00:00+00:00</th>\n",
       "      <td>119</td>\n",
       "    </tr>\n",
       "    <tr>\n",
       "      <th>2006-12-31 00:00:00+00:00</th>\n",
       "      <td>32</td>\n",
       "    </tr>\n",
       "    <tr>\n",
       "      <th>2007-12-31 00:00:00+00:00</th>\n",
       "      <td>64</td>\n",
       "    </tr>\n",
       "    <tr>\n",
       "      <th>2008-12-31 00:00:00+00:00</th>\n",
       "      <td>193</td>\n",
       "    </tr>\n",
       "    <tr>\n",
       "      <th>2009-12-31 00:00:00+00:00</th>\n",
       "      <td>82</td>\n",
       "    </tr>\n",
       "    <tr>\n",
       "      <th>2010-12-31 00:00:00+00:00</th>\n",
       "      <td>40</td>\n",
       "    </tr>\n",
       "    <tr>\n",
       "      <th>2011-12-31 00:00:00+00:00</th>\n",
       "      <td>32</td>\n",
       "    </tr>\n",
       "    <tr>\n",
       "      <th>2012-12-31 00:00:00+00:00</th>\n",
       "      <td>152</td>\n",
       "    </tr>\n",
       "    <tr>\n",
       "      <th>2013-12-31 00:00:00+00:00</th>\n",
       "      <td>45</td>\n",
       "    </tr>\n",
       "    <tr>\n",
       "      <th>2014-12-31 00:00:00+00:00</th>\n",
       "      <td>38</td>\n",
       "    </tr>\n",
       "    <tr>\n",
       "      <th>2015-12-31 00:00:00+00:00</th>\n",
       "      <td>37</td>\n",
       "    </tr>\n",
       "    <tr>\n",
       "      <th>2016-12-31 00:00:00+00:00</th>\n",
       "      <td>27</td>\n",
       "    </tr>\n",
       "    <tr>\n",
       "      <th>2017-12-31 00:00:00+00:00</th>\n",
       "      <td>119</td>\n",
       "    </tr>\n",
       "    <tr>\n",
       "      <th>2018-12-31 00:00:00+00:00</th>\n",
       "      <td>67</td>\n",
       "    </tr>\n",
       "    <tr>\n",
       "      <th>2019-12-31 00:00:00+00:00</th>\n",
       "      <td>34</td>\n",
       "    </tr>\n",
       "    <tr>\n",
       "      <th>2020-12-31 00:00:00+00:00</th>\n",
       "      <td>93</td>\n",
       "    </tr>\n",
       "  </tbody>\n",
       "</table>\n",
       "</div>"
      ],
      "text/plain": [
       "                           missing\n",
       "2000-12-31 00:00:00+00:00      792\n",
       "2001-12-31 00:00:00+00:00       54\n",
       "2002-12-31 00:00:00+00:00       30\n",
       "2003-12-31 00:00:00+00:00       39\n",
       "2004-12-31 00:00:00+00:00       72\n",
       "2005-12-31 00:00:00+00:00      119\n",
       "2006-12-31 00:00:00+00:00       32\n",
       "2007-12-31 00:00:00+00:00       64\n",
       "2008-12-31 00:00:00+00:00      193\n",
       "2009-12-31 00:00:00+00:00       82\n",
       "2010-12-31 00:00:00+00:00       40\n",
       "2011-12-31 00:00:00+00:00       32\n",
       "2012-12-31 00:00:00+00:00      152\n",
       "2013-12-31 00:00:00+00:00       45\n",
       "2014-12-31 00:00:00+00:00       38\n",
       "2015-12-31 00:00:00+00:00       37\n",
       "2016-12-31 00:00:00+00:00       27\n",
       "2017-12-31 00:00:00+00:00      119\n",
       "2018-12-31 00:00:00+00:00       67\n",
       "2019-12-31 00:00:00+00:00       34\n",
       "2020-12-31 00:00:00+00:00       93"
      ]
     },
     "metadata": {},
     "output_type": "display_data"
    }
   ],
   "source": [
    "df_missing_by_year = df_missing.resample('Y').count()\n",
    "\n",
    "display(df_missing_by_year)"
   ]
  },
  {
   "cell_type": "markdown",
   "id": "listed-subscriber",
   "metadata": {},
   "source": [
    "#### 32) [P] You can see that pretty much every year has missing data. Not uncommon. However, one year in particular is really bad. Which one? Write the code to eliminate that entire year from ```df_temps```."
   ]
  },
  {
   "cell_type": "code",
   "execution_count": 38,
   "id": "distinct-activity",
   "metadata": {},
   "outputs": [],
   "source": [
    "most_missing_year_index = df_missing_by_year[\"missing\"].idxmax().year"
   ]
  },
  {
   "cell_type": "code",
   "execution_count": 39,
   "id": "integral-solomon",
   "metadata": {},
   "outputs": [
    {
     "data": {
      "text/html": [
       "<div>\n",
       "<style scoped>\n",
       "    .dataframe tbody tr th:only-of-type {\n",
       "        vertical-align: middle;\n",
       "    }\n",
       "\n",
       "    .dataframe tbody tr th {\n",
       "        vertical-align: top;\n",
       "    }\n",
       "\n",
       "    .dataframe thead th {\n",
       "        text-align: right;\n",
       "    }\n",
       "</style>\n",
       "<table border=\"1\" class=\"dataframe\">\n",
       "  <thead>\n",
       "    <tr style=\"text-align: right;\">\n",
       "      <th></th>\n",
       "      <th>Number of Observations (n/a)</th>\n",
       "      <th>Average Temp (F)</th>\n",
       "      <th>Max Temp (F)</th>\n",
       "      <th>Min Temp (F)</th>\n",
       "      <th>Average Dewpoint Temp (F)</th>\n",
       "      <th>1 Hour Precip (in)</th>\n",
       "      <th>Max Wind Gust (mph)</th>\n",
       "      <th>Average Relative Humidity (%)</th>\n",
       "      <th>Average Wind Speed (mph)</th>\n",
       "      <th>Average Station Pressure (mb)</th>\n",
       "      <th>Average Wind Direction (deg)</th>\n",
       "      <th>Max Wind Speed (mph)</th>\n",
       "    </tr>\n",
       "    <tr>\n",
       "      <th>Date/Time (GMT)</th>\n",
       "      <th></th>\n",
       "      <th></th>\n",
       "      <th></th>\n",
       "      <th></th>\n",
       "      <th></th>\n",
       "      <th></th>\n",
       "      <th></th>\n",
       "      <th></th>\n",
       "      <th></th>\n",
       "      <th></th>\n",
       "      <th></th>\n",
       "      <th></th>\n",
       "    </tr>\n",
       "  </thead>\n",
       "  <tbody>\n",
       "    <tr>\n",
       "      <th>2001-01-01 00:00:00+00:00</th>\n",
       "      <td>1</td>\n",
       "      <td>21.000000</td>\n",
       "      <td>21.000000</td>\n",
       "      <td>21.0</td>\n",
       "      <td>6.1</td>\n",
       "      <td>NaN</td>\n",
       "      <td>NaN</td>\n",
       "      <td>51.0</td>\n",
       "      <td>12.7</td>\n",
       "      <td>1019.000000</td>\n",
       "      <td>270.000000</td>\n",
       "      <td>12.7</td>\n",
       "    </tr>\n",
       "    <tr>\n",
       "      <th>2001-01-01 01:00:00+00:00</th>\n",
       "      <td>1</td>\n",
       "      <td>19.900000</td>\n",
       "      <td>19.900000</td>\n",
       "      <td>19.9</td>\n",
       "      <td>7.0</td>\n",
       "      <td>NaN</td>\n",
       "      <td>NaN</td>\n",
       "      <td>56.0</td>\n",
       "      <td>10.4</td>\n",
       "      <td>1019.000000</td>\n",
       "      <td>270.000000</td>\n",
       "      <td>10.4</td>\n",
       "    </tr>\n",
       "    <tr>\n",
       "      <th>2001-01-01 02:00:00+00:00</th>\n",
       "      <td>1</td>\n",
       "      <td>19.000000</td>\n",
       "      <td>19.000000</td>\n",
       "      <td>19.0</td>\n",
       "      <td>7.0</td>\n",
       "      <td>NaN</td>\n",
       "      <td>NaN</td>\n",
       "      <td>58.0</td>\n",
       "      <td>16.1</td>\n",
       "      <td>1019.000000</td>\n",
       "      <td>270.000000</td>\n",
       "      <td>16.1</td>\n",
       "    </tr>\n",
       "    <tr>\n",
       "      <th>2001-01-01 03:00:00+00:00</th>\n",
       "      <td>1</td>\n",
       "      <td>19.000000</td>\n",
       "      <td>19.000000</td>\n",
       "      <td>19.0</td>\n",
       "      <td>7.0</td>\n",
       "      <td>NaN</td>\n",
       "      <td>NaN</td>\n",
       "      <td>58.0</td>\n",
       "      <td>15.0</td>\n",
       "      <td>1018.599976</td>\n",
       "      <td>260.000000</td>\n",
       "      <td>15.0</td>\n",
       "    </tr>\n",
       "    <tr>\n",
       "      <th>2001-01-01 04:00:00+00:00</th>\n",
       "      <td>1</td>\n",
       "      <td>19.000000</td>\n",
       "      <td>19.000000</td>\n",
       "      <td>19.0</td>\n",
       "      <td>6.1</td>\n",
       "      <td>NaN</td>\n",
       "      <td>NaN</td>\n",
       "      <td>56.0</td>\n",
       "      <td>16.1</td>\n",
       "      <td>1018.599976</td>\n",
       "      <td>280.000000</td>\n",
       "      <td>16.1</td>\n",
       "    </tr>\n",
       "    <tr>\n",
       "      <th>...</th>\n",
       "      <td>...</td>\n",
       "      <td>...</td>\n",
       "      <td>...</td>\n",
       "      <td>...</td>\n",
       "      <td>...</td>\n",
       "      <td>...</td>\n",
       "      <td>...</td>\n",
       "      <td>...</td>\n",
       "      <td>...</td>\n",
       "      <td>...</td>\n",
       "      <td>...</td>\n",
       "      <td>...</td>\n",
       "    </tr>\n",
       "    <tr>\n",
       "      <th>2020-12-31 19:00:00+00:00</th>\n",
       "      <td>3</td>\n",
       "      <td>37.599998</td>\n",
       "      <td>37.900002</td>\n",
       "      <td>37.0</td>\n",
       "      <td>27.0</td>\n",
       "      <td>NaN</td>\n",
       "      <td>NaN</td>\n",
       "      <td>65.0</td>\n",
       "      <td>7.7</td>\n",
       "      <td>1023.400024</td>\n",
       "      <td>303.329987</td>\n",
       "      <td>10.4</td>\n",
       "    </tr>\n",
       "    <tr>\n",
       "      <th>2020-12-31 20:00:00+00:00</th>\n",
       "      <td>1</td>\n",
       "      <td>37.000000</td>\n",
       "      <td>37.000000</td>\n",
       "      <td>37.0</td>\n",
       "      <td>26.1</td>\n",
       "      <td>NaN</td>\n",
       "      <td>NaN</td>\n",
       "      <td>64.0</td>\n",
       "      <td>5.8</td>\n",
       "      <td>1024.699951</td>\n",
       "      <td>330.000000</td>\n",
       "      <td>5.8</td>\n",
       "    </tr>\n",
       "    <tr>\n",
       "      <th>2020-12-31 21:00:00+00:00</th>\n",
       "      <td>1</td>\n",
       "      <td>36.000000</td>\n",
       "      <td>36.000000</td>\n",
       "      <td>36.0</td>\n",
       "      <td>25.0</td>\n",
       "      <td>NaN</td>\n",
       "      <td>NaN</td>\n",
       "      <td>64.0</td>\n",
       "      <td>6.9</td>\n",
       "      <td>1025.400024</td>\n",
       "      <td>320.000000</td>\n",
       "      <td>6.9</td>\n",
       "    </tr>\n",
       "    <tr>\n",
       "      <th>2020-12-31 22:00:00+00:00</th>\n",
       "      <td>1</td>\n",
       "      <td>34.000000</td>\n",
       "      <td>34.000000</td>\n",
       "      <td>34.0</td>\n",
       "      <td>21.9</td>\n",
       "      <td>NaN</td>\n",
       "      <td>NaN</td>\n",
       "      <td>61.0</td>\n",
       "      <td>6.9</td>\n",
       "      <td>1026.800049</td>\n",
       "      <td>300.000000</td>\n",
       "      <td>6.9</td>\n",
       "    </tr>\n",
       "    <tr>\n",
       "      <th>2020-12-31 23:00:00+00:00</th>\n",
       "      <td>1</td>\n",
       "      <td>30.000000</td>\n",
       "      <td>30.000000</td>\n",
       "      <td>30.0</td>\n",
       "      <td>23.0</td>\n",
       "      <td>NaN</td>\n",
       "      <td>NaN</td>\n",
       "      <td>75.0</td>\n",
       "      <td>0.0</td>\n",
       "      <td>1027.800049</td>\n",
       "      <td>0.000000</td>\n",
       "      <td>0.0</td>\n",
       "    </tr>\n",
       "  </tbody>\n",
       "</table>\n",
       "<p>173951 rows × 12 columns</p>\n",
       "</div>"
      ],
      "text/plain": [
       "                           Number of Observations (n/a)  Average Temp (F)  \\\n",
       "Date/Time (GMT)                                                             \n",
       "2001-01-01 00:00:00+00:00                             1         21.000000   \n",
       "2001-01-01 01:00:00+00:00                             1         19.900000   \n",
       "2001-01-01 02:00:00+00:00                             1         19.000000   \n",
       "2001-01-01 03:00:00+00:00                             1         19.000000   \n",
       "2001-01-01 04:00:00+00:00                             1         19.000000   \n",
       "...                                                 ...               ...   \n",
       "2020-12-31 19:00:00+00:00                             3         37.599998   \n",
       "2020-12-31 20:00:00+00:00                             1         37.000000   \n",
       "2020-12-31 21:00:00+00:00                             1         36.000000   \n",
       "2020-12-31 22:00:00+00:00                             1         34.000000   \n",
       "2020-12-31 23:00:00+00:00                             1         30.000000   \n",
       "\n",
       "                           Max Temp (F)  Min Temp (F)  \\\n",
       "Date/Time (GMT)                                         \n",
       "2001-01-01 00:00:00+00:00     21.000000          21.0   \n",
       "2001-01-01 01:00:00+00:00     19.900000          19.9   \n",
       "2001-01-01 02:00:00+00:00     19.000000          19.0   \n",
       "2001-01-01 03:00:00+00:00     19.000000          19.0   \n",
       "2001-01-01 04:00:00+00:00     19.000000          19.0   \n",
       "...                                 ...           ...   \n",
       "2020-12-31 19:00:00+00:00     37.900002          37.0   \n",
       "2020-12-31 20:00:00+00:00     37.000000          37.0   \n",
       "2020-12-31 21:00:00+00:00     36.000000          36.0   \n",
       "2020-12-31 22:00:00+00:00     34.000000          34.0   \n",
       "2020-12-31 23:00:00+00:00     30.000000          30.0   \n",
       "\n",
       "                           Average Dewpoint Temp (F)  1 Hour Precip (in)  \\\n",
       "Date/Time (GMT)                                                            \n",
       "2001-01-01 00:00:00+00:00                        6.1                 NaN   \n",
       "2001-01-01 01:00:00+00:00                        7.0                 NaN   \n",
       "2001-01-01 02:00:00+00:00                        7.0                 NaN   \n",
       "2001-01-01 03:00:00+00:00                        7.0                 NaN   \n",
       "2001-01-01 04:00:00+00:00                        6.1                 NaN   \n",
       "...                                              ...                 ...   \n",
       "2020-12-31 19:00:00+00:00                       27.0                 NaN   \n",
       "2020-12-31 20:00:00+00:00                       26.1                 NaN   \n",
       "2020-12-31 21:00:00+00:00                       25.0                 NaN   \n",
       "2020-12-31 22:00:00+00:00                       21.9                 NaN   \n",
       "2020-12-31 23:00:00+00:00                       23.0                 NaN   \n",
       "\n",
       "                           Max Wind Gust (mph)  Average Relative Humidity (%)  \\\n",
       "Date/Time (GMT)                                                                 \n",
       "2001-01-01 00:00:00+00:00                  NaN                           51.0   \n",
       "2001-01-01 01:00:00+00:00                  NaN                           56.0   \n",
       "2001-01-01 02:00:00+00:00                  NaN                           58.0   \n",
       "2001-01-01 03:00:00+00:00                  NaN                           58.0   \n",
       "2001-01-01 04:00:00+00:00                  NaN                           56.0   \n",
       "...                                        ...                            ...   \n",
       "2020-12-31 19:00:00+00:00                  NaN                           65.0   \n",
       "2020-12-31 20:00:00+00:00                  NaN                           64.0   \n",
       "2020-12-31 21:00:00+00:00                  NaN                           64.0   \n",
       "2020-12-31 22:00:00+00:00                  NaN                           61.0   \n",
       "2020-12-31 23:00:00+00:00                  NaN                           75.0   \n",
       "\n",
       "                           Average Wind Speed (mph)  \\\n",
       "Date/Time (GMT)                                       \n",
       "2001-01-01 00:00:00+00:00                      12.7   \n",
       "2001-01-01 01:00:00+00:00                      10.4   \n",
       "2001-01-01 02:00:00+00:00                      16.1   \n",
       "2001-01-01 03:00:00+00:00                      15.0   \n",
       "2001-01-01 04:00:00+00:00                      16.1   \n",
       "...                                             ...   \n",
       "2020-12-31 19:00:00+00:00                       7.7   \n",
       "2020-12-31 20:00:00+00:00                       5.8   \n",
       "2020-12-31 21:00:00+00:00                       6.9   \n",
       "2020-12-31 22:00:00+00:00                       6.9   \n",
       "2020-12-31 23:00:00+00:00                       0.0   \n",
       "\n",
       "                           Average Station Pressure (mb)  \\\n",
       "Date/Time (GMT)                                            \n",
       "2001-01-01 00:00:00+00:00                    1019.000000   \n",
       "2001-01-01 01:00:00+00:00                    1019.000000   \n",
       "2001-01-01 02:00:00+00:00                    1019.000000   \n",
       "2001-01-01 03:00:00+00:00                    1018.599976   \n",
       "2001-01-01 04:00:00+00:00                    1018.599976   \n",
       "...                                                  ...   \n",
       "2020-12-31 19:00:00+00:00                    1023.400024   \n",
       "2020-12-31 20:00:00+00:00                    1024.699951   \n",
       "2020-12-31 21:00:00+00:00                    1025.400024   \n",
       "2020-12-31 22:00:00+00:00                    1026.800049   \n",
       "2020-12-31 23:00:00+00:00                    1027.800049   \n",
       "\n",
       "                           Average Wind Direction (deg)  Max Wind Speed (mph)  \n",
       "Date/Time (GMT)                                                                \n",
       "2001-01-01 00:00:00+00:00                    270.000000                  12.7  \n",
       "2001-01-01 01:00:00+00:00                    270.000000                  10.4  \n",
       "2001-01-01 02:00:00+00:00                    270.000000                  16.1  \n",
       "2001-01-01 03:00:00+00:00                    260.000000                  15.0  \n",
       "2001-01-01 04:00:00+00:00                    280.000000                  16.1  \n",
       "...                                                 ...                   ...  \n",
       "2020-12-31 19:00:00+00:00                    303.329987                  10.4  \n",
       "2020-12-31 20:00:00+00:00                    330.000000                   5.8  \n",
       "2020-12-31 21:00:00+00:00                    320.000000                   6.9  \n",
       "2020-12-31 22:00:00+00:00                    300.000000                   6.9  \n",
       "2020-12-31 23:00:00+00:00                      0.000000                   0.0  \n",
       "\n",
       "[173951 rows x 12 columns]"
      ]
     },
     "execution_count": 39,
     "metadata": {},
     "output_type": "execute_result"
    }
   ],
   "source": [
    "df_temps = df_temps.loc[\n",
    "    df_temps.index.year != most_missing_year_index]\n",
    "df_temps"
   ]
  },
  {
   "cell_type": "markdown",
   "id": "frank-boulder",
   "metadata": {},
   "source": [
    "#### 33) [P] Use Seaborn to generate a line plot of the average hourly temperature over the entire time period contained in the data."
   ]
  },
  {
   "cell_type": "code",
   "execution_count": 40,
   "id": "imposed-currency",
   "metadata": {},
   "outputs": [
    {
     "data": {
      "image/png": "[encoded data removed]",
      "text/plain": [
       "<Figure size 432x288 with 1 Axes>"
      ]
     },
     "metadata": {
      "needs_background": "light"
     },
     "output_type": "display_data"
    }
   ],
   "source": [
    "df_temps_avg_temp_col_name = \"Average Temp (F)\"\n",
    "ax = sns.lineplot(data=df_temps, \n",
    "                  x=df_temps.index.values, \n",
    "                  y=df_temps_avg_temp_col_name)\n",
    "ax.set_xlabel(\"Year\")\n",
    "ax.set_title(\"Average Hourly Temperature (2001-2020)\");"
   ]
  },
  {
   "cell_type": "markdown",
   "id": "improving-participant",
   "metadata": {},
   "source": [
    "#### 34) [P] Now, compute the mean of the hourly average temperature for each year plot this annual value. (HINT: The resample() method will again make this incredibly easy to do!)"
   ]
  },
  {
   "cell_type": "code",
   "execution_count": 41,
   "id": "tough-course",
   "metadata": {},
   "outputs": [
    {
     "data": {
      "image/png": "[encoded data removed]",
      "text/plain": [
       "<Figure size 432x288 with 1 Axes>"
      ]
     },
     "metadata": {
      "needs_background": "light"
     },
     "output_type": "display_data"
    }
   ],
   "source": [
    "df_temps_mean_avg_temp_per_year = \\\n",
    "df_temps[df_temps_avg_temp_col_name].resample(\"Y\").mean()\n",
    "\n",
    "ax = sns.lineplot(x=df_temps_mean_avg_temp_per_year.index.year,\n",
    "                  y=df_temps_mean_avg_temp_per_year.values)\n",
    "\n",
    "ax.set_ylabel(df_temps_avg_temp_col_name)\n",
    "ax.xaxis.set_major_locator(mpl.ticker.MaxNLocator(integer=True)) # year x axis labels\n",
    "                                                                 # are integers\n",
    "ax.set_title(\"Hourly Average Temperature Mean Across Years (2001-2020)\");"
   ]
  }
 ],
 "metadata": {
  "kernelspec": {
   "display_name": "Python 3",
   "language": "python",
   "name": "python3"
  },
  "language_info": {
   "codemirror_mode": {
    "name": "ipython",
    "version": 3
   },
   "file_extension": ".py",
   "mimetype": "text/x-python",
   "name": "python",
   "nbconvert_exporter": "python",
   "pygments_lexer": "ipython3",
   "version": "3.8.8"
  }
 },
 "nbformat": 4,
 "nbformat_minor": 5
}
