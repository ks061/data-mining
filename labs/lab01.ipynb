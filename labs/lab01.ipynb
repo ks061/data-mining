{
 "cells": [
  {
   "cell_type": "markdown",
   "id": "nonprofit-borough",
   "metadata": {},
   "source": [
    "# Lab 01 - Getting Started\n",
    "\n",
    "Name: Kartikeya Sharma  \n",
    "Class: CSCI 349 - Intro to Data Mining  \n",
    "Semester: 2021SP  \n",
    "Instructor: Brian King  "
   ]
  },
  {
   "cell_type": "code",
   "execution_count": 1,
   "id": "massive-architect",
   "metadata": {},
   "outputs": [
    {
     "name": "stdout",
     "output_type": "stream",
     "text": [
      "3.8.8 (default, Feb 24 2021, 13:46:16) \n",
      "[Clang 10.0.0 ]\n"
     ]
    }
   ],
   "source": [
    "import sys\n",
    "print(sys.version)"
   ]
  },
  {
   "cell_type": "markdown",
   "id": "included-ridge",
   "metadata": {},
   "source": [
    "#### 2. [M] Did you read the syllabus? All of it? Do you agree to abide by the cheating rules? Write a sentence clearly indicating your commitment to not cheating."
   ]
  },
  {
   "cell_type": "markdown",
   "id": "matched-fever",
   "metadata": {},
   "source": [
    "Yes, I read all of the syllabus, and I agree to abide by the cheating rules; I strive to be a student of integrity, following the spirit of the Academic Responsibility principles and Bucknell University Honor Code highlighted in this course's stin the highest regard."
   ]
  },
  {
   "cell_type": "markdown",
   "id": "piano-external",
   "metadata": {},
   "source": [
    "#### 3. [M] What are you hoping to get out of this course? "
   ]
  },
  {
   "cell_type": "markdown",
   "id": "piano-vertical",
   "metadata": {},
   "source": [
    "In this course, I hope to use the integrative experience of absorbing the class materials, working through assignments, and applying the web of knowledge acquired to broader-scope projects. Within this integrative experience, I intend to acquire, refine, and apply skills in data science and machine learning to understand patterns within data, including time-series/sequential data. \n",
    "\n",
    "With regards to applying these skills to a broader-scope project beyond this course, I have been working under the guidance of Professor King on designing a software toolkit that analyzes, and subsequently provides a visualization of, eye tracking data from experiments presenting a visual stimulus with an assortment of spatially-separated entities/objects to children with and without autism spectrum disorder. Prior to presenting a visualization of the eye tracking data, the data should utilize 'preprocessing and cleaning,' which is bolded as one of the fundamental topics of this course within the course syllabus, to then display a more clear visual. Afterwards, understanding trajectories in eye movement, sequence of objects focused upon, etc. requires a deep understanding of trajectory pattern mining, which the course material focused around pattern mining will expose me to important fundamentals for further learning about trajectory pattern mining, a more specialized pattern mining endeavor. Furthermore, the project involves defining areas of interest on the image stimulus exposed to the participants of the experiments through algorithm(s) within program(s) integrating clustering and machine learning. Due to the course covering clustering as one of the final stages of the course outlined in the syllabus, it will lend itself to the machine learning and clustering portion of this software toolkit and associated algorithm(s) design, which is planned to be wrapped into my capstone thesis at Bucknell. \n",
    "\n",
    "In conclusion, this advanced computer science elective in the field of data mining course is meaningful in providing me with a sphere of data science background and associated toolkits in the field of data mining. This acquired knowledge, then, can guide me further in my learning process and discovery within my gradually-found, specialized interest in the intersection of pattern mining and machine learning. "
   ]
  },
  {
   "cell_type": "markdown",
   "id": "piano-portugal",
   "metadata": {},
   "source": [
    "#### 4. [P] Print the Python version (available in sys package) "
   ]
  },
  {
   "cell_type": "code",
   "execution_count": 2,
   "id": "regulated-distribution",
   "metadata": {},
   "outputs": [
    {
     "name": "stdout",
     "output_type": "stream",
     "text": [
      "3.8.8 (default, Feb 24 2021, 13:46:16) \n",
      "[Clang 10.0.0 ]\n"
     ]
    }
   ],
   "source": [
    "import sys\n",
    "print(sys.version)"
   ]
  },
  {
   "cell_type": "markdown",
   "id": "earlier-independence",
   "metadata": {},
   "source": [
    "#### 5. [P] Create a Python list of 10000 random integers in the range 1 to 100, using the random package. Name the list x_list."
   ]
  },
  {
   "cell_type": "code",
   "execution_count": 3,
   "id": "global-bailey",
   "metadata": {},
   "outputs": [],
   "source": [
    "'''\n",
    "import randint function from random package without \n",
    "# unnecessarily importing every (public) function within \n",
    "# the random package\n",
    "'''\n",
    "from random import randint\n",
    "\n",
    "'''\n",
    "parameters created to increase readability\n",
    "and adaptability\n",
    "'''\n",
    "min_bound = 1\n",
    "max_bound = 100\n",
    "num_int = 10000\n",
    "\n",
    "'''\n",
    "creating x_list, which is \"a Python list of 10000\n",
    "random integers in the range 1 to 100, using the\n",
    "random package\" (CSCI 349 SP21, Lab 01 assn, p. 11)\n",
    "'''\n",
    "x_list = [randint(min_bound, max_bound) \\\n",
    "          for i in range(num_int)]"
   ]
  },
  {
   "cell_type": "markdown",
   "id": "alert-malta",
   "metadata": {},
   "source": [
    "#### 6. [P] What is the minimum value of x_list? What is the max value? What is the mode?"
   ]
  },
  {
   "cell_type": "code",
   "execution_count": 4,
   "id": "christian-shepherd",
   "metadata": {},
   "outputs": [
    {
     "name": "stdout",
     "output_type": "stream",
     "text": [
      "The minimum value of x_list is 1.\n",
      "The maximum value of x_list is 100.\n",
      "The mode of x_list is 39.\n"
     ]
    }
   ],
   "source": [
    "from statistics import mode\n",
    "\n",
    "print(\"The minimum value of x_list is \" + \\\n",
    "      str(min(x_list)) + \".\")\n",
    "print(\"The maximum value of x_list is \" + \\\n",
    "      str(max(x_list)) + \".\")\n",
    "print(\"The mode of x_list is \" + \\\n",
    "      str(mode(x_list)) + \".\")"
   ]
  },
  {
   "cell_type": "markdown",
   "id": "determined-bailey",
   "metadata": {},
   "source": [
    "#### 7. [P] Write a function to take a list of numbers as a parameter, and return the average of the list. Then, use your function to report the average value of x_list, printed as a float with 2 places of precision."
   ]
  },
  {
   "cell_type": "code",
   "execution_count": 25,
   "id": "foreign-hearing",
   "metadata": {},
   "outputs": [
    {
     "name": "stdout",
     "output_type": "stream",
     "text": [
      "50.76\n"
     ]
    }
   ],
   "source": [
    "def get_list_average(list_nums):\n",
    "    \"\"\"\n",
    "    Returns the average value of x_list as a float\n",
    "\n",
    "    Parameters:\n",
    "    list_nums (list): list of numbers to retrieve\n",
    "                      the average of\n",
    "    \"\"\"\n",
    "    sum = 0\n",
    "    for num in list_nums:\n",
    "       sum += num\n",
    "    average = sum/len(list_nums)\n",
    "    return average\n",
    "    \n",
    "def print_float(float_num, num_places_precision=2):\n",
    "    \"\"\"\n",
    "    Prints the inputted float with a precision of \n",
    "    the number of decimal places provided (default: 2\n",
    "    decimal places)\n",
    "    \n",
    "    Parameters:\n",
    "    float_num (list): float number to be printed\n",
    "    num_places_precision (int): number of decimal places \n",
    "                                of precision to which\n",
    "                                the inputted average value\n",
    "                                will be printed\n",
    "                                (default: 2)\n",
    "                                \n",
    "    \"\"\"\n",
    "    format_prefix = \"{:.\" + str(num_places_precision) + \"f}\"\n",
    "    formatted_float_num = format_prefix.format(float_num)\n",
    "    print(formatted_float_num)\n",
    "    \n",
    "x_list_average = get_list_average(x_list)\n",
    "print_float(x_list_average)"
   ]
  },
  {
   "cell_type": "markdown",
   "id": "familiar-country",
   "metadata": {},
   "source": [
    "#### 8. [P] Create a list called x_hist that represents a histogram, i.e. a distribution of the numerical data, of x_list. Each entry in x_hist should contain the range of data in widths of 10. So, x_hist[0] represents the frequency of numbers between 1-10, x_hist[1] is the frequency of numbers between 11-20, and so on. Be sure to print x_hist at the end."
   ]
  },
  {
   "cell_type": "code",
   "execution_count": 26,
   "id": "significant-accountability",
   "metadata": {},
   "outputs": [
    {
     "name": "stdout",
     "output_type": "stream",
     "text": [
      "[975, 968, 1031, 1011, 1015, 1016, 983, 1016, 1013, 972]\n"
     ]
    }
   ],
   "source": [
    "def get_hist_list_width_of_10(input_list):\n",
    "    \"\"\"\n",
    "    Returns a list representing a histogram of bucket width 10\n",
    "    \n",
    "    Parameters: \n",
    "    input_list (list): list of positive integers containing\n",
    "    \"\"\"\n",
    "    hist_list = [0 for i in range(10)]\n",
    "    for value in input_list:\n",
    "        hist_list[int(value/10)-1] += 1\n",
    "    return hist_list\n",
    "\n",
    "print(get_hist_list_width_of_10(x_list))"
   ]
  },
  {
   "cell_type": "markdown",
   "id": "improving-nigeria",
   "metadata": {},
   "source": [
    "#### 9. [M] What is numpy? What are its strengths? Does it have any weaknesses?"
   ]
  },
  {
   "cell_type": "markdown",
   "id": "provincial-frontier",
   "metadata": {},
   "source": [
    "numpy is a widely-adopted package in Python that contains a collection of methods and functions for \"scientific computing,\" particularly for computations that are mathematical or statistical. It emphasized object-orientedness through its central usage of multidimensional array objects.\n",
    "\n",
    "The primary advantage of using this package is its providing a large range of data science methods and functions for those in other  Another advantage is that it further increases the already relatively high level of readability in Python. It does this by decreasing the number of lines of codes that programmers need to write due to its availability of a suite of methods and functions to manage the sets of data, for instance, contained in arrays. Also, numpy fixes the size of its arrays (changing the size of a numpy array would creating a new array in memory with the new size, copying the items from the old array into the new one, and deleting the old array from memory), increasing the predictability of the behavior of manipulations of the underlying numpy array. Similarly, numpy fixes the data type of items in a particular numpy array, in turn, fixing the the memory size assigned to each item in the array and, consequently, further increasing predictability. Finally, numpy contains the advantages of Python and C, adopting the simplicity and relatively high readability of Python while also adopting the efficient memory management and execution of mathematical operations.\n",
    "\n",
    "On the other hand, numpy has its own drawbacks. For one, because numpy arrays and objects are stored in contiguous blocks of memory, expanding or shrinking the size of an array requires allocating a new space in memory with respect to the new size of the array, copying the elements from the old array to the newly allocated array, and deallocating the old array, which is, in turn, overhead. In addition, there is ambiguity in dealing with undefined items in a numpy array, where NaN items assigned by numpy to undefined items are not the same as null; NaN items are not all equal because they are produced through different means (hence, they are represented by different float values), but they are given the same ID by Python, so one can verify a float as NaN by its id. Other platforms do not necessary use NaN (and instead resort to null, for instance, for undefined items); hence, compatibility across platforms when undefined items in an array are involved can be a potential issue. Finally, for someone who is only interested in doing simple array operations, learning and implementing numpy could be more overhead than needed for a light Python user.\n",
    "\n",
    "Sources\n",
    "1. https://numpy.org/doc/stable/user/whatisnumpy.html\n",
    "2. https://www.educba.com/introduction-to-numpy/\n",
    "3. https://towardsdatascience.com/navigating-the-hell-of-nans-in-python-71b12558895b"
   ]
  },
  {
   "cell_type": "markdown",
   "id": "painted-crack",
   "metadata": {},
   "source": [
    "#### 10. [P] Import the numpy package as np and print the numpy version"
   ]
  },
  {
   "cell_type": "code",
   "execution_count": 7,
   "id": "broken-customer",
   "metadata": {},
   "outputs": [
    {
     "name": "stdout",
     "output_type": "stream",
     "text": [
      "1.19.2\n"
     ]
    }
   ],
   "source": [
    "import numpy as np\n",
    "print(np.__version__)"
   ]
  },
  {
   "cell_type": "markdown",
   "id": "bottom-fortune",
   "metadata": {},
   "source": [
    "#### 11. [M] What is the primary object type in numpy? Can it store data of different types? Discuss."
   ]
  },
  {
   "cell_type": "markdown",
   "id": "unusual-regulation",
   "metadata": {},
   "source": [
    "The primary object in a numpy array, which is an n-dimensional array that stores arrays of related data types of the same size and same type. It follows, then, that numpy arrays cannot store data of different types. They can store various data types, such as floating point values, integer values, and other objects. Each numpy array (numpy.ndarray) has its own instance of numpy.dtype, which is a class that defines that type of the items in that particular numpy array.\n",
    "\n",
    "Sources\n",
    "1. https://numpy.org/doc/stable/user/whatisnumpy.html\n",
    "2. https://numpy.org/doc/stable/reference/generated/numpy.ndarray.html"
   ]
  },
  {
   "cell_type": "markdown",
   "id": "embedded-mercury",
   "metadata": {},
   "source": [
    "#### 12. [M] Discuss the types of data available in numpy. You need not list every type. Just generalize, and discuss how the type system is different than the built-in types int and float in Python."
   ]
  },
  {
   "cell_type": "markdown",
   "id": "oriented-cemetery",
   "metadata": {},
   "source": [
    "The types of data available in numpy, as obtained from W3Schools, include numerical values, a variety of types of strings<sup>1</sup>, a variety of types of objects, and those representing a \"fixed chunk of memory.\"<sup>2</sup> The importance of having integer and float values represented by numpy's int and float types rather than by the built-in ones in Python is that the numpy types allow for the numpy array to ensure that each element in the array is of the same type.<sup>3</sup> even distinguishing shorter ints from longer ints like int8 vs. int16 (8-bit vs. 16-bit integers, respectively).<sup>3</sup> Also, NumPy scalars, including NumPy ints and NumPy floats, have \"many of the same methods arrays do.\"<sup>3</sup> Moreover, the numpy data types are used to represent numerical python variables in a way that can be inserted into a numpy array, after which numerical computations can be done with relatively higher efficiency (than would be done in python) leveraging the underlying C low-level code that it interfaces with for such numerical computations.<sup>3</sup> \n",
    "\n",
    "Sources \n",
    "1. https://numpy.org/doc/stable/reference/arrays.datetime.html\n",
    "2. https://www.w3schools.com/python/numpy_data_types.asp\n",
    "3. https://numpy.org/doc/stable/user/basics.types.html"
   ]
  },
  {
   "cell_type": "markdown",
   "id": "detailed-merchant",
   "metadata": {},
   "source": [
    "#### 13. [P] Create a numpy array from x_list. Reassign it as x_list. Show the contents."
   ]
  },
  {
   "cell_type": "code",
   "execution_count": 13,
   "id": "unauthorized-rating",
   "metadata": {},
   "outputs": [
    {
     "name": "stdout",
     "output_type": "stream",
     "text": [
      "[ 47  80   2 ...  85  53 100]\n"
     ]
    }
   ],
   "source": [
    "x_list = np.array(x_list)\n",
    "print(x_list)"
   ]
  },
  {
   "cell_type": "markdown",
   "id": "thorough-graham",
   "metadata": {},
   "source": [
    "#### 14. [P] Redo the previous exercise, but set the data type of each value to 'float32'"
   ]
  },
  {
   "cell_type": "code",
   "execution_count": 15,
   "id": "unlimited-community",
   "metadata": {},
   "outputs": [
    {
     "name": "stdout",
     "output_type": "stream",
     "text": [
      "[ 47.  80.   2. ...  85.  53. 100.]\n"
     ]
    }
   ],
   "source": [
    "x_list = np.array(x_list, dtype='float32')\n",
    "print(x_list)"
   ]
  },
  {
   "cell_type": "markdown",
   "id": "assisted-cincinnati",
   "metadata": {},
   "source": [
    "#### 15. [P] Create a length 10 integer array filled with zeros"
   ]
  },
  {
   "cell_type": "code",
   "execution_count": 19,
   "id": "played-thinking",
   "metadata": {},
   "outputs": [
    {
     "data": {
      "text/plain": [
       "array([0, 0, 0, 0, 0, 0, 0, 0, 0, 0])"
      ]
     },
     "execution_count": 19,
     "metadata": {},
     "output_type": "execute_result"
    }
   ],
   "source": [
    "np.zeros(10, dtype='int')"
   ]
  },
  {
   "cell_type": "markdown",
   "id": "united-madonna",
   "metadata": {},
   "source": [
    "#### 16. [P] Create a float array of 3 rows and 4 columns, all initialized to one."
   ]
  },
  {
   "cell_type": "code",
   "execution_count": 20,
   "id": "nearby-brand",
   "metadata": {},
   "outputs": [
    {
     "data": {
      "text/plain": [
       "array([[1., 1., 1., 1.],\n",
       "       [1., 1., 1., 1.],\n",
       "       [1., 1., 1., 1.]])"
      ]
     },
     "execution_count": 20,
     "metadata": {},
     "output_type": "execute_result"
    }
   ],
   "source": [
    "np.ones((3,4), dtype='float')"
   ]
  },
  {
   "cell_type": "markdown",
   "id": "swedish-accuracy",
   "metadata": {},
   "source": [
    "#### 17. [P] Create an array of 20 values, evenly spaced between 1 and 3 (HINT – look at np.linspace)"
   ]
  },
  {
   "cell_type": "code",
   "execution_count": 21,
   "id": "natural-decline",
   "metadata": {},
   "outputs": [
    {
     "data": {
      "text/plain": [
       "array([1.        , 1.10526316, 1.21052632, 1.31578947, 1.42105263,\n",
       "       1.52631579, 1.63157895, 1.73684211, 1.84210526, 1.94736842,\n",
       "       2.05263158, 2.15789474, 2.26315789, 2.36842105, 2.47368421,\n",
       "       2.57894737, 2.68421053, 2.78947368, 2.89473684, 3.        ])"
      ]
     },
     "execution_count": 21,
     "metadata": {},
     "output_type": "execute_result"
    }
   ],
   "source": [
    "np.linspace(1,3,num=20)"
   ]
  },
  {
   "cell_type": "markdown",
   "id": "substantial-liquid",
   "metadata": {},
   "source": [
    "#### 18. [P] Set the numpy random seed to the value 12345, then create a 10 x 5 array of random integers on the interval [10, 20)"
   ]
  },
  {
   "cell_type": "code",
   "execution_count": 24,
   "id": "tutorial-guinea",
   "metadata": {},
   "outputs": [
    {
     "data": {
      "text/plain": [
       "array([[12, 15, 11, 14, 19],\n",
       "       [15, 12, 11, 16, 11],\n",
       "       [19, 17, 16, 10, 12],\n",
       "       [19, 11, 12, 16, 17],\n",
       "       [17, 17, 18, 17, 11],\n",
       "       [17, 14, 10, 13, 15],\n",
       "       [17, 13, 11, 15, 12],\n",
       "       [15, 13, 18, 15, 12],\n",
       "       [15, 13, 10, 16, 18],\n",
       "       [10, 15, 16, 18, 19]])"
      ]
     },
     "execution_count": 24,
     "metadata": {},
     "output_type": "execute_result"
    }
   ],
   "source": [
    "np.random.seed(seed=12345)\n",
    "np.random.randint(10,20,(10,5))"
   ]
  }
 ],
 "metadata": {
  "kernelspec": {
   "display_name": "Python 3",
   "language": "python",
   "name": "python3"
  },
  "language_info": {
   "codemirror_mode": {
    "name": "ipython",
    "version": 3
   },
   "file_extension": ".py",
   "mimetype": "text/x-python",
   "name": "python",
   "nbconvert_exporter": "python",
   "pygments_lexer": "ipython3",
   "version": "3.8.8"
  }
 },
 "nbformat": 4,
 "nbformat_minor": 5
}
