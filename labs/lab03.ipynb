{
 "cells": [
  {
   "cell_type": "markdown",
   "id": "hundred-episode",
   "metadata": {},
   "source": [
    "# Lab 03 - pandas I\n",
    "\n",
    "Name: Kartikeya Sharma  \n",
    "Class: CSCI 349 - Intro to Data Mining  \n",
    "Semester: 2021SP  \n",
    "Instructor: Brian King  "
   ]
  },
  {
   "cell_type": "code",
   "execution_count": 156,
   "id": "quantitative-cleaner",
   "metadata": {},
   "outputs": [],
   "source": [
    "import sys\n",
    "import numpy as np\n",
    "import pandas as pd"
   ]
  },
  {
   "cell_type": "markdown",
   "id": "whole-abuse",
   "metadata": {},
   "source": [
    "#### 1. [P] Report the Python, Numpy and Pandas version numbers."
   ]
  },
  {
   "cell_type": "code",
   "execution_count": 157,
   "id": "smoking-detection",
   "metadata": {},
   "outputs": [
    {
     "name": "stdout",
     "output_type": "stream",
     "text": [
      "Python version: 3.8.8 (default, Feb 24 2021, 13:46:16) \n",
      "[Clang 10.0.0 ]\n",
      "\n",
      "Numpy version: 1.19.2\n",
      "Pandas version: 1.2.3\n"
     ]
    }
   ],
   "source": [
    "print(\"Python version: \" + str(sys.version))\n",
    "print()\n",
    "print(\"Numpy version: \" + str(np.__version__))\n",
    "print(\"Pandas version: \" + str(pd.__version__))"
   ]
  },
  {
   "cell_type": "markdown",
   "id": "respected-highland",
   "metadata": {},
   "source": [
    "#### 2. [P] Now, show the result of pd.show_versions(). Write a comment in the cell about what this shows."
   ]
  },
  {
   "cell_type": "code",
   "execution_count": 158,
   "id": "central-consciousness",
   "metadata": {},
   "outputs": [
    {
     "name": "stdout",
     "output_type": "stream",
     "text": [
      "\n",
      "INSTALLED VERSIONS\n",
      "------------------\n",
      "commit           : f2c8480af2f25efdbd803218b9d87980f416563e\n",
      "python           : 3.8.8.final.0\n",
      "python-bits      : 64\n",
      "OS               : Darwin\n",
      "OS-release       : 20.4.0\n",
      "Version          : Darwin Kernel Version 20.4.0: Fri Mar  5 03:57:04 PST 2021; root:xnu-7195.101.1~4/RELEASE_X86_64\n",
      "machine          : x86_64\n",
      "processor        : i386\n",
      "byteorder        : little\n",
      "LC_ALL           : None\n",
      "LANG             : en_US.UTF-8\n",
      "LOCALE           : en_US.UTF-8\n",
      "\n",
      "pandas           : 1.2.3\n",
      "numpy            : 1.19.2\n",
      "pytz             : 2021.1\n",
      "dateutil         : 2.8.1\n",
      "pip              : 21.0.1\n",
      "setuptools       : 52.0.0.post20210125\n",
      "Cython           : None\n",
      "pytest           : None\n",
      "hypothesis       : None\n",
      "sphinx           : None\n",
      "blosc            : None\n",
      "feather          : None\n",
      "xlsxwriter       : None\n",
      "lxml.etree       : None\n",
      "html5lib         : None\n",
      "pymysql          : None\n",
      "psycopg2         : None\n",
      "jinja2           : 2.11.3\n",
      "IPython          : 7.21.0\n",
      "pandas_datareader: None\n",
      "bs4              : None\n",
      "bottleneck       : None\n",
      "fsspec           : None\n",
      "fastparquet      : None\n",
      "gcsfs            : None\n",
      "matplotlib       : 3.3.4\n",
      "numexpr          : None\n",
      "odfpy            : None\n",
      "openpyxl         : None\n",
      "pandas_gbq       : None\n",
      "pyarrow          : None\n",
      "pyxlsb           : None\n",
      "s3fs             : None\n",
      "scipy            : 1.6.1\n",
      "sqlalchemy       : None\n",
      "tables           : None\n",
      "tabulate         : None\n",
      "xarray           : None\n",
      "xlrd             : None\n",
      "xlwt             : None\n",
      "numba            : None\n"
     ]
    }
   ],
   "source": [
    "pd.show_versions()\n",
    "\n",
    "# It shows information related to the operating system\n",
    "# that the Python kernel is running on, which version of\n",
    "# pandas is being used in the local environment, and \n",
    "# which versions of other related packages are being used\n",
    "# (if they are) in the local environment.\n",
    "\n",
    "# Source: https://pandas.pydata.org/pandas-docs/dev/reference/api/pandas.show_versions.html"
   ]
  },
  {
   "cell_type": "markdown",
   "id": "placed-channels",
   "metadata": {},
   "source": [
    "#### 3. [M] Explain the relationship between numpy and pandas. How are they tied together? How are they different? What core functionality does pandas add to numpy?"
   ]
  },
  {
   "cell_type": "markdown",
   "id": "hispanic-amount",
   "metadata": {},
   "source": [
    "numpy and pandas are both packages in Python that are \"used for scientific computing.\" They both have functions and methods that can be operated on arrays without needing explicit iterative loops, particularly for loops.<sup>1</sup> \n",
    "\n",
    "The pandas library is fairly dependent upon the NumPy package, including its array data type known as an ndarray.<sup>3</sup> Pandas builds off and expands upon the functionality offered in NumPy, such as ufuncs, by providing a more descriptive means for handling data.<sup>1 3</sup>\n",
    "\n",
    "Whereas elements in NumPy arrays are accessed through their positionally accending and sequential index value(s) (of integers), pandas allows one to label, change labels of, and even rearrange indices with letters, integers, etc. When values from either of two 1D/2D list objects, i.e. either Series/DataFrame or 1D/2D ndarray, being operated upon is missing, pandas is skilled at aligning data and filling in missing values (with NaN) accordingly, unlike Numpy, that is.<sup>3</sup> Although pandas does offer these benefits, it uses more more memory to store the same data and indexes slower than NumPy does.<sup>4</sup> For managing data that has less than or equal to about 50,000 rows, NumPy is more efficient; on the other hand, pandas is more efficient at handling data that has about 500,000 or more rows. Within those two thresholds, the efficiency may vary.<sup>4</sup>\n",
    "\n",
    "(P.S. According to the O'Reilly book, below is the most significant feature, or \"core functionality,\" that pandas designs on top of NumPy.)\n",
    "\n",
    "numpy, particularly the main data type of ndarray within the package, is designed to handle arrays of data, of which each item is read, written, and identified as the *same* data type, particularly numerical data.<sup>1</sup> pandas, on the other hand, is designed to handle \"tabular or heterogeneous data,\" i.e. data that contains different data types within a 2D pandas data type, also known as a DataFrame.<sup>1</sup> Tabular data is an enhanced version of a 2D array with rows and columns more or less having specific meanings. Each row is an entity, and each column is a property; each position in the 2D array is a value for a specific property of a specific entity. Each column might stores different types of data; for example, one column might contain a name (data point that is commonly represented as a string) of a user and another might contain an age (data point that is commonly represented as an integer). Due to the different data types stored across columns, one can begin to understand the usefulness of pandas arrays in the context of 'heterogenous data.' \n",
    "\n",
    "Sources:\n",
    "1. https://learning.oreilly.com/library/view/python-for-data/9781491957653/ch05.html\n",
    "2. https://www.w3.org/TR/tabular-data-model/\n",
    "3. https://medium.com/@ericvanrees/pandas-series-objects-and-numpy-arrays-15dfe05919d7\n",
    "4. https://www.javatpoint.com/pandas-vs-numpy"
   ]
  },
  {
   "cell_type": "markdown",
   "id": "useful-sponsorship",
   "metadata": {},
   "source": [
    "#### 4. [M] Compare and contrast Series and DataFrame."
   ]
  },
  {
   "cell_type": "markdown",
   "id": "preceding-reserve",
   "metadata": {},
   "source": [
    "Both Series and DataFrames are datatypes specific to the pandas library. They accept many different types of input, such as ndarrays, dictionaries, a compatible pandas datatype (e.g. Series accepts Series, DataFrame accepts Series or DataFrame). <sup>1</sup> They both have customizeable indices. NumPy functions, including the ufuncs, can be called by or used on both Series and DataFrame objects.<sup>1</sup>\n",
    "\n",
    "A DataFrame is two-dimensional, whereas a Series is one-dimensional. A relationship between the Series and DataFrame datatypes is that a DataFrame is a collection of Series objects. DataFrames can alternatively be thought of as a \"dict of like-indexed Series objects.\"<sup>1</sup>  A DataFrame is comprised of indices, which are row labels, and columns, which are column labels.<sup>1</sup> \n",
    "\n",
    "The following describes some of their relationship, i.e. that of Series and DataFrame objects, as far as operations with one another. A Series with an index different from that of a DataFrame will align to the index of the DataFrame during the insertion process.<sup>1</sup> An operation between a Series and DataFrame will operate each row of the DataFrame with the Series, of course, with respect to their ordering around the operator.<sup>1</sup>\n",
    "\n",
    "Sources:\n",
    "1. https://pandas.pydata.org/pandas-docs/stable/user_guide/dsintro.html"
   ]
  },
  {
   "cell_type": "markdown",
   "id": "noted-moisture",
   "metadata": {},
   "source": [
    "#### 5. [M] What are the data types that can be used to create a Series object in pandas?"
   ]
  },
  {
   "cell_type": "markdown",
   "id": "chicken-outreach",
   "metadata": {},
   "source": [
    "The data types that can be used to create a Series object in pandas are a Python dict, an ndarray (NumPy array type), and a scalar value.<sup>1</sup>\n",
    "\n",
    "Source:\n",
    "1. https://pandas.pydata.org/pandas-docs/stable/user_guide/dsintro.html"
   ]
  },
  {
   "cell_type": "markdown",
   "id": "hydraulic-wilderness",
   "metadata": {},
   "source": [
    "#### 6. [M] What are the data structures that can be used to create a DataFrame object in pandas?"
   ]
  },
  {
   "cell_type": "markdown",
   "id": "french-kansas",
   "metadata": {},
   "source": [
    "The data structures that can be used to create a DataFrame object in pandas are a dict of 1D lists, a dict of 1D dicts, a dict of Series objects, a dict of 1D ndarrays, a 2D ndarray, a structured/record ndarray, a Series object, or a DataFrame object.<sup>1</sup> A structured/record ndarray holds a structure as each element in an array, and each structure represents a collection of field values (or like a C struct).<sup>2</sup>\n",
    "\n",
    "Source:\n",
    "1. https://pandas.pydata.org/pandas-docs/stable/user_guide/dsintro.html\n",
    "2. https://numpy.org/doc/stable/user/basics.rec.html"
   ]
  },
  {
   "cell_type": "markdown",
   "id": "continuing-vegetarian",
   "metadata": {},
   "source": [
    "#### 7. [M] When creating a Series object, what role does the index parameter play? Does the index always need to be specified? If not, what happens?"
   ]
  },
  {
   "cell_type": "markdown",
   "id": "split-longer",
   "metadata": {},
   "source": [
    "The index parameter allows the user to define a sequence of labels to corresponding to each element in the Series; these customized labels, or index values, can be used when an element is accessed via the label assigned to it within the Series. These indices are important in \"[identifying] data... [which is important in] analysis, visualization, and interactive console display.\"<sup>1</sup> It also allows for Series to have the feature of data alignment, wherein operations done between two Series will be done along a particular index value/label rather than the mere ordering of the sequences; this is important when operating among two Series objects with incomplete data, which better models real-world scenarios.<sup>1</sup> The index does not always need to be specified; if an index is not specified, the Series will assume a default sequence of index values ranging from 0 to the number of elements in the Series minus 1.\n",
    "\n",
    "Source:\n",
    "1. https://pandas.pydata.org/pandas-docs/stable/user_guide/indexing.html#indexing"
   ]
  },
  {
   "cell_type": "markdown",
   "id": "accepted-small",
   "metadata": {},
   "source": [
    "#### 8. [M] Consider the copy() method of a DataFrame object. What is this method for? Explain the difference between a shallow copy and a deep copy of a DataFrame? Why would I use a shallow copy?"
   ]
  },
  {
   "cell_type": "markdown",
   "id": "contemporary-software",
   "metadata": {},
   "source": [
    "The copy method creates a new DataFrame object from the indices and data of the DataFrame object that calls the copy method. \n",
    "\n",
    "By default or if the deep parameter is set to True, which designates that a deep copy is being made, pandas.DataFrame.copy creates a copy of the actual indices and data held by the DataFrame object and creates a DataFrame object with its own independent copy of the indices and data in memory. It should be noted that although data is copied from the DataFrame, the \"actual Python objects will not be copied recursively, only the reference to the object.\"<sup>1</sup> *Insight (paraphrased) from Professor Brian R. King in the Department of Computer Science of Bucknell University: pandas does not recursively copy objects (at least partially) because there is a heterogenous mixture of types of items that can be held and handled within a DataFrame object. On the contrary, numpy does recursively copy its objects (at least partially) because there is only one type of item that can be held and handled within an ndarray object.* If the deep parameter within the copy method, on the other hand, is set to False, which designates that a shallow copy is being made, a new DataFrame object will be created based upon the DataFrame object that called the pandas.DataFrame.copy method, except the same indices and data in memory that were referred to by the existing DataFrame object will now also be referred to by the newly-created DataFrame object. With this, changes made to the new DataFrame object will be reflected in the existing DataFrame object as well.\n",
    "\n",
    "Shallow copy would be used because it uses less memory than a deep copy, as the indices and data do not have to be copied in memory for the new DataFrame object (only references to the same indices and data already stored in memory referred to by the existing DataFrame object are copied to the newly-created DataFrame object). The shallow copy operation also uses less time than a deep copy one because copying indices and data (and assigning references to them within the newly-created DataFrame object) takes more time than merely copying references to already existing indices and data in memory to the newly-created DataFrame object. Thirdly, one may wish to centralize the data such that changes made to any element in any of the DataFrames copied are made across all DataFrames; in essence, the DataFrames act as views to the same data. Fourthly, a deep copy is unnecessarily expensive (both time and memorywise) if one does not intend to modify the underlying data of the initial DataFrame once created (and perhaps only modify the view).\n",
    "\n",
    "Source:\n",
    "1. https://pandas.pydata.org/docs/reference/api/pandas.DataFrame.copy.html"
   ]
  },
  {
   "cell_type": "markdown",
   "id": "after-utility",
   "metadata": {},
   "source": [
    "#### Next, we're going to work with a very simple set of data of quiz scores, just to get you started. Enter the following Python lists in a cell in your notebook. They will represent some fictitious daily quiz scores for a couple of weeks of some course you are taking:\n",
    "\n",
    "#### days = [\"Mon\",\"Tue\",\"Wed\",\"Thu\",\"Fri\"]\n",
    "#### scores_1 = [9.5, 8.75, 8, 10, 7.75]\n",
    "#### scores_2 = [9, 8, 10, 8.75, 7.25]"
   ]
  },
  {
   "cell_type": "code",
   "execution_count": 159,
   "id": "regular-findings",
   "metadata": {},
   "outputs": [],
   "source": [
    "days = [\"Mon\",\"Tue\",\"Wed\",\"Thu\",\"Fri\"]\n",
    "scores_1 = [9.5, 8.75, 8, 10, 7.75]\n",
    "scores_2 = [9, 8, 10, 8.75, 7.25]"
   ]
  },
  {
   "cell_type": "markdown",
   "id": "national-integration",
   "metadata": {},
   "source": [
    "#### 9. [P] Convert scores_1 and scores_2 into two Series objects. Use days as your index. You should name each Series object using the name parameter as \"week_1\", and \"week_2\". Do not show the result, only store the variables."
   ]
  },
  {
   "cell_type": "code",
   "execution_count": 160,
   "id": "comparable-assessment",
   "metadata": {},
   "outputs": [],
   "source": [
    "scores_1 = pd.Series(scores_1, index=days, name='week_1')\n",
    "scores_2 = pd.Series(scores_2, index=days, name='week_2')"
   ]
  },
  {
   "cell_type": "markdown",
   "id": "interstate-scoop",
   "metadata": {},
   "source": [
    "#### 10. [P] Create a pandas DataFrame called scores that represents the above data. Show your data frame. Your results should be arranged as shown below: \n",
    "\n",
    "#### *(my output matches the output in the assignment)*"
   ]
  },
  {
   "cell_type": "code",
   "execution_count": 161,
   "id": "diagnostic-marine",
   "metadata": {},
   "outputs": [
    {
     "data": {
      "text/html": [
       "<div>\n",
       "<style scoped>\n",
       "    .dataframe tbody tr th:only-of-type {\n",
       "        vertical-align: middle;\n",
       "    }\n",
       "\n",
       "    .dataframe tbody tr th {\n",
       "        vertical-align: top;\n",
       "    }\n",
       "\n",
       "    .dataframe thead th {\n",
       "        text-align: right;\n",
       "    }\n",
       "</style>\n",
       "<table border=\"1\" class=\"dataframe\">\n",
       "  <thead>\n",
       "    <tr style=\"text-align: right;\">\n",
       "      <th></th>\n",
       "      <th>Mon</th>\n",
       "      <th>Tue</th>\n",
       "      <th>Wed</th>\n",
       "      <th>Thu</th>\n",
       "      <th>Fri</th>\n",
       "    </tr>\n",
       "  </thead>\n",
       "  <tbody>\n",
       "    <tr>\n",
       "      <th>week_1</th>\n",
       "      <td>9.5</td>\n",
       "      <td>8.75</td>\n",
       "      <td>8.0</td>\n",
       "      <td>10.00</td>\n",
       "      <td>7.75</td>\n",
       "    </tr>\n",
       "    <tr>\n",
       "      <th>week_2</th>\n",
       "      <td>9.0</td>\n",
       "      <td>8.00</td>\n",
       "      <td>10.0</td>\n",
       "      <td>8.75</td>\n",
       "      <td>7.25</td>\n",
       "    </tr>\n",
       "  </tbody>\n",
       "</table>\n",
       "</div>"
      ],
      "text/plain": [
       "        Mon   Tue   Wed    Thu   Fri\n",
       "week_1  9.5  8.75   8.0  10.00  7.75\n",
       "week_2  9.0  8.00  10.0   8.75  7.25"
      ]
     },
     "execution_count": 161,
     "metadata": {},
     "output_type": "execute_result"
    }
   ],
   "source": [
    "scores = pd.DataFrame([scores_1, scores_2])\n",
    "scores"
   ]
  },
  {
   "cell_type": "markdown",
   "id": "labeled-medline",
   "metadata": {},
   "source": [
    "#### 11. [P] Append the following data to the end of scores. [8.5,8,9.75,9,8.25]. The row label on the new week is \"week_3\". Show your updated data frame. It should look like the following:\n",
    "\n",
    "#### *(my output matches the output in the assignment)*"
   ]
  },
  {
   "cell_type": "code",
   "execution_count": 162,
   "id": "described-special",
   "metadata": {},
   "outputs": [
    {
     "data": {
      "text/html": [
       "<div>\n",
       "<style scoped>\n",
       "    .dataframe tbody tr th:only-of-type {\n",
       "        vertical-align: middle;\n",
       "    }\n",
       "\n",
       "    .dataframe tbody tr th {\n",
       "        vertical-align: top;\n",
       "    }\n",
       "\n",
       "    .dataframe thead th {\n",
       "        text-align: right;\n",
       "    }\n",
       "</style>\n",
       "<table border=\"1\" class=\"dataframe\">\n",
       "  <thead>\n",
       "    <tr style=\"text-align: right;\">\n",
       "      <th></th>\n",
       "      <th>Mon</th>\n",
       "      <th>Tue</th>\n",
       "      <th>Wed</th>\n",
       "      <th>Thu</th>\n",
       "      <th>Fri</th>\n",
       "    </tr>\n",
       "  </thead>\n",
       "  <tbody>\n",
       "    <tr>\n",
       "      <th>week_1</th>\n",
       "      <td>9.5</td>\n",
       "      <td>8.75</td>\n",
       "      <td>8.00</td>\n",
       "      <td>10.00</td>\n",
       "      <td>7.75</td>\n",
       "    </tr>\n",
       "    <tr>\n",
       "      <th>week_2</th>\n",
       "      <td>9.0</td>\n",
       "      <td>8.00</td>\n",
       "      <td>10.00</td>\n",
       "      <td>8.75</td>\n",
       "      <td>7.25</td>\n",
       "    </tr>\n",
       "    <tr>\n",
       "      <th>week_3</th>\n",
       "      <td>8.5</td>\n",
       "      <td>8.00</td>\n",
       "      <td>9.75</td>\n",
       "      <td>9.00</td>\n",
       "      <td>8.25</td>\n",
       "    </tr>\n",
       "  </tbody>\n",
       "</table>\n",
       "</div>"
      ],
      "text/plain": [
       "        Mon   Tue    Wed    Thu   Fri\n",
       "week_1  9.5  8.75   8.00  10.00  7.75\n",
       "week_2  9.0  8.00  10.00   8.75  7.25\n",
       "week_3  8.5  8.00   9.75   9.00  8.25"
      ]
     },
     "execution_count": 162,
     "metadata": {},
     "output_type": "execute_result"
    }
   ],
   "source": [
    "scores = scores.append(pd.Series([8.5,8,9.75,9,8.25], index=days, name='week_3'))\n",
    "scores"
   ]
  },
  {
   "cell_type": "markdown",
   "id": "visible-referral",
   "metadata": {},
   "source": [
    "#### 12. [M] numpy and pandas have an ENORMOUS number of ways for selecting data. At first, the flexibility will confuse and drive you nuts. In time, it because amazing and intuitive (with less nuts.)\n",
    "\n",
    "#### From their 10 minute tutorial:\n",
    "#### \"**Note:** While standard Python / Numpy expressions for selecting and setting are intuitive and come in handy for interactive work, for production code, we recommend the optimized pandas data access methods, .at, .iat, .loc, .iloc.\n",
    "\n",
    "#### Write yourself a quick one sentence reference for each access method listed above, with one example for each using the scores DataFrame.\n",
    "\n",
    "#### You are going to see many ways to select data in a DataFrame. It will be confusing at first. For example, in addition to the above access methods, you can also use the [ ] operator directly to access your data.\n",
    "#### For example, try\n",
    "\n",
    "#### ```scores.iloc[0]``` or ```scores[0:1]``` or ```scores[\"Mon\"]``` or \n",
    "#### ```scores.loc[:,\"Mon\"]```\n",
    "\n",
    "#### and understand how they are the same (or different!) In addition, DataFrames dynamically create attributes for each column of data you have (assuming the columns are named with strings.) For example, you could do either:\n",
    "\n",
    "#### ```scores[\"Mon\"]``` or ```scores.Mon```\n",
    "\n",
    "#### to access a single variable in your dataset as a Series. You'll see all the above techniques used in practice.\n",
    "\n",
    "#### Again, I strongly recommend that you go through the 10 minute tutorial carefully, and briefly summarize what you can in your own notes. Find some good cheat sheets, or make your own. AND – PAY CLOSE ATTENTION TO THE RETURN TYPES! It's very important to understand when DataFrame objects vs. Series objects are returned."
   ]
  },
  {
   "cell_type": "markdown",
   "id": "distant-bench",
   "metadata": {},
   "source": [
    "**Abridged Intro Reference Guide for pandas Data Selection**\n",
    "\n",
    "*The trials for the examples of each of the four selection functions explicitly specified above are given in the Python and output cells that follow this Markdown cell.*\n",
    "\n",
    "**.at:** This function selects a particular value in a DataFrame by row and column labels; it returns the selection of a specific value (caller can get/set value).<sup>1</sup>\n",
    "\n",
    "Example:\n",
    "\n",
    "```# selecting element in first row and first column```<br/>\n",
    "```scores.at['week_1', 'Mon] # return type is numpy.float64``` \n",
    "\n",
    "**.iat:** This function selects a particular value in a DataFrame by its pair of numerical row and column index values; it  returns the selection of a specific value (caller can get/set value).<sup>2</sup>\n",
    "\n",
    "Example: \n",
    "\n",
    "```# selecting element in first row and first column```<br/>\n",
    "```scores.iat[0, 0] # return type is numpy.float64```\n",
    "\n",
    "**.loc**: This function selects row(s) and/or column(s) in a DataFrame by its/their row label(s) and column label(s) (single, lists, slices), boolean array(s) corresponding to the row(s) and/or column(s) being selected (True) or not selected (False), etc.; it returns the selection of row(s) and/or column(s).<sup>3</sup>\n",
    "\n",
    "Example: \n",
    "\n",
    "```# selecting first row and first four columns```<br/>\n",
    "```scores.loc['week_1', ['Mon', 'Tue', 'Wed', 'Thu']] # return type is Series```<br/>\n",
    "```scores.loc[[True, False, False], [True, True, True, True, False]] # return type is DataFrame```\n",
    "\n",
    "\n",
    "**.iloc**: This function selects row(s) and/or column(s) in a DataFrame by its/their numerical row index value(s) and column index value(s) (single, lists, slices), boolean array(s) corresponding to the  selection of row and/or column(s) being selected (True) or not selected (False), etc.; it returns the selection of row(s) and/or column(s).<sup>4</sup>\n",
    "\n",
    "Example: \n",
    "\n",
    "```# selecting first column```<br/>\n",
    "```scores.iloc[:,0] # return type is Series```<br/>\n",
    "```scores.iloc[:,[True, False, False, False, False]] # return type is DataFrame```\n",
    "\n",
    "Trying other examples (per prompt):\n",
    "\n",
    "\n",
    "The usage of the function .iloc below selects the first row by the row index of 0 of the DataFrame scores and provides access to it via a Series object.\n",
    "\n",
    "```# iloc to select first row```<br/>\n",
    "```scores.iloc[0] # return type is Series```\n",
    "\n",
    "The usage of the [] operator below selects the slice of the DataFrame scores including rows 0 through 1 (exclusive), which is essentially just including row 0, of the DataFrame scores.\n",
    "\n",
    "```# direct slice to select first row```<br/>\n",
    "```scores[0:1] # return type is DataFrame```\n",
    "\n",
    "The usage of the [] operator below selects the column with label \"Mon\" of the DataFrame scores and provides access to it via a Series object.\n",
    "\n",
    "```# direct label-lookup to select column \"Mon\"```<br/>\n",
    "```scores[\"Mon\"] # return type is Series``` \n",
    "\n",
    "The usage of the function .loc below selects the column with label \"Mon\" of the DataFrame scores and provides access to it via a Series object.\n",
    "\n",
    "```# direct label-lookup to select column \"Mon\"```<br/>\n",
    "```scores.loc[:,\"Mon\"] # return type is Series```\n",
    "\n",
    "The direct accessing of the 'Mon' property of the DataFrame scores is a way of accessing the column with label \"Mon\" of the DataFrame scores and provides access to it via a Series object.\n",
    "```# direct accessing of column \"Mon\" via 'Mon' property```<br/>\n",
    "```scores.Mon # return type is Series```\n",
    "\n",
    "\n",
    "Sources:\n",
    "1. https://pandas.pydata.org/docs/reference/api/pandas.DataFrame.at.html\n",
    "2. https://pandas.pydata.org/docs/reference/api/pandas.DataFrame.iat.html\n",
    "3. https://pandas.pydata.org/docs/reference/api/pandas.DataFrame.loc.html\n",
    "4. https://pandas.pydata.org/docs/reference/api/pandas.DataFrame.iloc.html"
   ]
  },
  {
   "cell_type": "code",
   "execution_count": 163,
   "id": "pursuant-profession",
   "metadata": {},
   "outputs": [],
   "source": [
    "def _print_item_and_type(item_to_print):\n",
    "    '''\n",
    "    Utility method that prints the item and \n",
    "    type of item being printed.\n",
    "    \n",
    "        Parameters:\n",
    "                item_to_print: any time of item being printed\n",
    "    '''\n",
    "    try: \n",
    "        print(item_to_print)\n",
    "        print()\n",
    "        print(\"return type: \" + str(type(item_to_print)))\n",
    "    except: \n",
    "        print(\"print_type method error: an error occurred while trying to print the type of an object.\")\n",
    "    \n",
    "def _print_n_lines(num_lines: int):\n",
    "    '''\n",
    "    Utility method that prints \n",
    "    num_lines lines.\n",
    "    \n",
    "        Parameters:\n",
    "            num_lines (int): number of lines to be printed\n",
    "    '''\n",
    "    for i in range(num_lines):\n",
    "        print()\n",
    "        \n",
    "def _print_two_lines():\n",
    "    '''\n",
    "    Utility method that simply\n",
    "    calls _print_n_lines to\n",
    "    print two lines.\n",
    "    '''\n",
    "    _print_n_lines(2)"
   ]
  },
  {
   "cell_type": "code",
   "execution_count": 164,
   "id": "appropriate-seeker",
   "metadata": {},
   "outputs": [
    {
     "name": "stdout",
     "output_type": "stream",
     "text": [
      "9.5\n",
      "\n",
      "return type: <class 'numpy.float64'>\n"
     ]
    }
   ],
   "source": [
    "#.at example (selecting element in first row and first column)\n",
    "_print_item_and_type(\n",
    "    scores.at['week_1','Mon']) # return type is numpy.float64"
   ]
  },
  {
   "cell_type": "code",
   "execution_count": 165,
   "id": "smaller-judge",
   "metadata": {},
   "outputs": [
    {
     "name": "stdout",
     "output_type": "stream",
     "text": [
      "9.5\n",
      "\n",
      "return type: <class 'numpy.float64'>\n"
     ]
    }
   ],
   "source": [
    "#.iat example (selecting element in first row and first column)\n",
    "_print_item_and_type(\n",
    "    scores.iat[0,0]) # return type is numpy.float64"
   ]
  },
  {
   "cell_type": "code",
   "execution_count": 166,
   "id": "compressed-terrorism",
   "metadata": {},
   "outputs": [
    {
     "name": "stdout",
     "output_type": "stream",
     "text": [
      "Mon     9.50\n",
      "Tue     8.75\n",
      "Wed     8.00\n",
      "Thu    10.00\n",
      "Name: week_1, dtype: float64\n",
      "\n",
      "return type: <class 'pandas.core.series.Series'>\n",
      "\n",
      "\n",
      "        Mon   Tue  Wed   Thu\n",
      "week_1  9.5  8.75  8.0  10.0\n",
      "\n",
      "return type: <class 'pandas.core.frame.DataFrame'>\n"
     ]
    }
   ],
   "source": [
    "#.loc example (selecting first row and first four columns)\n",
    "_print_item_and_type(\n",
    "    scores.loc['week_1', \n",
    "               ['Mon', 'Tue', 'Wed', 'Thu']]) # return type is \n",
    "                                              # Series\n",
    "_print_two_lines()\n",
    "_print_item_and_type(\n",
    "    scores.loc[[True, False, False], \n",
    "               [True, True, True, True, False]]) # return type is\n",
    "                                                 # DataFrame"
   ]
  },
  {
   "cell_type": "code",
   "execution_count": 167,
   "id": "local-large",
   "metadata": {},
   "outputs": [
    {
     "name": "stdout",
     "output_type": "stream",
     "text": [
      "week_1    9.5\n",
      "week_2    9.0\n",
      "week_3    8.5\n",
      "Name: Mon, dtype: float64\n",
      "\n",
      "return type: <class 'pandas.core.series.Series'>\n",
      "\n",
      "\n",
      "        Mon\n",
      "week_1  9.5\n",
      "week_2  9.0\n",
      "week_3  8.5\n",
      "\n",
      "return type: <class 'pandas.core.frame.DataFrame'>\n"
     ]
    }
   ],
   "source": [
    "#.iloc example (selecting first column)\n",
    "_print_item_and_type(scores.iloc[:,0]) # return type is Series\n",
    "_print_two_lines()\n",
    "_print_item_and_type(\n",
    "    scores.iloc[:,\n",
    "                [True, False, False, False, False]]) # return type\n",
    "                                                     # is DataFrame"
   ]
  },
  {
   "cell_type": "code",
   "execution_count": 168,
   "id": "prescription-cycling",
   "metadata": {},
   "outputs": [
    {
     "name": "stdout",
     "output_type": "stream",
     "text": [
      "Mon     9.50\n",
      "Tue     8.75\n",
      "Wed     8.00\n",
      "Thu    10.00\n",
      "Fri     7.75\n",
      "Name: week_1, dtype: float64\n",
      "\n",
      "return type: <class 'pandas.core.series.Series'>\n"
     ]
    }
   ],
   "source": [
    "# iloc to select first row\n",
    "_print_item_and_type(scores.iloc[0]) # return type is Series"
   ]
  },
  {
   "cell_type": "code",
   "execution_count": 169,
   "id": "virtual-lunch",
   "metadata": {},
   "outputs": [
    {
     "name": "stdout",
     "output_type": "stream",
     "text": [
      "        Mon   Tue  Wed   Thu   Fri\n",
      "week_1  9.5  8.75  8.0  10.0  7.75\n",
      "\n",
      "return type: <class 'pandas.core.frame.DataFrame'>\n"
     ]
    }
   ],
   "source": [
    "# direct slice to select first row\n",
    "_print_item_and_type(scores[0:1]) # return type is DataFrame"
   ]
  },
  {
   "cell_type": "code",
   "execution_count": 170,
   "id": "direct-determination",
   "metadata": {},
   "outputs": [
    {
     "name": "stdout",
     "output_type": "stream",
     "text": [
      "week_1    9.5\n",
      "week_2    9.0\n",
      "week_3    8.5\n",
      "Name: Mon, dtype: float64\n",
      "\n",
      "return type: <class 'pandas.core.series.Series'>\n"
     ]
    }
   ],
   "source": [
    "# direct label-lookup to select column \"Mon\"\n",
    "_print_item_and_type(scores[\"Mon\"]) # return type is Series"
   ]
  },
  {
   "cell_type": "code",
   "execution_count": 171,
   "id": "random-utilization",
   "metadata": {},
   "outputs": [
    {
     "name": "stdout",
     "output_type": "stream",
     "text": [
      "week_1    9.5\n",
      "week_2    9.0\n",
      "week_3    8.5\n",
      "Name: Mon, dtype: float64\n",
      "\n",
      "return type: <class 'pandas.core.series.Series'>\n"
     ]
    }
   ],
   "source": [
    "# direct label-lookup to select column \"Mon\"\n",
    "_print_item_and_type(scores.loc[:,\"Mon\"]) # return type is Series"
   ]
  },
  {
   "cell_type": "code",
   "execution_count": 172,
   "id": "numerical-honolulu",
   "metadata": {},
   "outputs": [
    {
     "name": "stdout",
     "output_type": "stream",
     "text": [
      "week_1    9.5\n",
      "week_2    9.0\n",
      "week_3    8.5\n",
      "Name: Mon, dtype: float64\n",
      "\n",
      "return type: <class 'pandas.core.series.Series'>\n"
     ]
    }
   ],
   "source": [
    "# direct accessing of column \"Mon\" via 'Mon' property\n",
    "_print_item_and_type(scores.Mon) # return type is Series"
   ]
  },
  {
   "cell_type": "markdown",
   "id": "persistent-baghdad",
   "metadata": {},
   "source": [
    "#### 13. [P] Show at least two different techniques to select scores for Tuesday using the string \"```Tue```\""
   ]
  },
  {
   "cell_type": "code",
   "execution_count": 173,
   "id": "intermediate-taylor",
   "metadata": {},
   "outputs": [
    {
     "name": "stdout",
     "output_type": "stream",
     "text": [
      "week_1    8.75\n",
      "week_2    8.00\n",
      "week_3    8.00\n",
      "Name: Tue, dtype: float64\n",
      "\n",
      "return type: <class 'pandas.core.series.Series'>\n",
      "\n",
      "\n",
      "week_1    8.75\n",
      "week_2    8.00\n",
      "week_3    8.00\n",
      "Name: Tue, dtype: float64\n",
      "\n",
      "return type: <class 'pandas.core.series.Series'>\n"
     ]
    }
   ],
   "source": [
    "_print_item_and_type(scores[\"Tue\"]) # calling __getitem__ \n",
    "                                    # to receive Series \n",
    "                                    # of the \"Tue\" column\n",
    "_print_two_lines()\n",
    "_print_item_and_type(scores.loc[:, \"Tue\"]) # selecting all row \n",
    "                                           # labels and selecting\n",
    "                                           # column label \"Tue\" \n",
    "                                           # through .loc"
   ]
  },
  {
   "cell_type": "markdown",
   "id": "connected-packet",
   "metadata": {},
   "source": [
    "#### 14. [P] Show how to retrieve the scores for Tuesday using the named attribute ```Tue```"
   ]
  },
  {
   "cell_type": "code",
   "execution_count": 174,
   "id": "billion-complement",
   "metadata": {},
   "outputs": [
    {
     "name": "stdout",
     "output_type": "stream",
     "text": [
      "week_1    8.75\n",
      "week_2    8.00\n",
      "week_3    8.00\n",
      "Name: Tue, dtype: float64\n",
      "\n",
      "return type: <class 'pandas.core.series.Series'>\n"
     ]
    }
   ],
   "source": [
    "_print_item_and_type(scores.Tue) # accessing attribute named Tue \n",
    "                                 # like accessing any other \n",
    "                                 # attribute of an object: \n",
    "                                 # <object name>.<attribute name>"
   ]
  },
  {
   "cell_type": "markdown",
   "id": "velvet-string",
   "metadata": {},
   "source": [
    "#### 15. [P] Show at least three techniques to select scores for Wednesday using an integer. The return type can be either a DataFrame or a Series."
   ]
  },
  {
   "cell_type": "code",
   "execution_count": 175,
   "id": "confused-religion",
   "metadata": {},
   "outputs": [
    {
     "name": "stdout",
     "output_type": "stream",
     "text": [
      "Example #1:\n",
      "week_1     8.00\n",
      "week_2    10.00\n",
      "week_3     9.75\n",
      "Name: Wed, dtype: float64\n",
      "\n",
      "return type: <class 'pandas.core.series.Series'>\n",
      "\n",
      "\n",
      "Example #2:\n",
      "          Wed\n",
      "week_1   8.00\n",
      "week_2  10.00\n",
      "week_3   9.75\n",
      "\n",
      "return type: <class 'pandas.core.frame.DataFrame'>\n",
      "\n",
      "\n",
      "Example #3:\n",
      "          Wed\n",
      "week_1   8.00\n",
      "week_2  10.00\n",
      "week_3   9.75\n",
      "\n",
      "return type: <class 'pandas.core.frame.DataFrame'>\n"
     ]
    }
   ],
   "source": [
    "print(\"Example #1:\")\n",
    "_print_item_and_type(scores.iloc[:,2]) # returns Series object\n",
    "                                       # with scores for Wednesday\n",
    "                                       # by requesting third column \n",
    "                                       # via .iloc\n",
    "_print_two_lines()\n",
    "print(\"Example #2:\")\n",
    "_print_item_and_type(scores.iloc[:,[2]]) # returns DataFrame \n",
    "                                         # with scores for Wednesday\n",
    "                                         # by requesting a list of \n",
    "                                         # integers only\n",
    "                                         # containing '2,' \n",
    "                                         # representing requesting \n",
    "                                         # third column via .iloc\n",
    "_print_two_lines()    \n",
    "print(\"Example #3:\")\n",
    "_print_item_and_type(scores.iloc[:, 2:3]) # returns DataFrame \n",
    "                                          # that has sliced the \n",
    "                                          # scores DataFrame for \n",
    "                                          # its third column via \n",
    "                                          # .iloc"
   ]
  },
  {
   "cell_type": "markdown",
   "id": "municipal-rogers",
   "metadata": {},
   "source": [
    "#### 16. [P] Select the data for the first week using the string \"week_1\". Your result should return a Series representing the scores for week 1."
   ]
  },
  {
   "cell_type": "code",
   "execution_count": 176,
   "id": "laden-valuable",
   "metadata": {},
   "outputs": [
    {
     "name": "stdout",
     "output_type": "stream",
     "text": [
      "Mon     9.50\n",
      "Tue     8.75\n",
      "Wed     8.00\n",
      "Thu    10.00\n",
      "Fri     7.75\n",
      "Name: week_1, dtype: float64\n",
      "\n",
      "return type: <class 'pandas.core.series.Series'>\n"
     ]
    }
   ],
   "source": [
    "_print_item_and_type(scores.loc['week_1',:])"
   ]
  },
  {
   "cell_type": "markdown",
   "id": "amateur-reserve",
   "metadata": {},
   "source": [
    "#### 17. [P] Select the data for the first week using the string \"week_1\". Your result should return a DataFrame, representing the subset of the scores DataFrame for week 1 only."
   ]
  },
  {
   "cell_type": "code",
   "execution_count": 177,
   "id": "outer-culture",
   "metadata": {},
   "outputs": [
    {
     "name": "stdout",
     "output_type": "stream",
     "text": [
      "        Mon   Tue  Wed   Thu   Fri\n",
      "week_1  9.5  8.75  8.0  10.0  7.75\n",
      "type: <class 'pandas.core.frame.DataFrame'>\n"
     ]
    }
   ],
   "source": [
    "print_item_and_type(scores.loc[['week_1'],:])"
   ]
  },
  {
   "cell_type": "markdown",
   "id": "super-detail",
   "metadata": {},
   "source": [
    "#### 18. [P] Select the data for the first week using a slice"
   ]
  },
  {
   "cell_type": "code",
   "execution_count": 178,
   "id": "competitive-performance",
   "metadata": {},
   "outputs": [
    {
     "name": "stdout",
     "output_type": "stream",
     "text": [
      "        Mon   Tue  Wed   Thu   Fri\n",
      "week_1  9.5  8.75  8.0  10.0  7.75\n",
      "\n",
      "return type: <class 'pandas.core.frame.DataFrame'>\n"
     ]
    }
   ],
   "source": [
    "_print_item_and_type(scores.loc[:'week_1',:])"
   ]
  },
  {
   "cell_type": "markdown",
   "id": "macro-birthday",
   "metadata": {},
   "source": [
    "#### 19. [P] Use .iloc to select Monday and Friday of the first and third week."
   ]
  },
  {
   "cell_type": "code",
   "execution_count": 179,
   "id": "ruled-consequence",
   "metadata": {},
   "outputs": [
    {
     "name": "stdout",
     "output_type": "stream",
     "text": [
      "        Mon   Fri\n",
      "week_1  9.5  7.75\n",
      "week_3  8.5  8.25\n",
      "\n",
      "return type: <class 'pandas.core.frame.DataFrame'>\n"
     ]
    }
   ],
   "source": [
    "_print_item_and_type(scores.iloc[[0,2],[0,4]])"
   ]
  },
  {
   "cell_type": "markdown",
   "id": "integral-maker",
   "metadata": {},
   "source": [
    "#### 20. [P] Repeat the previous exercise, but use the .loc selector. You should have the same result."
   ]
  },
  {
   "cell_type": "code",
   "execution_count": 180,
   "id": "atmospheric-thong",
   "metadata": {},
   "outputs": [
    {
     "name": "stdout",
     "output_type": "stream",
     "text": [
      "        Mon   Fri\n",
      "week_1  9.5  7.75\n",
      "week_3  8.5  8.25\n",
      "\n",
      "return type: <class 'pandas.core.frame.DataFrame'>\n"
     ]
    }
   ],
   "source": [
    "_print_item_and_type(\n",
    "    scores.loc[['week_1', 'week_3'], \n",
    "               ['Mon', 'Fri']]) # matches result from prob 19"
   ]
  },
  {
   "cell_type": "markdown",
   "id": "published-probe",
   "metadata": {},
   "source": [
    "#### 21. [P] For each week, report how much each day's score for that week differed from the mean for the week."
   ]
  },
  {
   "cell_type": "code",
   "execution_count": 181,
   "id": "blessed-differential",
   "metadata": {},
   "outputs": [
    {
     "name": "stdout",
     "output_type": "stream",
     "text": [
      "        Mon   Tue   Wed   Thu   Fri\n",
      "week_1  0.7 -0.05 -0.80  1.20 -1.05\n",
      "week_2  0.4 -0.60  1.40  0.15 -1.35\n",
      "week_3 -0.2 -0.70  1.05  0.30 -0.45\n",
      "\n",
      "return type: <class 'pandas.core.frame.DataFrame'>\n"
     ]
    }
   ],
   "source": [
    "\"\"\"\"\n",
    "the mean across columns (for each row)\n",
    "then, subtracting the Series containing\n",
    "the mean value of each week from\n",
    "each column (across the rows,\n",
    "along the index axis) of the DataFrame\n",
    "to get \"how much each day's score\n",
    "for that week differed from the\n",
    "mean for the week\"\n",
    "\n",
    "IMPORTANT ASSUMPTION: \"how much... differed\" in\n",
    "the context of values and their related mean values\n",
    "is interpretted as a set of ABSOLUTE values\n",
    "rather than positive, neutral, and negative values.\n",
    "\n",
    "reason #1 for assumption: Lab 02, problem 30\n",
    "\"compute its deviation (absolute value of the\n",
    "observed mean - expected mean).\" the concept is used in the\n",
    "is used in the context of deviation, which is related to the\n",
    "phrase differed, and in the context of means.\n",
    "\n",
    "reason #2 for assumption: Kieren MacMillan, someone who\n",
    "has had an array of papers on number theory published in \n",
    "peer-reviewed journals describes how \"the\n",
    "'difference' between two numbers refers to\n",
    "the distance on a number line between the\n",
    "two points corresponding to each of the\n",
    "two numbers, a.k.a. the absolute value\"\n",
    "(Source: \n",
    "https://math.stackexchange.com/questions/1893988/how-should-we-calculate-difference-between-two-numbers)\n",
    "\n",
    "\n",
    "TL;DR: I have interpretted \"how much... differed\"\n",
    "in the problem statement as asking for absolute\n",
    "values rather than signed values per reasons\n",
    "aforementioned.\n",
    "\"\"\"\n",
    "\n",
    "_print_item_and_type(scores.sub(scores.mean(axis=1), axis='index'))"
   ]
  },
  {
   "cell_type": "markdown",
   "id": "billion-culture",
   "metadata": {},
   "source": [
    "#### 22. [P] Report the maximum score for each week."
   ]
  },
  {
   "cell_type": "code",
   "execution_count": 182,
   "id": "behavioral-title",
   "metadata": {},
   "outputs": [
    {
     "name": "stdout",
     "output_type": "stream",
     "text": [
      "week_1    10.00\n",
      "week_2    10.00\n",
      "week_3     9.75\n",
      "dtype: float64\n",
      "\n",
      "return type: <class 'pandas.core.series.Series'>\n"
     ]
    }
   ],
   "source": [
    "_print_item_and_type(scores.max(axis=1)) # operating ACROSS \n",
    "                                         # the columns,\n",
    "                                         # which is axis 1 \n",
    "                                         # (operating IN each row)"
   ]
  },
  {
   "cell_type": "markdown",
   "id": "numeric-landscape",
   "metadata": {},
   "source": [
    "#### 23. For each week, report which day had the largest score"
   ]
  },
  {
   "cell_type": "code",
   "execution_count": 183,
   "id": "daily-relevance",
   "metadata": {},
   "outputs": [
    {
     "name": "stdout",
     "output_type": "stream",
     "text": [
      "week_1    Thu\n",
      "week_2    Wed\n",
      "week_3    Wed\n",
      "dtype: object\n",
      "\n",
      "return type: <class 'pandas.core.series.Series'>\n"
     ]
    }
   ],
   "source": [
    "'''\n",
    "Assumption: because the list of days is Mon, etc.\n",
    "rather than Monday, etc., Mon, etc. will suffice\n",
    "for reporting a particular day for the purposes of\n",
    "this problem and other problems in this lab unless\n",
    "otherwise specified.\n",
    "'''\n",
    "_print_item_and_type(scores.idxmax(axis=1)) # operating ACROSS \n",
    "                                            # the columns,\n",
    "                                            # which is axis 1 \n",
    "                                            # (operating IN each \n",
    "                                            # row)"
   ]
  },
  {
   "cell_type": "markdown",
   "id": "experimental-examination",
   "metadata": {},
   "source": [
    "#### 24. [P] Report the week that had the highest total quiz score. Your answer should only be the name of the week from the index."
   ]
  },
  {
   "cell_type": "code",
   "execution_count": 184,
   "id": "informal-xerox",
   "metadata": {},
   "outputs": [
    {
     "name": "stdout",
     "output_type": "stream",
     "text": [
      "week_1\n",
      "\n",
      "return type: <class 'str'>\n"
     ]
    }
   ],
   "source": [
    "_print_item_and_type(\n",
    "    scores.sum(axis=1).idxmax()) # operating ACROSS the columns,\n",
    "                                 # which is axis 1 \n",
    "                                 # (operating IN each row)\n",
    "                                 # no axis needed for .idxmax;\n",
    "                                 # parameter is redundant\n",
    "                                 # (documentation confirms this)\n",
    "                                 # due to only having one \n",
    "                                 # dimension (axis = 0 is the\n",
    "                                 # only axis value that a \n",
    "                                 # Series can have)"
   ]
  },
  {
   "cell_type": "markdown",
   "id": "photographic-syracuse",
   "metadata": {},
   "source": [
    "#### 25. [P] Report the number of days of each week that had a score >= 9.25. Your answer should be a Series that looks like the following:"
   ]
  },
  {
   "cell_type": "code",
   "execution_count": 185,
   "id": "crazy-indonesia",
   "metadata": {},
   "outputs": [
    {
     "name": "stdout",
     "output_type": "stream",
     "text": [
      "week_1    2\n",
      "week_2    1\n",
      "week_3    1\n",
      "\n",
      "return type: <class 'str'>\n"
     ]
    }
   ],
   "source": [
    "def remove_last_line_from_string(s):\n",
    "    '''\n",
    "    The author of this code is user2746752 on Stack Overflow.\n",
    "    This method was imported due to the triviality of my attempting\n",
    "    to meet the precise output that was printed in the assignment\n",
    "    (without the last line of the pandas Series output). Hence,\n",
    "    I used this simple utility function to remove that last line.\n",
    "    Using this code does not demonstrate my ability to complete\n",
    "    this problem. I give full authorship to the user above for\n",
    "    this function.\n",
    "    \n",
    "    Source: https://stackoverflow.com/questions/18682965/python-remove-last-line-from-string\n",
    "    '''\n",
    "    return s[:s.rfind('\\n')]\n",
    "\n",
    "\n",
    "threshold = 9.25\n",
    "\n",
    "num_days_each_week_score_at_or_above_threshold = \\\n",
    "scores[scores >= threshold].count(axis=1) # operating ACROSS \n",
    "                                          # the columns, which\n",
    "                                          # is axis 1 (operating\n",
    "                                          # IN each row)\n",
    "        \n",
    "output_str = remove_last_line_from_string( \\\n",
    "num_days_each_week_score_at_or_above_threshold.__str__() \\\n",
    ") # extract string output used by print method,\n",
    "  # rm last line for output\n",
    "    \n",
    "_print_item_and_type(output_str) # print Series output without \n",
    "                                 # last line that starts with \n",
    "                                 # \"dtype...\""
   ]
  },
  {
   "cell_type": "markdown",
   "id": "premium-sword",
   "metadata": {},
   "source": [
    "#### 26. [P] Report the average score for each week"
   ]
  },
  {
   "cell_type": "code",
   "execution_count": 186,
   "id": "needed-palmer",
   "metadata": {},
   "outputs": [
    {
     "name": "stdout",
     "output_type": "stream",
     "text": [
      "week_1    8.8\n",
      "week_2    8.6\n",
      "week_3    8.7\n",
      "dtype: float64\n",
      "\n",
      "return type: <class 'pandas.core.series.Series'>\n"
     ]
    }
   ],
   "source": [
    "_print_item_and_type(scores.mean(axis=1))"
   ]
  },
  {
   "cell_type": "markdown",
   "id": "intellectual-sewing",
   "metadata": {},
   "source": [
    "#### 27. [P] Report the average score for each week with the lowest score for each week dropped. (REMEMBER – NEVER hard code magic numbers. Your solution should work for any number of weeks, and any number of days per week!)"
   ]
  },
  {
   "cell_type": "code",
   "execution_count": 187,
   "id": "patient-camping",
   "metadata": {},
   "outputs": [
    {
     "name": "stdout",
     "output_type": "stream",
     "text": [
      "week_1    8.5000\n",
      "week_2    8.2500\n",
      "week_3    8.4375\n",
      "dtype: float64\n",
      "\n",
      "return type: <class 'pandas.core.series.Series'>\n"
     ]
    }
   ],
   "source": [
    "num_scores_per_week = scores.shape[1]\n",
    "if len(scores.index) > 1:\n",
    "    scores_sum_each_week = scores.sum(axis=1)\n",
    "    scores_max_each_week = scores.max(axis=1)\n",
    "    \n",
    "    scores_sum_without_max_each_week = scores_sum_each_week - \\\n",
    "                                     scores_max_each_week\n",
    "    num_scores_without_max_per_week = num_scores_per_week - 1\n",
    "    scores_avg_without_max_each_week = scores_sum_without_max_each_week \\\n",
    "                                     / num_scores_without_max_per_week\n",
    "    \n",
    "    _print_item_and_type(scores_avg_without_max_each_week)\n",
    "else:\n",
    "    raise Exception(\"Zero or one scores in each week; \\\n",
    "    not enough scores to drop the lowest and calculate \\\n",
    "    weekly averages accordingly.\")"
   ]
  },
  {
   "cell_type": "markdown",
   "id": "fresh-inspector",
   "metadata": {},
   "source": [
    "#### 28. [P] Report the scores rescaled to fall between 0 and 100, instead of 0 to 10 as they are now."
   ]
  },
  {
   "cell_type": "code",
   "execution_count": 188,
   "id": "alert-timing",
   "metadata": {},
   "outputs": [
    {
     "name": "stdout",
     "output_type": "stream",
     "text": [
      "         Mon   Tue    Wed    Thu   Fri\n",
      "week_1  95.0  87.5   80.0  100.0  77.5\n",
      "week_2  90.0  80.0  100.0   87.5  72.5\n",
      "week_3  85.0  80.0   97.5   90.0  82.5\n",
      "\n",
      "return type: <class 'pandas.core.frame.DataFrame'>\n"
     ]
    }
   ],
   "source": [
    "# 0 to <max scale value>\n",
    "curr_max_scale_value = 10\n",
    "target_max_scale_value = 100\n",
    "scale_change_factor = target_max_scale_value / curr_max_scale_value\n",
    "\n",
    "_print_item_and_type(scores * scale_change_factor)"
   ]
  }
 ],
 "metadata": {
  "kernelspec": {
   "display_name": "Python 3",
   "language": "python",
   "name": "python3"
  },
  "language_info": {
   "codemirror_mode": {
    "name": "ipython",
    "version": 3
   },
   "file_extension": ".py",
   "mimetype": "text/x-python",
   "name": "python",
   "nbconvert_exporter": "python",
   "pygments_lexer": "ipython3",
   "version": "3.8.8"
  }
 },
 "nbformat": 4,
 "nbformat_minor": 5
}
