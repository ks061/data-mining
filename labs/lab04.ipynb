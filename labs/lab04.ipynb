{
 "cells": [
  {
   "cell_type": "markdown",
   "id": "material-electronics",
   "metadata": {},
   "source": [
    "# Lab 04 - pandas II\n",
    "\n",
    "Name: Kartikeya Sharma  \n",
    "Class: CSCI 349 - Intro to Data Mining  \n",
    "Semester: 2021SP  \n",
    "Instructor: Brian King  "
   ]
  },
  {
   "cell_type": "markdown",
   "id": "apparent-making",
   "metadata": {},
   "source": [
    "#### To start, create your first cell. Then, place the usual import statements at the top of your notebook file."
   ]
  },
  {
   "cell_type": "code",
   "execution_count": 201,
   "id": "killing-bones",
   "metadata": {},
   "outputs": [
    {
     "name": "stdout",
     "output_type": "stream",
     "text": [
      "Python version: 3.8.8 (default, Feb 24 2021, 13:46:16) \n",
      "[Clang 10.0.0 ]\n",
      "\n",
      "Numpy version: 1.19.2\n",
      "Pandas version: 1.2.3\n"
     ]
    }
   ],
   "source": [
    "import sys\n",
    "import numpy as np\n",
    "import pandas as pd\n",
    "        \n",
    "print(\"Python version: \" + str(sys.version))\n",
    "print()\n",
    "print(\"Numpy version: \" + str(np.__version__))\n",
    "print(\"Pandas version: \" + str(pd.__version__))"
   ]
  },
  {
   "cell_type": "markdown",
   "id": "local-bunch",
   "metadata": {},
   "source": [
    "#### In the 2nd cell, let's create a bigger version of the quiz scores dataset with the following features:\n",
    "#### * We have two students, Bob and Jane\n",
    "#### * We have four weeks of data. Notice we can have duplicate names in our index. (However, columns mustbe unique! You can't have duplicate variable names!)\n",
    "#### * There are missing quizzes, indicated with a zero in those locations.\n",
    "\n",
    "#### Copy the following into your 2nd cell:"
   ]
  },
  {
   "cell_type": "code",
   "execution_count": 202,
   "id": "hungarian-machinery",
   "metadata": {},
   "outputs": [
    {
     "data": {
      "text/html": [
       "<div>\n",
       "<style scoped>\n",
       "    .dataframe tbody tr th:only-of-type {\n",
       "        vertical-align: middle;\n",
       "    }\n",
       "\n",
       "    .dataframe tbody tr th {\n",
       "        vertical-align: top;\n",
       "    }\n",
       "\n",
       "    .dataframe thead th {\n",
       "        text-align: right;\n",
       "    }\n",
       "</style>\n",
       "<table border=\"1\" class=\"dataframe\">\n",
       "  <thead>\n",
       "    <tr style=\"text-align: right;\">\n",
       "      <th></th>\n",
       "      <th>Mon</th>\n",
       "      <th>Tue</th>\n",
       "      <th>Wed</th>\n",
       "      <th>Thurs</th>\n",
       "      <th>Fri</th>\n",
       "      <th>Student</th>\n",
       "    </tr>\n",
       "  </thead>\n",
       "  <tbody>\n",
       "    <tr>\n",
       "      <th>week_1</th>\n",
       "      <td>9.50</td>\n",
       "      <td>8.75</td>\n",
       "      <td>8.00</td>\n",
       "      <td>10.00</td>\n",
       "      <td>7.75</td>\n",
       "      <td>Bob</td>\n",
       "    </tr>\n",
       "    <tr>\n",
       "      <th>week_1</th>\n",
       "      <td>9.00</td>\n",
       "      <td>8.00</td>\n",
       "      <td>10.00</td>\n",
       "      <td>8.75</td>\n",
       "      <td>7.25</td>\n",
       "      <td>Jane</td>\n",
       "    </tr>\n",
       "    <tr>\n",
       "      <th>week_2</th>\n",
       "      <td>8.50</td>\n",
       "      <td>0.00</td>\n",
       "      <td>9.75</td>\n",
       "      <td>9.00</td>\n",
       "      <td>6.00</td>\n",
       "      <td>Bob</td>\n",
       "    </tr>\n",
       "    <tr>\n",
       "      <th>week_2</th>\n",
       "      <td>7.00</td>\n",
       "      <td>8.25</td>\n",
       "      <td>9.25</td>\n",
       "      <td>0.00</td>\n",
       "      <td>8.00</td>\n",
       "      <td>Jane</td>\n",
       "    </tr>\n",
       "    <tr>\n",
       "      <th>week_3</th>\n",
       "      <td>7.00</td>\n",
       "      <td>8.50</td>\n",
       "      <td>9.25</td>\n",
       "      <td>0.00</td>\n",
       "      <td>0.00</td>\n",
       "      <td>Bob</td>\n",
       "    </tr>\n",
       "    <tr>\n",
       "      <th>week_3</th>\n",
       "      <td>8.50</td>\n",
       "      <td>8.25</td>\n",
       "      <td>9.00</td>\n",
       "      <td>8.00</td>\n",
       "      <td>7.50</td>\n",
       "      <td>Jane</td>\n",
       "    </tr>\n",
       "    <tr>\n",
       "      <th>week_4</th>\n",
       "      <td>9.00</td>\n",
       "      <td>7.00</td>\n",
       "      <td>8.50</td>\n",
       "      <td>8.00</td>\n",
       "      <td>8.00</td>\n",
       "      <td>Bob</td>\n",
       "    </tr>\n",
       "    <tr>\n",
       "      <th>week_4</th>\n",
       "      <td>9.25</td>\n",
       "      <td>9.25</td>\n",
       "      <td>8.50</td>\n",
       "      <td>7.75</td>\n",
       "      <td>7.50</td>\n",
       "      <td>Jane</td>\n",
       "    </tr>\n",
       "  </tbody>\n",
       "</table>\n",
       "</div>"
      ],
      "text/plain": [
       "         Mon   Tue    Wed  Thurs   Fri Student\n",
       "week_1  9.50  8.75   8.00  10.00  7.75     Bob\n",
       "week_1  9.00  8.00  10.00   8.75  7.25    Jane\n",
       "week_2  8.50  0.00   9.75   9.00  6.00     Bob\n",
       "week_2  7.00  8.25   9.25   0.00  8.00    Jane\n",
       "week_3  7.00  8.50   9.25   0.00  0.00     Bob\n",
       "week_3  8.50  8.25   9.00   8.00  7.50    Jane\n",
       "week_4  9.00  7.00   8.50   8.00  8.00     Bob\n",
       "week_4  9.25  9.25   8.50   7.75  7.50    Jane"
      ]
     },
     "execution_count": 202,
     "metadata": {},
     "output_type": "execute_result"
    }
   ],
   "source": [
    "days = [\"Mon\",\"Tue\",\"Wed\",\"Thurs\",\"Fri\",\"Student\"]\n",
    "scores = pd.DataFrame([pd.Series([9.5, 8.75, 8, 10, 7.75, \"Bob\"], index=days, name=\"week_1\"),\n",
    "pd.Series([9, 8, 10, 8.75, 7.25, \"Jane\"], index=days, name=\"week_1\"),\n",
    "pd.Series([8.5, 0, 9.75, 9, 6, \"Bob\"], index=days, name=\"week_2\"),\n",
    "pd.Series([7, 8.25, 9.25, 0, 8, \"Jane\"], index=days, name=\"week_2\"),\n",
    "pd.Series([7, 8.5, 9.25, 0, 0, \"Bob\"], index=days, name=\"week_3\"),\n",
    "pd.Series([8.5, 8.25, 9, 8, 7.5, \"Jane\"], index=days, name=\"week_3\"),\n",
    "pd.Series([9, 7, 8.5, 8, 8, \"Bob\"], index=days, name=\"week_4\"),\n",
    "pd.Series([9.25, 9.25, 8.5, 7.75, 7.5, \"Jane\"], index=days,\n",
    "\n",
    "name=\"week_4\"),\n",
    "]) \n",
    "\n",
    "scores"
   ]
  },
  {
   "cell_type": "markdown",
   "id": "occasional-general",
   "metadata": {},
   "source": [
    "#### 1. [P] Report the shape, the number of dimensions, the size of the data, and the data types of each column. Print each separately. Then create an additional code cell that shows the results of ```scores.info()```."
   ]
  },
  {
   "cell_type": "code",
   "execution_count": 203,
   "id": "accessory-athens",
   "metadata": {},
   "outputs": [
    {
     "name": "stdout",
     "output_type": "stream",
     "text": [
      "shape: (8, 6)\n",
      "number of dimensions: 2\n",
      "size of data: 48\n",
      "types of each column: \n",
      "\n",
      "Mon        float64\n",
      "Tue        float64\n",
      "Wed        float64\n",
      "Thurs      float64\n",
      "Fri        float64\n",
      "Student     object\n",
      "dtype: object\n"
     ]
    }
   ],
   "source": [
    "print(\"shape: \" + str(scores.shape))\n",
    "print(\"number of dimensions: \" + str(scores.ndim))\n",
    "print(\"size of data: \" + str(scores.size))\n",
    "print(\"types of each column: \\n\\n\" + str(scores.dtypes))"
   ]
  },
  {
   "cell_type": "code",
   "execution_count": 204,
   "id": "opponent-climb",
   "metadata": {},
   "outputs": [
    {
     "name": "stdout",
     "output_type": "stream",
     "text": [
      "<class 'pandas.core.frame.DataFrame'>\n",
      "Index: 8 entries, week_1 to week_4\n",
      "Data columns (total 6 columns):\n",
      " #   Column   Non-Null Count  Dtype  \n",
      "---  ------   --------------  -----  \n",
      " 0   Mon      8 non-null      float64\n",
      " 1   Tue      8 non-null      float64\n",
      " 2   Wed      8 non-null      float64\n",
      " 3   Thurs    8 non-null      float64\n",
      " 4   Fri      8 non-null      float64\n",
      " 5   Student  8 non-null      object \n",
      "dtypes: float64(5), object(1)\n",
      "memory usage: 448.0+ bytes\n"
     ]
    }
   ],
   "source": [
    "scores.info()"
   ]
  },
  {
   "cell_type": "markdown",
   "id": "unknown-circle",
   "metadata": {},
   "source": [
    "#### 2. [P] Show two different ways to report the number of observations in ```scores```."
   ]
  },
  {
   "cell_type": "code",
   "execution_count": 205,
   "id": "cognitive-integrity",
   "metadata": {},
   "outputs": [
    {
     "name": "stdout",
     "output_type": "stream",
     "text": [
      "report size via retrieving property .size: 48\n",
      "report size via multiplying dimensions: 48\n"
     ]
    }
   ],
   "source": [
    "# method 1: retrieve DataFrame property called size\n",
    "print(\"report size via retrieving property .size: \" + \\\n",
    "      str(scores.size))\n",
    "\n",
    "# method 2: multiply \n",
    "scores_size = -1\n",
    "for i in range(len(scores.shape)):\n",
    "    if i == 0: scores_size = scores.shape[0]\n",
    "    else: scores_size *= scores.shape[i]\n",
    "print(\"report size via multiplying dimensions: \" + \\\n",
    "      str(scores_size))\n",
    "    "
   ]
  },
  {
   "cell_type": "markdown",
   "id": "proved-jacket",
   "metadata": {},
   "source": [
    "#### 3. [P] Show the variables (i.e. columns) in ```scores```"
   ]
  },
  {
   "cell_type": "code",
   "execution_count": 206,
   "id": "abandoned-female",
   "metadata": {},
   "outputs": [
    {
     "data": {
      "text/plain": [
       "Index(['Mon', 'Tue', 'Wed', 'Thurs', 'Fri', 'Student'], dtype='object')"
      ]
     },
     "execution_count": 206,
     "metadata": {},
     "output_type": "execute_result"
    }
   ],
   "source": [
    "# get column index in .column property in DataFrame scores\n",
    "# to show variables (columns) of scores\n",
    "scores.columns"
   ]
  },
  {
   "cell_type": "markdown",
   "id": "distant-worse",
   "metadata": {},
   "source": [
    "#### 4. [P] There are repetitive names in the index. This happens quite a bit, depending on how the rows are to be named. For now. print the unique index names in ```scores```"
   ]
  },
  {
   "cell_type": "code",
   "execution_count": 207,
   "id": "ignored-program",
   "metadata": {},
   "outputs": [
    {
     "data": {
      "text/plain": [
       "Index(['week_1', 'week_2', 'week_3', 'week_4'], dtype='object')"
      ]
     },
     "execution_count": 207,
     "metadata": {},
     "output_type": "execute_result"
    }
   ],
   "source": [
    "scores.index.unique() # first, get the Index object that stores the\n",
    "                      # the index of the scores DataFrame\n",
    "                      # then, the call can be made from the\n",
    "                      # Index object to the .unique function to\n",
    "                      # return an Index object with the unique\n",
    "                      # index values from the Index object that\n",
    "                      # made the call"
   ]
  },
  {
   "cell_type": "markdown",
   "id": "formed-housing",
   "metadata": {},
   "source": [
    "#### 5. [P] Rename the 'Thurs' column header to be 'Thu' . (Hint: Changing ```scores.columns[3]``` directly will not work, not to mention it would be a poor approach to hard code a location this way! Magic numbers are never a good idea when referencing index or column locations. They may change!) Show the new scores data frame. This should be the same, except with Thurs changed to Thu."
   ]
  },
  {
   "cell_type": "code",
   "execution_count": 208,
   "id": "flush-outside",
   "metadata": {},
   "outputs": [
    {
     "data": {
      "text/html": [
       "<div>\n",
       "<style scoped>\n",
       "    .dataframe tbody tr th:only-of-type {\n",
       "        vertical-align: middle;\n",
       "    }\n",
       "\n",
       "    .dataframe tbody tr th {\n",
       "        vertical-align: top;\n",
       "    }\n",
       "\n",
       "    .dataframe thead th {\n",
       "        text-align: right;\n",
       "    }\n",
       "</style>\n",
       "<table border=\"1\" class=\"dataframe\">\n",
       "  <thead>\n",
       "    <tr style=\"text-align: right;\">\n",
       "      <th></th>\n",
       "      <th>Mon</th>\n",
       "      <th>Tue</th>\n",
       "      <th>Wed</th>\n",
       "      <th>Thu</th>\n",
       "      <th>Fri</th>\n",
       "      <th>Student</th>\n",
       "    </tr>\n",
       "  </thead>\n",
       "  <tbody>\n",
       "    <tr>\n",
       "      <th>week_1</th>\n",
       "      <td>9.50</td>\n",
       "      <td>8.75</td>\n",
       "      <td>8.00</td>\n",
       "      <td>10.00</td>\n",
       "      <td>7.75</td>\n",
       "      <td>Bob</td>\n",
       "    </tr>\n",
       "    <tr>\n",
       "      <th>week_1</th>\n",
       "      <td>9.00</td>\n",
       "      <td>8.00</td>\n",
       "      <td>10.00</td>\n",
       "      <td>8.75</td>\n",
       "      <td>7.25</td>\n",
       "      <td>Jane</td>\n",
       "    </tr>\n",
       "    <tr>\n",
       "      <th>week_2</th>\n",
       "      <td>8.50</td>\n",
       "      <td>0.00</td>\n",
       "      <td>9.75</td>\n",
       "      <td>9.00</td>\n",
       "      <td>6.00</td>\n",
       "      <td>Bob</td>\n",
       "    </tr>\n",
       "    <tr>\n",
       "      <th>week_2</th>\n",
       "      <td>7.00</td>\n",
       "      <td>8.25</td>\n",
       "      <td>9.25</td>\n",
       "      <td>0.00</td>\n",
       "      <td>8.00</td>\n",
       "      <td>Jane</td>\n",
       "    </tr>\n",
       "    <tr>\n",
       "      <th>week_3</th>\n",
       "      <td>7.00</td>\n",
       "      <td>8.50</td>\n",
       "      <td>9.25</td>\n",
       "      <td>0.00</td>\n",
       "      <td>0.00</td>\n",
       "      <td>Bob</td>\n",
       "    </tr>\n",
       "    <tr>\n",
       "      <th>week_3</th>\n",
       "      <td>8.50</td>\n",
       "      <td>8.25</td>\n",
       "      <td>9.00</td>\n",
       "      <td>8.00</td>\n",
       "      <td>7.50</td>\n",
       "      <td>Jane</td>\n",
       "    </tr>\n",
       "    <tr>\n",
       "      <th>week_4</th>\n",
       "      <td>9.00</td>\n",
       "      <td>7.00</td>\n",
       "      <td>8.50</td>\n",
       "      <td>8.00</td>\n",
       "      <td>8.00</td>\n",
       "      <td>Bob</td>\n",
       "    </tr>\n",
       "    <tr>\n",
       "      <th>week_4</th>\n",
       "      <td>9.25</td>\n",
       "      <td>9.25</td>\n",
       "      <td>8.50</td>\n",
       "      <td>7.75</td>\n",
       "      <td>7.50</td>\n",
       "      <td>Jane</td>\n",
       "    </tr>\n",
       "  </tbody>\n",
       "</table>\n",
       "</div>"
      ],
      "text/plain": [
       "         Mon   Tue    Wed    Thu   Fri Student\n",
       "week_1  9.50  8.75   8.00  10.00  7.75     Bob\n",
       "week_1  9.00  8.00  10.00   8.75  7.25    Jane\n",
       "week_2  8.50  0.00   9.75   9.00  6.00     Bob\n",
       "week_2  7.00  8.25   9.25   0.00  8.00    Jane\n",
       "week_3  7.00  8.50   9.25   0.00  0.00     Bob\n",
       "week_3  8.50  8.25   9.00   8.00  7.50    Jane\n",
       "week_4  9.00  7.00   8.50   8.00  8.00     Bob\n",
       "week_4  9.25  9.25   8.50   7.75  7.50    Jane"
      ]
     },
     "execution_count": 208,
     "metadata": {},
     "output_type": "execute_result"
    }
   ],
   "source": [
    "scores.rename({\"Thurs\": \"Thu\"}, axis='columns', inplace=True)\n",
    "scores"
   ]
  },
  {
   "cell_type": "markdown",
   "id": "worldwide-engineering",
   "metadata": {},
   "source": [
    "#### 6. [P] Now, make a bigger change. Let's rename '```week_1```' to be '```w1```', '```week_2```' to be 'w2', and so on. Also, suppose you decide to use only 2 letter abbreviations for the days. Rename the days in the column names to be 'Mo', 'Tu', 'We', 'Th', 'Fr'. Show the updated scores dataframe. It should appear as follows:"
   ]
  },
  {
   "cell_type": "code",
   "execution_count": 209,
   "id": "boring-brown",
   "metadata": {},
   "outputs": [
    {
     "data": {
      "text/html": [
       "<div>\n",
       "<style scoped>\n",
       "    .dataframe tbody tr th:only-of-type {\n",
       "        vertical-align: middle;\n",
       "    }\n",
       "\n",
       "    .dataframe tbody tr th {\n",
       "        vertical-align: top;\n",
       "    }\n",
       "\n",
       "    .dataframe thead th {\n",
       "        text-align: right;\n",
       "    }\n",
       "</style>\n",
       "<table border=\"1\" class=\"dataframe\">\n",
       "  <thead>\n",
       "    <tr style=\"text-align: right;\">\n",
       "      <th></th>\n",
       "      <th>Mo</th>\n",
       "      <th>Tu</th>\n",
       "      <th>We</th>\n",
       "      <th>Th</th>\n",
       "      <th>Fr</th>\n",
       "      <th>Student</th>\n",
       "    </tr>\n",
       "  </thead>\n",
       "  <tbody>\n",
       "    <tr>\n",
       "      <th>w1</th>\n",
       "      <td>9.50</td>\n",
       "      <td>8.75</td>\n",
       "      <td>8.00</td>\n",
       "      <td>10.00</td>\n",
       "      <td>7.75</td>\n",
       "      <td>Bob</td>\n",
       "    </tr>\n",
       "    <tr>\n",
       "      <th>w1</th>\n",
       "      <td>9.00</td>\n",
       "      <td>8.00</td>\n",
       "      <td>10.00</td>\n",
       "      <td>8.75</td>\n",
       "      <td>7.25</td>\n",
       "      <td>Jane</td>\n",
       "    </tr>\n",
       "    <tr>\n",
       "      <th>w2</th>\n",
       "      <td>8.50</td>\n",
       "      <td>0.00</td>\n",
       "      <td>9.75</td>\n",
       "      <td>9.00</td>\n",
       "      <td>6.00</td>\n",
       "      <td>Bob</td>\n",
       "    </tr>\n",
       "    <tr>\n",
       "      <th>w2</th>\n",
       "      <td>7.00</td>\n",
       "      <td>8.25</td>\n",
       "      <td>9.25</td>\n",
       "      <td>0.00</td>\n",
       "      <td>8.00</td>\n",
       "      <td>Jane</td>\n",
       "    </tr>\n",
       "    <tr>\n",
       "      <th>w3</th>\n",
       "      <td>7.00</td>\n",
       "      <td>8.50</td>\n",
       "      <td>9.25</td>\n",
       "      <td>0.00</td>\n",
       "      <td>0.00</td>\n",
       "      <td>Bob</td>\n",
       "    </tr>\n",
       "    <tr>\n",
       "      <th>w3</th>\n",
       "      <td>8.50</td>\n",
       "      <td>8.25</td>\n",
       "      <td>9.00</td>\n",
       "      <td>8.00</td>\n",
       "      <td>7.50</td>\n",
       "      <td>Jane</td>\n",
       "    </tr>\n",
       "    <tr>\n",
       "      <th>w4</th>\n",
       "      <td>9.00</td>\n",
       "      <td>7.00</td>\n",
       "      <td>8.50</td>\n",
       "      <td>8.00</td>\n",
       "      <td>8.00</td>\n",
       "      <td>Bob</td>\n",
       "    </tr>\n",
       "    <tr>\n",
       "      <th>w4</th>\n",
       "      <td>9.25</td>\n",
       "      <td>9.25</td>\n",
       "      <td>8.50</td>\n",
       "      <td>7.75</td>\n",
       "      <td>7.50</td>\n",
       "      <td>Jane</td>\n",
       "    </tr>\n",
       "  </tbody>\n",
       "</table>\n",
       "</div>"
      ],
      "text/plain": [
       "      Mo    Tu     We     Th    Fr Student\n",
       "w1  9.50  8.75   8.00  10.00  7.75     Bob\n",
       "w1  9.00  8.00  10.00   8.75  7.25    Jane\n",
       "w2  8.50  0.00   9.75   9.00  6.00     Bob\n",
       "w2  7.00  8.25   9.25   0.00  8.00    Jane\n",
       "w3  7.00  8.50   9.25   0.00  0.00     Bob\n",
       "w3  8.50  8.25   9.00   8.00  7.50    Jane\n",
       "w4  9.00  7.00   8.50   8.00  8.00     Bob\n",
       "w4  9.25  9.25   8.50   7.75  7.50    Jane"
      ]
     },
     "execution_count": 209,
     "metadata": {},
     "output_type": "execute_result"
    }
   ],
   "source": [
    "def _rename_indices_to_w_num(df: pd.DataFrame):\n",
    "    '''\n",
    "    Assumption: each row index value in the inputted DataFrame \n",
    "    starts with w and ends with the week number\n",
    "    \n",
    "    This private utility method renames each row index value in the\n",
    "    inputted pd.DataFrame object to w<week_number>, e.g. w1 for\n",
    "    week 1, w2 for week 2, etc.\n",
    "    \n",
    "        Parameters:\n",
    "            df (pd.DataFrame): pd.DataFrame object whose rows\n",
    "                               are undergoing in the renaming\n",
    "    '''\n",
    "    rename_dict = {}\n",
    "    for index_value in scores.index:\n",
    "        if not(index_value in rename_dict):\n",
    "            rename_dict[index_value] = \"w\" + index_value[-1] \n",
    "    df.rename(rename_dict, axis='index', inplace=True)\n",
    "\n",
    "def _rename_columns_to_two_letter_day_names(df: pd.DataFrame):\n",
    "    \"\"\"\n",
    "    This private utility renames each column name value \n",
    "    in the inputted pd.DataFrame object to its two letter \n",
    "    equivalent, e.g. Monday or Mon becomes Mo, Tueesday, Tues,\n",
    "    or Tue becomes Tu, etc.\n",
    "    \n",
    "    The implementation sifts through columns in the inputted\n",
    "    pd.DataFrame object for days of the week. When and if it finds\n",
    "    a day of the week, it renames it to the two-letter abbreviation\n",
    "    of that day of the week.\n",
    "    \n",
    "        Parameters:\n",
    "            df (pd.DataFrame): pd.DataFrame object whose columns\n",
    "                               are undergoing renaming\n",
    "    \"\"\"\n",
    "    \n",
    "    # list of the variations of names/abbreviations (except the\n",
    "    # two-letter ones) of the days of the week\n",
    "    days=['Sunday', 'Monday', 'Tuesday', 'Wednesday', \\\n",
    "          'Thursday', 'Friday', 'Saturday']\n",
    "    day_abbreviations_without_two_letter=['Sun', 'Mon', 'Tue', \\\n",
    "                                          'Tues', 'Wed', 'Thu', \\\n",
    "                                           'Thurs', 'Fri', 'Sat']\n",
    "    rename_dict = {}\n",
    "    for column_value in scores.columns:\n",
    "        if not(column_value in rename_dict):\n",
    "            if ((column_value in days) or \\\n",
    "                (column_value in \\\n",
    "                 day_abbreviations_without_two_letter)):\n",
    "                rename_dict[column_value] = column_value[0:2]\n",
    "    df.rename(rename_dict, axis='columns', inplace=True)\n",
    "            \n",
    "_rename_indices_to_w_num(scores)\n",
    "_rename_columns_to_two_letter_day_names(scores)\n",
    "\n",
    "scores"
   ]
  },
  {
   "cell_type": "markdown",
   "id": "spread-intent",
   "metadata": {},
   "source": [
    "#### 7. [PM] Compare the type of the expression scores['Mo'] vs. scores[['Mo']]. What is the difference? (HINT: use the type() Python function on both.)"
   ]
  },
  {
   "cell_type": "code",
   "execution_count": 210,
   "id": "olympic-messaging",
   "metadata": {},
   "outputs": [],
   "source": [
    "### Borrowed from my responses to lab03\n",
    "\n",
    "def _print_item_and_type(item_to_print):\n",
    "    '''\n",
    "    This local, private utility method prints the item and type of \n",
    "    item being printed.\n",
    "    \n",
    "        Parameters:\n",
    "                item_to_print: any time of item being printed\n",
    "    '''\n",
    "    try: \n",
    "        print(item_to_print)\n",
    "        print()\n",
    "        print(\"return type: \" + str(type(item_to_print)))\n",
    "    except: \n",
    "        print(\"print_type method error: an error occurred \\\n",
    "        while trying to print the type of an object.\")\n",
    "    \n",
    "def _print_n_lines(num_lines: int):\n",
    "    '''\n",
    "    This local, private utility method prints num_lines number \n",
    "    of lines.\n",
    "    \n",
    "        Parameters:\n",
    "            num_lines (int): number of lines to be printed\n",
    "    '''\n",
    "    for i in range(num_lines):\n",
    "        print()\n",
    "        \n",
    "def _print_two_lines():\n",
    "    '''\n",
    "    This local, private utility method calls _print_n_lines to \n",
    "    print two lines.\n",
    "    '''\n",
    "    _print_n_lines(2)"
   ]
  },
  {
   "cell_type": "code",
   "execution_count": 211,
   "id": "asian-criterion",
   "metadata": {},
   "outputs": [
    {
     "name": "stdout",
     "output_type": "stream",
     "text": [
      "scores['Mo']: \n",
      "\n",
      "w1    9.50\n",
      "w1    9.00\n",
      "w2    8.50\n",
      "w2    7.00\n",
      "w3    7.00\n",
      "w3    8.50\n",
      "w4    9.00\n",
      "w4    9.25\n",
      "Name: Mo, dtype: float64\n",
      "\n",
      "return type: <class 'pandas.core.series.Series'>\n",
      "\n",
      "\n",
      "scores[['Mo']]: \n",
      "\n",
      "      Mo\n",
      "w1  9.50\n",
      "w1  9.00\n",
      "w2  8.50\n",
      "w2  7.00\n",
      "w3  7.00\n",
      "w3  8.50\n",
      "w4  9.00\n",
      "w4  9.25\n",
      "\n",
      "return type: <class 'pandas.core.frame.DataFrame'>\n"
     ]
    }
   ],
   "source": [
    "print(\"scores['Mo']: \\n\")\n",
    "_print_item_and_type(scores['Mo'])\n",
    "_print_two_lines()\n",
    "print(\"scores[['Mo']]: \\n\")\n",
    "_print_item_and_type(scores[['Mo']])"
   ]
  },
  {
   "cell_type": "markdown",
   "id": "excellent-biodiversity",
   "metadata": {},
   "source": [
    "```scores['Mo']``` extracts the column with the column label 'Mo' from the DataFrame in the form of a *pd.Series object*. On the other hand, ```scores[['Mo']]``` specifies a selection of columns within the DataFrame, which is another *pd.DataFrame*; the selection just happens to only have the column label 'Mo,' hence why the string representations, or print outputs, of ```scores['Mo']``` and ```scores[['Mo']]``` are similar."
   ]
  },
  {
   "cell_type": "markdown",
   "id": "democratic-shoot",
   "metadata": {},
   "source": [
    "#### 8. [P] Demonstrate the describe() method on scores. What type does it return?"
   ]
  },
  {
   "cell_type": "code",
   "execution_count": 212,
   "id": "affiliated-stadium",
   "metadata": {},
   "outputs": [
    {
     "name": "stdout",
     "output_type": "stream",
     "text": [
      "             Mo      Tu         We         Th        Fr\n",
      "count  8.000000  8.0000   8.000000   8.000000  8.000000\n",
      "mean   8.468750  7.2500   9.031250   6.437500  6.500000\n",
      "std    0.967669  3.0000   0.673974   4.037215  2.702512\n",
      "min    7.000000  0.0000   8.000000   0.000000  0.000000\n",
      "25%    8.125000  7.7500   8.500000   5.812500  6.937500\n",
      "50%    8.750000  8.2500   9.125000   8.000000  7.500000\n",
      "75%    9.062500  8.5625   9.375000   8.812500  7.812500\n",
      "max    9.500000  9.2500  10.000000  10.000000  8.000000\n",
      "\n",
      "return type: <class 'pandas.core.frame.DataFrame'>\n"
     ]
    }
   ],
   "source": [
    "_print_item_and_type(scores.describe())"
   ]
  },
  {
   "cell_type": "markdown",
   "id": "small-matrix",
   "metadata": {},
   "source": [
    "describe() on scores returns an object that is of type DataFrame (returns a DataFrame). \n",
    "\n",
    "It returns the following (*extra information*):\n",
    "* count: number of values in the column\n",
    "* mean: mean of values in the column\n",
    "* std: standard deviation of the values in the column\n",
    "* min: minimum value of the values in the column\n",
    "* 25%: 25 percentile of the values in the column\n",
    "  (numpy.percentile is used to calculate the \n",
    "  percentile value<sup>1 2</sup>)\n",
    "* 50%/median: median of the values in the column\n",
    "* 75%: 75 percentile of the values in the column\n",
    "  (numpy.percentile is used to calculate the \n",
    "  percentile value<sup>1 2</sup>)\n",
    "* max: maximum values of the values in the column\n",
    "\n",
    "Source:\n",
    "1. https://stackoverflow.com/questions/39567712/python-pandas-how-is-25-percentile-calculated-by-describe-function\n",
    "2. https://github.com/pandas-dev/pandas/blob/master/pandas/core/series.py"
   ]
  },
  {
   "cell_type": "markdown",
   "id": "appointed-brick",
   "metadata": {},
   "source": [
    "#### 9. [P] Store the output of describe() as a variable. Then, using this data frame, report the day that had the largest standard deviation in quiz scores and its value. Clean your temporary variables when complete (i.e. use del)\n",
    "\n",
    "#### Your output should look something like:\n",
    "```Th had the highest standard deviation: 4.037```"
   ]
  },
  {
   "cell_type": "code",
   "execution_count": 213,
   "id": "needed-helping",
   "metadata": {},
   "outputs": [
    {
     "name": "stdout",
     "output_type": "stream",
     "text": [
      "Th had the highest standard deviation: 4.037\n"
     ]
    }
   ],
   "source": [
    "class InvalidStatLabelError(Exception):\n",
    "    \"\"\"\n",
    "    Raised when the inputted label is not one of the statistics\n",
    "    (row indices) outputted from the pd.DataFrame function\n",
    "    .describe()\n",
    "    \"\"\"\n",
    "    pass\n",
    "\n",
    "def _print_max_value_and_column_label(df: pd.DataFrame, \n",
    "                                     stat_label: str,\n",
    "                                     stat_full_name: str,\n",
    "                                     num_dec_plcs: int):\n",
    "    \"\"\"\n",
    "    This private, local utility method prints the maximum \n",
    "    value of the attribute stat_full_name abbreviated by stat_label\n",
    "    (within the index of the pd.DataFrame object) from the inputted\n",
    "    pd.DataFrame object df. The result is printed to three decimal \n",
    "    places by default.\n",
    "    \n",
    "        Parameters: \n",
    "                df (pd.DataFrame): pd.DataFrame object whose\n",
    "                                   attributes are being analyzed\n",
    "                stat_label (str): abbreviation of statistics\n",
    "                                  within the index of the\n",
    "                                  inputted pd.DataFrame object\n",
    "                                  df\n",
    "                stat_full_name (str): full name of the statistics\n",
    "                                      whose maximum being searched,\n",
    "                                      retrieved, and printed\n",
    "                num_dec_places (int): number of decimals the\n",
    "                                      printed statistics value\n",
    "                                      will have\n",
    "                                      \n",
    "    \"\"\"\n",
    "    df_stats_summary = df.describe() # stats from .describe\n",
    "                                     # on the inputted pd.DataFrame\n",
    "                                     # object\n",
    "    try:\n",
    "        # isolating the row of stats being selected based on\n",
    "        # the inputted stat_label, e.g. std, mean, etc.\n",
    "        selected_stat_row = df_stats_summary.loc[stat_label]\n",
    "    except KeyError:\n",
    "        raise InvalidStatLabelError(\n",
    "            stat_label + \" is not a valid \" + \n",
    "            \"row in the inputted DataFrame.\")\n",
    "    except:\n",
    "        print(\"Some other exception occurred while trying to \" + \n",
    "              \"access the requested stat in the inputted \" + \n",
    "              \"pd.DataFrame object.\\n\")\n",
    "        raise\n",
    "    \n",
    "    column_label_of_max_stat = selected_stat_row.idxmax()\n",
    "    print(\n",
    "        column_label_of_max_stat + \n",
    "        \" had the highest \" +\n",
    "        stat_full_name +\n",
    "        (\": {:.\" + str(num_dec_plcs) + \"f}\") \n",
    "        .format( \n",
    "                selected_stat_row.at[column_label_of_max_stat] \n",
    "                )\n",
    "        )\n",
    "    # deleting temporary function parameter variables\n",
    "    del df\n",
    "    del stat_label\n",
    "    del stat_full_name\n",
    "    del num_dec_plcs\n",
    "    # deleting temporary local variables\n",
    "    del df_stats_summary\n",
    "    del selected_stat_row\n",
    "    del column_label_of_max_stat\n",
    "\n",
    "_print_max_value_and_column_label(scores, \n",
    "                                  \"std\", \n",
    "                                  \"standard deviation\", \n",
    "                                  3)"
   ]
  },
  {
   "cell_type": "markdown",
   "id": "ruled-transparency",
   "metadata": {},
   "source": [
    "#### 10. [P] Knowing that describe() is nothing more than another data frame is interesting. However, it's more important to write code to output the specific results you are looking for. Write the Python code to repeat the previous exercise without using describe()."
   ]
  },
  {
   "cell_type": "code",
   "execution_count": 214,
   "id": "impaired-suspension",
   "metadata": {},
   "outputs": [
    {
     "name": "stdout",
     "output_type": "stream",
     "text": [
      "Th had the highest standard deviation: 4.037\n"
     ]
    }
   ],
   "source": [
    "day_std_values = scores.std(axis=0)\n",
    "day_max_std = day_std_values.idxmax()\n",
    "num_dec_plcs = 3\n",
    "\n",
    "print(\n",
    "      day_max_std + \\\n",
    "      \" had the highest standard deviation: \" + \\\n",
    "      (\"{:.\" + str(num_dec_plcs) + \"f}\") \\\n",
    "       .format(day_std_values.at[day_max_std])\n",
    "     )\n"
   ]
  },
  {
   "cell_type": "markdown",
   "id": "least-version",
   "metadata": {},
   "source": [
    "#### 11. [P] Write the code that changes all 0.0 entries to np.nan. (NOTE: You should be able to do this with just one line of code using pandas selection techniques!) Then, show scores. All 0.0 entries should be replaced with NaN in the output."
   ]
  },
  {
   "cell_type": "code",
   "execution_count": 215,
   "id": "parental-choice",
   "metadata": {},
   "outputs": [
    {
     "data": {
      "text/html": [
       "<div>\n",
       "<style scoped>\n",
       "    .dataframe tbody tr th:only-of-type {\n",
       "        vertical-align: middle;\n",
       "    }\n",
       "\n",
       "    .dataframe tbody tr th {\n",
       "        vertical-align: top;\n",
       "    }\n",
       "\n",
       "    .dataframe thead th {\n",
       "        text-align: right;\n",
       "    }\n",
       "</style>\n",
       "<table border=\"1\" class=\"dataframe\">\n",
       "  <thead>\n",
       "    <tr style=\"text-align: right;\">\n",
       "      <th></th>\n",
       "      <th>Mo</th>\n",
       "      <th>Tu</th>\n",
       "      <th>We</th>\n",
       "      <th>Th</th>\n",
       "      <th>Fr</th>\n",
       "      <th>Student</th>\n",
       "    </tr>\n",
       "  </thead>\n",
       "  <tbody>\n",
       "    <tr>\n",
       "      <th>w1</th>\n",
       "      <td>9.50</td>\n",
       "      <td>8.75</td>\n",
       "      <td>8.00</td>\n",
       "      <td>10.00</td>\n",
       "      <td>7.75</td>\n",
       "      <td>Bob</td>\n",
       "    </tr>\n",
       "    <tr>\n",
       "      <th>w1</th>\n",
       "      <td>9.00</td>\n",
       "      <td>8.00</td>\n",
       "      <td>10.00</td>\n",
       "      <td>8.75</td>\n",
       "      <td>7.25</td>\n",
       "      <td>Jane</td>\n",
       "    </tr>\n",
       "    <tr>\n",
       "      <th>w2</th>\n",
       "      <td>8.50</td>\n",
       "      <td>NaN</td>\n",
       "      <td>9.75</td>\n",
       "      <td>9.00</td>\n",
       "      <td>6.00</td>\n",
       "      <td>Bob</td>\n",
       "    </tr>\n",
       "    <tr>\n",
       "      <th>w2</th>\n",
       "      <td>7.00</td>\n",
       "      <td>8.25</td>\n",
       "      <td>9.25</td>\n",
       "      <td>NaN</td>\n",
       "      <td>8.00</td>\n",
       "      <td>Jane</td>\n",
       "    </tr>\n",
       "    <tr>\n",
       "      <th>w3</th>\n",
       "      <td>7.00</td>\n",
       "      <td>8.50</td>\n",
       "      <td>9.25</td>\n",
       "      <td>NaN</td>\n",
       "      <td>NaN</td>\n",
       "      <td>Bob</td>\n",
       "    </tr>\n",
       "    <tr>\n",
       "      <th>w3</th>\n",
       "      <td>8.50</td>\n",
       "      <td>8.25</td>\n",
       "      <td>9.00</td>\n",
       "      <td>8.00</td>\n",
       "      <td>7.50</td>\n",
       "      <td>Jane</td>\n",
       "    </tr>\n",
       "    <tr>\n",
       "      <th>w4</th>\n",
       "      <td>9.00</td>\n",
       "      <td>7.00</td>\n",
       "      <td>8.50</td>\n",
       "      <td>8.00</td>\n",
       "      <td>8.00</td>\n",
       "      <td>Bob</td>\n",
       "    </tr>\n",
       "    <tr>\n",
       "      <th>w4</th>\n",
       "      <td>9.25</td>\n",
       "      <td>9.25</td>\n",
       "      <td>8.50</td>\n",
       "      <td>7.75</td>\n",
       "      <td>7.50</td>\n",
       "      <td>Jane</td>\n",
       "    </tr>\n",
       "  </tbody>\n",
       "</table>\n",
       "</div>"
      ],
      "text/plain": [
       "      Mo    Tu     We     Th    Fr Student\n",
       "w1  9.50  8.75   8.00  10.00  7.75     Bob\n",
       "w1  9.00  8.00  10.00   8.75  7.25    Jane\n",
       "w2  8.50   NaN   9.75   9.00  6.00     Bob\n",
       "w2  7.00  8.25   9.25    NaN  8.00    Jane\n",
       "w3  7.00  8.50   9.25    NaN   NaN     Bob\n",
       "w3  8.50  8.25   9.00   8.00  7.50    Jane\n",
       "w4  9.00  7.00   8.50   8.00  8.00     Bob\n",
       "w4  9.25  9.25   8.50   7.75  7.50    Jane"
      ]
     },
     "execution_count": 215,
     "metadata": {},
     "output_type": "execute_result"
    }
   ],
   "source": [
    "scores.replace(0, np.nan, inplace=True)\n",
    "\n",
    "scores"
   ]
  },
  {
   "cell_type": "markdown",
   "id": "corporate-luther",
   "metadata": {},
   "source": [
    "#### 12. [P] Show the output of describe() again. Yes, this is better! Note how much more informative this output is when properly dealing with missing data. Copy your code from above to output the day with the largest standard deviation in quiz scores. You should have a substantially different result than you did before!"
   ]
  },
  {
   "cell_type": "code",
   "execution_count": 216,
   "id": "aggressive-physiology",
   "metadata": {},
   "outputs": [
    {
     "name": "stdout",
     "output_type": "stream",
     "text": [
      "             Mo        Tu         We         Th        Fr\n",
      "count  8.000000  7.000000   8.000000   6.000000  7.000000\n",
      "mean   8.468750  8.285714   9.031250   8.583333  7.428571\n",
      "std    0.967669  0.698638   0.673974   0.846562  0.687906\n",
      "min    7.000000  7.000000   8.000000   7.750000  6.000000\n",
      "25%    8.125000  8.125000   8.500000   8.000000  7.375000\n",
      "50%    8.750000  8.250000   9.125000   8.375000  7.500000\n",
      "75%    9.062500  8.625000   9.375000   8.937500  7.875000\n",
      "max    9.500000  9.250000  10.000000  10.000000  8.000000\n",
      "\n",
      "Mo had the highest standard deviation: 0.968\n"
     ]
    }
   ],
   "source": [
    "print(scores.describe())\n",
    "print()\n",
    "\n",
    "day_std_values = scores.std(axis=0)\n",
    "day_max_std = day_std_values.idxmax()\n",
    "stat_sig_figs = 3\n",
    "\n",
    "print(\n",
    "      day_max_std + \\\n",
    "      \" had the highest standard deviation: \" + \\\n",
    "      (\"{:.\" + str(stat_sig_figs) + \"f}\") \\\n",
    "       .format(day_std_values.at[day_max_std])\n",
    "     )\n",
    "\n"
   ]
  },
  {
   "cell_type": "markdown",
   "id": "closing-speaking",
   "metadata": {},
   "source": [
    "#### 13. [PM] Show the output of scores.values. What does the .values attribute do?"
   ]
  },
  {
   "cell_type": "code",
   "execution_count": 217,
   "id": "sustained-effect",
   "metadata": {},
   "outputs": [
    {
     "name": "stdout",
     "output_type": "stream",
     "text": [
      "[[9.5 8.75 8.0 10.0 7.75 'Bob']\n",
      " [9.0 8.0 10.0 8.75 7.25 'Jane']\n",
      " [8.5 nan 9.75 9.0 6.0 'Bob']\n",
      " [7.0 8.25 9.25 nan 8.0 'Jane']\n",
      " [7.0 8.5 9.25 nan nan 'Bob']\n",
      " [8.5 8.25 9.0 8.0 7.5 'Jane']\n",
      " [9.0 7.0 8.5 8.0 8.0 'Bob']\n",
      " [9.25 9.25 8.5 7.75 7.5 'Jane']]\n",
      "\n",
      "type of scores.values: <class 'numpy.ndarray'>\n"
     ]
    }
   ],
   "source": [
    "print(scores.values)\n",
    "print()\n",
    "print(\"type of scores.values: \" + str(type(scores.values)))"
   ]
  },
  {
   "cell_type": "markdown",
   "id": "heated-monkey",
   "metadata": {},
   "source": [
    "The .values attribute of a DataFrame object returns a 2D\n",
    "ndarray object with the underlying values stored in the\n",
    "DataFrame object, removing the labels of the axes.<sup>1</sup>\n",
    "\n",
    "Source:\n",
    "1. https://pandas.pydata.org/docs/reference/api/pandas.DataFrame.values.html"
   ]
  },
  {
   "cell_type": "markdown",
   "id": "united-monroe",
   "metadata": {},
   "source": [
    "#### 14. [P] What is the mean quiz score for each day? Do not use describe()"
   ]
  },
  {
   "cell_type": "code",
   "execution_count": 218,
   "id": "framed-illustration",
   "metadata": {},
   "outputs": [
    {
     "name": "stdout",
     "output_type": "stream",
     "text": [
      "      Mo    Tu     We     Th    Fr Student\n",
      "w1  9.50  8.75   8.00  10.00  7.75     Bob\n",
      "w1  9.00  8.00  10.00   8.75  7.25    Jane\n",
      "w2  8.50   NaN   9.75   9.00  6.00     Bob\n",
      "w2  7.00  8.25   9.25    NaN  8.00    Jane\n",
      "w3  7.00  8.50   9.25    NaN   NaN     Bob\n",
      "w3  8.50  8.25   9.00   8.00  7.50    Jane\n",
      "w4  9.00  7.00   8.50   8.00  8.00     Bob\n",
      "w4  9.25  9.25   8.50   7.75  7.50    Jane\n"
     ]
    }
   ],
   "source": [
    "scores.mean(axis=0, skipna=True) # skipna=True redundant\n",
    "                                 # setting intention for\n",
    "                                 # maintainability\n",
    "\n",
    "print(scores)"
   ]
  },
  {
   "cell_type": "markdown",
   "id": "incorporated-embassy",
   "metadata": {},
   "source": [
    "#### 15. [P] What is the mean quiz score over the entire dataset, ignoring all missing values? (HINT: there are many ways to do this, and no solution should involve writing any loops! The only right answer is 8.375. If you aren't getting that, then you are not handling NaN values correctly. You only want the mean over all scores that are NOT NaN!)"
   ]
  },
  {
   "cell_type": "code",
   "execution_count": 219,
   "id": "romantic-plymouth",
   "metadata": {},
   "outputs": [
    {
     "data": {
      "text/plain": [
       "8.375"
      ]
     },
     "execution_count": 219,
     "metadata": {},
     "output_type": "execute_result"
    }
   ],
   "source": [
    "numeric_values_in_scores = scores.select_dtypes(np.number)\n",
    "np.nanmean(numeric_values_in_scores.values)"
   ]
  },
  {
   "cell_type": "markdown",
   "id": "contrary-cycle",
   "metadata": {},
   "source": [
    "#### 16. [P] Show the mean for each week over all students. Again, you are not counting missing quizzes into the average. (Yes, technically you could write a loop to compute this exhaustively. However, you should rarely need to do that. Use pandas!)\n",
    "\n",
    "#### You have the correct result if you report the following:\n",
    "#### *(same as output below)*"
   ]
  },
  {
   "cell_type": "code",
   "execution_count": 294,
   "id": "invalid-moscow",
   "metadata": {},
   "outputs": [
    {
     "name": "stdout",
     "output_type": "stream",
     "text": [
      "Mean score for each week over all students\n",
      "w1    8.70000\n",
      "w2    8.21875\n",
      "w3    8.25000\n",
      "w4    8.27500\n",
      "dtype: float64\n"
     ]
    }
   ],
   "source": [
    "# IMPLEMENTATION #1 (my improvement on IMPLEMENTATION #2)\n",
    "\n",
    "student_col_name = 'Student' \n",
    "\n",
    "print(\"Mean score for each week over all students\")\n",
    "\n",
    "# specification of which student the scores belong to\n",
    "# are not relevant for the purposes of this conversation and\n",
    "# will only interfere with calculating the mean down the road\n",
    "scores_without_student_names = scores.drop(columns= \\\n",
    "                                           student_col_name)\n",
    "\n",
    "print(\n",
    "    scores.index.unique().to_series().apply( # vectorize on each\n",
    "                                             # index value\n",
    "        lambda x: scores_without_student_names \\\n",
    "                  .loc[x] # obtain DataFrame selecting week \\\n",
    "                  .stack() # make that DataFrame into a Series \\\n",
    "                  .mean(skipna=True) # find mean of the Series\n",
    "                                     # while skipping all NaN vals\n",
    "    )\n",
    "    \n",
    ")"
   ]
  },
  {
   "cell_type": "code",
   "execution_count": 295,
   "id": "arabic-wireless",
   "metadata": {
    "scrolled": true
   },
   "outputs": [
    {
     "name": "stdout",
     "output_type": "stream",
     "text": [
      "Mean score for each week over all students\n",
      "w1    8.70000\n",
      "w2    8.21875\n",
      "w3    8.25000\n",
      "w4    8.27500\n",
      "dtype: float64\n"
     ]
    }
   ],
   "source": [
    "# IMPLEMENTATION #2 (my first reasonable implementation)\n",
    "\n",
    "student_col_name = 'Student' \n",
    "\n",
    "print(\"Mean score for each week over all students\")\n",
    "# after removing column with student names, create a group\n",
    "# of DataFrames by the index, or week, that is\n",
    "# (represented by a pandas.core.groupby.generic.DataFrameGroupBy\n",
    "# object)\n",
    "# each DataFrame (containing a particular week's data) is a 'group'\n",
    "week_groups = scores. \\\n",
    "                  drop(columns=student_col_name). \\\n",
    "                  groupby(level=0, \n",
    "                          dropna=False) \n",
    "\n",
    "# finding unique index values, i.e. name of each week like\n",
    "# w1 for week 1, w2 for week 2, etc. and then converting it to\n",
    "# a Series object instead of list to later use the vectorization\n",
    "# methods in pandas\n",
    "index_values = scores.index.unique().to_series()\n",
    "\n",
    "# for each unique index value, retrieve a DataFrame containing\n",
    "# the data associated with that unique index value (one or more\n",
    "# rows in the original data frame - in this case, scores) using\n",
    "# function vectorization of pandas.core.groupby.Groupby.get_group\n",
    "# the result is a series of DataFrames ('groups')\n",
    "series_of_dfs = scores.index.unique(). \\\n",
    "to_series().apply(week_groups.get_group)\n",
    "\n",
    "# finally, for each DataFrame in the Series series_of_dfs,\n",
    "# stack it and then take the mean of that stack, skipping the over\n",
    "# the NaN values\n",
    "print(index_values.apply(\n",
    "    lambda x: lst_of_groups[x].stack().mean(skipna=True))) \n",
    "                                            # default for skipna\n",
    "                                            # is True, but better\n",
    "                                            # to specify for\n",
    "                                            # readability"
   ]
  },
  {
   "cell_type": "markdown",
   "id": "large-egyptian",
   "metadata": {},
   "source": [
    "#### 17. [P] Show the mean score for each student. Again, ignore all missing values."
   ]
  },
  {
   "cell_type": "code",
   "execution_count": 296,
   "id": "another-overall",
   "metadata": {},
   "outputs": [
    {
     "name": "stdout",
     "output_type": "stream",
     "text": [
      "Mean score for each student over all the weeks\n",
      "Bob     8.382353\n",
      "Jane    8.368421\n",
      "dtype: float64\n"
     ]
    }
   ],
   "source": [
    "student_col_name = 'Student' \n",
    "\n",
    "print(\"Mean score for each student over all the weeks\")\n",
    "\n",
    "# extract student names and then put in Series with\n",
    "# same indexing as values\n",
    "student_names_np_arr = scores[student_col_name].unique()\n",
    "student_names = pd.Series(student_names_np_arr, \n",
    "                          index=student_names_np_arr)\n",
    "\n",
    "print(\n",
    "    student_names.apply( # vectorize on each student\n",
    "        \n",
    "              # pick scores of student\n",
    "    lambda x: scores.loc[scores[student_col_name]==x,:] \\\n",
    "        .drop(columns=student_col_name) # student column will \\\n",
    "                                       # interfere in calculating \\\n",
    "                                       # the mean \\\n",
    "        .stack() # make that DataFrame into a Series \\\n",
    "        .mean(skipna=True) # find mean of the Series\n",
    "                           # while skipping all NaN vals\n",
    "    )\n",
    ")"
   ]
  },
  {
   "cell_type": "markdown",
   "id": "piano-cancer",
   "metadata": {},
   "source": [
    "#### 18. [P] Select the data frame for only Monday and Student variables using .loc, and again using .iloc"
   ]
  },
  {
   "cell_type": "code",
   "execution_count": 303,
   "id": "mineral-washer",
   "metadata": {},
   "outputs": [
    {
     "name": "stdout",
     "output_type": "stream",
     "text": [
      "using .loc: \n",
      "      Mo Student\n",
      "w1  9.50     Bob\n",
      "w1  9.00    Jane\n",
      "w2  8.50     Bob\n",
      "w2  7.00    Jane\n",
      "w3  7.00     Bob\n",
      "w3  8.50    Jane\n",
      "w4  9.00     Bob\n",
      "w4  9.25    Jane\n",
      "\n",
      "using .iloc: \n",
      "      Mo Student\n",
      "w1  9.50     Bob\n",
      "w1  9.00    Jane\n",
      "w2  8.50     Bob\n",
      "w2  7.00    Jane\n",
      "w3  7.00     Bob\n",
      "w3  8.50    Jane\n",
      "w4  9.00     Bob\n",
      "w4  9.25    Jane\n"
     ]
    }
   ],
   "source": [
    "col_names_lst = [\"Mo\", \"Student\"] # student names in list\n",
    "                                  # list for easy modification\n",
    "\n",
    "col_names = pd.Series(col_names_lst) # student names \n",
    "                                     # in pd.Series\n",
    "\n",
    "print(\"using .loc: \")\n",
    "print(scores.loc[:, col_names])\n",
    "print()\n",
    "print(\"using .iloc: \")\n",
    "print(\n",
    "    scores.iloc[:, col_names.apply(lambda x: \n",
    "                                   scores.columns.get_loc(x))]\n",
    ")"
   ]
  },
  {
   "cell_type": "code",
   "execution_count": null,
   "id": "statewide-cause",
   "metadata": {},
   "outputs": [],
   "source": []
  }
 ],
 "metadata": {
  "kernelspec": {
   "display_name": "Python 3",
   "language": "python",
   "name": "python3"
  },
  "language_info": {
   "codemirror_mode": {
    "name": "ipython",
    "version": 3
   },
   "file_extension": ".py",
   "mimetype": "text/x-python",
   "name": "python",
   "nbconvert_exporter": "python",
   "pygments_lexer": "ipython3",
   "version": "3.8.8"
  }
 },
 "nbformat": 4,
 "nbformat_minor": 5
}
