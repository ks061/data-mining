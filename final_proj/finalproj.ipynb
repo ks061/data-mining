{
 "cells": [
  {
   "cell_type": "markdown",
   "id": "a950db90-cc1f-40b8-9e94-9476d84c5180",
   "metadata": {},
   "source": [
    "# Final Project\n",
    "\n",
    "Name: Kartikeya Sharma <br/>Class: CSCI 349 - Intro to Data Mining  \n",
    "Semester: Spring 2021  \n",
    "Instructor: Brian King  "
   ]
  },
  {
   "cell_type": "markdown",
   "id": "136e0bad-e946-467e-a89a-76c60bd634db",
   "metadata": {},
   "source": [
    "### Step 0: Environment Setup"
   ]
  },
  {
   "cell_type": "markdown",
   "id": "d101627f-fabc-40ea-aaed-fbde1f346ee4",
   "metadata": {},
   "source": [
    "#### Step 0.0: Installations"
   ]
  },
  {
   "cell_type": "markdown",
   "id": "6bcaf051-7ecf-4a07-900c-eda53fa52634",
   "metadata": {},
   "source": [
    "- **phonenumbers:** Python wrapper for Google's phone numbers API: ```conda install phonenumbers```<br/>\n",
    "- **us:** package for conveniently working with state abbreviations: ```pip install us``` because conda-forge installation does not work (and is not listed as a primary way of installing this package, so we're stuck with pip)<br/>\n",
    "- **uszipcode:** package that has a vast amount of information on zipcodes, including the major city, post office city, common city, county, state, **area code list** (helpful), **latitude** (helpful), **longitude** (helpful), timezone, demographics (population, population_density, population by age, population by gender, population by race, etc.)... talk about data mining ```pip install uszipcode``` (pip had a solid installation of this)\n",
    "- **MUST USE PYTHON 3.6**"
   ]
  },
  {
   "cell_type": "markdown",
   "id": "fe9fbad8-cdd2-47b3-8096-f143360a318a",
   "metadata": {},
   "source": [
    "#### Step 0.1: Imports"
   ]
  },
  {
   "cell_type": "code",
   "execution_count": 1,
   "id": "ab89d3d4-0303-4f2a-8006-1f87cb049658",
   "metadata": {},
   "outputs": [
    {
     "name": "stdout",
     "output_type": "stream",
     "text": [
      "CPU times: user 2 µs, sys: 1 µs, total: 3 µs\n",
      "Wall time: 5.01 µs\n"
     ]
    }
   ],
   "source": [
    "%time\n",
    "# imports used in the course\n",
    "import numpy as np\n",
    "import pandas as pd\n",
    "import seaborn as sns\n",
    "import matplotlib as mpl\n",
    "import matplotlib.pyplot as plt\n",
    "\n",
    "# from  matplotlib.ticker import PercentFormatter\n",
    "# from sklearn.model_selection import train_test_split\n",
    "from sklearn.model_selection import KFold\n",
    "# from sklearn.utils import shuffle\n",
    "from sklearn.metrics import classification_report\n",
    "# from sklearn.metrics import confusion_matrix, f1_score\n",
    "from sklearn.model_selection import cross_val_predict\n",
    "# from sklearn.model_selection import cross_validate\n",
    "from sklearn.model_selection import GridSearchCV\n",
    "\n",
    "# from sklearn.preprocessing import StandardScaler\n",
    "# from sklearn.tree import DecisionTreeClassifier\n",
    "\n",
    "import tensorflow as tf\n",
    "from tensorflow import keras\n",
    "from tensorflow.keras import Input, Model\n",
    "from tensorflow.keras.layers import Dense\n",
    "# from tensorflow.keras.layers import Activation\n",
    "from tensorflow.keras.optimizers import SGD\n",
    "# from tensorflow.keras.optimizers import Adam\n",
    "from scikeras.wrappers import KerasClassifier"
   ]
  },
  {
   "cell_type": "code",
   "execution_count": 2,
   "id": "31432c7e-a052-4895-a18d-b8102061f878",
   "metadata": {},
   "outputs": [],
   "source": [
    "# custom imports (not used in the course)\n",
    "import phonenumbers\n",
    "import us\n",
    "from uszipcode import SearchEngine # importing what is needed per the documentation\n",
    "from functools import lru_cache\n",
    "import math"
   ]
  },
  {
   "cell_type": "markdown",
   "id": "2392a864-2b10-41f0-b632-d329e4705c12",
   "metadata": {},
   "source": [
    "```uszipcode``` documentation<sup>5</sup>"
   ]
  },
  {
   "cell_type": "code",
   "execution_count": 3,
   "id": "be104950-19ab-468c-9c08-59828f927c41",
   "metadata": {},
   "outputs": [
    {
     "name": "stdout",
     "output_type": "stream",
     "text": [
      "CPU times: user 3 µs, sys: 0 ns, total: 3 µs\n",
      "Wall time: 7.15 µs\n"
     ]
    }
   ],
   "source": [
    "%time \n",
    "try:\n",
    "    df_raw = pd.read_csv(\"../data/Consumer_Complaints_Data_-_Unwanted_Calls_raw.csv\")\n",
    "except:\n",
    "    # import from online if not available on machine\n",
    "    df_raw = pd.read_csv('https://query.data.world/s/24xzbr2jaeuohhwmrzhj7jcyrdamlw')"
   ]
  },
  {
   "cell_type": "code",
   "execution_count": 4,
   "id": "afc8c008-5215-4b10-820c-422d98c138dc",
   "metadata": {},
   "outputs": [],
   "source": [
    "# df = df_raw.sample(frac=(0.95/116.4)).copy(deep=True)\n",
    "df = df_raw"
   ]
  },
  {
   "cell_type": "markdown",
   "id": "38db2a76-cda5-4c52-b7f3-2f485d67a0ae",
   "metadata": {},
   "source": [
    "```df``` will be considered the sample of the data set, where ```df_raw``` will be considered as the whole data set; this is for simplicity and convenience by design, so I don't have to write ```df_samp``` or ```df_sample``` every time. \n",
    "\n",
    "I am choosing 0.95/116.4 because ~116.4 MB is how much all of the data takes up (whole raw data set) and ~0.95 (MB) - ends up a bit more than that, though - is the amount of space that we want the sample (also before preprocessing) to take, keeping the data being worked with under 1 MB; this is the fraction of data that will be retained for analysis.\n",
    "\n",
    "<br/>Data provided from fcc.gov<sup>2</sup>"
   ]
  },
  {
   "cell_type": "code",
   "execution_count": null,
   "id": "c27a6d13-b154-4886-bbd8-0478bb33c500",
   "metadata": {},
   "outputs": [],
   "source": [
    "import pickle\n",
    "favorite_color = pickle.load( open( \"df.p\", \"rb\" ) )"
   ]
  },
  {
   "cell_type": "markdown",
   "id": "50826f62-383b-4b46-b879-beef731c0e4e",
   "metadata": {},
   "source": [
    "### Step 1: Pre-Processing"
   ]
  },
  {
   "cell_type": "markdown",
   "id": "4b6178bd-5cb5-45de-9747-f39ced0492f7",
   "metadata": {},
   "source": [
    "#### Step 1.0 Inspect Data at a Macro Level"
   ]
  },
  {
   "cell_type": "markdown",
   "id": "b739fb07-1c77-4bf7-9d04-3322440bd7db",
   "metadata": {},
   "source": [
    "The purposes of this analysis, None will be np.NaN."
   ]
  },
  {
   "cell_type": "code",
   "execution_count": 5,
   "id": "06628dc0-b120-46d5-b7a4-cf9983277c79",
   "metadata": {},
   "outputs": [],
   "source": [
    "df.fillna(value=np.nan, inplace=True)"
   ]
  },
  {
   "cell_type": "code",
   "execution_count": 6,
   "id": "3d691bda-dbf8-44dd-80d3-a6837b1813b2",
   "metadata": {},
   "outputs": [
    {
     "name": "stdout",
     "output_type": "stream",
     "text": [
      "<class 'pandas.core.frame.DataFrame'>\n",
      "RangeIndex: 1174008 entries, 0 to 1174007\n",
      "Data columns (total 12 columns):\n",
      " #   Column                                   Non-Null Count    Dtype \n",
      "---  ------                                   --------------    ----- \n",
      " 0   Ticket ID                                1174008 non-null  int64 \n",
      " 1   Date of Issue                            1166745 non-null  object\n",
      " 2   Time of Issue                            1009691 non-null  object\n",
      " 3   Form                                     1174008 non-null  object\n",
      " 4   Method                                   1170312 non-null  object\n",
      " 5   Issue                                    1174008 non-null  object\n",
      " 6   Caller ID Number                         1088224 non-null  object\n",
      " 7   Type of Call or Messge                   1009814 non-null  object\n",
      " 8   Advertiser Business Number               923817 non-null   object\n",
      " 9   State                                    1173095 non-null  object\n",
      " 10  Zip                                      1174003 non-null  object\n",
      " 11  Location (Center point of the Zip Code)  1173043 non-null  object\n",
      "dtypes: int64(1), object(11)\n",
      "memory usage: 107.5+ MB\n"
     ]
    }
   ],
   "source": [
    "df.info()"
   ]
  },
  {
   "cell_type": "code",
   "execution_count": 7,
   "id": "a0c9fb88-7c5a-460b-b446-57b8068d9ca4",
   "metadata": {},
   "outputs": [
    {
     "data": {
      "text/html": [
       "<div>\n",
       "<style scoped>\n",
       "    .dataframe tbody tr th:only-of-type {\n",
       "        vertical-align: middle;\n",
       "    }\n",
       "\n",
       "    .dataframe tbody tr th {\n",
       "        vertical-align: top;\n",
       "    }\n",
       "\n",
       "    .dataframe thead th {\n",
       "        text-align: right;\n",
       "    }\n",
       "</style>\n",
       "<table border=\"1\" class=\"dataframe\">\n",
       "  <thead>\n",
       "    <tr style=\"text-align: right;\">\n",
       "      <th></th>\n",
       "      <th>Ticket ID</th>\n",
       "      <th>Date of Issue</th>\n",
       "      <th>Time of Issue</th>\n",
       "      <th>Form</th>\n",
       "      <th>Method</th>\n",
       "      <th>Issue</th>\n",
       "      <th>Caller ID Number</th>\n",
       "      <th>Type of Call or Messge</th>\n",
       "      <th>Advertiser Business Number</th>\n",
       "      <th>State</th>\n",
       "      <th>Zip</th>\n",
       "      <th>Location (Center point of the Zip Code)</th>\n",
       "    </tr>\n",
       "  </thead>\n",
       "  <tbody>\n",
       "    <tr>\n",
       "      <th>0</th>\n",
       "      <td>4242701</td>\n",
       "      <td>09/18/2020</td>\n",
       "      <td>9:27 a.m.</td>\n",
       "      <td>Phone</td>\n",
       "      <td>Wireless (cell phone/other mobile device)</td>\n",
       "      <td>Unwanted Calls</td>\n",
       "      <td>863-722-2235</td>\n",
       "      <td>Abandoned Calls</td>\n",
       "      <td>863-722-2235</td>\n",
       "      <td>UT</td>\n",
       "      <td>84104</td>\n",
       "      <td>UT 84104-2930\\n(40.734434, -111.930582)</td>\n",
       "    </tr>\n",
       "    <tr>\n",
       "      <th>1</th>\n",
       "      <td>4242711</td>\n",
       "      <td>09/18/2020</td>\n",
       "      <td>5:02 p.m.</td>\n",
       "      <td>Phone</td>\n",
       "      <td>Wireless (cell phone/other mobile device)</td>\n",
       "      <td>Unwanted Calls</td>\n",
       "      <td>435-253-3663</td>\n",
       "      <td>Abandoned Calls</td>\n",
       "      <td>435-253-3663</td>\n",
       "      <td>UT</td>\n",
       "      <td>84104</td>\n",
       "      <td>UT 84104-2930\\n(40.734434, -111.930582)</td>\n",
       "    </tr>\n",
       "    <tr>\n",
       "      <th>2</th>\n",
       "      <td>4242717</td>\n",
       "      <td>09/14/2020</td>\n",
       "      <td>1:09 p.m.</td>\n",
       "      <td>Phone</td>\n",
       "      <td>Wireless (cell phone/other mobile device)</td>\n",
       "      <td>Unwanted Calls</td>\n",
       "      <td>727-655-9941</td>\n",
       "      <td>Abandoned Calls</td>\n",
       "      <td>727-655-9941</td>\n",
       "      <td>UT</td>\n",
       "      <td>84104</td>\n",
       "      <td>UT 84104-2930\\n(40.734434, -111.930582)</td>\n",
       "    </tr>\n",
       "    <tr>\n",
       "      <th>3</th>\n",
       "      <td>4242725</td>\n",
       "      <td>09/16/2020</td>\n",
       "      <td>3:40 p.m.</td>\n",
       "      <td>Phone</td>\n",
       "      <td>Wireless (cell phone/other mobile device)</td>\n",
       "      <td>Unwanted Calls</td>\n",
       "      <td>385-213-5003</td>\n",
       "      <td>Abandoned Calls</td>\n",
       "      <td>385-213-5003</td>\n",
       "      <td>UT</td>\n",
       "      <td>84104</td>\n",
       "      <td>UT 84104-2930\\n(40.734434, -111.930582)</td>\n",
       "    </tr>\n",
       "    <tr>\n",
       "      <th>4</th>\n",
       "      <td>4242729</td>\n",
       "      <td>09/21/2020</td>\n",
       "      <td>8:02 P.M.</td>\n",
       "      <td>Phone</td>\n",
       "      <td>Wireless (cell phone/other mobile device)</td>\n",
       "      <td>Unwanted Calls</td>\n",
       "      <td>None</td>\n",
       "      <td>Text Message</td>\n",
       "      <td>347-387-3011</td>\n",
       "      <td>WA</td>\n",
       "      <td>98110</td>\n",
       "      <td>WA 98110\\n(47.643688, -122.534497)</td>\n",
       "    </tr>\n",
       "  </tbody>\n",
       "</table>\n",
       "</div>"
      ],
      "text/plain": [
       "   Ticket ID Date of Issue Time of Issue   Form  \\\n",
       "0    4242701    09/18/2020     9:27 a.m.  Phone   \n",
       "1    4242711    09/18/2020     5:02 p.m.  Phone   \n",
       "2    4242717    09/14/2020     1:09 p.m.  Phone   \n",
       "3    4242725    09/16/2020     3:40 p.m.  Phone   \n",
       "4    4242729    09/21/2020     8:02 P.M.  Phone   \n",
       "\n",
       "                                      Method           Issue Caller ID Number  \\\n",
       "0  Wireless (cell phone/other mobile device)  Unwanted Calls     863-722-2235   \n",
       "1  Wireless (cell phone/other mobile device)  Unwanted Calls     435-253-3663   \n",
       "2  Wireless (cell phone/other mobile device)  Unwanted Calls     727-655-9941   \n",
       "3  Wireless (cell phone/other mobile device)  Unwanted Calls     385-213-5003   \n",
       "4  Wireless (cell phone/other mobile device)  Unwanted Calls             None   \n",
       "\n",
       "  Type of Call or Messge Advertiser Business Number State    Zip  \\\n",
       "0        Abandoned Calls               863-722-2235    UT  84104   \n",
       "1        Abandoned Calls               435-253-3663    UT  84104   \n",
       "2        Abandoned Calls               727-655-9941    UT  84104   \n",
       "3        Abandoned Calls               385-213-5003    UT  84104   \n",
       "4           Text Message               347-387-3011    WA  98110   \n",
       "\n",
       "   Location (Center point of the Zip Code)  \n",
       "0  UT 84104-2930\\n(40.734434, -111.930582)  \n",
       "1  UT 84104-2930\\n(40.734434, -111.930582)  \n",
       "2  UT 84104-2930\\n(40.734434, -111.930582)  \n",
       "3  UT 84104-2930\\n(40.734434, -111.930582)  \n",
       "4       WA 98110\\n(47.643688, -122.534497)  "
      ]
     },
     "execution_count": 7,
     "metadata": {},
     "output_type": "execute_result"
    }
   ],
   "source": [
    "df.head()"
   ]
  },
  {
   "cell_type": "markdown",
   "id": "8d8308ee-9c88-4da3-a07f-4b9e3c9ab207",
   "metadata": {},
   "source": [
    "#### Step 1.1: Discard, Format, Downsize Each Column"
   ]
  },
  {
   "cell_type": "markdown",
   "id": "8ae42f01-dc0e-4133-96e8-cbb3086819ff",
   "metadata": {},
   "source": [
    "**Column #0 \"Ticket ID\":** Unless there are some duplicate ticket values that should be looked into further, I intend on discarding them.<sup>2</sup>"
   ]
  },
  {
   "cell_type": "code",
   "execution_count": 8,
   "id": "2790861f-a64c-4e17-89cb-14bf8af55d67",
   "metadata": {},
   "outputs": [
    {
     "data": {
      "text/plain": [
       "4194304    1\n",
       "Name: Ticket ID, dtype: int64"
      ]
     },
     "execution_count": 8,
     "metadata": {},
     "output_type": "execute_result"
    }
   ],
   "source": [
    "df[\"Ticket ID\"].value_counts().sort_values(ascending=False).head(1)"
   ]
  },
  {
   "cell_type": "markdown",
   "id": "9db8d4ef-9643-44a1-9d7e-bdb79b37f010",
   "metadata": {},
   "source": [
    "Clearly no duplicate values. Discarding Column #0 \"Ticket ID.\""
   ]
  },
  {
   "cell_type": "code",
   "execution_count": 9,
   "id": "fbfa7a45-d7b7-4fa6-b3da-c8f243a6b17c",
   "metadata": {},
   "outputs": [],
   "source": [
    "df.drop(columns=\"Ticket ID\", inplace=True)"
   ]
  },
  {
   "cell_type": "markdown",
   "id": "c69cbd44-06ff-496f-b420-da7c9dbf460c",
   "metadata": {},
   "source": [
    "<br/>**Column #1 \"Date of Issue\":** This column represents the date when the user actually experienced the issue. It will be stored as a date without a time zone (since not all observations gave a particular time so that the dates can be informatively localized accordingly)."
   ]
  },
  {
   "cell_type": "markdown",
   "id": "964a8995-72c9-4356-9a59-c163e6657c91",
   "metadata": {},
   "source": [
    "What % are NaN values? Just to get an idea (ideally not more than a percent or two)."
   ]
  },
  {
   "cell_type": "code",
   "execution_count": 10,
   "id": "f8048668-9ee5-4793-bb49-178882082be4",
   "metadata": {},
   "outputs": [
    {
     "data": {
      "text/plain": [
       "0.006186499580922788"
      ]
     },
     "execution_count": 10,
     "metadata": {},
     "output_type": "execute_result"
    }
   ],
   "source": [
    "df[\"Date of Issue\"].isna().sum() / len(df.index)"
   ]
  },
  {
   "cell_type": "code",
   "execution_count": 11,
   "id": "068ab730-7a49-441e-82a3-d9c8402e7204",
   "metadata": {},
   "outputs": [],
   "source": [
    "def _convert_datetime(dt):\n",
    "    try:\n",
    "        return pd.to_datetime(dt)\n",
    "    except: \n",
    "        return np.NaN"
   ]
  },
  {
   "cell_type": "code",
   "execution_count": 12,
   "id": "2e2b6a7e-e924-44e8-bb2e-29955de8e568",
   "metadata": {},
   "outputs": [],
   "source": [
    "df[\"Date of Issue\"] = df[\"Date of Issue\"].apply(_convert_datetime)"
   ]
  },
  {
   "cell_type": "code",
   "execution_count": 13,
   "id": "39a6a667-4bec-4f25-954d-947ce675cff0",
   "metadata": {},
   "outputs": [],
   "source": [
    "df = df[df[\"Date of Issue\"] >= pd.to_datetime(\"October 31, 2014\")]"
   ]
  },
  {
   "cell_type": "markdown",
   "id": "baeabf38-fdea-49ca-b7c0-7e491bf95638",
   "metadata": {},
   "source": [
    "Starting point of the data set is October 31, 2014.<sup>2</sup>"
   ]
  },
  {
   "cell_type": "code",
   "execution_count": 14,
   "id": "468b3f3e-754a-483a-9fed-939a09b478af",
   "metadata": {},
   "outputs": [
    {
     "data": {
      "text/plain": [
       "0.0"
      ]
     },
     "execution_count": 14,
     "metadata": {},
     "output_type": "execute_result"
    }
   ],
   "source": [
    "df[\"Date of Issue\"].isna().sum() / len(df.index)"
   ]
  },
  {
   "cell_type": "markdown",
   "id": "62f65341-4440-4ffe-b98d-bc1626467e7f",
   "metadata": {},
   "source": [
    "<br/>**Column #2 \"Time of Issue\":** This column represents the time when the user actually experienced the issue. This information appears to be too specific for our analysis.<sup>2</sup>"
   ]
  },
  {
   "cell_type": "markdown",
   "id": "50cf51a3-0ebb-4e49-be9c-23464a7c1d7a",
   "metadata": {},
   "source": [
    "What % are NaN values? Just to get an idea (ideally not more than a percent or two)."
   ]
  },
  {
   "cell_type": "code",
   "execution_count": 15,
   "id": "8f67d71e-1efb-47e8-871e-4fa235afec50",
   "metadata": {},
   "outputs": [
    {
     "data": {
      "text/plain": [
       "0.13540461645879118"
      ]
     },
     "execution_count": 15,
     "metadata": {},
     "output_type": "execute_result"
    }
   ],
   "source": [
    "df[\"Time of Issue\"].isna().sum() / len(df.index)"
   ]
  },
  {
   "cell_type": "markdown",
   "id": "6ccfaec3-92c9-43d4-9061-f0d51c785f87",
   "metadata": {},
   "source": [
    "A lot of non-values and not a *necessary* column (could miss out on analyzing what time of data the calls tend to come in, and by time zone, that is, but there is too much missing data to do this). Dropping it from the DataFrame."
   ]
  },
  {
   "cell_type": "code",
   "execution_count": 16,
   "id": "7087f5f8-3b26-47d0-88d3-41d00fa8b726",
   "metadata": {},
   "outputs": [],
   "source": [
    "df = df.drop(columns=\"Time of Issue\")"
   ]
  },
  {
   "cell_type": "markdown",
   "id": "2ec942d2-041a-4418-8232-fdfe046f4909",
   "metadata": {},
   "source": [
    "<br/>**Column #3 \"Form\":** This represents the method through which the consumers were contacted by the reported caller.<sup>2</sup>"
   ]
  },
  {
   "cell_type": "code",
   "execution_count": 17,
   "id": "98b84f10-a04a-4ae4-8e98-817d2b0d9889",
   "metadata": {},
   "outputs": [
    {
     "data": {
      "text/plain": [
       "Phone    1164399\n",
       "Name: Form, dtype: int64"
      ]
     },
     "execution_count": 17,
     "metadata": {},
     "output_type": "execute_result"
    }
   ],
   "source": [
    "df[\"Form\"].value_counts()"
   ]
  },
  {
   "cell_type": "markdown",
   "id": "fe6f7c3b-1409-4543-9905-8031ea0e40a6",
   "metadata": {},
   "source": [
    "These are all \"Phone\"; we don't need it. (The whole raw data set of the sample that we are analyzing is, in turn, part of a larger data set maintained by the FCC with complaints regarding phone calls, TV service providers, Internet service providers, etc.<sup>8</sup> "
   ]
  },
  {
   "cell_type": "code",
   "execution_count": 18,
   "id": "7f721fac-2b27-40bf-b794-b282c4e0aad3",
   "metadata": {},
   "outputs": [],
   "source": [
    "df.drop(columns=\"Form\", inplace=True)"
   ]
  },
  {
   "cell_type": "markdown",
   "id": "63f7f997-f2ca-4c39-8055-6dee9e0d3af3",
   "metadata": {},
   "source": [
    "<br/>**Column #4 \"Method\":** How the reported caller contacted the consumer.<sup>2</sup>"
   ]
  },
  {
   "cell_type": "markdown",
   "id": "cf9265ff-f19c-4660-9e8a-b084f3ef3fab",
   "metadata": {},
   "source": [
    "What % are NaN values? Just to get an idea (ideally not more than a percent or two)."
   ]
  },
  {
   "cell_type": "code",
   "execution_count": 19,
   "id": "8b52e7ba-01f5-4a52-a633-90b09160fdf8",
   "metadata": {},
   "outputs": [
    {
     "data": {
      "text/plain": [
       "0.0004869464848389598"
      ]
     },
     "execution_count": 19,
     "metadata": {},
     "output_type": "execute_result"
    }
   ],
   "source": [
    "df[\"Method\"].isna().sum() / len(df.index)"
   ]
  },
  {
   "cell_type": "code",
   "execution_count": 20,
   "id": "a5d6ad21-a920-40f7-9034-a71b9794a2b1",
   "metadata": {},
   "outputs": [],
   "source": [
    "df.loc[:,\"Method\"] = pd.Categorical(df[\"Method\"].copy(deep=True), ordered=False)"
   ]
  },
  {
   "cell_type": "code",
   "execution_count": 21,
   "id": "06777740-155c-4c71-9ab8-9d8edc36b0b1",
   "metadata": {},
   "outputs": [
    {
     "data": {
      "text/plain": [
       "0    Wireless (cell phone/other mobile device)\n",
       "1    Wireless (cell phone/other mobile device)\n",
       "2    Wireless (cell phone/other mobile device)\n",
       "3    Wireless (cell phone/other mobile device)\n",
       "4    Wireless (cell phone/other mobile device)\n",
       "Name: Method, dtype: category\n",
       "Categories (3, object): ['Internet (VOIP)', 'Wired', 'Wireless (cell phone/other mobile device)']"
      ]
     },
     "execution_count": 21,
     "metadata": {},
     "output_type": "execute_result"
    }
   ],
   "source": [
    "df[\"Method\"].head()"
   ]
  },
  {
   "cell_type": "markdown",
   "id": "37356e8d-56c0-420b-a92d-57e9e414b39d",
   "metadata": {},
   "source": [
    "There are three possibilities (nominal) categories: Internet (VOIP), which is something like Google Voice, wired, which is a landline, and wireless, which is a cell phone.<sup>2</sup>"
   ]
  },
  {
   "cell_type": "markdown",
   "id": "8657798e-ce72-4f4e-91f3-ff93a9662586",
   "metadata": {},
   "source": [
    "It is not necessary to clarify that wireless means cell phone or other mobile device. This category will be renamed to wireless."
   ]
  },
  {
   "cell_type": "code",
   "execution_count": 22,
   "id": "1b8ccb5b-b608-4086-bdbc-a9f89afd9c6e",
   "metadata": {},
   "outputs": [],
   "source": [
    "df[\"Method\"].cat.rename_categories(\n",
    "    new_categories = {\"Wireless (cell phone/other mobile device)\": \"Wireless\"},\n",
    "    inplace=True\n",
    ")"
   ]
  },
  {
   "cell_type": "code",
   "execution_count": 23,
   "id": "6d479191-62dc-4cc4-9d52-9d379f76e3aa",
   "metadata": {},
   "outputs": [
    {
     "data": {
      "text/plain": [
       "0.0004869464848389598"
      ]
     },
     "execution_count": 23,
     "metadata": {},
     "output_type": "execute_result"
    }
   ],
   "source": [
    "df[\"Method\"].isna().sum() / len(df.index)"
   ]
  },
  {
   "cell_type": "markdown",
   "id": "22aa0f54-7150-4d46-912a-317d48d3a4a8",
   "metadata": {},
   "source": [
    "<br/>**Column #5 \"Issue\":** type of unwanted contact, i.e. robocalls, telemarketing, or unwanted calls<sup>2</sup>"
   ]
  },
  {
   "cell_type": "markdown",
   "id": "337aa2f0-fe6e-4c9e-b582-e3fdcb1e013b",
   "metadata": {},
   "source": [
    "What % are NaN values? Just to get an idea (ideally not more than a percent or two)."
   ]
  },
  {
   "cell_type": "code",
   "execution_count": 24,
   "id": "f70e5a97-8720-410d-a82c-3b671e1d828b",
   "metadata": {},
   "outputs": [
    {
     "data": {
      "text/plain": [
       "0.0"
      ]
     },
     "execution_count": 24,
     "metadata": {},
     "output_type": "execute_result"
    }
   ],
   "source": [
    "df[\"Issue\"].isna().sum() / len(df.index)"
   ]
  },
  {
   "cell_type": "code",
   "execution_count": 25,
   "id": "22e72acd-9c2d-4b60-b057-b77472f86acd",
   "metadata": {},
   "outputs": [],
   "source": [
    "df.loc[:,\"Issue\"] = pd.Categorical(df.loc[:,\"Issue\"], ordered=False)"
   ]
  },
  {
   "cell_type": "code",
   "execution_count": 26,
   "id": "805f7ff2-9a12-40e0-a9ca-d616f6f337d7",
   "metadata": {},
   "outputs": [
    {
     "data": {
      "text/plain": [
       "0    Unwanted Calls\n",
       "1    Unwanted Calls\n",
       "2    Unwanted Calls\n",
       "3    Unwanted Calls\n",
       "4    Unwanted Calls\n",
       "Name: Issue, dtype: category\n",
       "Categories (3, object): ['Robocalls', 'Telemarketing (including do not call and spoo..., 'Unwanted Calls']"
      ]
     },
     "execution_count": 26,
     "metadata": {},
     "output_type": "execute_result"
    }
   ],
   "source": [
    "df[\"Issue\"].head()"
   ]
  },
  {
   "cell_type": "markdown",
   "id": "5ada102c-a92d-4b71-9181-8ceae76a54ab",
   "metadata": {},
   "source": [
    "Looking close at the FCC descriptions of the different attributes, robocalls and telemarketing are currently being marked as unwanted calls instead of those two categories; hence, the values in this column are not consistent throughout across the reports/over time. This column will be removed, and the data set will be considered as containing data that represents reports of 'unwanted/spam' calls.<sup>2</sup>"
   ]
  },
  {
   "cell_type": "code",
   "execution_count": 27,
   "id": "4103f09a-46e7-41f4-b5ba-c4800484bbc1",
   "metadata": {},
   "outputs": [],
   "source": [
    "df.drop(columns=\"Issue\", inplace=True)"
   ]
  },
  {
   "cell_type": "markdown",
   "id": "7cffd62f-2fa3-4805-b2d9-b0768479e00e",
   "metadata": {},
   "source": [
    "<br/>**Column #6 \"Caller ID Number\":** number (of reported call from corresponding unwanted caller) that appeared on the consumer's caller ID<sup>2</sup>\n",
    "\n",
    "We will use the Python wrapper of google's phonenumbers library.<sup>3</sup>\n",
    "\n",
    "Per \"Please enter the phone number in the following format 555-555-5555\" instructions on the FCC complaint form, all numbers are assumed to be USA, which makes sense since the FCC is a USA regulatory body which has jurisdiction in the USA.<sup>4</sup>"
   ]
  },
  {
   "cell_type": "markdown",
   "id": "c3a49f69-ae45-4d03-b6fe-87cdbe9a37e6",
   "metadata": {},
   "source": [
    "What % are NaN values? Just to get an idea (ideally not more than a percent or two or 5% at the most)."
   ]
  },
  {
   "cell_type": "code",
   "execution_count": 28,
   "id": "9189e9c3-e22e-4306-9a43-9dbfb2c1fbab",
   "metadata": {},
   "outputs": [
    {
     "data": {
      "text/plain": [
       "0.07142998233423423"
      ]
     },
     "execution_count": 28,
     "metadata": {},
     "output_type": "execute_result"
    }
   ],
   "source": [
    "df[\"Caller ID Number\"].isna().sum() / len(df.index)"
   ]
  },
  {
   "cell_type": "markdown",
   "id": "b07b4c8c-c3a1-451b-97e6-4be10cd7424f",
   "metadata": {},
   "source": [
    "Even though there is quite a bit missing, it might be valuable to keep observations with \"Caller ID Number\" as np.NaN (private/unknown caller or consumer deleted spam message/incoming call entry and does not have the number now)?"
   ]
  },
  {
   "cell_type": "code",
   "execution_count": 29,
   "id": "fd1e0589-baf0-4e33-bb44-d06fe1a78c7e",
   "metadata": {},
   "outputs": [],
   "source": [
    "def _parse_ph_number(ph_num: str):\n",
    "    try:\n",
    "        ph_num = str(ph_num)\n",
    "        ph_num_parsed = phonenumbers.parse(ph_num, \"US\")\n",
    "    except phonenumbers.NumberParseException: \n",
    "        return np.NaN\n",
    "    if not phonenumbers.is_possible_number(ph_num_parsed):\n",
    "        return np.NaN\n",
    "    return ph_num_parsed"
   ]
  },
  {
   "cell_type": "code",
   "execution_count": 30,
   "id": "031e3a1a-86d6-4bc0-babe-6decc1758e9a",
   "metadata": {},
   "outputs": [],
   "source": [
    "# to not print the slew of lines that comes out with phonenumbers methods\n",
    "# for whatever reason (there are some patches that need to be resolved with\n",
    "# wrapping the Google Java library in Python)\n",
    "df.loc[:,\"Caller ID Number\"] = \\\n",
    "df.loc[:,\"Caller ID Number\"].apply(_parse_ph_number);"
   ]
  },
  {
   "cell_type": "code",
   "execution_count": 31,
   "id": "7412df90-c53f-40b3-a4f9-84de2393cc86",
   "metadata": {},
   "outputs": [
    {
     "data": {
      "text/plain": [
       "0    Country Code: 1 National Number: 8637222235\n",
       "1    Country Code: 1 National Number: 4352533663\n",
       "2    Country Code: 1 National Number: 7276559941\n",
       "3    Country Code: 1 National Number: 3852135003\n",
       "4                                            NaN\n",
       "Name: Caller ID Number, dtype: object"
      ]
     },
     "execution_count": 31,
     "metadata": {},
     "output_type": "execute_result"
    }
   ],
   "source": [
    "df[\"Caller ID Number\"].head()"
   ]
  },
  {
   "cell_type": "code",
   "execution_count": 32,
   "id": "f81d5218-d6e3-4406-b95f-76244ab1acea",
   "metadata": {},
   "outputs": [
    {
     "data": {
      "text/plain": [
       "0.3920674957639091"
      ]
     },
     "execution_count": 32,
     "metadata": {},
     "output_type": "execute_result"
    }
   ],
   "source": [
    "df[\"Caller ID Number\"].isna().sum() / len(df.index)"
   ]
  },
  {
   "cell_type": "markdown",
   "id": "27064946-2836-424c-8690-88db98194b6f",
   "metadata": {},
   "source": [
    "About a 5%-point increase on average in NaN values after preprocessing this column."
   ]
  },
  {
   "cell_type": "markdown",
   "id": "ff03d34e-5b08-4a3d-935c-bd12ce9fff71",
   "metadata": {},
   "source": [
    "<br/>**Column #7 \"Type of Call or Messge\":** The type of the call (or message) received. Live voice? Prerecorded message? Text message?"
   ]
  },
  {
   "cell_type": "markdown",
   "id": "d015f894-0eff-4d08-8e38-7fbc9a278f10",
   "metadata": {},
   "source": [
    "What % are NaN values? Just to get an idea (ideally not more than a percent or two or 5% at the most)."
   ]
  },
  {
   "cell_type": "code",
   "execution_count": 33,
   "id": "cf73bd40-ac09-4550-87e9-5501f5a96f5d",
   "metadata": {},
   "outputs": [
    {
     "data": {
      "text/plain": [
       "0.13707586488823847"
      ]
     },
     "execution_count": 33,
     "metadata": {},
     "output_type": "execute_result"
    }
   ],
   "source": [
    "df[\"Type of Call or Messge\"].isna().sum() / len(df.index)"
   ]
  },
  {
   "cell_type": "code",
   "execution_count": 34,
   "id": "b74fbca2-e660-45ef-836b-061b308cc83b",
   "metadata": {},
   "outputs": [],
   "source": [
    "df.loc[:,\"Type of Call or Messge\"] = pd.Categorical(df.loc[:,\"Type of Call or Messge\"], ordered=False)"
   ]
  },
  {
   "cell_type": "code",
   "execution_count": 35,
   "id": "937a9590-0509-4492-8b28-c4755f187a1b",
   "metadata": {},
   "outputs": [
    {
     "data": {
      "text/plain": [
       "0    Abandoned Calls\n",
       "1    Abandoned Calls\n",
       "2    Abandoned Calls\n",
       "3    Abandoned Calls\n",
       "4       Text Message\n",
       "Name: Type of Call or Messge, dtype: category\n",
       "Categories (6, object): ['Abandoned Calls', 'Autodialed Live Voice Call', 'Email', 'Live Voice', 'Prerecorded Voice', 'Text Message']"
      ]
     },
     "execution_count": 35,
     "metadata": {},
     "output_type": "execute_result"
    }
   ],
   "source": [
    "df[\"Type of Call or Messge\"].head()"
   ]
  },
  {
   "cell_type": "markdown",
   "id": "bd89f937-61a9-4b19-b250-a4875ce6c860",
   "metadata": {},
   "source": [
    "<br/>**Column #8 \"Advertiser Business Number\":** The number of the advertiser that the caller claims to be associated with."
   ]
  },
  {
   "cell_type": "markdown",
   "id": "37640267-1c4c-4682-b2fd-42e1963b5196",
   "metadata": {},
   "source": [
    "What % are NaN values? Just to get an idea (ideally not more than a percent or two or 5% at the most)."
   ]
  },
  {
   "cell_type": "code",
   "execution_count": 36,
   "id": "e3123538-558e-42d0-8874-5da15727d1cc",
   "metadata": {},
   "outputs": [
    {
     "data": {
      "text/plain": [
       "0.21161045311787455"
      ]
     },
     "execution_count": 36,
     "metadata": {},
     "output_type": "execute_result"
    }
   ],
   "source": [
    "df[\"Advertiser Business Number\"].isna().sum() / len(df.index)"
   ]
  },
  {
   "cell_type": "markdown",
   "id": "01971bd6-2ce2-4a1b-841f-fb8d7f437574",
   "metadata": {},
   "source": [
    "Way too many missing values. Deleting this column."
   ]
  },
  {
   "cell_type": "code",
   "execution_count": 37,
   "id": "499e3b8e-ed49-4a5c-ac4a-737fa21e3747",
   "metadata": {},
   "outputs": [],
   "source": [
    "df.drop(columns=\"Advertiser Business Number\", inplace=True)"
   ]
  },
  {
   "cell_type": "markdown",
   "id": "036bfd26-afd6-41a9-978b-2fdb07c669a7",
   "metadata": {},
   "source": [
    "<br/>**Column #9 \"State\":** State in which the reporting consumer resides in<sup>2</sup>"
   ]
  },
  {
   "cell_type": "markdown",
   "id": "e6a18b14-f388-4beb-8f92-3c1ce0ee0575",
   "metadata": {},
   "source": [
    "What % are NaN values? Just to get an idea (ideally not more than a percent or two or 5% at the most)."
   ]
  },
  {
   "cell_type": "code",
   "execution_count": 38,
   "id": "948a1fa0-b61d-4fc2-8ce3-9064c377d73e",
   "metadata": {},
   "outputs": [
    {
     "data": {
      "text/plain": [
       "6.698734712070347e-05"
      ]
     },
     "execution_count": 38,
     "metadata": {},
     "output_type": "execute_result"
    }
   ],
   "source": [
    "df[\"State\"].isna().sum() / len(df.index)"
   ]
  },
  {
   "cell_type": "markdown",
   "id": "14214f66-7c45-41b7-84ff-f1c52250a165",
   "metadata": {},
   "source": [
    "Not many relatively (percentage-wise) missing values (< 0.1% on average). Nice!"
   ]
  },
  {
   "cell_type": "code",
   "execution_count": 39,
   "id": "37f75ac2-373e-4c92-a7dd-7c9887997b46",
   "metadata": {},
   "outputs": [],
   "source": [
    "def _validate_state(state_ab: str):\n",
    "    try:\n",
    "        if us.states.lookup(state_ab) in us.states.STATES:\n",
    "            return state_ab\n",
    "        # including DC but leaving out Puerto Rico (not that many entries\n",
    "        # proportionally anyway)\n",
    "        elif us.states.lookup(state_ab) is us.states.DC:\n",
    "            return state_ab\n",
    "        else:\n",
    "            return np.NaN\n",
    "    except: # if np.NaN, for example\n",
    "        return np.NaN"
   ]
  },
  {
   "cell_type": "markdown",
   "id": "ff0c7ffc-8c60-4e70-a1c8-14bf92dc7092",
   "metadata": {},
   "source": [
    "```us``` documentation<sup>6</sup>"
   ]
  },
  {
   "cell_type": "code",
   "execution_count": 40,
   "id": "6cbe9de3-ab78-496d-8cd6-2eb7c066567e",
   "metadata": {},
   "outputs": [],
   "source": [
    "df.loc[:,\"State\"] = df.loc[:,\"State\"].apply(_validate_state)"
   ]
  },
  {
   "cell_type": "markdown",
   "id": "eba22693-d656-4a5f-83d1-c04af3910f17",
   "metadata": {},
   "source": [
    "We don't have to eliminate observations without valid state abbreviations. Perhaps we can extrapolate the state of the customer from their area code, i.e. the phone number that received the call."
   ]
  },
  {
   "cell_type": "code",
   "execution_count": 41,
   "id": "1118c747-2c10-4d78-9e02-18825d8a2247",
   "metadata": {},
   "outputs": [],
   "source": [
    "df.loc[:,\"State\"] = pd.Categorical(df.loc[:,\"State\"], ordered=False)"
   ]
  },
  {
   "cell_type": "markdown",
   "id": "e6cbce0f-be19-4442-8ce9-3fd682e96a13",
   "metadata": {},
   "source": [
    "State abbreviations are values within a nominal variable."
   ]
  },
  {
   "cell_type": "code",
   "execution_count": 42,
   "id": "2ad05759-e864-4d81-9ef4-8417b23092fc",
   "metadata": {},
   "outputs": [
    {
     "data": {
      "text/plain": [
       "0    UT\n",
       "1    UT\n",
       "2    UT\n",
       "3    UT\n",
       "4    WA\n",
       "Name: State, dtype: category\n",
       "Categories (51, object): ['AK', 'AL', 'AR', 'AZ', ..., 'WA', 'WI', 'WV', 'WY']"
      ]
     },
     "execution_count": 42,
     "metadata": {},
     "output_type": "execute_result"
    }
   ],
   "source": [
    "df[\"State\"].head()"
   ]
  },
  {
   "cell_type": "markdown",
   "id": "c83bee00-0e72-4fd7-b6ee-425a70ec3181",
   "metadata": {},
   "source": [
    "We have each of the 50 states covered in our data sample. Yay!"
   ]
  },
  {
   "cell_type": "code",
   "execution_count": 43,
   "id": "7213e7c7-7d04-4a64-ace6-399fdb6eecac",
   "metadata": {},
   "outputs": [
    {
     "data": {
      "text/plain": [
       "0.0007385784426128844"
      ]
     },
     "execution_count": 43,
     "metadata": {},
     "output_type": "execute_result"
    }
   ],
   "source": [
    "df[\"State\"].isna().sum() / len(df.index)"
   ]
  },
  {
   "cell_type": "markdown",
   "id": "3695218e-727f-4e80-be22-23c922d2c45b",
   "metadata": {},
   "source": [
    "Still, not many relatively (percentage-wise) missing values (< 0.1% on average)."
   ]
  },
  {
   "cell_type": "markdown",
   "id": "6e1c1e6c-84c8-4a87-bbcd-9b40237e4172",
   "metadata": {},
   "source": [
    "<br/>**Column #10 \"Zip\":** The zip code of where the consumer resides<sup>2</sup>"
   ]
  },
  {
   "cell_type": "markdown",
   "id": "52953386-00aa-4618-851c-99ca179f460e",
   "metadata": {},
   "source": [
    "What % are NaN values? Just to get an idea (ideally not more than a percent or two or 5% at the most)."
   ]
  },
  {
   "cell_type": "code",
   "execution_count": 44,
   "id": "543eac56-1ee4-4ff0-9b29-e562bbba6d1e",
   "metadata": {},
   "outputs": [
    {
     "data": {
      "text/plain": [
       "0.0"
      ]
     },
     "execution_count": 44,
     "metadata": {},
     "output_type": "execute_result"
    }
   ],
   "source": [
    "df[\"Zip\"].isna().sum() / len(df.index)"
   ]
  },
  {
   "cell_type": "markdown",
   "id": "dda9fbf3-25d4-475f-98f1-8b594c3e353d",
   "metadata": {},
   "source": [
    "None, if any, are missing (on average)."
   ]
  },
  {
   "cell_type": "markdown",
   "id": "22f76833-3e45-4e61-ab1e-1a22651867c8",
   "metadata": {},
   "source": [
    "Because we don't need all of the vast amount that this package provides *at the moment*, given that the latitude, longitude, state information is already given in our data set, we will start by using the simple version of the backend database provided by the ```uszipcode``` package."
   ]
  },
  {
   "cell_type": "code",
   "execution_count": 45,
   "id": "b5fb1874-7139-4484-94a7-89f440b59f1b",
   "metadata": {
    "scrolled": true,
    "tags": []
   },
   "outputs": [],
   "source": [
    "search = SearchEngine(simple_zipcode=True, db_file_dir=\"../data/zip_data_raw\")"
   ]
  },
  {
   "cell_type": "code",
   "execution_count": 46,
   "id": "248af789-1435-4103-b590-701e400e3cf1",
   "metadata": {},
   "outputs": [],
   "source": [
    "@lru_cache()\n",
    "def _validate_and_get_info_zipcode(zip: str):\n",
    "    try:\n",
    "        zip_obj = search.by_zipcode(zip)\n",
    "        if zip_obj.zipcode is None:\n",
    "            return np.NaN\n",
    "        return zip_obj\n",
    "    except:\n",
    "        return np.NaN"
   ]
  },
  {
   "cell_type": "code",
   "execution_count": 47,
   "id": "e684c387-494b-45b3-af3a-617ca34b4238",
   "metadata": {},
   "outputs": [],
   "source": [
    "df.loc[:,\"Zip Info\"] = df[\"Zip\"].apply(_validate_and_get_info_zipcode)"
   ]
  },
  {
   "cell_type": "markdown",
   "id": "c6631061-a659-4f1e-9ddc-03c7a81f99b9",
   "metadata": {},
   "source": [
    "How many are NaN after preprocessing (we'll still remove them right after). Checking this adds another check to the preprocessing of this column (to ensure that the preprocessing algorithm/method above is not simply failing and inserting unwaranted NaNs all over)."
   ]
  },
  {
   "cell_type": "code",
   "execution_count": 49,
   "id": "29439fa0-b95c-4e44-9c7a-c94ab68df679",
   "metadata": {},
   "outputs": [
    {
     "data": {
      "text/plain": [
       "0.0"
      ]
     },
     "execution_count": 49,
     "metadata": {},
     "output_type": "execute_result"
    }
   ],
   "source": [
    "df[\"Zip\"].isna().sum() / len(df.index)"
   ]
  },
  {
   "cell_type": "markdown",
   "id": "a1c01487-f497-4dc9-a4b4-c30ea08f91b9",
   "metadata": {},
   "source": [
    "None, if any, on average. Great."
   ]
  },
  {
   "cell_type": "markdown",
   "id": "bec3552e-cbb1-4655-9a8b-d153fc4ae909",
   "metadata": {},
   "source": [
    "We will now remove all entries with invalid ZIP Codes. We will be using the ZIP Code objects, which are now stored in the \"Zip Info\" column (newly created column), to also store other information associated with the Zip Code, such as latitude and longitude information; this way, the information is consolidated within the SimpleZipcode object. Plus, we can avoid painfully parsing \"Location...\" column (next column), keep the data consistent within the uszipcode package (information all from one database), and verify the validity of the latitude/longitude data all at the same time through the SimpleZipcode object."
   ]
  },
  {
   "cell_type": "code",
   "execution_count": 50,
   "id": "4df3030a-a1a2-40fb-b455-1b3df1a8606a",
   "metadata": {},
   "outputs": [],
   "source": [
    "df = df[df[\"Zip Info\"]!=np.NaN]"
   ]
  },
  {
   "cell_type": "markdown",
   "id": "3dd8f0f6-30d1-4e96-a11b-1673ae3c7bbb",
   "metadata": {},
   "source": [
    "A zip code is technically a nominal variable (even though there may be *many* of them). We can perhaps sort the data sample by a zip code category to understand which zip codes had the most reports, for instance. Making the Zip Info column into a Categorical may not make sense if the pd.Categorical method does not pick up on two different objects potentially being the same if their contents are the same. For simplicity, the Zip Info column will not be converted into a pd.Categorical."
   ]
  },
  {
   "cell_type": "code",
   "execution_count": 51,
   "id": "5c1bde75-52f3-454a-b188-d25247f1184b",
   "metadata": {},
   "outputs": [],
   "source": [
    "df[\"Zip\"] = pd.Categorical(df[\"Zip\"], ordered=False)"
   ]
  },
  {
   "cell_type": "code",
   "execution_count": 52,
   "id": "59bf6bdb-5133-44a1-887a-805c6bbc58ad",
   "metadata": {},
   "outputs": [
    {
     "data": {
      "text/plain": [
       "0    84104\n",
       "1    84104\n",
       "2    84104\n",
       "3    84104\n",
       "4    98110\n",
       "Name: Zip, dtype: category\n",
       "Categories (32592, object): ['00000', '00001', '00004', '00185', ..., '99928', '99929', '99999', 'None']"
      ]
     },
     "execution_count": 52,
     "metadata": {},
     "output_type": "execute_result"
    }
   ],
   "source": [
    "df[\"Zip\"].head()"
   ]
  },
  {
   "cell_type": "markdown",
   "id": "2f1d4038-35fa-43a7-88e3-642f0d655d9f",
   "metadata": {},
   "source": [
    "```uszipcode``` documentation<sup>5</sup>"
   ]
  },
  {
   "cell_type": "markdown",
   "id": "04346d9f-ed90-4fc1-ba7b-ae6219c8d2aa",
   "metadata": {},
   "source": [
    "<br/>**Column #11 \"Location (Center point of the Zip Code)\":** center of the zip code, not by consumer's address or anything specifically (data set maintains consumer privacy, which is the ethical thing to do and is solid computer science research ethics)<sup>2</sup>"
   ]
  },
  {
   "cell_type": "markdown",
   "id": "7ecb432c-84dd-4237-ba89-72580455ad33",
   "metadata": {},
   "source": [
    "Per the explanation above, I am removing this column.<br/>\n",
    "*\"We will be using the ZIP Code objects, which are now stored in the \"Zip Info\" column (newly created column), to also store otherr information associated with the Zip Code, such as latitude and longitude information; this way, the information is consolidated within the SimpleZipcode object. Plus, we can avoid painfully parsing \"Location...\" column (next column), keep the data consistent within the uszipcode package (information all from one database), and verify the validity of the latitude/longitude data all at the same time through the SimpleZipcode object.\"*"
   ]
  },
  {
   "cell_type": "code",
   "execution_count": 53,
   "id": "20e51053-62b7-4fcf-bef6-4955381afc17",
   "metadata": {},
   "outputs": [],
   "source": [
    "df.drop(columns=\"Location (Center point of the Zip Code)\", inplace=True)"
   ]
  },
  {
   "cell_type": "markdown",
   "id": "462866ae-911e-44f4-bb6b-9fb07a9aa031",
   "metadata": {},
   "source": [
    "<br/>**All in all (after the column conversions):**"
   ]
  },
  {
   "cell_type": "code",
   "execution_count": 54,
   "id": "b9496326-6830-42ea-97bc-f5079c32669e",
   "metadata": {},
   "outputs": [
    {
     "data": {
      "text/html": [
       "<div>\n",
       "<style scoped>\n",
       "    .dataframe tbody tr th:only-of-type {\n",
       "        vertical-align: middle;\n",
       "    }\n",
       "\n",
       "    .dataframe tbody tr th {\n",
       "        vertical-align: top;\n",
       "    }\n",
       "\n",
       "    .dataframe thead th {\n",
       "        text-align: right;\n",
       "    }\n",
       "</style>\n",
       "<table border=\"1\" class=\"dataframe\">\n",
       "  <thead>\n",
       "    <tr style=\"text-align: right;\">\n",
       "      <th></th>\n",
       "      <th>Date of Issue</th>\n",
       "      <th>Method</th>\n",
       "      <th>Caller ID Number</th>\n",
       "      <th>Type of Call or Messge</th>\n",
       "      <th>State</th>\n",
       "      <th>Zip</th>\n",
       "      <th>Zip Info</th>\n",
       "    </tr>\n",
       "  </thead>\n",
       "  <tbody>\n",
       "    <tr>\n",
       "      <th>0</th>\n",
       "      <td>2020-09-18</td>\n",
       "      <td>Wireless</td>\n",
       "      <td>Country Code: 1 National Number: 8637222235</td>\n",
       "      <td>Abandoned Calls</td>\n",
       "      <td>UT</td>\n",
       "      <td>84104</td>\n",
       "      <td>SimpleZipcode(zipcode='84104', zipcode_type='S...</td>\n",
       "    </tr>\n",
       "    <tr>\n",
       "      <th>1</th>\n",
       "      <td>2020-09-18</td>\n",
       "      <td>Wireless</td>\n",
       "      <td>Country Code: 1 National Number: 4352533663</td>\n",
       "      <td>Abandoned Calls</td>\n",
       "      <td>UT</td>\n",
       "      <td>84104</td>\n",
       "      <td>SimpleZipcode(zipcode='84104', zipcode_type='S...</td>\n",
       "    </tr>\n",
       "    <tr>\n",
       "      <th>2</th>\n",
       "      <td>2020-09-14</td>\n",
       "      <td>Wireless</td>\n",
       "      <td>Country Code: 1 National Number: 7276559941</td>\n",
       "      <td>Abandoned Calls</td>\n",
       "      <td>UT</td>\n",
       "      <td>84104</td>\n",
       "      <td>SimpleZipcode(zipcode='84104', zipcode_type='S...</td>\n",
       "    </tr>\n",
       "    <tr>\n",
       "      <th>3</th>\n",
       "      <td>2020-09-16</td>\n",
       "      <td>Wireless</td>\n",
       "      <td>Country Code: 1 National Number: 3852135003</td>\n",
       "      <td>Abandoned Calls</td>\n",
       "      <td>UT</td>\n",
       "      <td>84104</td>\n",
       "      <td>SimpleZipcode(zipcode='84104', zipcode_type='S...</td>\n",
       "    </tr>\n",
       "    <tr>\n",
       "      <th>4</th>\n",
       "      <td>2020-09-21</td>\n",
       "      <td>Wireless</td>\n",
       "      <td>NaN</td>\n",
       "      <td>Text Message</td>\n",
       "      <td>WA</td>\n",
       "      <td>98110</td>\n",
       "      <td>SimpleZipcode(zipcode='98110', zipcode_type='S...</td>\n",
       "    </tr>\n",
       "  </tbody>\n",
       "</table>\n",
       "</div>"
      ],
      "text/plain": [
       "  Date of Issue    Method                             Caller ID Number  \\\n",
       "0    2020-09-18  Wireless  Country Code: 1 National Number: 8637222235   \n",
       "1    2020-09-18  Wireless  Country Code: 1 National Number: 4352533663   \n",
       "2    2020-09-14  Wireless  Country Code: 1 National Number: 7276559941   \n",
       "3    2020-09-16  Wireless  Country Code: 1 National Number: 3852135003   \n",
       "4    2020-09-21  Wireless                                          NaN   \n",
       "\n",
       "  Type of Call or Messge State    Zip  \\\n",
       "0        Abandoned Calls    UT  84104   \n",
       "1        Abandoned Calls    UT  84104   \n",
       "2        Abandoned Calls    UT  84104   \n",
       "3        Abandoned Calls    UT  84104   \n",
       "4           Text Message    WA  98110   \n",
       "\n",
       "                                            Zip Info  \n",
       "0  SimpleZipcode(zipcode='84104', zipcode_type='S...  \n",
       "1  SimpleZipcode(zipcode='84104', zipcode_type='S...  \n",
       "2  SimpleZipcode(zipcode='84104', zipcode_type='S...  \n",
       "3  SimpleZipcode(zipcode='84104', zipcode_type='S...  \n",
       "4  SimpleZipcode(zipcode='98110', zipcode_type='S...  "
      ]
     },
     "execution_count": 54,
     "metadata": {},
     "output_type": "execute_result"
    }
   ],
   "source": [
    "df.head()"
   ]
  },
  {
   "cell_type": "code",
   "execution_count": null,
   "id": "088e6f20-b30b-4ebb-955d-90838b294bd8",
   "metadata": {},
   "outputs": [],
   "source": [
    "import pickle\n",
    "pickle.dump(df, open(\"df.p\", \"wb\"))"
   ]
  },
  {
   "cell_type": "markdown",
   "id": "a1d224f4-292f-4a40-bac9-5b1d5e512025",
   "metadata": {},
   "source": [
    "### Step 2: EDA"
   ]
  },
  {
   "cell_type": "markdown",
   "id": "6ff45465-f488-4918-ad21-46f9e3f95c9e",
   "metadata": {},
   "source": [
    "#### Step 2.0: Plotting Distributional/Frequency Data"
   ]
  },
  {
   "cell_type": "markdown",
   "id": "98d19b74-77a3-48e0-a6ee-9fbdd86adbe8",
   "metadata": {},
   "source": [
    "**Looking at frequency data for \"Date of Issue\"**"
   ]
  },
  {
   "cell_type": "code",
   "execution_count": 55,
   "id": "c9caece5-3b89-4530-b633-c43fd0305189",
   "metadata": {},
   "outputs": [],
   "source": [
    "def _gen_freq_months(df: pd.DataFrame,\n",
    "                     date_col_title: str=\"Date of Issue\"):\n",
    "    freqs = df[date_col_title].groupby(\n",
    "        by=[df[date_col_title].dt.year, df[date_col_title].dt.month]\n",
    "    ).count()\n",
    "    freqs.index.rename(names=[\"Year\", \"Month\"], inplace=True)\n",
    "    df_freq = pd.DataFrame(freqs)\n",
    "    df_freq.reset_index(inplace=True)\n",
    "    df_freq.rename({date_col_title: \"Frequency\"}, axis=1, inplace=True)\n",
    "    df_freq[\"Year\"] = pd.Categorical(df_freq[\"Year\"], ordered=True)\n",
    "    df_freq[\"Month\"] = pd.Categorical(df_freq[\"Month\"], ordered=True)\n",
    "    return df_freq"
   ]
  },
  {
   "cell_type": "code",
   "execution_count": 56,
   "id": "994e8bb9-2ca8-479b-a04f-33f78823aea2",
   "metadata": {},
   "outputs": [
    {
     "data": {
      "text/html": [
       "<div>\n",
       "<style scoped>\n",
       "    .dataframe tbody tr th:only-of-type {\n",
       "        vertical-align: middle;\n",
       "    }\n",
       "\n",
       "    .dataframe tbody tr th {\n",
       "        vertical-align: top;\n",
       "    }\n",
       "\n",
       "    .dataframe thead th {\n",
       "        text-align: right;\n",
       "    }\n",
       "</style>\n",
       "<table border=\"1\" class=\"dataframe\">\n",
       "  <thead>\n",
       "    <tr style=\"text-align: right;\">\n",
       "      <th></th>\n",
       "      <th>Year</th>\n",
       "      <th>Month</th>\n",
       "      <th>Frequency</th>\n",
       "    </tr>\n",
       "  </thead>\n",
       "  <tbody>\n",
       "    <tr>\n",
       "      <th>0</th>\n",
       "      <td>2014</td>\n",
       "      <td>10</td>\n",
       "      <td>141</td>\n",
       "    </tr>\n",
       "    <tr>\n",
       "      <th>1</th>\n",
       "      <td>2014</td>\n",
       "      <td>11</td>\n",
       "      <td>4036</td>\n",
       "    </tr>\n",
       "    <tr>\n",
       "      <th>2</th>\n",
       "      <td>2014</td>\n",
       "      <td>12</td>\n",
       "      <td>8236</td>\n",
       "    </tr>\n",
       "    <tr>\n",
       "      <th>3</th>\n",
       "      <td>2015</td>\n",
       "      <td>1</td>\n",
       "      <td>12849</td>\n",
       "    </tr>\n",
       "    <tr>\n",
       "      <th>4</th>\n",
       "      <td>2015</td>\n",
       "      <td>2</td>\n",
       "      <td>11555</td>\n",
       "    </tr>\n",
       "    <tr>\n",
       "      <th>...</th>\n",
       "      <td>...</td>\n",
       "      <td>...</td>\n",
       "      <td>...</td>\n",
       "    </tr>\n",
       "    <tr>\n",
       "      <th>106</th>\n",
       "      <td>2106</td>\n",
       "      <td>10</td>\n",
       "      <td>1</td>\n",
       "    </tr>\n",
       "    <tr>\n",
       "      <th>107</th>\n",
       "      <td>2106</td>\n",
       "      <td>12</td>\n",
       "      <td>1</td>\n",
       "    </tr>\n",
       "    <tr>\n",
       "      <th>108</th>\n",
       "      <td>2107</td>\n",
       "      <td>5</td>\n",
       "      <td>1</td>\n",
       "    </tr>\n",
       "    <tr>\n",
       "      <th>109</th>\n",
       "      <td>2108</td>\n",
       "      <td>9</td>\n",
       "      <td>1</td>\n",
       "    </tr>\n",
       "    <tr>\n",
       "      <th>110</th>\n",
       "      <td>2109</td>\n",
       "      <td>3</td>\n",
       "      <td>1</td>\n",
       "    </tr>\n",
       "  </tbody>\n",
       "</table>\n",
       "<p>111 rows × 3 columns</p>\n",
       "</div>"
      ],
      "text/plain": [
       "     Year Month  Frequency\n",
       "0    2014    10        141\n",
       "1    2014    11       4036\n",
       "2    2014    12       8236\n",
       "3    2015     1      12849\n",
       "4    2015     2      11555\n",
       "..    ...   ...        ...\n",
       "106  2106    10          1\n",
       "107  2106    12          1\n",
       "108  2107     5          1\n",
       "109  2108     9          1\n",
       "110  2109     3          1\n",
       "\n",
       "[111 rows x 3 columns]"
      ]
     },
     "metadata": {},
     "output_type": "display_data"
    }
   ],
   "source": [
    "df_freq_date_of_issue = _gen_freq_months(df=df)\n",
    "display(df_freq_date_of_issue)"
   ]
  },
  {
   "cell_type": "markdown",
   "id": "9de02c2d-04ba-4ad4-8696-0e11bbbb3c3a",
   "metadata": {},
   "source": [
    "```freq_date_of_issue``` setup inspired by Stack Overflow contributor<sup>7</sup>"
   ]
  },
  {
   "cell_type": "code",
   "execution_count": 57,
   "id": "fdee1cfb-2a71-4bdc-82f3-a0bc3dcbf0a4",
   "metadata": {},
   "outputs": [
    {
     "data": {
      "image/png": "[encoded data removed]",
      "text/plain": [
       "<Figure size 432x288 with 1 Axes>"
      ]
     },
     "metadata": {
      "needs_background": "light"
     },
     "output_type": "display_data"
    }
   ],
   "source": [
    "fig, ax = plt.subplots()\n",
    "sns.barplot(\n",
    "    x=df_freq_date_of_issue.groupby(\"Year\").sum().index,\n",
    "    y=df_freq_date_of_issue.groupby(\"Year\").sum()[\"Frequency\"],\n",
    "    ax=ax\n",
    "); # not creating new\n",
    "   # var for the sum()\n",
    "   # DataFrame b/c\n",
    "   # not too computation\n",
    "   # -ally expensive\n",
    "   # with this data size\n",
    "   # (less lines - better\n",
    "   # readability)\n",
    "fig.suptitle(\"Frequencies Across Years (Date of Issue)\");"
   ]
  },
  {
   "cell_type": "code",
   "execution_count": 58,
   "id": "27e0e030-dfc8-40ae-83c6-b25273e55f80",
   "metadata": {},
   "outputs": [
    {
     "data": {
      "text/plain": [
       "Year\n",
       "2014     12413\n",
       "2015    168981\n",
       "2016    149300\n",
       "2017    185383\n",
       "2018    229928\n",
       "2019    191757\n",
       "2020    155115\n",
       "2021     71496\n",
       "2022         3\n",
       "2023         2\n",
       "2024         2\n",
       "2025         1\n",
       "2030         2\n",
       "2033         1\n",
       "2036         1\n",
       "2104         1\n",
       "2105         7\n",
       "2106         3\n",
       "2107         1\n",
       "2108         1\n",
       "2109         1\n",
       "Name: Frequency, dtype: int64"
      ]
     },
     "execution_count": 58,
     "metadata": {},
     "output_type": "execute_result"
    }
   ],
   "source": [
    "df_freq_date_of_issue.groupby(\"Year\").sum()[\"Frequency\"]"
   ]
  },
  {
   "cell_type": "markdown",
   "id": "d63ab45a-2b1d-4b6b-b9d8-463f77a9f338",
   "metadata": {},
   "source": [
    "Based on the distributions, there are less than half of the months in the year worth of data in 2014 (when the data started getting collected) until now (2021 and future years?! - typos or \"bad\" data within the data set). I am now removing those years from the sample data that we are analyzing."
   ]
  },
  {
   "cell_type": "code",
   "execution_count": 59,
   "id": "149dd8ef-b4be-4479-a59b-09ad03a613a2",
   "metadata": {},
   "outputs": [],
   "source": [
    "df = df[(df[\"Date of Issue\"].dt.year > 2014) & (df[\"Date of Issue\"].dt.year < 2021)]\n",
    "df_freq_date_of_issue = _gen_freq_months(df) # regenerate the frequencies based on\n",
    "                                             # updated sample data"
   ]
  },
  {
   "cell_type": "markdown",
   "id": "2479894b-c451-4103-9ab8-0f0ed946f883",
   "metadata": {},
   "source": [
    "Verify that we have successfully filtered out those years:"
   ]
  },
  {
   "cell_type": "code",
   "execution_count": 60,
   "id": "0ffc751e-fcd6-4289-aed2-7ec8598c37f1",
   "metadata": {},
   "outputs": [
    {
     "data": {
      "image/png": "[encoded data removed]",
      "text/plain": [
       "<Figure size 432x288 with 1 Axes>"
      ]
     },
     "metadata": {
      "needs_background": "light"
     },
     "output_type": "display_data"
    }
   ],
   "source": [
    "fig, ax = plt.subplots()\n",
    "sns.barplot(\n",
    "    x=df_freq_date_of_issue.groupby(\"Year\").sum().index,\n",
    "    y=df_freq_date_of_issue.groupby(\"Year\").sum()[\"Frequency\"],\n",
    "    ax=ax\n",
    ")\n",
    "fig.suptitle(\"Frequencies Across Years 2015-2020 (Date of Issue)\");"
   ]
  },
  {
   "cell_type": "code",
   "execution_count": 61,
   "id": "8f995664-7afc-464e-ac4b-20f737bfa88a",
   "metadata": {},
   "outputs": [
    {
     "data": {
      "image/png": "[encoded data removed]",
      "text/plain": [
       "<Figure size 432x288 with 1 Axes>"
      ]
     },
     "metadata": {
      "needs_background": "light"
     },
     "output_type": "display_data"
    }
   ],
   "source": [
    "fig, ax = plt.subplots()\n",
    "sns.barplot(\n",
    "    x=df_freq_date_of_issue.groupby(\"Month\").sum().index,\n",
    "    y=df_freq_date_of_issue.groupby(\"Month\").sum()[\"Frequency\"],\n",
    "    ax=ax\n",
    "); # not creating new\n",
    "   # var for the sum()\n",
    "   # DataFrame b/c\n",
    "   # not too computation\n",
    "   # -ally expensive\n",
    "   # with this data size\n",
    "   # (less lines - better\n",
    "   # readability)\n",
    "fig.suptitle(\"Frequencies Across Months 2015-2020 (Date of Issue)\");"
   ]
  },
  {
   "cell_type": "markdown",
   "id": "c3d314bd-4c50-440a-be61-5dc68516d1b6",
   "metadata": {},
   "source": [
    "Let's see the distribution of calls across all individual months."
   ]
  },
  {
   "cell_type": "code",
   "execution_count": 62,
   "id": "da5ac0f7-0fcc-480b-a0d1-000ac1aeca33",
   "metadata": {},
   "outputs": [
    {
     "data": {
      "text/html": [
       "<div>\n",
       "<style scoped>\n",
       "    .dataframe tbody tr th:only-of-type {\n",
       "        vertical-align: middle;\n",
       "    }\n",
       "\n",
       "    .dataframe tbody tr th {\n",
       "        vertical-align: top;\n",
       "    }\n",
       "\n",
       "    .dataframe thead th {\n",
       "        text-align: right;\n",
       "    }\n",
       "</style>\n",
       "<table border=\"1\" class=\"dataframe\">\n",
       "  <thead>\n",
       "    <tr style=\"text-align: right;\">\n",
       "      <th></th>\n",
       "      <th>Frequency</th>\n",
       "    </tr>\n",
       "  </thead>\n",
       "  <tbody>\n",
       "    <tr>\n",
       "      <th>count</th>\n",
       "      <td>72.000000</td>\n",
       "    </tr>\n",
       "    <tr>\n",
       "      <th>mean</th>\n",
       "      <td>15006.444444</td>\n",
       "    </tr>\n",
       "    <tr>\n",
       "      <th>std</th>\n",
       "      <td>3571.412566</td>\n",
       "    </tr>\n",
       "    <tr>\n",
       "      <th>min</th>\n",
       "      <td>5936.000000</td>\n",
       "    </tr>\n",
       "    <tr>\n",
       "      <th>25%</th>\n",
       "      <td>12842.750000</td>\n",
       "    </tr>\n",
       "    <tr>\n",
       "      <th>50%</th>\n",
       "      <td>14910.500000</td>\n",
       "    </tr>\n",
       "    <tr>\n",
       "      <th>75%</th>\n",
       "      <td>16961.500000</td>\n",
       "    </tr>\n",
       "    <tr>\n",
       "      <th>max</th>\n",
       "      <td>22591.000000</td>\n",
       "    </tr>\n",
       "  </tbody>\n",
       "</table>\n",
       "</div>"
      ],
      "text/plain": [
       "          Frequency\n",
       "count     72.000000\n",
       "mean   15006.444444\n",
       "std     3571.412566\n",
       "min     5936.000000\n",
       "25%    12842.750000\n",
       "50%    14910.500000\n",
       "75%    16961.500000\n",
       "max    22591.000000"
      ]
     },
     "execution_count": 62,
     "metadata": {},
     "output_type": "execute_result"
    }
   ],
   "source": [
    "df_freq_date_of_issue.describe()"
   ]
  },
  {
   "cell_type": "code",
   "execution_count": 63,
   "id": "8b2dbb4b-6341-4a56-abfb-02607548d229",
   "metadata": {},
   "outputs": [
    {
     "data": {
      "image/png": "[encoded data removed]",
      "text/plain": [
       "<Figure size 1008x504 with 1 Axes>"
      ]
     },
     "metadata": {
      "needs_background": "light"
     },
     "output_type": "display_data"
    },
    {
     "data": {
      "image/png": "[encoded data removed]",
      "text/plain": [
       "<Figure size 1008x504 with 1 Axes>"
      ]
     },
     "metadata": {
      "needs_background": "light"
     },
     "output_type": "display_data"
    }
   ],
   "source": [
    "fig, ax = plt.subplots(figsize=(14, 7))\n",
    "sns.boxplot(\n",
    "    data=df_freq_date_of_issue, \n",
    "    x=\"Frequency\", \n",
    "    ax=ax\n",
    ")\n",
    "fig.suptitle(\n",
    "    \"Distribution of Frequencies Across \" + \\\n",
    "    \"(Month, Year)'s 2015-2020 (Date of Issue)\"\n",
    ")\n",
    "\n",
    "fig, ax = plt.subplots(figsize=(14, 7))\n",
    "sns.violinplot(\n",
    "    data=df_freq_date_of_issue, \n",
    "    x=\"Frequency\", ax=ax)\n",
    "fig.suptitle(\n",
    "    \"Distribution of Frequencies Across \" + \\\n",
    "    \"(Month, Year)'s 2015-2020 (Date of Issue)\"\n",
    ");"
   ]
  },
  {
   "cell_type": "markdown",
   "id": "67de1623-53ff-453b-8d3d-35d335a1ee03",
   "metadata": {},
   "source": [
    "We can keep the outliers for now. It looks like there were typically (median) around 122 reports per month."
   ]
  },
  {
   "cell_type": "code",
   "execution_count": 64,
   "id": "1136e7d7-dd5e-4852-abea-88eac74f4f39",
   "metadata": {},
   "outputs": [
    {
     "data": {
      "image/png": "[encoded data removed]",
      "text/plain": [
       "<Figure size 360x360 with 1 Axes>"
      ]
     },
     "metadata": {
      "needs_background": "light"
     },
     "output_type": "display_data"
    }
   ],
   "source": [
    "fg = sns.displot(kind=\"hist\", data=df_freq_date_of_issue, x=\"Frequency\", kde=True);\n",
    "fg.fig.subplots_adjust(top=0.9)\n",
    "fg.fig.suptitle(\"Distribution of Frequencies Across (Month, Year)'s 2015-2020 (Date of Issue)\");"
   ]
  },
  {
   "cell_type": "markdown",
   "id": "d7217de2-f1ba-4bd8-849a-d6431982a7d0",
   "metadata": {},
   "source": [
    "The distribution of the frequencies month-to-month were fairly normal (again, median of 122)."
   ]
  },
  {
   "cell_type": "markdown",
   "id": "54b2641a-63d3-47bc-bb6b-12fb4ccb890d",
   "metadata": {},
   "source": [
    "<br/>**Looking at general distributional data for \"Method\"**"
   ]
  },
  {
   "cell_type": "code",
   "execution_count": 65,
   "id": "090421da-913b-45b3-bd7b-9c6e43604297",
   "metadata": {},
   "outputs": [
    {
     "data": {
      "image/png": "[encoded data removed]",
      "text/plain": [
       "<Figure size 432x288 with 1 Axes>"
      ]
     },
     "metadata": {
      "needs_background": "light"
     },
     "output_type": "display_data"
    }
   ],
   "source": [
    "fig, ax = plt.subplots()\n",
    "sns.countplot(\n",
    "    data=df,\n",
    "    x=\"Method\",\n",
    "    ax=ax\n",
    ");\n",
    "fig.suptitle(\"Frequencies Across Method of Contact 2015-2020 (Method)\");"
   ]
  },
  {
   "cell_type": "markdown",
   "id": "e3d27f69-618d-4557-a928-aa2f27d1ab3a",
   "metadata": {},
   "source": [
    "<br/>**Looking at frequency data for \"Type of Call or Messge\":**"
   ]
  },
  {
   "cell_type": "code",
   "execution_count": 66,
   "id": "44957439-3404-4a15-845b-cd0bad584543",
   "metadata": {},
   "outputs": [
    {
     "data": {
      "image/png": "[encoded data removed]",
      "text/plain": [
       "<Figure size 1008x504 with 1 Axes>"
      ]
     },
     "metadata": {
      "needs_background": "light"
     },
     "output_type": "display_data"
    }
   ],
   "source": [
    "fig, ax = plt.subplots(figsize=(14,7))\n",
    "sns.countplot(\n",
    "    data=df,\n",
    "    x=\"Type of Call or Messge\",\n",
    "    ax=ax\n",
    ")\n",
    "fig.suptitle(\n",
    "    \"Frequencies Across Type of Call/Message 2015-2020 (Type of Call or Messge)\"\n",
    ");"
   ]
  },
  {
   "cell_type": "markdown",
   "id": "22168a6e-c2e8-4cb3-9ae6-9db2229913c8",
   "metadata": {},
   "source": [
    "<br/>**Looking at frequency data for \"State\":**"
   ]
  },
  {
   "cell_type": "code",
   "execution_count": 67,
   "id": "5ddad7f6-ff51-4e3b-958e-89e836d9a195",
   "metadata": {},
   "outputs": [
    {
     "data": {
      "image/png": "[encoded data removed]",
      "text/plain": [
       "<Figure size 1008x504 with 1 Axes>"
      ]
     },
     "metadata": {
      "needs_background": "light"
     },
     "output_type": "display_data"
    }
   ],
   "source": [
    "fig, ax = plt.subplots(figsize=(14,7))\n",
    "sns.countplot(\n",
    "    data=df,\n",
    "    x=\"State\",\n",
    "    ax=ax\n",
    ")\n",
    "fig.suptitle(\n",
    "    \"Frequencies Across States 2015-2020 (State)\"\n",
    ");"
   ]
  },
  {
   "cell_type": "markdown",
   "id": "b324f21b-cedb-4da9-b71c-376775fb1944",
   "metadata": {},
   "source": [
    "Due to different states having different populations, the FCC complaint frequencies (2015-2020) across states countplot needs to be normalized by the population of each state.\n",
    "\n",
    "Let's compile that state frequency data in one DataFrame and then find the complaint frequency by capita."
   ]
  },
  {
   "cell_type": "code",
   "execution_count": 68,
   "id": "954c4b6d-5ee9-41de-8de2-81c902479f05",
   "metadata": {},
   "outputs": [],
   "source": [
    "def _add_state_populations(df_freq_by_state: pd.DataFrame, new_col_title: str):\n",
    "    search = SearchEngine(simple_zipcode=True, db_file_dir=\"../data/zip_data_raw\")\n",
    "    state_population = 0\n",
    "    for state in df_freq_by_state.index:\n",
    "        # 100000 b/c max. num of possible zip codes 00000-99999 \n",
    "        # (it's just an upper bound)\n",
    "        state_zips = search.by_state(state, returns=100000)\n",
    "        for state_zip in state_zips:\n",
    "            if state_zip.population is not None: # 90099, for example, has no residents\n",
    "                state_population+=state_zip.population\n",
    "        df_freq_by_state.loc[state, new_col_title] = state_population\n",
    "        state_population = 0"
   ]
  },
  {
   "cell_type": "code",
   "execution_count": 69,
   "id": "4d800739-cc22-486f-868b-d0968e68aa38",
   "metadata": {},
   "outputs": [
    {
     "data": {
      "text/html": [
       "<div>\n",
       "<style scoped>\n",
       "    .dataframe tbody tr th:only-of-type {\n",
       "        vertical-align: middle;\n",
       "    }\n",
       "\n",
       "    .dataframe tbody tr th {\n",
       "        vertical-align: top;\n",
       "    }\n",
       "\n",
       "    .dataframe thead th {\n",
       "        text-align: right;\n",
       "    }\n",
       "</style>\n",
       "<table border=\"1\" class=\"dataframe\">\n",
       "  <thead>\n",
       "    <tr style=\"text-align: right;\">\n",
       "      <th></th>\n",
       "      <th>Freq</th>\n",
       "      <th>Pop Size</th>\n",
       "    </tr>\n",
       "    <tr>\n",
       "      <th>State</th>\n",
       "      <th></th>\n",
       "      <th></th>\n",
       "    </tr>\n",
       "  </thead>\n",
       "  <tbody>\n",
       "    <tr>\n",
       "      <th>CA</th>\n",
       "      <td>128380</td>\n",
       "      <td>37070683</td>\n",
       "    </tr>\n",
       "    <tr>\n",
       "      <th>TX</th>\n",
       "      <td>84760</td>\n",
       "      <td>25005364</td>\n",
       "    </tr>\n",
       "    <tr>\n",
       "      <th>FL</th>\n",
       "      <td>72920</td>\n",
       "      <td>18762334</td>\n",
       "    </tr>\n",
       "    <tr>\n",
       "      <th>NY</th>\n",
       "      <td>55429</td>\n",
       "      <td>19284068</td>\n",
       "    </tr>\n",
       "    <tr>\n",
       "      <th>PA</th>\n",
       "      <td>43419</td>\n",
       "      <td>12562658</td>\n",
       "    </tr>\n",
       "  </tbody>\n",
       "</table>\n",
       "</div>"
      ],
      "text/plain": [
       "         Freq  Pop Size\n",
       "State                  \n",
       "CA     128380  37070683\n",
       "TX      84760  25005364\n",
       "FL      72920  18762334\n",
       "NY      55429  19284068\n",
       "PA      43419  12562658"
      ]
     },
     "metadata": {},
     "output_type": "display_data"
    }
   ],
   "source": [
    "df_freq_by_state = pd.DataFrame(\n",
    "    {\n",
    "        \"Freq\" : df[\"State\"].value_counts(dropna=True).values,\n",
    "        \"Pop Size\" : np.nan\n",
    "    }, \n",
    "    index=pd.Index(data=df[\"State\"].value_counts(dropna=True).index, name=\"State\"),\n",
    "    columns=[\"Freq\", \"Pop Size\"]\n",
    ")\n",
    "# print(df_freq_by_state)\n",
    "_add_state_populations(\n",
    "    df_freq_by_state = df_freq_by_state,\n",
    "    new_col_title = \"Pop Size\"\n",
    ")\n",
    "df_freq_by_state[\"Pop Size\"] = df_freq_by_state.loc[:,\"Pop Size\"].astype(int)\n",
    "display(df_freq_by_state.head())"
   ]
  },
  {
   "cell_type": "code",
   "execution_count": 70,
   "id": "abedf308-3c7f-4f36-b6de-6b5a00e526d3",
   "metadata": {},
   "outputs": [
    {
     "data": {
      "text/html": [
       "<div>\n",
       "<style scoped>\n",
       "    .dataframe tbody tr th:only-of-type {\n",
       "        vertical-align: middle;\n",
       "    }\n",
       "\n",
       "    .dataframe tbody tr th {\n",
       "        vertical-align: top;\n",
       "    }\n",
       "\n",
       "    .dataframe thead th {\n",
       "        text-align: right;\n",
       "    }\n",
       "</style>\n",
       "<table border=\"1\" class=\"dataframe\">\n",
       "  <thead>\n",
       "    <tr style=\"text-align: right;\">\n",
       "      <th></th>\n",
       "      <th>Freq</th>\n",
       "      <th>Pop Size</th>\n",
       "      <th>Freq Per Capita</th>\n",
       "    </tr>\n",
       "    <tr>\n",
       "      <th>State</th>\n",
       "      <th></th>\n",
       "      <th></th>\n",
       "      <th></th>\n",
       "    </tr>\n",
       "  </thead>\n",
       "  <tbody>\n",
       "    <tr>\n",
       "      <th>DC</th>\n",
       "      <td>6042</td>\n",
       "      <td>593412</td>\n",
       "      <td>0.010182</td>\n",
       "    </tr>\n",
       "    <tr>\n",
       "      <th>CO</th>\n",
       "      <td>30077</td>\n",
       "      <td>4957182</td>\n",
       "      <td>0.006067</td>\n",
       "    </tr>\n",
       "    <tr>\n",
       "      <th>WY</th>\n",
       "      <td>3175</td>\n",
       "      <td>550410</td>\n",
       "      <td>0.005768</td>\n",
       "    </tr>\n",
       "    <tr>\n",
       "      <th>MD</th>\n",
       "      <td>29692</td>\n",
       "      <td>5737788</td>\n",
       "      <td>0.005175</td>\n",
       "    </tr>\n",
       "    <tr>\n",
       "      <th>AZ</th>\n",
       "      <td>29271</td>\n",
       "      <td>6188636</td>\n",
       "      <td>0.004730</td>\n",
       "    </tr>\n",
       "  </tbody>\n",
       "</table>\n",
       "</div>"
      ],
      "text/plain": [
       "        Freq  Pop Size  Freq Per Capita\n",
       "State                                  \n",
       "DC      6042    593412         0.010182\n",
       "CO     30077   4957182         0.006067\n",
       "WY      3175    550410         0.005768\n",
       "MD     29692   5737788         0.005175\n",
       "AZ     29271   6188636         0.004730"
      ]
     },
     "metadata": {},
     "output_type": "display_data"
    }
   ],
   "source": [
    "df_freq_by_state[\"Freq Per Capita\"] = \\\n",
    "df_freq_by_state[\"Freq\"] / df_freq_by_state[\"Pop Size\"]\n",
    "df_freq_by_state.sort_values(by=\"Freq Per Capita\", ascending=False, inplace=True)\n",
    "display(\n",
    "    df_freq_by_state.head()\n",
    ")"
   ]
  },
  {
   "cell_type": "code",
   "execution_count": 71,
   "id": "05fc3098-5b8e-4738-865f-a8d590b582f5",
   "metadata": {},
   "outputs": [
    {
     "data": {
      "image/png": "[encoded data removed]",
      "text/plain": [
       "<Figure size 1008x504 with 1 Axes>"
      ]
     },
     "metadata": {
      "needs_background": "light"
     },
     "output_type": "display_data"
    },
    {
     "data": {
      "image/png": "[encoded data removed]",
      "text/plain": [
       "<Figure size 1008x504 with 1 Axes>"
      ]
     },
     "metadata": {
      "needs_background": "light"
     },
     "output_type": "display_data"
    }
   ],
   "source": [
    "fig, ax = plt.subplots(figsize=(14, 7))\n",
    "sns.boxplot(data=df_freq_by_state, x=\"Freq Per Capita\", ax=ax)\n",
    "fig.suptitle(\"Distribution of Frequencies Across States Per Capita 2015-2020 (State)\");\n",
    "\n",
    "fig, ax = plt.subplots(figsize=(14, 7))\n",
    "sns.violinplot(data=df_freq_by_state, x=\"Freq Per Capita\", ax=ax)\n",
    "fig.suptitle(\"Distribution of Frequencies Across States Per Capita 2015-2020 (State))\");"
   ]
  },
  {
   "cell_type": "markdown",
   "id": "459468c2-337d-4463-99e1-00289931ad7e",
   "metadata": {},
   "source": [
    "Right skewed; besides outliers, appears fairly normally distributed near median."
   ]
  },
  {
   "cell_type": "code",
   "execution_count": 72,
   "id": "3b883a3a-0b0b-44ea-bf81-5abfe9f9629b",
   "metadata": {},
   "outputs": [
    {
     "data": {
      "text/html": [
       "<div>\n",
       "<style scoped>\n",
       "    .dataframe tbody tr th:only-of-type {\n",
       "        vertical-align: middle;\n",
       "    }\n",
       "\n",
       "    .dataframe tbody tr th {\n",
       "        vertical-align: top;\n",
       "    }\n",
       "\n",
       "    .dataframe thead th {\n",
       "        text-align: right;\n",
       "    }\n",
       "</style>\n",
       "<table border=\"1\" class=\"dataframe\">\n",
       "  <thead>\n",
       "    <tr style=\"text-align: right;\">\n",
       "      <th></th>\n",
       "      <th>Freq</th>\n",
       "      <th>Pop Size</th>\n",
       "      <th>Freq Per Capita</th>\n",
       "    </tr>\n",
       "    <tr>\n",
       "      <th>State</th>\n",
       "      <th></th>\n",
       "      <th></th>\n",
       "      <th></th>\n",
       "    </tr>\n",
       "  </thead>\n",
       "  <tbody>\n",
       "    <tr>\n",
       "      <th>DC</th>\n",
       "      <td>6042</td>\n",
       "      <td>593412</td>\n",
       "      <td>0.010182</td>\n",
       "    </tr>\n",
       "    <tr>\n",
       "      <th>CO</th>\n",
       "      <td>30077</td>\n",
       "      <td>4957182</td>\n",
       "      <td>0.006067</td>\n",
       "    </tr>\n",
       "    <tr>\n",
       "      <th>WY</th>\n",
       "      <td>3175</td>\n",
       "      <td>550410</td>\n",
       "      <td>0.005768</td>\n",
       "    </tr>\n",
       "  </tbody>\n",
       "</table>\n",
       "</div>"
      ],
      "text/plain": [
       "        Freq  Pop Size  Freq Per Capita\n",
       "State                                  \n",
       "DC      6042    593412         0.010182\n",
       "CO     30077   4957182         0.006067\n",
       "WY      3175    550410         0.005768"
      ]
     },
     "execution_count": 72,
     "metadata": {},
     "output_type": "execute_result"
    }
   ],
   "source": [
    "iqr = df_freq_by_state.describe().loc[\"75%\",\"Freq Per Capita\"] - \\\n",
    "      df_freq_by_state.describe().loc[\"25%\",\"Freq Per Capita\"]\n",
    "lower_outlier_threshold = df_freq_by_state.describe().loc[\"25%\",\"Freq Per Capita\"] - (1.5*iqr)\n",
    "upper_outlier_threshold = df_freq_by_state.describe().loc[\"75%\",\"Freq Per Capita\"] + (1.5*iqr)\n",
    "df_freq_by_state[\n",
    "    (df_freq_by_state[\"Freq Per Capita\"] < lower_outlier_threshold) |\n",
    "    (df_freq_by_state[\"Freq Per Capita\"] > upper_outlier_threshold)\n",
    "]"
   ]
  },
  {
   "cell_type": "markdown",
   "id": "9f6a270f-2f15-4229-9179-cc3565ffcf08",
   "metadata": {},
   "source": [
    "Washington DC, Colorado, and Wyoming had the largest frequencies per capita, respectively. Those states' frequencies per capita in the data analyzed (frequencies by state)."
   ]
  },
  {
   "cell_type": "code",
   "execution_count": 73,
   "id": "37f7ab10-8743-4842-9cc6-7847f0c58372",
   "metadata": {},
   "outputs": [
    {
     "data": {
      "image/png": "[encoded data removed]",
      "text/plain": [
       "<Figure size 1008x504 with 1 Axes>"
      ]
     },
     "metadata": {
      "needs_background": "light"
     },
     "output_type": "display_data"
    }
   ],
   "source": [
    "fig, ax = plt.subplots(figsize=(14,7))\n",
    "sns.barplot(\n",
    "    data=df_freq_by_state,\n",
    "    x=df_freq_by_state.index,\n",
    "    y=\"Freq Per Capita\",\n",
    "    ax=ax\n",
    ")\n",
    "fig.suptitle(\n",
    "    \"Frequencies Across States Per Capita 2015-2020 (State)\"\n",
    ");"
   ]
  },
  {
   "cell_type": "markdown",
   "id": "f434856f-9703-4e3c-9e6b-279988436cc6",
   "metadata": {},
   "source": [
    "How about ordered (most to least)?"
   ]
  },
  {
   "cell_type": "code",
   "execution_count": 74,
   "id": "7125601d-6b8c-40a0-a932-64833c82d004",
   "metadata": {},
   "outputs": [
    {
     "data": {
      "image/png": "[encoded data removed]",
      "text/plain": [
       "<Figure size 1008x504 with 1 Axes>"
      ]
     },
     "metadata": {
      "needs_background": "light"
     },
     "output_type": "display_data"
    }
   ],
   "source": [
    "fig, ax = plt.subplots(figsize=(14,7))\n",
    "sns.barplot(\n",
    "    data=df_freq_by_state,\n",
    "    x=df_freq_by_state.index,\n",
    "    y=\"Freq Per Capita\",\n",
    "    order=df_freq_by_state.index,\n",
    "    ax=ax\n",
    ")\n",
    "fig.suptitle(\n",
    "    \"Frequencies Across States Per Capita, Descending 2015-2020\"\n",
    ");"
   ]
  },
  {
   "cell_type": "markdown",
   "id": "2ac295fc-0142-407e-97dc-560738b6e7ad",
   "metadata": {},
   "source": [
    "### Step 3: Pre-ML Models (Clustering)"
   ]
  },
  {
   "cell_type": "code",
   "execution_count": 75,
   "id": "5dd9423f-d330-421f-a355-33a38bfd4d96",
   "metadata": {},
   "outputs": [],
   "source": [
    "df_lng_lat = pd.DataFrame(\n",
    "    {\n",
    "        \"lat\" : df[df[\"Zip Info\"].notnull()][\"Zip Info\"].apply(\n",
    "            lambda sz: sz.lat\n",
    "        ), # sz stands for SimpleZipcode object\n",
    "        \"lng\" : df[df[\"Zip Info\"].notnull()][\"Zip Info\"].apply(\n",
    "            lambda sz: sz.lng\n",
    "        ) # sz stands for SimpleZipcode object\n",
    "    },\n",
    "    index=df[df[\"Zip Info\"].notnull()].index\n",
    ")"
   ]
  },
  {
   "cell_type": "code",
   "execution_count": 76,
   "id": "d34527f4-e5c5-4ff9-a25a-9a59359705fe",
   "metadata": {},
   "outputs": [
    {
     "data": {
      "image/png": "[encoded data removed]",
      "text/plain": [
       "<Figure size 1008x504 with 1 Axes>"
      ]
     },
     "metadata": {
      "needs_background": "light"
     },
     "output_type": "display_data"
    }
   ],
   "source": [
    "fig, ax = plt.subplots(figsize=(14, 7))\n",
    "sns.scatterplot(data=df_lng_lat, x=\"lng\", y=\"lat\", ax=ax);\n",
    "fig.suptitle(\"Longitude-Latitude Plot of Resident Location Across Reports 2015-2020\")\n",
    "ax.set_xlabel(\"Longitude\")\n",
    "ax.set_ylabel(\"Latitude\");"
   ]
  },
  {
   "cell_type": "markdown",
   "id": "db2fe324-379b-492e-bc8c-87f58371a6bc",
   "metadata": {},
   "source": [
    "Now, let us try to map this onto some set of Cartesian coordinates. This is going to be a *relativistic* Cartesian coordinate plot; there is not necessarily an objective, standard Cartesian coordinate plot that is commonly used."
   ]
  },
  {
   "cell_type": "code",
   "execution_count": 77,
   "id": "164bc264-6b44-4576-9d2b-09d66a043187",
   "metadata": {},
   "outputs": [],
   "source": [
    "def _calculate_dlng(lng_center: float, lat_center: float, lng_pt: float, lat_pt: float):\n",
    "    return (lng_pt-lng_center)*40000*math.cos((lat_center+lat_pt)*math.pi/360)/360\n",
    "\n",
    "def _calculate_dlat(lat_center: float, lat_pt: float):\n",
    "    return (lat_pt-lat_center)*40000/360"
   ]
  },
  {
   "cell_type": "markdown",
   "id": "0d6afaf7-a585-4439-b8e3-8a8e78dcb2af",
   "metadata": {},
   "source": [
    "Formulas are attributed to the user Floris on Stack Overflow.<sup>9</sup>"
   ]
  },
  {
   "cell_type": "code",
   "execution_count": 78,
   "id": "bfaac34d-d0f3-4d7a-95b9-436febd5cd05",
   "metadata": {},
   "outputs": [],
   "source": [
    "# geographic center of the US latitude and longitude\n",
    "# (decimal rather than DMS, i.e. degrees, minutes, seconds) values\n",
    "lng_center = -103.771556\n",
    "lat_center = 44.967243\n",
    "df_lng_lat[\"dlng\"] = df_lng_lat.apply(\n",
    "    func=lambda row: _calculate_dlng(\n",
    "        lng_center=lng_center, \n",
    "        lat_center=lat_center, \n",
    "        lng_pt=row[\"lng\"],\n",
    "        lat_pt=row[\"lat\"]\n",
    "    ),\n",
    "    axis=1\n",
    ")\n",
    "df_lng_lat[\"dlat\"] = df_lng_lat.apply(\n",
    "    func=lambda row: _calculate_dlat(\n",
    "        lat_center=lat_center,\n",
    "        lat_pt=row[\"lat\"]\n",
    "    ),\n",
    "    axis=1\n",
    ")"
   ]
  },
  {
   "cell_type": "code",
   "execution_count": 79,
   "id": "d6fa1d1a-380e-4752-a184-8519306c6581",
   "metadata": {},
   "outputs": [],
   "source": [
    "df_lng_lat[\"lng_cart\"] = df_lng_lat.apply(\n",
    "    func=lambda row: row[\"lng\"] + row[\"dlng\"],\n",
    "    axis=1\n",
    ")\n",
    "df_lng_lat[\"lat_cart\"] = df_lng_lat.apply(\n",
    "    func=lambda row: row[\"lat\"] + row[\"dlat\"],\n",
    "    axis=1\n",
    ")"
   ]
  },
  {
   "cell_type": "markdown",
   "id": "e3f13c5b-79a3-4099-9996-468c8723d7ab",
   "metadata": {},
   "source": [
    "Geographic center of the United States obtained from Wikipedia and converted to decimal in the \"GeoHack\" app, which will serve as the center of the map.<sup>10 11</sup>"
   ]
  },
  {
   "cell_type": "code",
   "execution_count": 80,
   "id": "915a0a94-4482-42f0-9dab-8024a11fe396",
   "metadata": {},
   "outputs": [
    {
     "data": {
      "image/png": "[encoded data removed]",
      "text/plain": [
       "<Figure size 1008x504 with 1 Axes>"
      ]
     },
     "metadata": {
      "needs_background": "light"
     },
     "output_type": "display_data"
    }
   ],
   "source": [
    "fig, ax = plt.subplots(figsize=(14, 7))\n",
    "sns.scatterplot(data=df_lng_lat, x=\"lng_cart\", y=\"lat_cart\", ax=ax);\n",
    "fig.suptitle(\"Lat-Lng Cartesian Plot of Resident Location Across Reports 2015-2020\")\n",
    "ax.set_xlabel(\"Longitude Cartesian (Relative)\")\n",
    "ax.set_ylabel(\"Latitude Cartesian (Relative)\");"
   ]
  },
  {
   "cell_type": "markdown",
   "id": "0a96e5e9-e075-4f61-ae8b-68b16ac9b834",
   "metadata": {},
   "source": [
    "Did it make that much of a difference to map the longitude-latitude values to a Cartesian coordinate system? No. But, at least we tried (in case we did).\n",
    "\n",
    "Key takeaway: Call reporting is quite spread out across the country, as expected. \n",
    "\n",
    "Let's see the geo-density of the reported calls. And, we might as well use the real, widely-adopted longitude-latitude values, as it did not appear to make much of a difference visually."
   ]
  },
  {
   "cell_type": "code",
   "execution_count": 81,
   "id": "9325e3ad-0050-4c52-a125-147c66fdb891",
   "metadata": {},
   "outputs": [],
   "source": [
    "# sns.kdeplot(data=df_lng_lat, x=\"lng\", y=\"lat\", fill=True)"
   ]
  },
  {
   "cell_type": "markdown",
   "id": "a4686939-cc67-4049-86d7-131b78ee80db",
   "metadata": {},
   "source": [
    "### Step 4: Predicting time-series data (number of complaints) using ANN with multiple hidden layers"
   ]
  },
  {
   "cell_type": "markdown",
   "id": "60e707dd-8cf2-4bb7-83ae-f71388a7e0a9",
   "metadata": {},
   "source": [
    "Through the EDA, it was discovered that there was *some*, even if not much, periodicity within the frequencies across the months and years. Let's see if we can use a basic multi-hidden-layered ANN modeled sequentially and with Dense layers for the hidden layers.<sup>12</sup>"
   ]
  },
  {
   "cell_type": "code",
   "execution_count": 82,
   "id": "10d73f91-1594-4dca-9782-4f628ff6401d",
   "metadata": {},
   "outputs": [
    {
     "data": {
      "text/html": [
       "<div>\n",
       "<style scoped>\n",
       "    .dataframe tbody tr th:only-of-type {\n",
       "        vertical-align: middle;\n",
       "    }\n",
       "\n",
       "    .dataframe tbody tr th {\n",
       "        vertical-align: top;\n",
       "    }\n",
       "\n",
       "    .dataframe thead th {\n",
       "        text-align: right;\n",
       "    }\n",
       "</style>\n",
       "<table border=\"1\" class=\"dataframe\">\n",
       "  <thead>\n",
       "    <tr style=\"text-align: right;\">\n",
       "      <th></th>\n",
       "      <th>Day of Issue</th>\n",
       "      <th>Freq</th>\n",
       "    </tr>\n",
       "  </thead>\n",
       "  <tbody>\n",
       "    <tr>\n",
       "      <th>0</th>\n",
       "      <td>2020-09-18</td>\n",
       "      <td>NaN</td>\n",
       "    </tr>\n",
       "    <tr>\n",
       "      <th>1</th>\n",
       "      <td>2020-09-18</td>\n",
       "      <td>NaN</td>\n",
       "    </tr>\n",
       "    <tr>\n",
       "      <th>2</th>\n",
       "      <td>2020-09-14</td>\n",
       "      <td>NaN</td>\n",
       "    </tr>\n",
       "    <tr>\n",
       "      <th>3</th>\n",
       "      <td>2020-09-16</td>\n",
       "      <td>NaN</td>\n",
       "    </tr>\n",
       "    <tr>\n",
       "      <th>4</th>\n",
       "      <td>2020-09-21</td>\n",
       "      <td>NaN</td>\n",
       "    </tr>\n",
       "    <tr>\n",
       "      <th>...</th>\n",
       "      <td>...</td>\n",
       "      <td>...</td>\n",
       "    </tr>\n",
       "    <tr>\n",
       "      <th>1173859</th>\n",
       "      <td>2020-03-09</td>\n",
       "      <td>NaN</td>\n",
       "    </tr>\n",
       "    <tr>\n",
       "      <th>1173866</th>\n",
       "      <td>2020-09-02</td>\n",
       "      <td>NaN</td>\n",
       "    </tr>\n",
       "    <tr>\n",
       "      <th>1173883</th>\n",
       "      <td>2020-09-02</td>\n",
       "      <td>NaN</td>\n",
       "    </tr>\n",
       "    <tr>\n",
       "      <th>1173899</th>\n",
       "      <td>2020-09-02</td>\n",
       "      <td>NaN</td>\n",
       "    </tr>\n",
       "    <tr>\n",
       "      <th>1173940</th>\n",
       "      <td>2020-09-02</td>\n",
       "      <td>NaN</td>\n",
       "    </tr>\n",
       "  </tbody>\n",
       "</table>\n",
       "<p>1080464 rows × 2 columns</p>\n",
       "</div>"
      ],
      "text/plain": [
       "        Day of Issue  Freq\n",
       "0         2020-09-18   NaN\n",
       "1         2020-09-18   NaN\n",
       "2         2020-09-14   NaN\n",
       "3         2020-09-16   NaN\n",
       "4         2020-09-21   NaN\n",
       "...              ...   ...\n",
       "1173859   2020-03-09   NaN\n",
       "1173866   2020-09-02   NaN\n",
       "1173883   2020-09-02   NaN\n",
       "1173899   2020-09-02   NaN\n",
       "1173940   2020-09-02   NaN\n",
       "\n",
       "[1080464 rows x 2 columns]"
      ]
     },
     "metadata": {},
     "output_type": "display_data"
    }
   ],
   "source": [
    "df_freq_day_of_issue = pd.DataFrame(\n",
    "    {\n",
    "        \"Day of Issue\": df[\"Date of Issue\"],\n",
    "        \"Freq\": np.nan\n",
    "    }\n",
    ")\n",
    "display(df_freq_day_of_issue)"
   ]
  },
  {
   "cell_type": "code",
   "execution_count": 83,
   "id": "b6757dfe-f974-478b-878e-9b5154726ca0",
   "metadata": {},
   "outputs": [
    {
     "data": {
      "text/html": [
       "<div>\n",
       "<style scoped>\n",
       "    .dataframe tbody tr th:only-of-type {\n",
       "        vertical-align: middle;\n",
       "    }\n",
       "\n",
       "    .dataframe tbody tr th {\n",
       "        vertical-align: top;\n",
       "    }\n",
       "\n",
       "    .dataframe thead th {\n",
       "        text-align: right;\n",
       "    }\n",
       "</style>\n",
       "<table border=\"1\" class=\"dataframe\">\n",
       "  <thead>\n",
       "    <tr style=\"text-align: right;\">\n",
       "      <th></th>\n",
       "      <th>Day of Issue</th>\n",
       "      <th>Freq</th>\n",
       "    </tr>\n",
       "  </thead>\n",
       "  <tbody>\n",
       "    <tr>\n",
       "      <th>0</th>\n",
       "      <td>2015-01-01</td>\n",
       "      <td>369</td>\n",
       "    </tr>\n",
       "    <tr>\n",
       "      <th>1</th>\n",
       "      <td>2015-01-02</td>\n",
       "      <td>390</td>\n",
       "    </tr>\n",
       "    <tr>\n",
       "      <th>2</th>\n",
       "      <td>2015-01-03</td>\n",
       "      <td>233</td>\n",
       "    </tr>\n",
       "    <tr>\n",
       "      <th>3</th>\n",
       "      <td>2015-01-04</td>\n",
       "      <td>87</td>\n",
       "    </tr>\n",
       "    <tr>\n",
       "      <th>4</th>\n",
       "      <td>2015-01-05</td>\n",
       "      <td>596</td>\n",
       "    </tr>\n",
       "    <tr>\n",
       "      <th>...</th>\n",
       "      <td>...</td>\n",
       "      <td>...</td>\n",
       "    </tr>\n",
       "    <tr>\n",
       "      <th>2187</th>\n",
       "      <td>2020-12-27</td>\n",
       "      <td>82</td>\n",
       "    </tr>\n",
       "    <tr>\n",
       "      <th>2188</th>\n",
       "      <td>2020-12-28</td>\n",
       "      <td>315</td>\n",
       "    </tr>\n",
       "    <tr>\n",
       "      <th>2189</th>\n",
       "      <td>2020-12-29</td>\n",
       "      <td>383</td>\n",
       "    </tr>\n",
       "    <tr>\n",
       "      <th>2190</th>\n",
       "      <td>2020-12-30</td>\n",
       "      <td>309</td>\n",
       "    </tr>\n",
       "    <tr>\n",
       "      <th>2191</th>\n",
       "      <td>2020-12-31</td>\n",
       "      <td>168</td>\n",
       "    </tr>\n",
       "  </tbody>\n",
       "</table>\n",
       "<p>2192 rows × 2 columns</p>\n",
       "</div>"
      ],
      "text/plain": [
       "     Day of Issue  Freq\n",
       "0      2015-01-01   369\n",
       "1      2015-01-02   390\n",
       "2      2015-01-03   233\n",
       "3      2015-01-04    87\n",
       "4      2015-01-05   596\n",
       "...           ...   ...\n",
       "2187   2020-12-27    82\n",
       "2188   2020-12-28   315\n",
       "2189   2020-12-29   383\n",
       "2190   2020-12-30   309\n",
       "2191   2020-12-31   168\n",
       "\n",
       "[2192 rows x 2 columns]"
      ]
     },
     "metadata": {},
     "output_type": "display_data"
    }
   ],
   "source": [
    "df_freq_day_of_issue = \\\n",
    "df_freq_day_of_issue \\\n",
    ".sort_values(\"Day of Issue\") \\\n",
    ".groupby(by=\"Day of Issue\") \\\n",
    ".size()\n",
    "df_freq_day_of_issue = pd.DataFrame(\n",
    "    {\n",
    "        \"Day of Issue\": df_freq_day_of_issue.index,\n",
    "        \"Freq\": df_freq_day_of_issue.values\n",
    "    }\n",
    ")\n",
    "display(df_freq_day_of_issue)"
   ]
  },
  {
   "cell_type": "code",
   "execution_count": 84,
   "id": "4bc69cbc-960c-489d-893f-86fd9e028636",
   "metadata": {},
   "outputs": [
    {
     "data": {
      "image/png": "[encoded data removed]",
      "text/plain": [
       "<Figure size 1008x504 with 1 Axes>"
      ]
     },
     "metadata": {
      "needs_background": "light"
     },
     "output_type": "display_data"
    }
   ],
   "source": [
    "fig, ax = plt.subplots(figsize=(14,7))\n",
    "ax = sns.barplot(data=df_freq_day_of_issue, x=\"Day of Issue\", y=\"Freq\")\n",
    "fig.suptitle(\"Time Series Data 2015-2020 of Particular Day of Issue \" + \\\n",
    "             \" and Related Frequency of Complaints\");"
   ]
  },
  {
   "cell_type": "markdown",
   "id": "25cd3137-6124-4eed-8438-5ba58a2bc430",
   "metadata": {},
   "source": [
    "Many periodic function can be converted into a linear combination of sines and cosines. The periodicity over each month and over each year will be captured through their respective linear combinations of sines and cosines.<sup>13</sup>"
   ]
  },
  {
   "cell_type": "markdown",
   "id": "b2baaa3e-c7e6-43da-b08e-0898696ce7ed",
   "metadata": {},
   "source": [
    "The constants below represent the number of seconds within the time delta represented by the variable (day, month, year, etc.). This will be used to normalize the time stamp, which will be intially converted into seconds from January 1, 1970, using scaled sin and consine functions. I have written the function for the conversion *based upon* the function outlines and constants provided by Tensor Flow, after understanding them, of course.<sup>12</sup> (I wanted to ensure that the proof of concept behind mapping time series, that is, in seconds, to sin/cos values, after which they are fed into a neural net to be trained at predicting a target numeric variable, was somewhat tried and testing.) I did, though, create the analogous sin and cos functions for months, creating my own method for normalizing the period within each month (slight obstacle due to non-uniform number of days in a month)."
   ]
  },
  {
   "cell_type": "code",
   "execution_count": 85,
   "id": "a5db8b3a-8900-4ff0-b707-4539f2db4110",
   "metadata": {},
   "outputs": [],
   "source": [
    "day_num_sec = 24*60*60\n",
    "year_num_sec = (365.2425)*day_num_sec"
   ]
  },
  {
   "cell_type": "code",
   "execution_count": 86,
   "id": "2d7c68f0-3908-4043-9c22-d49086c90522",
   "metadata": {},
   "outputs": [],
   "source": [
    "def _compute_month_sin(ts: pd.Timestamp):\n",
    "    num_sec = (ts - pd.Timestamp(\"1/1/1970\")).total_seconds()\n",
    "    month_num_sec = day_num_sec * pd.Period(ts, freq='D').days_in_month\n",
    "    return np.sin(num_sec * (2 * np.pi / month_num_sec))\n",
    "\n",
    "def _compute_month_cos(ts: pd.Timestamp):\n",
    "    num_sec = (ts - pd.Timestamp(\"1/1/1970\")).total_seconds()\n",
    "    month_num_sec = day_num_sec * pd.Period(ts, freq='D').days_in_month\n",
    "    return np.cos(num_sec * (2 * np.pi / month_num_sec))\n",
    "\n",
    "def _compute_year_sin(ts: pd.Timestamp):\n",
    "    num_sec = (ts - pd.Timestamp(\"1/1/1970\")).total_seconds()\n",
    "    return np.sin(num_sec * (2 * np.pi / year_num_sec))\n",
    "\n",
    "def _compute_year_cos(ts: pd.Timestamp):\n",
    "    num_sec = (ts - pd.Timestamp(\"1/1/1970\")).total_seconds()\n",
    "    return np.cos(num_sec * (2 * np.pi / year_num_sec))"
   ]
  },
  {
   "cell_type": "markdown",
   "id": "80b0dfc1-f382-4d24-8886-e21b7a042673",
   "metadata": {},
   "source": [
    "Yes, Unix epoch time technically does not match up with UTC because it does not account for leap seconds. We will not be worrying about this because there have only been 37 leap seconds thus far.<sup>14</sup>"
   ]
  },
  {
   "cell_type": "markdown",
   "id": "ce706611-e50a-4ac9-894d-1e76798e3465",
   "metadata": {},
   "source": [
    "Also, I could refactor the code above, but it's too few lines to warrant it; doing so would probably just reduce readability, quite frankly."
   ]
  },
  {
   "cell_type": "code",
   "execution_count": 87,
   "id": "69b84d5a-119c-4b5f-87e4-4f436d267769",
   "metadata": {},
   "outputs": [],
   "source": [
    "def _apply_and_get_trig_func_by_col(df: pd.DataFrame, trig_func):\n",
    "    return df.apply(\n",
    "        lambda row: trig_func(row[\"Day of Issue\"]),\n",
    "        axis=1\n",
    "    )"
   ]
  },
  {
   "cell_type": "code",
   "execution_count": 88,
   "id": "f956da89-1988-4409-9556-f14011776c3e",
   "metadata": {},
   "outputs": [],
   "source": [
    "df_freq_day_of_issue['Month sin'] = _apply_and_get_trig_func_by_col(df=df_freq_day_of_issue, trig_func=_compute_month_sin)\n",
    "df_freq_day_of_issue['Month cos'] = _apply_and_get_trig_func_by_col(df=df_freq_day_of_issue, trig_func=_compute_month_cos)\n",
    "df_freq_day_of_issue['Year sin'] = _apply_and_get_trig_func_by_col(df=df_freq_day_of_issue, trig_func=_compute_year_sin)\n",
    "df_freq_day_of_issue['Year cos'] = _apply_and_get_trig_func_by_col(df=df_freq_day_of_issue, trig_func=_compute_year_cos)"
   ]
  },
  {
   "cell_type": "code",
   "execution_count": 89,
   "id": "44618ec5-bbf7-45c6-aea6-d6739468c31a",
   "metadata": {},
   "outputs": [
    {
     "data": {
      "text/html": [
       "<div>\n",
       "<style scoped>\n",
       "    .dataframe tbody tr th:only-of-type {\n",
       "        vertical-align: middle;\n",
       "    }\n",
       "\n",
       "    .dataframe tbody tr th {\n",
       "        vertical-align: top;\n",
       "    }\n",
       "\n",
       "    .dataframe thead th {\n",
       "        text-align: right;\n",
       "    }\n",
       "</style>\n",
       "<table border=\"1\" class=\"dataframe\">\n",
       "  <thead>\n",
       "    <tr style=\"text-align: right;\">\n",
       "      <th></th>\n",
       "      <th>Day of Issue</th>\n",
       "      <th>Freq</th>\n",
       "      <th>Month sin</th>\n",
       "      <th>Month cos</th>\n",
       "      <th>Year sin</th>\n",
       "      <th>Year cos</th>\n",
       "    </tr>\n",
       "  </thead>\n",
       "  <tbody>\n",
       "    <tr>\n",
       "      <th>0</th>\n",
       "      <td>2015-01-01</td>\n",
       "      <td>369</td>\n",
       "      <td>0.937752</td>\n",
       "      <td>0.347305</td>\n",
       "      <td>0.001505</td>\n",
       "      <td>0.999999</td>\n",
       "    </tr>\n",
       "    <tr>\n",
       "      <th>1</th>\n",
       "      <td>2015-01-02</td>\n",
       "      <td>390</td>\n",
       "      <td>0.988468</td>\n",
       "      <td>0.151428</td>\n",
       "      <td>0.018707</td>\n",
       "      <td>0.999825</td>\n",
       "    </tr>\n",
       "    <tr>\n",
       "      <th>2</th>\n",
       "      <td>2015-01-03</td>\n",
       "      <td>233</td>\n",
       "      <td>0.998717</td>\n",
       "      <td>-0.050649</td>\n",
       "      <td>0.035903</td>\n",
       "      <td>0.999355</td>\n",
       "    </tr>\n",
       "    <tr>\n",
       "      <th>3</th>\n",
       "      <td>2015-01-04</td>\n",
       "      <td>87</td>\n",
       "      <td>0.968077</td>\n",
       "      <td>-0.250653</td>\n",
       "      <td>0.053089</td>\n",
       "      <td>0.998590</td>\n",
       "    </tr>\n",
       "    <tr>\n",
       "      <th>4</th>\n",
       "      <td>2015-01-05</td>\n",
       "      <td>596</td>\n",
       "      <td>0.897805</td>\n",
       "      <td>-0.440394</td>\n",
       "      <td>0.070258</td>\n",
       "      <td>0.997529</td>\n",
       "    </tr>\n",
       "    <tr>\n",
       "      <th>...</th>\n",
       "      <td>...</td>\n",
       "      <td>...</td>\n",
       "      <td>...</td>\n",
       "      <td>...</td>\n",
       "      <td>...</td>\n",
       "      <td>...</td>\n",
       "    </tr>\n",
       "    <tr>\n",
       "      <th>2187</th>\n",
       "      <td>2020-12-27</td>\n",
       "      <td>82</td>\n",
       "      <td>-0.998717</td>\n",
       "      <td>-0.050649</td>\n",
       "      <td>-0.075062</td>\n",
       "      <td>0.997179</td>\n",
       "    </tr>\n",
       "    <tr>\n",
       "      <th>2188</th>\n",
       "      <td>2020-12-28</td>\n",
       "      <td>315</td>\n",
       "      <td>-0.988468</td>\n",
       "      <td>0.151428</td>\n",
       "      <td>-0.057898</td>\n",
       "      <td>0.998323</td>\n",
       "    </tr>\n",
       "    <tr>\n",
       "      <th>2189</th>\n",
       "      <td>2020-12-29</td>\n",
       "      <td>383</td>\n",
       "      <td>-0.937752</td>\n",
       "      <td>0.347305</td>\n",
       "      <td>-0.040716</td>\n",
       "      <td>0.999171</td>\n",
       "    </tr>\n",
       "    <tr>\n",
       "      <th>2190</th>\n",
       "      <td>2020-12-30</td>\n",
       "      <td>309</td>\n",
       "      <td>-0.848644</td>\n",
       "      <td>0.528964</td>\n",
       "      <td>-0.023523</td>\n",
       "      <td>0.999723</td>\n",
       "    </tr>\n",
       "    <tr>\n",
       "      <th>2191</th>\n",
       "      <td>2020-12-31</td>\n",
       "      <td>168</td>\n",
       "      <td>-0.724793</td>\n",
       "      <td>0.688967</td>\n",
       "      <td>-0.006322</td>\n",
       "      <td>0.999980</td>\n",
       "    </tr>\n",
       "  </tbody>\n",
       "</table>\n",
       "<p>2192 rows × 6 columns</p>\n",
       "</div>"
      ],
      "text/plain": [
       "     Day of Issue  Freq  Month sin  Month cos  Year sin  Year cos\n",
       "0      2015-01-01   369   0.937752   0.347305  0.001505  0.999999\n",
       "1      2015-01-02   390   0.988468   0.151428  0.018707  0.999825\n",
       "2      2015-01-03   233   0.998717  -0.050649  0.035903  0.999355\n",
       "3      2015-01-04    87   0.968077  -0.250653  0.053089  0.998590\n",
       "4      2015-01-05   596   0.897805  -0.440394  0.070258  0.997529\n",
       "...           ...   ...        ...        ...       ...       ...\n",
       "2187   2020-12-27    82  -0.998717  -0.050649 -0.075062  0.997179\n",
       "2188   2020-12-28   315  -0.988468   0.151428 -0.057898  0.998323\n",
       "2189   2020-12-29   383  -0.937752   0.347305 -0.040716  0.999171\n",
       "2190   2020-12-30   309  -0.848644   0.528964 -0.023523  0.999723\n",
       "2191   2020-12-31   168  -0.724793   0.688967 -0.006322  0.999980\n",
       "\n",
       "[2192 rows x 6 columns]"
      ]
     },
     "execution_count": 89,
     "metadata": {},
     "output_type": "execute_result"
    }
   ],
   "source": [
    "df_freq_day_of_issue"
   ]
  },
  {
   "cell_type": "code",
   "execution_count": 90,
   "id": "88a13674-f6b2-4cee-bc1c-63054bc5d242",
   "metadata": {},
   "outputs": [],
   "source": [
    "X = df_freq_day_of_issue[[\"Month sin\", \"Month cos\", \"Year sin\", \"Year cos\"]]\n",
    "y = df_freq_day_of_issue[\"Freq\"]"
   ]
  },
  {
   "cell_type": "markdown",
   "id": "72e71154-9168-4049-b930-eff0a86ba9f3",
   "metadata": {},
   "source": [
    "BREAKPOINT FOR SELF"
   ]
  },
  {
   "cell_type": "code",
   "execution_count": 91,
   "id": "a599effc-93b7-401a-8f64-b25e47317a98",
   "metadata": {},
   "outputs": [],
   "source": [
    "# clf = KerasRegressor(\n",
    "#       model=create_keras_model, \n",
    "#       verbose=1, \n",
    "#       epochs=10, \n",
    "#       batch_size=4,\n",
    "#       optimizer='adam', # compile param\n",
    "#       loss='mean_squared_error', # compile param\n",
    "#       metrics=[\"mean_squared_error\", \"accuracy\"], # compile param\n",
    "#       num_hidden=100, # model param\n",
    "#       activation='relu' # model param\n",
    "# )     "
   ]
  },
  {
   "cell_type": "markdown",
   "id": "b3b037d4-3bae-4a3b-83c3-4877077e25e9",
   "metadata": {},
   "source": [
    "BREAKPOINT FOR SELF"
   ]
  },
  {
   "cell_type": "code",
   "execution_count": 92,
   "id": "25a067ce-e722-4e49-b9a0-a20e6ef64a11",
   "metadata": {},
   "outputs": [],
   "source": [
    "# from tensorflow.python.ops.math_ops import reduce_prod"
   ]
  },
  {
   "cell_type": "code",
   "execution_count": 93,
   "id": "0c6fbe70-f62b-4a72-8588-57c056af02bc",
   "metadata": {},
   "outputs": [],
   "source": [
    "# mpl params\n",
    "mpl.rcParams['figure.figsize'] = (8, 6)\n",
    "mpl.rcParams['axes.grid'] = False"
   ]
  },
  {
   "cell_type": "code",
   "execution_count": 94,
   "id": "4e41bf24-cb3c-4e86-af5f-685e0a9b47fa",
   "metadata": {},
   "outputs": [
    {
     "data": {
      "image/png": "[encoded data removed]",
      "text/plain": [
       "<Figure size 576x432 with 1 Axes>"
      ]
     },
     "metadata": {
      "needs_background": "light"
     },
     "output_type": "display_data"
    }
   ],
   "source": [
    "plot_features = df_freq_day_of_issue[['Freq']][:120]\n",
    "plot_features.index = \\\n",
    "df_freq_day_of_issue[\"Day of Issue\"][:120]\n",
    "_ = plot_features.plot(subplots=True)"
   ]
  },
  {
   "cell_type": "code",
   "execution_count": 95,
   "id": "d375fc90-b3f7-4d6a-82a1-7c96baf6afa0",
   "metadata": {},
   "outputs": [],
   "source": [
    "pct_train = 0.8\n",
    "pct_val = 0.1\n",
    "pct_test = 0.1 # implied; just here to be explicit"
   ]
  },
  {
   "cell_type": "code",
   "execution_count": 96,
   "id": "e7476928-4da1-4a01-b0cd-411940eeb017",
   "metadata": {},
   "outputs": [],
   "source": [
    "column_indices = {name: i for i, name in enumerate(pd.DataFrame(df_freq_day_of_issue[\"Freq\"]).columns)}\n",
    "\n",
    "num_pts = len(df_freq_day_of_issue)\n",
    "train_df = pd.DataFrame(\n",
    "    df_freq_day_of_issue[\"Freq\"]\n",
    ")[0:int(pct_train*num_pts)]\n",
    "val_df = pd.DataFrame(\n",
    "    df_freq_day_of_issue[\"Freq\"]\n",
    ")[int(pct_train*num_pts):int((pct_train+pct_test)*num_pts)]\n",
    "test_df = pd.DataFrame(\n",
    "    df_freq_day_of_issue[\"Freq\"]\n",
    ")[int((pct_train+pct_test)*num_pts):]\n",
    "\n",
    "num_features = 1"
   ]
  },
  {
   "cell_type": "code",
   "execution_count": 97,
   "id": "19f6f204-e286-45b9-912b-be8813aee6f8",
   "metadata": {},
   "outputs": [
    {
     "data": {
      "text/html": [
       "<div>\n",
       "<style scoped>\n",
       "    .dataframe tbody tr th:only-of-type {\n",
       "        vertical-align: middle;\n",
       "    }\n",
       "\n",
       "    .dataframe tbody tr th {\n",
       "        vertical-align: top;\n",
       "    }\n",
       "\n",
       "    .dataframe thead th {\n",
       "        text-align: right;\n",
       "    }\n",
       "</style>\n",
       "<table border=\"1\" class=\"dataframe\">\n",
       "  <thead>\n",
       "    <tr style=\"text-align: right;\">\n",
       "      <th></th>\n",
       "      <th>Freq</th>\n",
       "    </tr>\n",
       "  </thead>\n",
       "  <tbody>\n",
       "    <tr>\n",
       "      <th>0</th>\n",
       "      <td>369</td>\n",
       "    </tr>\n",
       "    <tr>\n",
       "      <th>1</th>\n",
       "      <td>390</td>\n",
       "    </tr>\n",
       "    <tr>\n",
       "      <th>2</th>\n",
       "      <td>233</td>\n",
       "    </tr>\n",
       "    <tr>\n",
       "      <th>3</th>\n",
       "      <td>87</td>\n",
       "    </tr>\n",
       "    <tr>\n",
       "      <th>4</th>\n",
       "      <td>596</td>\n",
       "    </tr>\n",
       "    <tr>\n",
       "      <th>...</th>\n",
       "      <td>...</td>\n",
       "    </tr>\n",
       "    <tr>\n",
       "      <th>1748</th>\n",
       "      <td>724</td>\n",
       "    </tr>\n",
       "    <tr>\n",
       "      <th>1749</th>\n",
       "      <td>683</td>\n",
       "    </tr>\n",
       "    <tr>\n",
       "      <th>1750</th>\n",
       "      <td>657</td>\n",
       "    </tr>\n",
       "    <tr>\n",
       "      <th>1751</th>\n",
       "      <td>567</td>\n",
       "    </tr>\n",
       "    <tr>\n",
       "      <th>1752</th>\n",
       "      <td>151</td>\n",
       "    </tr>\n",
       "  </tbody>\n",
       "</table>\n",
       "<p>1753 rows × 1 columns</p>\n",
       "</div>"
      ],
      "text/plain": [
       "      Freq\n",
       "0      369\n",
       "1      390\n",
       "2      233\n",
       "3       87\n",
       "4      596\n",
       "...    ...\n",
       "1748   724\n",
       "1749   683\n",
       "1750   657\n",
       "1751   567\n",
       "1752   151\n",
       "\n",
       "[1753 rows x 1 columns]"
      ]
     },
     "execution_count": 97,
     "metadata": {},
     "output_type": "execute_result"
    }
   ],
   "source": [
    "train_df"
   ]
  },
  {
   "cell_type": "code",
   "execution_count": 98,
   "id": "c938b44d-4659-4dbb-9582-c7c96acfb626",
   "metadata": {},
   "outputs": [],
   "source": [
    "train_mean = train_df.mean()\n",
    "train_std = train_df.std()\n",
    "\n",
    "train_df = (train_df - train_mean) / train_std\n",
    "val_df = (val_df - train_mean) / train_std\n",
    "test_df = (test_df - train_mean) / train_std"
   ]
  },
  {
   "cell_type": "code",
   "execution_count": 99,
   "id": "b9de4e1b-0fed-4516-9bb0-593dcf0f2da3",
   "metadata": {},
   "outputs": [],
   "source": [
    "class WindowGenerator():\n",
    "  def __init__(self, input_width, label_width, shift,\n",
    "               train_df=train_df, val_df=val_df, test_df=test_df,\n",
    "               label_columns=None):\n",
    "    # Store the raw data.\n",
    "    self.train_df = train_df\n",
    "    self.val_df = val_df\n",
    "    self.test_df = test_df\n",
    "\n",
    "    # Work out the label column indices.\n",
    "    self.label_columns = label_columns\n",
    "    if label_columns is not None:\n",
    "      self.label_columns_indices = {name: i for i, name in\n",
    "                                    enumerate(label_columns)}\n",
    "    self.column_indices = {name: i for i, name in\n",
    "                           enumerate(train_df.columns)}\n",
    "\n",
    "    # Work out the window parameters.\n",
    "    self.input_width = input_width\n",
    "    self.label_width = label_width\n",
    "    self.shift = shift\n",
    "\n",
    "    self.total_window_size = input_width + shift\n",
    "\n",
    "    self.input_slice = slice(0, input_width)\n",
    "    self.input_indices = np.arange(self.total_window_size)[self.input_slice]\n",
    "\n",
    "    self.label_start = self.total_window_size - self.label_width\n",
    "    self.labels_slice = slice(self.label_start, None)\n",
    "    self.label_indices = np.arange(self.total_window_size)[self.labels_slice]\n",
    "\n",
    "  def __repr__(self):\n",
    "    return '\\n'.join([\n",
    "        f'Total window size: {self.total_window_size}',\n",
    "        f'Input indices: {self.input_indices}',\n",
    "        f'Label indices: {self.label_indices}',\n",
    "        f'Label column name(s): {self.label_columns}'])"
   ]
  },
  {
   "cell_type": "code",
   "execution_count": 100,
   "id": "7f0d6f2d-be95-4479-ba3c-b3ef441fb84a",
   "metadata": {},
   "outputs": [],
   "source": [
    "def split_window(self, features):\n",
    "  inputs = features[:, self.input_slice, :]\n",
    "  labels = features[:, self.labels_slice, :]\n",
    "  if self.label_columns is not None:\n",
    "    labels = tf.stack(\n",
    "        [labels[:, :, self.column_indices[name]] for name in self.label_columns],\n",
    "        axis=-1)\n",
    "\n",
    "  # Slicing doesn't preserve static shape information, so set the shapes\n",
    "  # manually. This way the `tf.data.Datasets` are easier to inspect.\n",
    "  inputs.set_shape([None, self.input_width, None])\n",
    "  labels.set_shape([None, self.label_width, None])\n",
    "\n",
    "  return inputs, labels\n",
    "\n",
    "WindowGenerator.split_window = split_window"
   ]
  },
  {
   "cell_type": "code",
   "execution_count": 101,
   "id": "6d5983e1-1875-491a-8a1d-638a41e540f5",
   "metadata": {},
   "outputs": [],
   "source": [
    "def plot(self, model=None, plot_col='Freq', max_subplots=3):\n",
    "  inputs, labels = self.example\n",
    "  plt.figure(figsize=(12, 8))\n",
    "  plot_col_index = self.column_indices[plot_col]\n",
    "  max_n = min(max_subplots, len(inputs))\n",
    "  for n in range(max_n):\n",
    "    plt.subplot(max_n, 1, n+1)\n",
    "    plt.ylabel(f'{plot_col} [normed]')\n",
    "    plt.plot(self.input_indices, inputs[n, :, plot_col_index],\n",
    "             label='Inputs', marker='.', zorder=-10)\n",
    "\n",
    "    if self.label_columns:\n",
    "      label_col_index = self.label_columns_indices.get(plot_col, None)\n",
    "    else:\n",
    "      label_col_index = plot_col_index\n",
    "\n",
    "    if label_col_index is None:\n",
    "      continue\n",
    "\n",
    "    plt.scatter(self.label_indices, labels[n, :, label_col_index],\n",
    "                edgecolors='k', label='Labels', c='#2ca02c', s=64)\n",
    "    if model is not None:\n",
    "      predictions = model(inputs)\n",
    "      plt.scatter(self.label_indices, predictions[n, :, label_col_index],\n",
    "                  marker='X', edgecolors='k', label='Predictions',\n",
    "                  c='#ff7f0e', s=64)\n",
    "\n",
    "    if n == 0:\n",
    "      plt.legend()\n",
    "\n",
    "  plt.xlabel('Time [d]')\n",
    "\n",
    "WindowGenerator.plot = plot"
   ]
  },
  {
   "cell_type": "code",
   "execution_count": 102,
   "id": "99cfe8fc-8755-4657-9ba0-d39db7686adf",
   "metadata": {},
   "outputs": [],
   "source": [
    "def make_dataset(self, data):\n",
    "  data = np.array(data, dtype=np.float32)\n",
    "  ds = tf.keras.preprocessing.timeseries_dataset_from_array(\n",
    "      data=data,\n",
    "      targets=None,\n",
    "      sequence_length=self.total_window_size,\n",
    "      sequence_stride=1,\n",
    "      shuffle=True,\n",
    "      batch_size=12\n",
    "  )\n",
    "\n",
    "  ds = ds.map(self.split_window)\n",
    "\n",
    "  return ds\n",
    "\n",
    "WindowGenerator.make_dataset = make_dataset"
   ]
  },
  {
   "cell_type": "code",
   "execution_count": 103,
   "id": "fe32893f-a1c7-4036-9bac-3e10e2c570e9",
   "metadata": {},
   "outputs": [],
   "source": [
    "@property\n",
    "def train(self):\n",
    "  return self.make_dataset(self.train_df)\n",
    "\n",
    "@property\n",
    "def val(self):\n",
    "  return self.make_dataset(self.val_df)\n",
    "\n",
    "@property\n",
    "def test(self):\n",
    "  return self.make_dataset(self.test_df)\n",
    "\n",
    "@property\n",
    "def example(self):\n",
    "  \"\"\"Get and cache an example batch of `inputs, labels` for plotting.\"\"\"\n",
    "  result = getattr(self, '_example', None)\n",
    "  if result is None:\n",
    "    # No example batch was found, so get one from the `.train` dataset\n",
    "    result = next(iter(self.train))\n",
    "    # And cache it for next time\n",
    "    self._example = result\n",
    "  return result\n",
    "\n",
    "WindowGenerator.train = train\n",
    "WindowGenerator.val = val\n",
    "WindowGenerator.test = test\n",
    "WindowGenerator.example = example"
   ]
  },
  {
   "cell_type": "code",
   "execution_count": 104,
   "id": "a77fef30-144b-44c0-aad2-9c9e2e157d3e",
   "metadata": {},
   "outputs": [
    {
     "data": {
      "text/plain": [
       "Total window size: 29\n",
       "Input indices: [ 0  1  2  3  4  5  6  7  8  9 10 11 12 13 14 15 16 17 18 19 20 21 22 23\n",
       " 24 25 26 27]\n",
       "Label indices: [ 1  2  3  4  5  6  7  8  9 10 11 12 13 14 15 16 17 18 19 20 21 22 23 24\n",
       " 25 26 27 28]\n",
       "Label column name(s): ['Freq']"
      ]
     },
     "execution_count": 104,
     "metadata": {},
     "output_type": "execute_result"
    }
   ],
   "source": [
    "window = WindowGenerator(\n",
    "    input_width=28, label_width=28, shift=1,\n",
    "    label_columns=['Freq'])\n",
    "\n",
    "window"
   ]
  },
  {
   "cell_type": "code",
   "execution_count": 105,
   "id": "527208c5-d69f-4772-b29e-c328cf61de28",
   "metadata": {},
   "outputs": [],
   "source": [
    "model = tf.keras.models.Sequential([\n",
    "    # Shape [batch, time, features] => [batch, time, lstm_units]\n",
    "    tf.keras.layers.LSTM(32, return_sequences=True),\n",
    "    tf.keras.layers.LSTM(32, return_sequences=True),\n",
    "    tf.keras.layers.LSTM(32, return_sequences=True),\n",
    "    tf.keras.layers.LSTM(16, return_sequences=True),\n",
    "    tf.keras.layers.LSTM(8, return_sequences=True),\n",
    "    tf.keras.layers.LSTM(4, return_sequences=True),\n",
    "    tf.keras.layers.LSTM(2, return_sequences=True),\n",
    "\n",
    "    # Shape => [batch, time, features]\n",
    "    tf.keras.layers.Dense(units=1)\n",
    "])"
   ]
  },
  {
   "cell_type": "code",
   "execution_count": 106,
   "id": "3116ca50-6317-4e42-9e05-ff3ae2df138b",
   "metadata": {},
   "outputs": [
    {
     "name": "stdout",
     "output_type": "stream",
     "text": [
      "Epoch 1/100\n",
      "144/144 [==============================] - 19s 79ms/step - loss: 0.9825 - mean_absolute_error: 0.8601 - val_loss: 0.5127 - val_mean_absolute_error: 0.5894\n",
      "Epoch 2/100\n",
      "144/144 [==============================] - 7s 47ms/step - loss: 0.8433 - mean_absolute_error: 0.7909 - val_loss: 0.3463 - val_mean_absolute_error: 0.4694\n",
      "Epoch 3/100\n",
      "144/144 [==============================] - 7s 47ms/step - loss: 0.5714 - mean_absolute_error: 0.6172 - val_loss: 0.3661 - val_mean_absolute_error: 0.4636\n",
      "Epoch 4/100\n",
      "144/144 [==============================] - 7s 47ms/step - loss: 0.4578 - mean_absolute_error: 0.5256 - val_loss: 0.3383 - val_mean_absolute_error: 0.4236\n",
      "Epoch 5/100\n",
      "144/144 [==============================] - 7s 50ms/step - loss: 0.3791 - mean_absolute_error: 0.4549 - val_loss: 0.3309 - val_mean_absolute_error: 0.4171\n",
      "Epoch 6/100\n",
      "144/144 [==============================] - 7s 49ms/step - loss: 0.3293 - mean_absolute_error: 0.4067 - val_loss: 0.2917 - val_mean_absolute_error: 0.3884\n",
      "Epoch 7/100\n",
      "144/144 [==============================] - 7s 48ms/step - loss: 0.3038 - mean_absolute_error: 0.3774 - val_loss: 0.2833 - val_mean_absolute_error: 0.3862\n",
      "Epoch 8/100\n",
      "144/144 [==============================] - 7s 47ms/step - loss: 0.2958 - mean_absolute_error: 0.3677 - val_loss: 0.2764 - val_mean_absolute_error: 0.3822\n",
      "Epoch 9/100\n",
      "144/144 [==============================] - 7s 47ms/step - loss: 0.2833 - mean_absolute_error: 0.3551 - val_loss: 0.2575 - val_mean_absolute_error: 0.3683\n",
      "Epoch 10/100\n",
      "144/144 [==============================] - 7s 47ms/step - loss: 0.2773 - mean_absolute_error: 0.3497 - val_loss: 0.2515 - val_mean_absolute_error: 0.3595\n",
      "Epoch 11/100\n",
      "144/144 [==============================] - 7s 46ms/step - loss: 0.2683 - mean_absolute_error: 0.3399 - val_loss: 0.2554 - val_mean_absolute_error: 0.3697\n",
      "Epoch 12/100\n",
      "144/144 [==============================] - 7s 47ms/step - loss: 0.2623 - mean_absolute_error: 0.3342 - val_loss: 0.2670 - val_mean_absolute_error: 0.3776\n",
      "Epoch 13/100\n",
      "144/144 [==============================] - 7s 52ms/step - loss: 0.2574 - mean_absolute_error: 0.3297 - val_loss: 0.2227 - val_mean_absolute_error: 0.3376\n",
      "Epoch 14/100\n",
      "144/144 [==============================] - 7s 49ms/step - loss: 0.2480 - mean_absolute_error: 0.3191 - val_loss: 0.2203 - val_mean_absolute_error: 0.3317\n",
      "Epoch 15/100\n",
      "144/144 [==============================] - 7s 48ms/step - loss: 0.2394 - mean_absolute_error: 0.3122 - val_loss: 0.2030 - val_mean_absolute_error: 0.3126\n",
      "Epoch 16/100\n",
      "144/144 [==============================] - 7s 49ms/step - loss: 0.2297 - mean_absolute_error: 0.3040 - val_loss: 0.1985 - val_mean_absolute_error: 0.3093\n",
      "Epoch 17/100\n",
      "144/144 [==============================] - 7s 48ms/step - loss: 0.2198 - mean_absolute_error: 0.2961 - val_loss: 0.1904 - val_mean_absolute_error: 0.2956\n",
      "Epoch 18/100\n",
      "144/144 [==============================] - 7s 46ms/step - loss: 0.2137 - mean_absolute_error: 0.2884 - val_loss: 0.1919 - val_mean_absolute_error: 0.3025\n",
      "Epoch 19/100\n",
      "144/144 [==============================] - 7s 47ms/step - loss: 0.2076 - mean_absolute_error: 0.2853 - val_loss: 0.1752 - val_mean_absolute_error: 0.2811\n",
      "Epoch 20/100\n",
      "144/144 [==============================] - 7s 48ms/step - loss: 0.1976 - mean_absolute_error: 0.2749 - val_loss: 0.2101 - val_mean_absolute_error: 0.3153\n",
      "Epoch 21/100\n",
      "144/144 [==============================] - 7s 46ms/step - loss: 0.1946 - mean_absolute_error: 0.2726 - val_loss: 0.1779 - val_mean_absolute_error: 0.2808\n",
      "Epoch 22/100\n",
      "144/144 [==============================] - 7s 47ms/step - loss: 0.1827 - mean_absolute_error: 0.2611 - val_loss: 0.1743 - val_mean_absolute_error: 0.2854\n",
      "Epoch 23/100\n",
      "144/144 [==============================] - 7s 51ms/step - loss: 0.1785 - mean_absolute_error: 0.2569 - val_loss: 0.1608 - val_mean_absolute_error: 0.2640\n",
      "Epoch 24/100\n",
      "144/144 [==============================] - 7s 50ms/step - loss: 0.1713 - mean_absolute_error: 0.2515 - val_loss: 0.1422 - val_mean_absolute_error: 0.2416\n",
      "Epoch 25/100\n",
      "144/144 [==============================] - 8s 52ms/step - loss: 0.1699 - mean_absolute_error: 0.2504 - val_loss: 0.1438 - val_mean_absolute_error: 0.2403\n",
      "Epoch 26/100\n",
      "144/144 [==============================] - 7s 51ms/step - loss: 0.1643 - mean_absolute_error: 0.2448 - val_loss: 0.1384 - val_mean_absolute_error: 0.2409\n",
      "Epoch 27/100\n",
      "144/144 [==============================] - 7s 49ms/step - loss: 0.1609 - mean_absolute_error: 0.2394 - val_loss: 0.1346 - val_mean_absolute_error: 0.2328\n",
      "Epoch 28/100\n",
      "144/144 [==============================] - 7s 47ms/step - loss: 0.1601 - mean_absolute_error: 0.2403 - val_loss: 0.1263 - val_mean_absolute_error: 0.2289\n",
      "Epoch 29/100\n",
      "144/144 [==============================] - 7s 48ms/step - loss: 0.1556 - mean_absolute_error: 0.2361 - val_loss: 0.1249 - val_mean_absolute_error: 0.2239\n",
      "Epoch 30/100\n",
      "144/144 [==============================] - 7s 49ms/step - loss: 0.1531 - mean_absolute_error: 0.2340 - val_loss: 0.1266 - val_mean_absolute_error: 0.2253\n",
      "Epoch 31/100\n",
      "144/144 [==============================] - 7s 47ms/step - loss: 0.1527 - mean_absolute_error: 0.2334 - val_loss: 0.1245 - val_mean_absolute_error: 0.2262\n",
      "Epoch 32/100\n",
      "144/144 [==============================] - 7s 51ms/step - loss: 0.1472 - mean_absolute_error: 0.2292 - val_loss: 0.1250 - val_mean_absolute_error: 0.2247\n",
      "Epoch 33/100\n",
      "144/144 [==============================] - 7s 48ms/step - loss: 0.1431 - mean_absolute_error: 0.2251 - val_loss: 0.1230 - val_mean_absolute_error: 0.2222\n",
      "Epoch 34/100\n",
      "144/144 [==============================] - 7s 47ms/step - loss: 0.1418 - mean_absolute_error: 0.2251 - val_loss: 0.1194 - val_mean_absolute_error: 0.2182\n",
      "Epoch 35/100\n",
      "144/144 [==============================] - 7s 48ms/step - loss: 0.1391 - mean_absolute_error: 0.2214 - val_loss: 0.1169 - val_mean_absolute_error: 0.2221\n",
      "Epoch 36/100\n",
      "144/144 [==============================] - 7s 48ms/step - loss: 0.1354 - mean_absolute_error: 0.2203 - val_loss: 0.1234 - val_mean_absolute_error: 0.2207\n",
      "Epoch 37/100\n",
      "144/144 [==============================] - 7s 49ms/step - loss: 0.1323 - mean_absolute_error: 0.2181 - val_loss: 0.1223 - val_mean_absolute_error: 0.2246\n",
      "Epoch 38/100\n",
      "144/144 [==============================] - 7s 51ms/step - loss: 0.1305 - mean_absolute_error: 0.2171 - val_loss: 0.1232 - val_mean_absolute_error: 0.2229\n",
      "Epoch 39/100\n",
      "144/144 [==============================] - 7s 48ms/step - loss: 0.1341 - mean_absolute_error: 0.2200 - val_loss: 0.1308 - val_mean_absolute_error: 0.2370\n",
      "Epoch 40/100\n",
      "144/144 [==============================] - 7s 48ms/step - loss: 0.1279 - mean_absolute_error: 0.2131 - val_loss: 0.1245 - val_mean_absolute_error: 0.2259\n",
      "Epoch 41/100\n",
      "144/144 [==============================] - 7s 49ms/step - loss: 0.1239 - mean_absolute_error: 0.2104 - val_loss: 0.1075 - val_mean_absolute_error: 0.2110\n",
      "Epoch 42/100\n",
      "144/144 [==============================] - 7s 48ms/step - loss: 0.1209 - mean_absolute_error: 0.2079 - val_loss: 0.1071 - val_mean_absolute_error: 0.2120\n",
      "Epoch 43/100\n",
      "144/144 [==============================] - 7s 50ms/step - loss: 0.1174 - mean_absolute_error: 0.2060 - val_loss: 0.1117 - val_mean_absolute_error: 0.2160\n",
      "Epoch 44/100\n",
      "144/144 [==============================] - 7s 49ms/step - loss: 0.1155 - mean_absolute_error: 0.2043 - val_loss: 0.1141 - val_mean_absolute_error: 0.2191\n",
      "Epoch 45/100\n",
      "144/144 [==============================] - 7s 50ms/step - loss: 0.1131 - mean_absolute_error: 0.2041 - val_loss: 0.1219 - val_mean_absolute_error: 0.2272\n",
      "Epoch 46/100\n",
      "144/144 [==============================] - 7s 48ms/step - loss: 0.1112 - mean_absolute_error: 0.2006 - val_loss: 0.1146 - val_mean_absolute_error: 0.2219\n",
      "Epoch 47/100\n",
      "144/144 [==============================] - 7s 47ms/step - loss: 0.1089 - mean_absolute_error: 0.1982 - val_loss: 0.1137 - val_mean_absolute_error: 0.2155\n",
      "Epoch 48/100\n",
      "144/144 [==============================] - 7s 48ms/step - loss: 0.1085 - mean_absolute_error: 0.1990 - val_loss: 0.1093 - val_mean_absolute_error: 0.2160\n",
      "Epoch 49/100\n",
      "144/144 [==============================] - 7s 49ms/step - loss: 0.1064 - mean_absolute_error: 0.1968 - val_loss: 0.1160 - val_mean_absolute_error: 0.2253\n",
      "Epoch 50/100\n",
      "144/144 [==============================] - 7s 48ms/step - loss: 0.1049 - mean_absolute_error: 0.1960 - val_loss: 0.1165 - val_mean_absolute_error: 0.2220\n",
      "Epoch 51/100\n",
      "144/144 [==============================] - 7s 49ms/step - loss: 0.1057 - mean_absolute_error: 0.1968 - val_loss: 0.1102 - val_mean_absolute_error: 0.2191\n",
      "Epoch 52/100\n",
      "144/144 [==============================] - 7s 48ms/step - loss: 0.1037 - mean_absolute_error: 0.1937 - val_loss: 0.1139 - val_mean_absolute_error: 0.2184\n",
      "Epoch 53/100\n",
      "144/144 [==============================] - 7s 49ms/step - loss: 0.1029 - mean_absolute_error: 0.1929 - val_loss: 0.1159 - val_mean_absolute_error: 0.2208\n",
      "Epoch 54/100\n",
      "144/144 [==============================] - 7s 51ms/step - loss: 0.1033 - mean_absolute_error: 0.1936 - val_loss: 0.1137 - val_mean_absolute_error: 0.2187\n",
      "Epoch 55/100\n",
      "144/144 [==============================] - 7s 47ms/step - loss: 0.1013 - mean_absolute_error: 0.1922 - val_loss: 0.1103 - val_mean_absolute_error: 0.2172\n",
      "Epoch 56/100\n",
      "144/144 [==============================] - 7s 48ms/step - loss: 0.1000 - mean_absolute_error: 0.1908 - val_loss: 0.1092 - val_mean_absolute_error: 0.2182\n",
      "Epoch 57/100\n",
      "144/144 [==============================] - 7s 48ms/step - loss: 0.0991 - mean_absolute_error: 0.1888 - val_loss: 0.1109 - val_mean_absolute_error: 0.2176\n",
      "Epoch 58/100\n",
      "144/144 [==============================] - 7s 48ms/step - loss: 0.0979 - mean_absolute_error: 0.1876 - val_loss: 0.1115 - val_mean_absolute_error: 0.2226\n",
      "Epoch 59/100\n",
      "144/144 [==============================] - 7s 48ms/step - loss: 0.0968 - mean_absolute_error: 0.1864 - val_loss: 0.1058 - val_mean_absolute_error: 0.2112\n",
      "Epoch 60/100\n",
      "144/144 [==============================] - 7s 51ms/step - loss: 0.0962 - mean_absolute_error: 0.1866 - val_loss: 0.1222 - val_mean_absolute_error: 0.2336\n",
      "Epoch 61/100\n",
      "144/144 [==============================] - 7s 50ms/step - loss: 0.0955 - mean_absolute_error: 0.1851 - val_loss: 0.1148 - val_mean_absolute_error: 0.2208\n",
      "Epoch 62/100\n",
      "144/144 [==============================] - 7s 49ms/step - loss: 0.0932 - mean_absolute_error: 0.1825 - val_loss: 0.1087 - val_mean_absolute_error: 0.2139\n",
      "Epoch 63/100\n",
      "144/144 [==============================] - 7s 48ms/step - loss: 0.0933 - mean_absolute_error: 0.1821 - val_loss: 0.1120 - val_mean_absolute_error: 0.2204\n",
      "Epoch 64/100\n",
      "144/144 [==============================] - 7s 49ms/step - loss: 0.0926 - mean_absolute_error: 0.1816 - val_loss: 0.1066 - val_mean_absolute_error: 0.2126\n",
      "Epoch 65/100\n",
      "144/144 [==============================] - 7s 48ms/step - loss: 0.0937 - mean_absolute_error: 0.1824 - val_loss: 0.1100 - val_mean_absolute_error: 0.2177\n",
      "Epoch 66/100\n",
      "144/144 [==============================] - 7s 49ms/step - loss: 0.0916 - mean_absolute_error: 0.1808 - val_loss: 0.1073 - val_mean_absolute_error: 0.2190\n",
      "Epoch 67/100\n",
      "144/144 [==============================] - 7s 48ms/step - loss: 0.0919 - mean_absolute_error: 0.1805 - val_loss: 0.1093 - val_mean_absolute_error: 0.2147\n",
      "Epoch 68/100\n",
      "144/144 [==============================] - 7s 47ms/step - loss: 0.0904 - mean_absolute_error: 0.1792 - val_loss: 0.1152 - val_mean_absolute_error: 0.2263\n",
      "Epoch 69/100\n",
      "144/144 [==============================] - 7s 47ms/step - loss: 0.0884 - mean_absolute_error: 0.1769 - val_loss: 0.1101 - val_mean_absolute_error: 0.2174\n",
      "Epoch 70/100\n",
      "144/144 [==============================] - 7s 47ms/step - loss: 0.0902 - mean_absolute_error: 0.1791 - val_loss: 0.1102 - val_mean_absolute_error: 0.2188\n",
      "Epoch 71/100\n",
      "144/144 [==============================] - 7s 48ms/step - loss: 0.0907 - mean_absolute_error: 0.1793 - val_loss: 0.1067 - val_mean_absolute_error: 0.2121\n",
      "Epoch 72/100\n",
      "144/144 [==============================] - 7s 47ms/step - loss: 0.0887 - mean_absolute_error: 0.1762 - val_loss: 0.1170 - val_mean_absolute_error: 0.2229\n",
      "Epoch 73/100\n",
      "144/144 [==============================] - 7s 47ms/step - loss: 0.0883 - mean_absolute_error: 0.1768 - val_loss: 0.1071 - val_mean_absolute_error: 0.2156\n",
      "Epoch 74/100\n",
      "144/144 [==============================] - 7s 46ms/step - loss: 0.0873 - mean_absolute_error: 0.1759 - val_loss: 0.1080 - val_mean_absolute_error: 0.2174\n",
      "Epoch 75/100\n",
      "144/144 [==============================] - 7s 48ms/step - loss: 0.0844 - mean_absolute_error: 0.1727 - val_loss: 0.1108 - val_mean_absolute_error: 0.2178\n",
      "Epoch 76/100\n",
      "144/144 [==============================] - 7s 46ms/step - loss: 0.0854 - mean_absolute_error: 0.1726 - val_loss: 0.1127 - val_mean_absolute_error: 0.2207\n",
      "Epoch 77/100\n",
      "144/144 [==============================] - 7s 47ms/step - loss: 0.0849 - mean_absolute_error: 0.1722 - val_loss: 0.1221 - val_mean_absolute_error: 0.2253\n",
      "Epoch 78/100\n",
      "144/144 [==============================] - 7s 47ms/step - loss: 0.0870 - mean_absolute_error: 0.1743 - val_loss: 0.1140 - val_mean_absolute_error: 0.2186\n",
      "Epoch 79/100\n",
      "144/144 [==============================] - 7s 47ms/step - loss: 0.0849 - mean_absolute_error: 0.1725 - val_loss: 0.1150 - val_mean_absolute_error: 0.2233\n",
      "Epoch 80/100\n",
      "144/144 [==============================] - 7s 48ms/step - loss: 0.0841 - mean_absolute_error: 0.1708 - val_loss: 0.1067 - val_mean_absolute_error: 0.2166\n",
      "Epoch 81/100\n",
      "144/144 [==============================] - 7s 47ms/step - loss: 0.0831 - mean_absolute_error: 0.1703 - val_loss: 0.1128 - val_mean_absolute_error: 0.2186\n",
      "Epoch 82/100\n",
      "144/144 [==============================] - 7s 47ms/step - loss: 0.0822 - mean_absolute_error: 0.1693 - val_loss: 0.1114 - val_mean_absolute_error: 0.2154\n",
      "Epoch 83/100\n",
      "144/144 [==============================] - 7s 47ms/step - loss: 0.0806 - mean_absolute_error: 0.1671 - val_loss: 0.1254 - val_mean_absolute_error: 0.2291\n",
      "Epoch 84/100\n",
      "144/144 [==============================] - 7s 46ms/step - loss: 0.0814 - mean_absolute_error: 0.1679 - val_loss: 0.1143 - val_mean_absolute_error: 0.2233\n",
      "Epoch 85/100\n",
      "144/144 [==============================] - 7s 47ms/step - loss: 0.0806 - mean_absolute_error: 0.1675 - val_loss: 0.1080 - val_mean_absolute_error: 0.2148\n",
      "Epoch 86/100\n",
      "144/144 [==============================] - 7s 46ms/step - loss: 0.0800 - mean_absolute_error: 0.1669 - val_loss: 0.1104 - val_mean_absolute_error: 0.2174\n",
      "Epoch 87/100\n",
      "144/144 [==============================] - 7s 47ms/step - loss: 0.0815 - mean_absolute_error: 0.1678 - val_loss: 0.1106 - val_mean_absolute_error: 0.2180\n",
      "Epoch 88/100\n",
      "144/144 [==============================] - 7s 47ms/step - loss: 0.0789 - mean_absolute_error: 0.1647 - val_loss: 0.1185 - val_mean_absolute_error: 0.2318\n",
      "Epoch 89/100\n",
      "144/144 [==============================] - 7s 46ms/step - loss: 0.0794 - mean_absolute_error: 0.1659 - val_loss: 0.1157 - val_mean_absolute_error: 0.2261\n",
      "Epoch 90/100\n",
      "144/144 [==============================] - 7s 47ms/step - loss: 0.0797 - mean_absolute_error: 0.1660 - val_loss: 0.1171 - val_mean_absolute_error: 0.2254\n",
      "Epoch 91/100\n",
      "144/144 [==============================] - 7s 48ms/step - loss: 0.0780 - mean_absolute_error: 0.1636 - val_loss: 0.1105 - val_mean_absolute_error: 0.2184\n",
      "Epoch 92/100\n",
      "144/144 [==============================] - 7s 46ms/step - loss: 0.0764 - mean_absolute_error: 0.1619 - val_loss: 0.1121 - val_mean_absolute_error: 0.2174\n",
      "Epoch 93/100\n",
      "144/144 [==============================] - 7s 47ms/step - loss: 0.0762 - mean_absolute_error: 0.1614 - val_loss: 0.1123 - val_mean_absolute_error: 0.2186\n",
      "Epoch 94/100\n",
      "144/144 [==============================] - 7s 45ms/step - loss: 0.0763 - mean_absolute_error: 0.1603 - val_loss: 0.1113 - val_mean_absolute_error: 0.2166\n",
      "Epoch 95/100\n",
      "144/144 [==============================] - 7s 45ms/step - loss: 0.0762 - mean_absolute_error: 0.1605 - val_loss: 0.1232 - val_mean_absolute_error: 0.2297\n",
      "Epoch 96/100\n",
      "144/144 [==============================] - 7s 46ms/step - loss: 0.0788 - mean_absolute_error: 0.1642 - val_loss: 0.1160 - val_mean_absolute_error: 0.2254\n",
      "Epoch 97/100\n",
      "144/144 [==============================] - 7s 46ms/step - loss: 0.0753 - mean_absolute_error: 0.1583 - val_loss: 0.1093 - val_mean_absolute_error: 0.2166\n",
      "Epoch 98/100\n",
      "144/144 [==============================] - 7s 46ms/step - loss: 0.0779 - mean_absolute_error: 0.1618 - val_loss: 0.1116 - val_mean_absolute_error: 0.2184\n",
      "Epoch 99/100\n",
      "144/144 [==============================] - 7s 46ms/step - loss: 0.0751 - mean_absolute_error: 0.1587 - val_loss: 0.1184 - val_mean_absolute_error: 0.2299\n",
      "Epoch 100/100\n",
      "144/144 [==============================] - 7s 46ms/step - loss: 0.0738 - mean_absolute_error: 0.1568 - val_loss: 0.1123 - val_mean_absolute_error: 0.2198\n"
     ]
    }
   ],
   "source": [
    "model.compile(\n",
    "    loss=tf.losses.MeanSquaredError(),\n",
    "    optimizer=tf.optimizers.Adam(),\n",
    "    metrics=[tf.metrics.MeanAbsoluteError()]\n",
    ")\n",
    "\n",
    "history = model.fit(\n",
    "    window.train, \n",
    "    epochs=100,\n",
    "    validation_data=window.val\n",
    ")"
   ]
  },
  {
   "cell_type": "code",
   "execution_count": 107,
   "id": "2917c26f-3adb-42d4-8754-b853337d7e29",
   "metadata": {},
   "outputs": [
    {
     "data": {
      "image/png": "[encoded data removed]",
      "text/plain": [
       "<Figure size 864x576 with 3 Axes>"
      ]
     },
     "metadata": {
      "needs_background": "light"
     },
     "output_type": "display_data"
    }
   ],
   "source": [
    "window.plot(model)"
   ]
  },
  {
   "cell_type": "code",
   "execution_count": 108,
   "id": "f8a8ddd8-c1df-4808-bcba-991ff305f1b4",
   "metadata": {},
   "outputs": [
    {
     "ename": "NameError",
     "evalue": "name 'IPython' is not defined",
     "output_type": "error",
     "traceback": [
      "\u001b[0;31m---------------------------------------------------------------------------\u001b[0m",
      "\u001b[0;31mNameError\u001b[0m                                 Traceback (most recent call last)",
      "\u001b[0;32m<ipython-input-108-e4633bba19a7>\u001b[0m in \u001b[0;36m<module>\u001b[0;34m\u001b[0m\n\u001b[0;32m----> 1\u001b[0;31m \u001b[0mIPython\u001b[0m\u001b[0;34m.\u001b[0m\u001b[0mdisplay\u001b[0m\u001b[0;34m.\u001b[0m\u001b[0mclear_output\u001b[0m\u001b[0;34m(\u001b[0m\u001b[0;34m)\u001b[0m\u001b[0;34m\u001b[0m\u001b[0;34m\u001b[0m\u001b[0m\n\u001b[0m\u001b[1;32m      2\u001b[0m \u001b[0mval_performance\u001b[0m\u001b[0;34m[\u001b[0m\u001b[0;34m'LSTM'\u001b[0m\u001b[0;34m]\u001b[0m \u001b[0;34m=\u001b[0m \u001b[0mmodel\u001b[0m\u001b[0;34m.\u001b[0m\u001b[0mevaluate\u001b[0m\u001b[0;34m(\u001b[0m\u001b[0mval_df\u001b[0m\u001b[0;34m)\u001b[0m\u001b[0;34m\u001b[0m\u001b[0;34m\u001b[0m\u001b[0m\n\u001b[1;32m      3\u001b[0m \u001b[0mperformance\u001b[0m\u001b[0;34m[\u001b[0m\u001b[0;34m'LSTM'\u001b[0m\u001b[0;34m]\u001b[0m \u001b[0;34m=\u001b[0m \u001b[0mmodel\u001b[0m\u001b[0;34m.\u001b[0m\u001b[0mevaluate\u001b[0m\u001b[0;34m(\u001b[0m\u001b[0mtest_df\u001b[0m\u001b[0;34m,\u001b[0m \u001b[0mverbose\u001b[0m\u001b[0;34m=\u001b[0m\u001b[0;36m0\u001b[0m\u001b[0;34m)\u001b[0m\u001b[0;34m\u001b[0m\u001b[0;34m\u001b[0m\u001b[0m\n",
      "\u001b[0;31mNameError\u001b[0m: name 'IPython' is not defined"
     ]
    }
   ],
   "source": [
    "IPython.display.clear_output()\n",
    "val_performance['LSTM'] = model.evaluate(val_df)\n",
    "performance['LSTM'] = model.evaluate(test_df, verbose=0)"
   ]
  },
  {
   "cell_type": "code",
   "execution_count": null,
   "id": "4d88fe8b-d2a4-4170-ad6a-1a2901d2b266",
   "metadata": {},
   "outputs": [],
   "source": [
    "from sklearn.cluster import KMeans\n",
    "kmeans = KMeans(n_clusters=4)\n",
    "kmeans.fit(df_lng_lat[\"lng_cart\", \"lat_cart\"])\n",
    "kmeans.n_iter_\n",
    "kmeans_pred = kmeans.predict(df_lng_lat[\"lng_cart\", \"lat_cart\"])\n",
    "plt.scatter(data=df_lng_lat, x=\"lng_cart\", y=\"lat_cart\", c=kmeans_pred)"
   ]
  },
  {
   "cell_type": "markdown",
   "id": "3b3a66d4-b8ce-445d-8184-9d01bc8e9506",
   "metadata": {},
   "source": [
    "### References\n",
    "1. Data from https://data.world/kgarrett/unwanted-calls\n",
    "2. Verified description of the variable using https://opendata.fcc.gov/Consumer/Consumer-Complaints-Data-Unwanted-Calls/vakf-fz8e\n",
    "3. Python wrapper of Google's ```phonenumbers``` library (documentation): https://pypi.org/project/phonenumbers/\n",
    "4. FCC unwanted call complaint form: https://consumercomplaints.fcc.gov/hc/en-us/requests/new?ticket_form_id=39744\n",
    "5. ```uszipcode``` documentation: https://pypi.org/project/uszipcode/\n",
    "6. ```us``` documentation: https://pypi.org/project/us/\n",
    "7. Stack Overflow: https://stackoverflow.com/questions/27365467/can-pandas-plot-a-histogram-of-dates\n",
    "8. FCC https://consumercomplaints.fcc.gov/hc/en-us\n",
    "9. Stack Overflow: https://stackoverflow.com/questions/24617013/convert-latitude-and-longitude-to-x-and-y-grid-system-using-python\n",
    "10. Wikipedia article on Geographic Center of US: https://en.wikipedia.org/wiki/Geographic_center_of_the_United_States#:~:text=The%20geographic%20center%20of%20the,%C2%B046%E2%80%B217.60283%E2%80%B3W.\n",
    "11. GeoHack tool: https://geohack.toolforge.org/geohack.php?pagename=Geographic_center_of_the_United_States&params=44_58_2.07622_N_103_46_17.60283_W_\n",
    "12. Inspired by TensorFlow's guide on time series forecasting with ANN using TensorFlow's Python package: https://www.tensorflow.org/tutorials/structured_data/time_series#multi-step_dense\n",
    "13. MIT (Massachusetts Institute of Technology) Document \"The Sinusoidal Identity\": https://ocw.mit.edu/courses/mathematics/18-03sc-differential-equations-fall-2011/unit-i-first-order-differential-equations/sinusoidal-functions/MIT18_03SCF11_s7_3text.pdf\n",
    "14. Wikipedia article on Leap Second: https://en.wikipedia.org/wiki/Leap_second"
   ]
  }
 ],
 "metadata": {
  "kernelspec": {
   "display_name": "Python 3",
   "language": "python",
   "name": "python3"
  },
  "language_info": {
   "codemirror_mode": {
    "name": "ipython",
    "version": 3
   },
   "file_extension": ".py",
   "mimetype": "text/x-python",
   "name": "python",
   "nbconvert_exporter": "python",
   "pygments_lexer": "ipython3",
   "version": "3.6.13"
  }
 },
 "nbformat": 4,
 "nbformat_minor": 5
}
