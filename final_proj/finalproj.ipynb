{
 "cells": [
  {
   "cell_type": "markdown",
   "id": "a950db90-cc1f-40b8-9e94-9476d84c5180",
   "metadata": {},
   "source": [
    "# Final Project\n",
    "\n",
    "Name: Kartikeya Sharma <br/>Class: CSCI 349 - Intro to Data Mining  \n",
    "Semester: Spring 2021  \n",
    "Instructor: Brian King  "
   ]
  },
  {
   "cell_type": "markdown",
   "id": "136e0bad-e946-467e-a89a-76c60bd634db",
   "metadata": {},
   "source": [
    "### Step 0: Enivornment Setup"
   ]
  },
  {
   "cell_type": "markdown",
   "id": "d101627f-fabc-40ea-aaed-fbde1f346ee4",
   "metadata": {},
   "source": [
    "#### Step 0.0: Installations"
   ]
  },
  {
   "cell_type": "markdown",
   "id": "6bcaf051-7ecf-4a07-900c-eda53fa52634",
   "metadata": {},
   "source": [
    "- **phonenumbers:** Python wrapper for Google's phone numbers API: ```conda install phonenumbers```<br/>\n",
    "- **us:** package for conveniently working with state abbreviations: ```pip install us``` because conda-forge installation does not work (and is not listed as a primary way of installing this package, so we're stuck with pip)<br/>\n",
    "- **uszipcode:** package that has a vast amount of information on zipcodes, including the major city, post office city, common city, county, state, **area code list** (helpful), **latitude** (helpful), **longitude** (helpful), timezone, demographics (population, population_density, population by age, population by gender, population by race, etc.)... talk about data mining ```pip install uszipcode``` (pip had a solid installation of this)"
   ]
  },
  {
   "cell_type": "markdown",
   "id": "fe9fbad8-cdd2-47b3-8096-f143360a318a",
   "metadata": {},
   "source": [
    "#### Step 0.1: Imports"
   ]
  },
  {
   "cell_type": "code",
   "execution_count": 150,
   "id": "ab89d3d4-0303-4f2a-8006-1f87cb049658",
   "metadata": {},
   "outputs": [
    {
     "name": "stdout",
     "output_type": "stream",
     "text": [
      "CPU times: user 1e+03 ns, sys: 1 µs, total: 2 µs\n",
      "Wall time: 4.05 µs\n"
     ]
    }
   ],
   "source": [
    "%time\n",
    "# imports used in the course\n",
    "import numpy as np\n",
    "import pandas as pd\n",
    "import seaborn as sns\n",
    "import matplotlib.pyplot as plt\n",
    "\n",
    "# from  matplotlib.ticker import PercentFormatter\n",
    "# from sklearn.model_selection import train_test_split, KFold\n",
    "# from sklearn.utils import shuffle\n",
    "# from sklearn.metrics import classification_report, confusion_matrix, f1_score\n",
    "# from sklearn.model_selection import cross_validate, cross_val_predict\n",
    "# from sklearn.model_selection import GridSearchCV\n",
    "\n",
    "# from sklearn.preprocessing import StandardScaler\n",
    "# from sklearn.tree import DecisionTreeClassifier\n",
    "\n",
    "# import tensorflow as tf\n",
    "# from tensorflow import keras\n",
    "# from tensorflow.keras import Input, Model\n",
    "# from tensorflow.keras.layers import Dense, Activation\n",
    "# from tensorflow.keras.optimizers import Adam, SGD\n",
    "# from scikeras.wrappers import KerasClassifier"
   ]
  },
  {
   "cell_type": "code",
   "execution_count": 151,
   "id": "31432c7e-a052-4895-a18d-b8102061f878",
   "metadata": {},
   "outputs": [],
   "source": [
    "# custom imports (not used in the course)\n",
    "import phonenumbers\n",
    "import us\n",
    "from uszipcode import SearchEngine # importing what is needed per the documentation"
   ]
  },
  {
   "cell_type": "markdown",
   "id": "2392a864-2b10-41f0-b632-d329e4705c12",
   "metadata": {},
   "source": [
    "```uszipcode``` documentation<sup>5</sup>"
   ]
  },
  {
   "cell_type": "code",
   "execution_count": 152,
   "id": "be104950-19ab-468c-9c08-59828f927c41",
   "metadata": {},
   "outputs": [
    {
     "name": "stdout",
     "output_type": "stream",
     "text": [
      "CPU times: user 2 µs, sys: 0 ns, total: 2 µs\n",
      "Wall time: 4.05 µs\n"
     ]
    }
   ],
   "source": [
    "%time \n",
    "try:\n",
    "    df_raw = pd.read_csv(\"../data/Consumer_Complaints_Data_-_Unwanted_Calls_raw.csv\")\n",
    "except:\n",
    "    # import from online if not available on machine\n",
    "    df_raw = pd.read_csv('https://query.data.world/s/24xzbr2jaeuohhwmrzhj7jcyrdamlw')"
   ]
  },
  {
   "cell_type": "code",
   "execution_count": 153,
   "id": "afc8c008-5215-4b10-820c-422d98c138dc",
   "metadata": {},
   "outputs": [],
   "source": [
    "df = df_raw.sample(frac=(0.95/116.4)).copy(deep=True)"
   ]
  },
  {
   "cell_type": "markdown",
   "id": "38db2a76-cda5-4c52-b7f3-2f485d67a0ae",
   "metadata": {},
   "source": [
    "```df``` will be considered the sample of the data set, where ```df_raw``` will be considered as the whole data set; this is for simplicity and convenience by design, so I don't have to write ```df_samp``` or ```df_sample``` every time. \n",
    "\n",
    "I am choosing 0.95/116.4 because ~116.4 MB is how much all of the data takes up (whole raw data set) and ~0.95 (MB) - ends up a bit more than that, though - is the amount of space that we want the sample (also before preprocessing) to take, keeping the data being worked with under 1 MB; this is the fraction of data that will be retained for analysis.\n",
    "\n",
    "<br/>Data provided from fcc.gov<sup>2</sup>"
   ]
  },
  {
   "cell_type": "markdown",
   "id": "50826f62-383b-4b46-b879-beef731c0e4e",
   "metadata": {},
   "source": [
    "### Step 1: Pre-Processing"
   ]
  },
  {
   "cell_type": "markdown",
   "id": "4b6178bd-5cb5-45de-9747-f39ced0492f7",
   "metadata": {},
   "source": [
    "#### Step 1.0 Inspect Data at a Macro Level"
   ]
  },
  {
   "cell_type": "markdown",
   "id": "b739fb07-1c77-4bf7-9d04-3322440bd7db",
   "metadata": {},
   "source": [
    "The purposes of this analysis, None will be np.NaN."
   ]
  },
  {
   "cell_type": "code",
   "execution_count": 154,
   "id": "06628dc0-b120-46d5-b7a4-cf9983277c79",
   "metadata": {},
   "outputs": [],
   "source": [
    "df.fillna(value=np.nan, inplace=True)"
   ]
  },
  {
   "cell_type": "code",
   "execution_count": 155,
   "id": "3d691bda-dbf8-44dd-80d3-a6837b1813b2",
   "metadata": {},
   "outputs": [
    {
     "name": "stdout",
     "output_type": "stream",
     "text": [
      "<class 'pandas.core.frame.DataFrame'>\n",
      "Int64Index: 9582 entries, 254700 to 638445\n",
      "Data columns (total 12 columns):\n",
      " #   Column                                   Non-Null Count  Dtype \n",
      "---  ------                                   --------------  ----- \n",
      " 0   Ticket ID                                9582 non-null   int64 \n",
      " 1   Date of Issue                            9528 non-null   object\n",
      " 2   Time of Issue                            8280 non-null   object\n",
      " 3   Form                                     9582 non-null   object\n",
      " 4   Method                                   9554 non-null   object\n",
      " 5   Issue                                    9582 non-null   object\n",
      " 6   Caller ID Number                         8857 non-null   object\n",
      " 7   Type of Call or Messge                   8309 non-null   object\n",
      " 8   Advertiser Business Number               7434 non-null   object\n",
      " 9   State                                    9578 non-null   object\n",
      " 10  Zip                                      9582 non-null   object\n",
      " 11  Location (Center point of the Zip Code)  9577 non-null   object\n",
      "dtypes: int64(1), object(11)\n",
      "memory usage: 973.2+ KB\n"
     ]
    }
   ],
   "source": [
    "df.info()"
   ]
  },
  {
   "cell_type": "code",
   "execution_count": 156,
   "id": "a0c9fb88-7c5a-460b-b446-57b8068d9ca4",
   "metadata": {},
   "outputs": [
    {
     "data": {
      "text/html": [
       "<div>\n",
       "<style scoped>\n",
       "    .dataframe tbody tr th:only-of-type {\n",
       "        vertical-align: middle;\n",
       "    }\n",
       "\n",
       "    .dataframe tbody tr th {\n",
       "        vertical-align: top;\n",
       "    }\n",
       "\n",
       "    .dataframe thead th {\n",
       "        text-align: right;\n",
       "    }\n",
       "</style>\n",
       "<table border=\"1\" class=\"dataframe\">\n",
       "  <thead>\n",
       "    <tr style=\"text-align: right;\">\n",
       "      <th></th>\n",
       "      <th>Ticket ID</th>\n",
       "      <th>Date of Issue</th>\n",
       "      <th>Time of Issue</th>\n",
       "      <th>Form</th>\n",
       "      <th>Method</th>\n",
       "      <th>Issue</th>\n",
       "      <th>Caller ID Number</th>\n",
       "      <th>Type of Call or Messge</th>\n",
       "      <th>Advertiser Business Number</th>\n",
       "      <th>State</th>\n",
       "      <th>Zip</th>\n",
       "      <th>Location (Center point of the Zip Code)</th>\n",
       "    </tr>\n",
       "  </thead>\n",
       "  <tbody>\n",
       "    <tr>\n",
       "      <th>254700</th>\n",
       "      <td>721355</td>\n",
       "      <td>12/03/2015</td>\n",
       "      <td>5:00 pm</td>\n",
       "      <td>Phone</td>\n",
       "      <td>Wired</td>\n",
       "      <td>Robocalls</td>\n",
       "      <td>916-313-4201</td>\n",
       "      <td>Abandoned Calls</td>\n",
       "      <td>NaN</td>\n",
       "      <td>FL</td>\n",
       "      <td>33407</td>\n",
       "      <td>FL 33407\\n(26.753216, -80.080411)</td>\n",
       "    </tr>\n",
       "    <tr>\n",
       "      <th>891545</th>\n",
       "      <td>2704729</td>\n",
       "      <td>08/14/2018</td>\n",
       "      <td>10:00 am</td>\n",
       "      <td>Phone</td>\n",
       "      <td>Wireless (cell phone/other mobile device)</td>\n",
       "      <td>Unwanted Calls</td>\n",
       "      <td>906-369-7786</td>\n",
       "      <td>Prerecorded Voice</td>\n",
       "      <td>None</td>\n",
       "      <td>MI</td>\n",
       "      <td>49920</td>\n",
       "      <td>MI 49920\\n(46.171662, -88.344524)</td>\n",
       "    </tr>\n",
       "    <tr>\n",
       "      <th>783830</th>\n",
       "      <td>2436732</td>\n",
       "      <td>05/09/2018</td>\n",
       "      <td>10:32 a.m.</td>\n",
       "      <td>Phone</td>\n",
       "      <td>Wireless (cell phone/other mobile device)</td>\n",
       "      <td>Unwanted Calls</td>\n",
       "      <td>None</td>\n",
       "      <td>Prerecorded Voice</td>\n",
       "      <td>972-589-8469</td>\n",
       "      <td>TX</td>\n",
       "      <td>75075</td>\n",
       "      <td>TX 75075\\n(33.022357, -96.738333)</td>\n",
       "    </tr>\n",
       "    <tr>\n",
       "      <th>519806</th>\n",
       "      <td>1232747</td>\n",
       "      <td>09/19/2016</td>\n",
       "      <td>6:38 p.m.</td>\n",
       "      <td>Phone</td>\n",
       "      <td>Wired</td>\n",
       "      <td>Robocalls</td>\n",
       "      <td>608-416-1654</td>\n",
       "      <td>Abandoned Calls</td>\n",
       "      <td>NaN</td>\n",
       "      <td>WI</td>\n",
       "      <td>53235</td>\n",
       "      <td>WI 53235-4322\\n(42.96978, -87.875065)</td>\n",
       "    </tr>\n",
       "    <tr>\n",
       "      <th>61800</th>\n",
       "      <td>3663225</td>\n",
       "      <td>11/15/2019</td>\n",
       "      <td>NaN</td>\n",
       "      <td>Phone</td>\n",
       "      <td>Wired</td>\n",
       "      <td>Unwanted Calls</td>\n",
       "      <td>None</td>\n",
       "      <td>NaN</td>\n",
       "      <td>None</td>\n",
       "      <td>IL</td>\n",
       "      <td>60453</td>\n",
       "      <td>IL 60453\\n(41.715086, -87.753789)</td>\n",
       "    </tr>\n",
       "  </tbody>\n",
       "</table>\n",
       "</div>"
      ],
      "text/plain": [
       "        Ticket ID Date of Issue Time of Issue   Form  \\\n",
       "254700     721355    12/03/2015       5:00 pm  Phone   \n",
       "891545    2704729    08/14/2018      10:00 am  Phone   \n",
       "783830    2436732    05/09/2018    10:32 a.m.  Phone   \n",
       "519806    1232747    09/19/2016     6:38 p.m.  Phone   \n",
       "61800     3663225    11/15/2019           NaN  Phone   \n",
       "\n",
       "                                           Method           Issue  \\\n",
       "254700                                      Wired       Robocalls   \n",
       "891545  Wireless (cell phone/other mobile device)  Unwanted Calls   \n",
       "783830  Wireless (cell phone/other mobile device)  Unwanted Calls   \n",
       "519806                                      Wired       Robocalls   \n",
       "61800                                       Wired  Unwanted Calls   \n",
       "\n",
       "       Caller ID Number Type of Call or Messge Advertiser Business Number  \\\n",
       "254700     916-313-4201        Abandoned Calls                        NaN   \n",
       "891545     906-369-7786      Prerecorded Voice                       None   \n",
       "783830             None      Prerecorded Voice               972-589-8469   \n",
       "519806     608-416-1654        Abandoned Calls                        NaN   \n",
       "61800              None                    NaN                       None   \n",
       "\n",
       "       State    Zip Location (Center point of the Zip Code)  \n",
       "254700    FL  33407       FL 33407\\n(26.753216, -80.080411)  \n",
       "891545    MI  49920       MI 49920\\n(46.171662, -88.344524)  \n",
       "783830    TX  75075       TX 75075\\n(33.022357, -96.738333)  \n",
       "519806    WI  53235   WI 53235-4322\\n(42.96978, -87.875065)  \n",
       "61800     IL  60453       IL 60453\\n(41.715086, -87.753789)  "
      ]
     },
     "execution_count": 156,
     "metadata": {},
     "output_type": "execute_result"
    }
   ],
   "source": [
    "df.head()"
   ]
  },
  {
   "cell_type": "markdown",
   "id": "8d8308ee-9c88-4da3-a07f-4b9e3c9ab207",
   "metadata": {},
   "source": [
    "#### Step 1.1: Discard, Format, Downsize Each Column"
   ]
  },
  {
   "cell_type": "markdown",
   "id": "8ae42f01-dc0e-4133-96e8-cbb3086819ff",
   "metadata": {},
   "source": [
    "Column #0 \"Ticket ID\": Unless there are some duplicate ticket values that should be looked into further, I intend on discarding them.<sup>2</sup>"
   ]
  },
  {
   "cell_type": "code",
   "execution_count": 157,
   "id": "2790861f-a64c-4e17-89cb-14bf8af55d67",
   "metadata": {},
   "outputs": [
    {
     "data": {
      "text/plain": [
       "985089    1\n",
       "Name: Ticket ID, dtype: int64"
      ]
     },
     "execution_count": 157,
     "metadata": {},
     "output_type": "execute_result"
    }
   ],
   "source": [
    "df[\"Ticket ID\"].value_counts().sort_values(ascending=False).head(1)"
   ]
  },
  {
   "cell_type": "markdown",
   "id": "9db8d4ef-9643-44a1-9d7e-bdb79b37f010",
   "metadata": {},
   "source": [
    "Clearly no duplicate values. Discarding Column #0 \"Ticket ID.\""
   ]
  },
  {
   "cell_type": "code",
   "execution_count": 158,
   "id": "fbfa7a45-d7b7-4fa6-b3da-c8f243a6b17c",
   "metadata": {},
   "outputs": [],
   "source": [
    "df.drop(columns=\"Ticket ID\", inplace=True)"
   ]
  },
  {
   "cell_type": "code",
   "execution_count": null,
   "id": "c0e10a98-f4e2-4dc7-a76d-6af75f3564a0",
   "metadata": {},
   "outputs": [],
   "source": [
    "def _convert_to_EST_or_nan(ts_str: str):\n",
    "    try:\n",
    "        ts = pd.to_datetime(ts_str)\n",
    "        ts = ts.tz_convert(\"US/Eastern\")\n",
    "        ts = ts.floor('Min')\n",
    "        return ts\n",
    "    except:\n",
    "        return pd.NaT\n",
    "    \n",
    "df[\"Ticket Created\"] = df[\"Ticket Created\"].apply(_convert_to_EST_or_nan)"
   ]
  },
  {
   "cell_type": "code",
   "execution_count": null,
   "id": "bf3ac290-3ee4-437a-9f5a-1a02f6615411",
   "metadata": {},
   "outputs": [],
   "source": [
    "df = df[df[\"Ticket Created\"].notnull()]"
   ]
  },
  {
   "cell_type": "code",
   "execution_count": null,
   "id": "1d6ca47b-44f2-4422-9498-b0bdb976b385",
   "metadata": {},
   "outputs": [],
   "source": [
    "df[\"Ticket Created\"].head()"
   ]
  },
  {
   "cell_type": "code",
   "execution_count": null,
   "id": "7898b1ff-d032-4f7d-a1e5-4273f967eeb9",
   "metadata": {},
   "outputs": [],
   "source": [
    "df[\"Ticket Created\"].isna().sum() / len(df.index)"
   ]
  },
  {
   "cell_type": "markdown",
   "id": "c69cbd44-06ff-496f-b420-da7c9dbf460c",
   "metadata": {},
   "source": [
    "<br/>Column #2 \"Date of Issue\": This column represents the date when the user actually experienced the issue. It will be stored as a date without a time zone (since not all observations gave a particular time so that the dates can be informatively localized accordingly)."
   ]
  },
  {
   "cell_type": "markdown",
   "id": "964a8995-72c9-4356-9a59-c163e6657c91",
   "metadata": {},
   "source": [
    "What % are NaN values? Just to get an idea (ideally not more than a percent or two)."
   ]
  },
  {
   "cell_type": "code",
   "execution_count": null,
   "id": "f8048668-9ee5-4793-bb49-178882082be4",
   "metadata": {},
   "outputs": [],
   "source": [
    "df[\"Date of Issue\"].isna().sum() / len(df.index)"
   ]
  },
  {
   "cell_type": "code",
   "execution_count": null,
   "id": "068ab730-7a49-441e-82a3-d9c8402e7204",
   "metadata": {},
   "outputs": [],
   "source": [
    "def _convert_datetime(dt):\n",
    "    try:\n",
    "        return pd.to_datetime(dt)\n",
    "    except: \n",
    "        return np.NaN"
   ]
  },
  {
   "cell_type": "code",
   "execution_count": null,
   "id": "2e2b6a7e-e924-44e8-bb2e-29955de8e568",
   "metadata": {},
   "outputs": [],
   "source": [
    "df[\"Date of Issue\"] = df[\"Date of Issue\"].apply(_convert_datetime)"
   ]
  },
  {
   "cell_type": "code",
   "execution_count": null,
   "id": "39a6a667-4bec-4f25-954d-947ce675cff0",
   "metadata": {},
   "outputs": [],
   "source": [
    "df = df[df[\"Date of Issue\"] >= pd.to_datetime(\"October 31, 2014\")]"
   ]
  },
  {
   "cell_type": "markdown",
   "id": "baeabf38-fdea-49ca-b7c0-7e491bf95638",
   "metadata": {},
   "source": [
    "Starting point of the data set is October 31, 2014.<sup>2</sup>"
   ]
  },
  {
   "cell_type": "code",
   "execution_count": null,
   "id": "468b3f3e-754a-483a-9fed-939a09b478af",
   "metadata": {},
   "outputs": [],
   "source": [
    "df[\"Date of Issue\"].isna().sum() / len(df.index)"
   ]
  },
  {
   "cell_type": "markdown",
   "id": "62f65341-4440-4ffe-b98d-bc1626467e7f",
   "metadata": {},
   "source": [
    "<br/>Column #3 \"Time of Issue\": This column represents the time when the user actually experienced the issue. This information appears to be too specific for our analysis.<sup>2</sup>"
   ]
  },
  {
   "cell_type": "markdown",
   "id": "50cf51a3-0ebb-4e49-be9c-23464a7c1d7a",
   "metadata": {},
   "source": [
    "What % are NaN values? Just to get an idea (ideally not more than a percent or two)."
   ]
  },
  {
   "cell_type": "code",
   "execution_count": null,
   "id": "8f67d71e-1efb-47e8-871e-4fa235afec50",
   "metadata": {},
   "outputs": [],
   "source": [
    "df[\"Time of Issue\"].isna().sum() / len(df.index)"
   ]
  },
  {
   "cell_type": "markdown",
   "id": "6ccfaec3-92c9-43d4-9061-f0d51c785f87",
   "metadata": {},
   "source": [
    "A lot of non-values and not a *necessary* column (could miss out on analyzing what time of data the calls tend to come in, and by time zone, that is, but there is too much missing data to do this). Dropping it from the DataFrame."
   ]
  },
  {
   "cell_type": "code",
   "execution_count": null,
   "id": "7087f5f8-3b26-47d0-88d3-41d00fa8b726",
   "metadata": {},
   "outputs": [],
   "source": [
    "df.drop(columns=\"Time of Issue\", inplace=True)"
   ]
  },
  {
   "cell_type": "markdown",
   "id": "2ec942d2-041a-4418-8232-fdfe046f4909",
   "metadata": {},
   "source": [
    "<br/>Column #4 \"Form\": This represents the method through which the consumers were contacted by the reported caller.<sup>2</sup>"
   ]
  },
  {
   "cell_type": "code",
   "execution_count": null,
   "id": "98b84f10-a04a-4ae4-8e98-817d2b0d9889",
   "metadata": {},
   "outputs": [],
   "source": [
    "df[\"Form\"].value_counts()"
   ]
  },
  {
   "cell_type": "markdown",
   "id": "fe6f7c3b-1409-4543-9905-8031ea0e40a6",
   "metadata": {},
   "source": [
    "These are all \"Phone\"; we don't need it. (The whole raw data set of the sample that we are analyzing is, in turn, part of a larger data set maintained by the FCC with complaints regarding phone calls, TV service providers, Internet service providers, etc.<sup>8</sup> "
   ]
  },
  {
   "cell_type": "code",
   "execution_count": null,
   "id": "7f721fac-2b27-40bf-b794-b282c4e0aad3",
   "metadata": {},
   "outputs": [],
   "source": [
    "df.drop(columns=\"Form\", inplace=True)"
   ]
  },
  {
   "cell_type": "markdown",
   "id": "63f7f997-f2ca-4c39-8055-6dee9e0d3af3",
   "metadata": {},
   "source": [
    "<br/>Column #5 \"Method\": How the reported caller contacted the consumer.<sup>2</sup>"
   ]
  },
  {
   "cell_type": "markdown",
   "id": "cf9265ff-f19c-4660-9e8a-b084f3ef3fab",
   "metadata": {},
   "source": [
    "What % are NaN values? Just to get an idea (ideally not more than a percent or two)."
   ]
  },
  {
   "cell_type": "code",
   "execution_count": null,
   "id": "8b52e7ba-01f5-4a52-a633-90b09160fdf8",
   "metadata": {},
   "outputs": [],
   "source": [
    "df[\"Method\"].isna().sum() / len(df.index)"
   ]
  },
  {
   "cell_type": "code",
   "execution_count": null,
   "id": "a5d6ad21-a920-40f7-9034-a71b9794a2b1",
   "metadata": {},
   "outputs": [],
   "source": [
    "df[\"Method\"] = pd.Categorical(df[\"Method\"], ordered=False)"
   ]
  },
  {
   "cell_type": "code",
   "execution_count": null,
   "id": "06777740-155c-4c71-9ab8-9d8edc36b0b1",
   "metadata": {},
   "outputs": [],
   "source": [
    "df[\"Method\"].head()"
   ]
  },
  {
   "cell_type": "markdown",
   "id": "37356e8d-56c0-420b-a92d-57e9e414b39d",
   "metadata": {},
   "source": [
    "There are three possibilities (nominal) categories: Internet (VOIP), which is something like Google Voice, wired, which is a landline, and wireless, which is a cell phone.<sup>2</sup>"
   ]
  },
  {
   "cell_type": "markdown",
   "id": "8657798e-ce72-4f4e-91f3-ff93a9662586",
   "metadata": {},
   "source": [
    "It is not necessary to clarify that wireless means cell phone or other mobile device. This category will be renamed to wireless."
   ]
  },
  {
   "cell_type": "code",
   "execution_count": null,
   "id": "1b8ccb5b-b608-4086-bdbc-a9f89afd9c6e",
   "metadata": {},
   "outputs": [],
   "source": [
    "df[\"Method\"].cat.rename_categories(\n",
    "    new_categories = {\"Wireless (cell phone/other mobile device)\": \"Wireless\"},\n",
    "    inplace=True\n",
    ")"
   ]
  },
  {
   "cell_type": "code",
   "execution_count": null,
   "id": "6d479191-62dc-4cc4-9d52-9d379f76e3aa",
   "metadata": {},
   "outputs": [],
   "source": [
    "df[\"Method\"].isna().sum() / len(df.index)"
   ]
  },
  {
   "cell_type": "markdown",
   "id": "22aa0f54-7150-4d46-912a-317d48d3a4a8",
   "metadata": {},
   "source": [
    "<br/>Column #6 \"Issue\": "
   ]
  },
  {
   "cell_type": "markdown",
   "id": "337aa2f0-fe6e-4c9e-b582-e3fdcb1e013b",
   "metadata": {},
   "source": [
    "What % are NaN values? Just to get an idea (ideally not more than a percent or two)."
   ]
  },
  {
   "cell_type": "code",
   "execution_count": null,
   "id": "f70e5a97-8720-410d-a82c-3b671e1d828b",
   "metadata": {},
   "outputs": [],
   "source": [
    "df[\"Issue\"].isna().sum() / len(df.index)"
   ]
  },
  {
   "cell_type": "code",
   "execution_count": null,
   "id": "22e72acd-9c2d-4b60-b057-b77472f86acd",
   "metadata": {},
   "outputs": [],
   "source": [
    "df[\"Issue\"] = pd.Categorical(df[\"Issue\"], ordered=False)"
   ]
  },
  {
   "cell_type": "code",
   "execution_count": null,
   "id": "805f7ff2-9a12-40e0-a9ca-d616f6f337d7",
   "metadata": {},
   "outputs": [],
   "source": [
    "df[\"Issue\"].head()"
   ]
  },
  {
   "cell_type": "markdown",
   "id": "5ada102c-a92d-4b71-9181-8ceae76a54ab",
   "metadata": {},
   "source": [
    "Looking close at the FCC descriptions of the different attributes, robocalls and telemarketing are currently being marked as unwanted calls instead of those two categories; hence, the values in this column are not consistent throughout across the reports/over time. This column will be removed, and the data set will be considered as containing data that represents reports of 'unwanted/spam' calls.<sup>2</sup>"
   ]
  },
  {
   "cell_type": "code",
   "execution_count": null,
   "id": "4103f09a-46e7-41f4-b5ba-c4800484bbc1",
   "metadata": {},
   "outputs": [],
   "source": [
    "df.drop(columns=\"Issue\", inplace=True)"
   ]
  },
  {
   "cell_type": "markdown",
   "id": "7cffd62f-2fa3-4805-b2d9-b0768479e00e",
   "metadata": {},
   "source": [
    "<br/>Column #7 \"Caller ID Number\": number (of reported call from corresponding unwanted caller) that appeared on the consumer's caller ID<sup>2</sup>\n",
    "\n",
    "We will use the Python wrapper of google's phonenumbers library.<sup>3</sup>\n",
    "\n",
    "Per \"Please enter the phone number in the following format 555-555-5555\" instructions on the FCC complaint form, all numbers are assumed to be USA, which makes sense since the FCC is a USA regulatory body which has jurisdiction in the USA.<sup>4</sup>"
   ]
  },
  {
   "cell_type": "markdown",
   "id": "c3a49f69-ae45-4d03-b6fe-87cdbe9a37e6",
   "metadata": {},
   "source": [
    "What % are NaN values? Just to get an idea (ideally not more than a percent or two or 5% at the most)."
   ]
  },
  {
   "cell_type": "code",
   "execution_count": null,
   "id": "9189e9c3-e22e-4306-9a43-9dbfb2c1fbab",
   "metadata": {},
   "outputs": [],
   "source": [
    "df[\"Caller ID Number\"].isna().sum() / len(df.index)"
   ]
  },
  {
   "cell_type": "markdown",
   "id": "b07b4c8c-c3a1-451b-97e6-4be10cd7424f",
   "metadata": {},
   "source": [
    "Even though there is quite a bit missing, it might be valuable to keep observations with \"Caller ID Number\" as np.NaN (private/unknown caller or consumer deleted spam message/incoming call entry and does not have the number now)?"
   ]
  },
  {
   "cell_type": "code",
   "execution_count": null,
   "id": "fd1e0589-baf0-4e33-bb44-d06fe1a78c7e",
   "metadata": {},
   "outputs": [],
   "source": [
    "def _parse_ph_number(ph_num: str):\n",
    "    try:\n",
    "        ph_num = str(ph_num)\n",
    "        ph_num_parsed = phonenumbers.parse(ph_num, \"US\")\n",
    "    except phonenumbers.NumberParseException: \n",
    "        return np.NaN\n",
    "    if not phonenumbers.is_possible_number(ph_num_parsed):\n",
    "        return np.NaN\n",
    "    return ph_num_parsed"
   ]
  },
  {
   "cell_type": "code",
   "execution_count": null,
   "id": "031e3a1a-86d6-4bc0-babe-6decc1758e9a",
   "metadata": {},
   "outputs": [],
   "source": [
    "# to not print the slew of lines that comes out with phonenumbers methods\n",
    "# for whatever reason (there are some patches that need to be resolved with\n",
    "# wrapping the Google Java library in Python)\n",
    "df[\"Caller ID Number\"] = \\\n",
    "df[\"Caller ID Number\"].apply(_parse_ph_number);"
   ]
  },
  {
   "cell_type": "code",
   "execution_count": null,
   "id": "7412df90-c53f-40b3-a4f9-84de2393cc86",
   "metadata": {},
   "outputs": [],
   "source": [
    "df[\"Caller ID Number\"].head()"
   ]
  },
  {
   "cell_type": "code",
   "execution_count": null,
   "id": "f81d5218-d6e3-4406-b95f-76244ab1acea",
   "metadata": {},
   "outputs": [],
   "source": [
    "df[\"Caller ID Number\"].isna().sum() / len(df.index)"
   ]
  },
  {
   "cell_type": "markdown",
   "id": "27064946-2836-424c-8690-88db98194b6f",
   "metadata": {},
   "source": [
    "About a 5%-point increase on average in NaN values after preprocessing this column."
   ]
  },
  {
   "cell_type": "markdown",
   "id": "ff03d34e-5b08-4a3d-935c-bd12ce9fff71",
   "metadata": {},
   "source": [
    "<br/>Column #8 \"Type of Call or Messge\": The type of the call (or message) received. Live voice? Prerecorded message? Text message?"
   ]
  },
  {
   "cell_type": "markdown",
   "id": "d015f894-0eff-4d08-8e38-7fbc9a278f10",
   "metadata": {},
   "source": [
    "What % are NaN values? Just to get an idea (ideally not more than a percent or two or 5% at the most)."
   ]
  },
  {
   "cell_type": "code",
   "execution_count": null,
   "id": "cf73bd40-ac09-4550-87e9-5501f5a96f5d",
   "metadata": {},
   "outputs": [],
   "source": [
    "df[\"Type of Call or Messge\"].isna().sum() / len(df.index)"
   ]
  },
  {
   "cell_type": "code",
   "execution_count": null,
   "id": "b74fbca2-e660-45ef-836b-061b308cc83b",
   "metadata": {},
   "outputs": [],
   "source": [
    "df[\"Type of Call or Messge\"] = pd.Categorical(df[\"Type of Call or Messge\"], ordered=False)"
   ]
  },
  {
   "cell_type": "code",
   "execution_count": null,
   "id": "937a9590-0509-4492-8b28-c4755f187a1b",
   "metadata": {},
   "outputs": [],
   "source": [
    "df[\"Type of Call or Messge\"].head()"
   ]
  },
  {
   "cell_type": "markdown",
   "id": "bd89f937-61a9-4b19-b250-a4875ce6c860",
   "metadata": {},
   "source": [
    "<br/>Column #9 \"Advertiser Business Number\": The number of the advertiser that the caller claims to be associated with."
   ]
  },
  {
   "cell_type": "markdown",
   "id": "37640267-1c4c-4682-b2fd-42e1963b5196",
   "metadata": {},
   "source": [
    "What % are NaN values? Just to get an idea (ideally not more than a percent or two or 5% at the most)."
   ]
  },
  {
   "cell_type": "code",
   "execution_count": null,
   "id": "e3123538-558e-42d0-8874-5da15727d1cc",
   "metadata": {},
   "outputs": [],
   "source": [
    "df[\"Advertiser Business Number\"].isna().sum() / len(df.index)"
   ]
  },
  {
   "cell_type": "markdown",
   "id": "01971bd6-2ce2-4a1b-841f-fb8d7f437574",
   "metadata": {},
   "source": [
    "Way too many missing values. Deleting this column."
   ]
  },
  {
   "cell_type": "code",
   "execution_count": null,
   "id": "499e3b8e-ed49-4a5c-ac4a-737fa21e3747",
   "metadata": {},
   "outputs": [],
   "source": [
    "df.drop(columns=\"Advertiser Business Number\", inplace=True)"
   ]
  },
  {
   "cell_type": "markdown",
   "id": "036bfd26-afd6-41a9-978b-2fdb07c669a7",
   "metadata": {},
   "source": [
    "<br/>Column #10 \"State\": State in which the reporting consumer resides in<sup>2</sup>"
   ]
  },
  {
   "cell_type": "markdown",
   "id": "e6a18b14-f388-4beb-8f92-3c1ce0ee0575",
   "metadata": {},
   "source": [
    "What % are NaN values? Just to get an idea (ideally not more than a percent or two or 5% at the most)."
   ]
  },
  {
   "cell_type": "code",
   "execution_count": null,
   "id": "948a1fa0-b61d-4fc2-8ce3-9064c377d73e",
   "metadata": {},
   "outputs": [],
   "source": [
    "df[\"State\"].isna().sum() / len(df.index)"
   ]
  },
  {
   "cell_type": "markdown",
   "id": "14214f66-7c45-41b7-84ff-f1c52250a165",
   "metadata": {},
   "source": [
    "Not many relatively (percentage-wise) missing values (< 0.1% on average). Nice!"
   ]
  },
  {
   "cell_type": "code",
   "execution_count": null,
   "id": "37f75ac2-373e-4c92-a7dd-7c9887997b46",
   "metadata": {},
   "outputs": [],
   "source": [
    "def _validate_state(state_ab: str):\n",
    "    try:\n",
    "        if us.states.lookup(state_ab) in us.states.STATES:\n",
    "            return state_ab\n",
    "        # including DC but leaving out Puerto Rico (not that many entries\n",
    "        # proportionally anyway)\n",
    "        elif us.states.lookup(state_ab) is us.states.DC:\n",
    "            return state_ab\n",
    "        else:\n",
    "            return np.NaN\n",
    "    except: # if np.NaN, for example\n",
    "        return np.NaN"
   ]
  },
  {
   "cell_type": "markdown",
   "id": "ff0c7ffc-8c60-4e70-a1c8-14bf92dc7092",
   "metadata": {},
   "source": [
    "```us``` documentation<sup>6</sup>"
   ]
  },
  {
   "cell_type": "code",
   "execution_count": null,
   "id": "6cbe9de3-ab78-496d-8cd6-2eb7c066567e",
   "metadata": {},
   "outputs": [],
   "source": [
    "df[\"State\"] = df[\"State\"].apply(_validate_state)"
   ]
  },
  {
   "cell_type": "markdown",
   "id": "eba22693-d656-4a5f-83d1-c04af3910f17",
   "metadata": {},
   "source": [
    "We don't have to eliminate observations without valid state abbreviations. Perhaps we can extrapolate the state of the customer from their area code, i.e. the phone number that received the call."
   ]
  },
  {
   "cell_type": "code",
   "execution_count": null,
   "id": "1118c747-2c10-4d78-9e02-18825d8a2247",
   "metadata": {},
   "outputs": [],
   "source": [
    "df[\"State\"] = pd.Categorical(df[\"State\"], ordered=False)"
   ]
  },
  {
   "cell_type": "markdown",
   "id": "e6cbce0f-be19-4442-8ce9-3fd682e96a13",
   "metadata": {},
   "source": [
    "State abbreviations are values within a nominal variable."
   ]
  },
  {
   "cell_type": "code",
   "execution_count": null,
   "id": "2ad05759-e864-4d81-9ef4-8417b23092fc",
   "metadata": {},
   "outputs": [],
   "source": [
    "df[\"State\"].head()"
   ]
  },
  {
   "cell_type": "markdown",
   "id": "c83bee00-0e72-4fd7-b6ee-425a70ec3181",
   "metadata": {},
   "source": [
    "We have each of the 50 states covered in our data sample. Yay!"
   ]
  },
  {
   "cell_type": "code",
   "execution_count": null,
   "id": "7213e7c7-7d04-4a64-ace6-399fdb6eecac",
   "metadata": {},
   "outputs": [],
   "source": [
    "df[\"State\"].isna().sum() / len(df.index)"
   ]
  },
  {
   "cell_type": "markdown",
   "id": "3695218e-727f-4e80-be22-23c922d2c45b",
   "metadata": {},
   "source": [
    "Still, not many relatively (percentage-wise) missing values (< 0.1% on average)."
   ]
  },
  {
   "cell_type": "markdown",
   "id": "6e1c1e6c-84c8-4a87-bbcd-9b40237e4172",
   "metadata": {},
   "source": [
    "<br/>Column #11 \"Zip\": The zip code of where the consumer resides<sup>2</sup>"
   ]
  },
  {
   "cell_type": "markdown",
   "id": "52953386-00aa-4618-851c-99ca179f460e",
   "metadata": {},
   "source": [
    "What % are NaN values? Just to get an idea (ideally not more than a percent or two or 5% at the most)."
   ]
  },
  {
   "cell_type": "code",
   "execution_count": null,
   "id": "543eac56-1ee4-4ff0-9b29-e562bbba6d1e",
   "metadata": {},
   "outputs": [],
   "source": [
    "df[\"Zip\"].isna().sum() / len(df.index)"
   ]
  },
  {
   "cell_type": "markdown",
   "id": "dda9fbf3-25d4-475f-98f1-8b594c3e353d",
   "metadata": {},
   "source": [
    "None, if any, are missing (on average)."
   ]
  },
  {
   "cell_type": "markdown",
   "id": "22f76833-3e45-4e61-ab1e-1a22651867c8",
   "metadata": {},
   "source": [
    "Because we don't need all of the vast amount that this package provides *at the moment*, given that the latitude, longitude, state information is already given in our data set, we will start by using the simple version of the backend database provided by the ```uszipcode``` package."
   ]
  },
  {
   "cell_type": "code",
   "execution_count": null,
   "id": "b5fb1874-7139-4484-94a7-89f440b59f1b",
   "metadata": {
    "scrolled": true,
    "tags": []
   },
   "outputs": [],
   "source": [
    "search = SearchEngine(simple_zipcode=True, db_file_dir=\"../data/zip_data_raw\")"
   ]
  },
  {
   "cell_type": "code",
   "execution_count": null,
   "id": "248af789-1435-4103-b590-701e400e3cf1",
   "metadata": {},
   "outputs": [],
   "source": [
    "def _validate_and_get_info_zipcode(zip: str):\n",
    "    try:\n",
    "        zip_obj = search.by_zipcode(zip)\n",
    "        if zip_obj.zipcode is None:\n",
    "            return np.NaN\n",
    "        return zip_obj\n",
    "    except:\n",
    "        return np.NaN"
   ]
  },
  {
   "cell_type": "code",
   "execution_count": null,
   "id": "e684c387-494b-45b3-af3a-617ca34b4238",
   "metadata": {},
   "outputs": [],
   "source": [
    "df[\"Zip Info\"] = df[\"Zip\"].apply(_validate_and_get_info_zipcode)"
   ]
  },
  {
   "cell_type": "markdown",
   "id": "c6631061-a659-4f1e-9ddc-03c7a81f99b9",
   "metadata": {},
   "source": [
    "How many are NaN after preprocessing (we'll still remove them right after). Checking this adds another check to the preprocessing of this column (to ensure that the preprocessing algorithm/method above is not simply failing and inserting unwaranted NaNs all over)."
   ]
  },
  {
   "cell_type": "code",
   "execution_count": null,
   "id": "29439fa0-b95c-4e44-9c7a-c94ab68df679",
   "metadata": {},
   "outputs": [],
   "source": [
    "df[\"Zip\"].isna().sum() / len(df.index)"
   ]
  },
  {
   "cell_type": "markdown",
   "id": "a1c01487-f497-4dc9-a4b4-c30ea08f91b9",
   "metadata": {},
   "source": [
    "None, if any, on average. Great."
   ]
  },
  {
   "cell_type": "markdown",
   "id": "bec3552e-cbb1-4655-9a8b-d153fc4ae909",
   "metadata": {},
   "source": [
    "We will now remove all entries with invalid ZIP Codes. We will be using the ZIP Code objects, which are now stored in the \"Zip Info\" column (newly created column), to also store otherr information associated with the Zip Code, such as latitude and longitude information; this way, the information is consolidated within the SimpleZipcode object. Plus, we can avoid painfully parsing \"Location...\" column (next column), keep the data consistent within the uszipcode package (information all from one database), and verify the validity of the latitude/longitude data all at the same time through the SimpleZipcode object."
   ]
  },
  {
   "cell_type": "code",
   "execution_count": null,
   "id": "4df3030a-a1a2-40fb-b455-1b3df1a8606a",
   "metadata": {},
   "outputs": [],
   "source": [
    "df = df[df[\"Zip Info\"]!=np.NaN]"
   ]
  },
  {
   "cell_type": "markdown",
   "id": "3dd8f0f6-30d1-4e96-a11b-1673ae3c7bbb",
   "metadata": {},
   "source": [
    "A zip code is technically a nominal variable (even though there may be *many* of them). We can perhaps sort the data sample by a zip code category to understand which zip codes had the most reports, for instance. Making the Zip Info column into a Categorical may not make sense if the pd.Categorical method does not pick up on two different objects potentially being the same if their contents are the same. For simplicity, the Zip Info column will not be converted into a pd.Categorical."
   ]
  },
  {
   "cell_type": "code",
   "execution_count": null,
   "id": "5c1bde75-52f3-454a-b188-d25247f1184b",
   "metadata": {},
   "outputs": [],
   "source": [
    "df[\"Zip\"] = pd.Categorical(df[\"Zip\"], ordered=False)"
   ]
  },
  {
   "cell_type": "code",
   "execution_count": null,
   "id": "59bf6bdb-5133-44a1-887a-805c6bbc58ad",
   "metadata": {},
   "outputs": [],
   "source": [
    "df[\"Zip\"].head()"
   ]
  },
  {
   "cell_type": "markdown",
   "id": "2f1d4038-35fa-43a7-88e3-642f0d655d9f",
   "metadata": {},
   "source": [
    "```uszipcode``` documentation<sup>5</sup>"
   ]
  },
  {
   "cell_type": "markdown",
   "id": "04346d9f-ed90-4fc1-ba7b-ae6219c8d2aa",
   "metadata": {},
   "source": [
    "<br/>Column #12 \"Location (Center point of the Zip Code)\": center of the zip code, not by consumer's address or anything specifically (data set maintains consumer privacy, which is the ethical thing to do and is solid computer science research ethics)<sup>2</sup>"
   ]
  },
  {
   "cell_type": "markdown",
   "id": "7ecb432c-84dd-4237-ba89-72580455ad33",
   "metadata": {},
   "source": [
    "Per the explanation above, I am removing this column.<br/>\n",
    "*\"We will be using the ZIP Code objects, which are now stored in the \"Zip Info\" column (newly created column), to also store otherr information associated with the Zip Code, such as latitude and longitude information; this way, the information is consolidated within the SimpleZipcode object. Plus, we can avoid painfully parsing \"Location...\" column (next column), keep the data consistent within the uszipcode package (information all from one database), and verify the validity of the latitude/longitude data all at the same time through the SimpleZipcode object.\"*"
   ]
  },
  {
   "cell_type": "code",
   "execution_count": null,
   "id": "20e51053-62b7-4fcf-bef6-4955381afc17",
   "metadata": {},
   "outputs": [],
   "source": [
    "df.drop(columns=\"Location (Center point of the Zip Code)\", inplace=True)"
   ]
  },
  {
   "cell_type": "markdown",
   "id": "462866ae-911e-44f4-bb6b-9fb07a9aa031",
   "metadata": {},
   "source": [
    "<br/>All in all (after the column conversions):"
   ]
  },
  {
   "cell_type": "code",
   "execution_count": null,
   "id": "b9496326-6830-42ea-97bc-f5079c32669e",
   "metadata": {},
   "outputs": [],
   "source": [
    "df.head()"
   ]
  },
  {
   "cell_type": "markdown",
   "id": "a1d224f4-292f-4a40-bac9-5b1d5e512025",
   "metadata": {},
   "source": [
    "### Step 2: EDA"
   ]
  },
  {
   "cell_type": "markdown",
   "id": "6ff45465-f488-4918-ad21-46f9e3f95c9e",
   "metadata": {},
   "source": [
    "#### Step 2.0: Plotting General Distributional Data"
   ]
  },
  {
   "cell_type": "code",
   "execution_count": null,
   "id": "994e8bb9-2ca8-479b-a04f-33f78823aea2",
   "metadata": {},
   "outputs": [],
   "source": [
    "freq_date_of_issue = df[\"Date of Issue\"].groupby(\n",
    "    by=[df[\"Date of Issue\"].dt.year, df[\"Date of Issue\"].dt.month]\n",
    ").count()\n",
    "freq_date_of_issue.index.rename(names=[\"Year\", \"Month\"], inplace=True)\n",
    "df_freq_date_of_issue = pd.DataFrame(freq_date_of_issue)\n",
    "df_freq_date_of_issue.reset_index(inplace=True)\n",
    "df_freq_date_of_issue.rename({\"Date of Issue\": \"Frequency\"}, axis=1, inplace=True)\n",
    "\n",
    "display(df_freq_date_of_issue)"
   ]
  },
  {
   "cell_type": "markdown",
   "id": "9de02c2d-04ba-4ad4-8696-0e11bbbb3c3a",
   "metadata": {},
   "source": [
    "```freq_date_of_issue``` setup inspired by Stack Overflow contributor<sup>7</sup>"
   ]
  },
  {
   "cell_type": "code",
   "execution_count": null,
   "id": "36f11d6f-2e03-4e29-9403-6c2441a9fe77",
   "metadata": {},
   "outputs": [],
   "source": [
    "fig, ax = plt.subplots(figsize=(14, 7))\n",
    "sns.boxplot(data=df_freq_date_of_issue, x=\"Frequency\", ax=ax)\n",
    "fig.suptitle(\"Distribution of Frequencies in a (Month, Year)\");"
   ]
  },
  {
   "cell_type": "code",
   "execution_count": null,
   "id": "17bfeb52-2bd8-4c49-9cf4-5389d2918eb8",
   "metadata": {},
   "outputs": [],
   "source": [
    "df_freq_date_of_issue.describe()"
   ]
  },
  {
   "cell_type": "code",
   "execution_count": null,
   "id": "4f250b3c-0ab7-4d14-8210-45915f49ba8d",
   "metadata": {},
   "outputs": [],
   "source": []
  },
  {
   "cell_type": "code",
   "execution_count": null,
   "id": "fdee1cfb-2a71-4bdc-82f3-a0bc3dcbf0a4",
   "metadata": {},
   "outputs": [],
   "source": [
    "fg = sns.FacetGrid(data=df_freq_date_of_issue, col=\"Year\", sharey=False)\n",
    "fg.map(sns.histplot, \"Frequency\", kde=True, binwidth=)"
   ]
  },
  {
   "cell_type": "code",
   "execution_count": null,
   "id": "db905493-b6b0-459b-b03b-934e4414ee69",
   "metadata": {},
   "outputs": [],
   "source": []
  },
  {
   "cell_type": "code",
   "execution_count": null,
   "id": "1136e7d7-dd5e-4852-abea-88eac74f4f39",
   "metadata": {},
   "outputs": [],
   "source": [
    "sns.displot(kind=\"hist\", data=freq_date_of_issue, kde=True)"
   ]
  },
  {
   "cell_type": "code",
   "execution_count": null,
   "id": "c5b4809e-3008-4f97-8fb7-b37e2303a958",
   "metadata": {},
   "outputs": [],
   "source": [
    "fg = sns.catplot(kind=\"count\", x=df_freq_date_of_issue, height=5, aspect=2)"
   ]
  },
  {
   "cell_type": "markdown",
   "id": "0e063356-4d0e-4c1d-b57a-ff572d27feea",
   "metadata": {},
   "source": [
    "### References\n",
    "1. Data from https://data.world/kgarrett/unwanted-calls\n",
    "2. Verified description of the variable using https://opendata.fcc.gov/Consumer/Consumer-Complaints-Data-Unwanted-Calls/vakf-fz8e\n",
    "3. Python wrapper of Google's ```phonenumbers``` library (documentation): https://pypi.org/project/phonenumbers/\n",
    "4. FCC unwanted call complaint form: https://consumercomplaints.fcc.gov/hc/en-us/requests/new?ticket_form_id=39744\n",
    "5. ```uszipcode``` documentation: https://pypi.org/project/uszipcode/\n",
    "6. ```us``` documentation: https://pypi.org/project/us/\n",
    "7. Stack Overflow: https://stackoverflow.com/questions/27365467/can-pandas-plot-a-histogram-of-dates\n",
    "8. FCC https://consumercomplaints.fcc.gov/hc/en-us"
   ]
  },
  {
   "cell_type": "code",
   "execution_count": null,
   "id": "14d051ba-8b5d-4e1c-b263-ce788fd63c02",
   "metadata": {},
   "outputs": [],
   "source": []
  }
 ],
 "metadata": {
  "kernelspec": {
   "display_name": "Python 3",
   "language": "python",
   "name": "python3"
  },
  "language_info": {
   "codemirror_mode": {
    "name": "ipython",
    "version": 3
   },
   "file_extension": ".py",
   "mimetype": "text/x-python",
   "name": "python",
   "nbconvert_exporter": "python",
   "pygments_lexer": "ipython3",
   "version": "3.8.10"
  }
 },
 "nbformat": 4,
 "nbformat_minor": 5
}
