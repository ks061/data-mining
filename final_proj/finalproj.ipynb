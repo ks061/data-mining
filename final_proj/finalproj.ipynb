{
 "cells": [
  {
   "cell_type": "markdown",
   "id": "a950db90-cc1f-40b8-9e94-9476d84c5180",
   "metadata": {},
   "source": [
    "# Final Project\n",
    "\n",
    "Name: Kartikeya Sharma <br/>Class: CSCI 349 - Intro to Data Mining  \n",
    "Semester: Spring 2021  \n",
    "Instructor: Brian King  "
   ]
  },
  {
   "cell_type": "markdown",
   "id": "d101627f-fabc-40ea-aaed-fbde1f346ee4",
   "metadata": {},
   "source": [
    "### Installations"
   ]
  },
  {
   "cell_type": "markdown",
   "id": "6bcaf051-7ecf-4a07-900c-eda53fa52634",
   "metadata": {},
   "source": [
    "- **phonenumbers:** Python wrapper for Google's phone numbers API: ```conda install phonenumbers```<br/>\n",
    "- **us:** package for conveniently working with state abbreviations: ```pip install us``` because conda-forge installation does not work (and is not listed as a primary way of installing this package, so we're stuck with pip)<br/>\n",
    "- **uszipcode:** package that has a vast amount of information on zipcodes, including the major city, post office city, common city, county, state, **area code list** (helpful), **latitude** (helpful), **longitude** (helpful), timezone, demographics (population, population_density, population by age, population by gender, population by race, etc.)... talk about data mining ```pip install uszipcode``` (pip had a solid installation of this)"
   ]
  },
  {
   "cell_type": "markdown",
   "id": "fe9fbad8-cdd2-47b3-8096-f143360a318a",
   "metadata": {},
   "source": [
    "### Imports"
   ]
  },
  {
   "cell_type": "code",
   "execution_count": null,
   "id": "ab89d3d4-0303-4f2a-8006-1f87cb049658",
   "metadata": {},
   "outputs": [],
   "source": [
    "%time\n",
    "# imports used in the course\n",
    "import numpy as np\n",
    "import pandas as pd\n",
    "import seaborn as sns\n",
    "import matplotlib.pyplot as plt\n",
    "\n",
    "from  matplotlib.ticker import PercentFormatter\n",
    "from sklearn.model_selection import train_test_split, KFold\n",
    "from sklearn.utils import shuffle\n",
    "from sklearn.metrics import classification_report, confusion_matrix, f1_score\n",
    "from sklearn.model_selection import cross_validate, cross_val_predict\n",
    "from sklearn.model_selection import GridSearchCV\n",
    "\n",
    "from sklearn.preprocessing import StandardScaler\n",
    "from sklearn.tree import DecisionTreeClassifier\n",
    "\n",
    "import tensorflow as tf\n",
    "from tensorflow import keras\n",
    "from tensorflow.keras import Input, Model\n",
    "from tensorflow.keras.layers import Dense, Activation\n",
    "from tensorflow.keras.optimizers import Adam, SGD\n",
    "from scikeras.wrappers import KerasClassifier"
   ]
  },
  {
   "cell_type": "code",
   "execution_count": null,
   "id": "31432c7e-a052-4895-a18d-b8102061f878",
   "metadata": {},
   "outputs": [],
   "source": [
    "# custom imports (not used in the course)\n",
    "import phonenumbers\n",
    "import us\n",
    "from uszipcode import SearchEngine # importing what is needed per the documentation"
   ]
  },
  {
   "cell_type": "markdown",
   "id": "2392a864-2b10-41f0-b632-d329e4705c12",
   "metadata": {},
   "source": [
    "```uszipcode``` documentation<sup>5</sup>"
   ]
  },
  {
   "cell_type": "code",
   "execution_count": null,
   "id": "be104950-19ab-468c-9c08-59828f927c41",
   "metadata": {},
   "outputs": [],
   "source": [
    "%time \n",
    "try:\n",
    "    df_raw = pd.read_csv(\\\n",
    "    \"../data/Consumer_Complaints_Data_-_Unwanted_Calls_raw.csv\"\\\n",
    "    )\n",
    "else:\n",
    "    df_raw = pd.read_csv()"
   ]
  },
  {
   "cell_type": "code",
   "execution_count": null,
   "id": "afc8c008-5215-4b10-820c-422d98c138dc",
   "metadata": {},
   "outputs": [],
   "source": [
    "df = df_raw.sample(frac=0.01).copy(deep=True)"
   ]
  },
  {
   "cell_type": "markdown",
   "id": "38db2a76-cda5-4c52-b7f3-2f485d67a0ae",
   "metadata": {},
   "source": [
    "```df``` will be considered the sample of the data set, where ```df_raw``` will be considered as the whole data set; this is for simplicity and convenience by design, so I don't have to write ```df_samp``` or ```df_sample``` every time.\n",
    "<br/><br/>Data provided from data.world.<sup>1</sup>"
   ]
  },
  {
   "cell_type": "markdown",
   "id": "50826f62-383b-4b46-b879-beef731c0e4e",
   "metadata": {},
   "source": [
    "### Step 1: Pre-Processing"
   ]
  },
  {
   "cell_type": "markdown",
   "id": "4b6178bd-5cb5-45de-9747-f39ced0492f7",
   "metadata": {},
   "source": [
    "#### Step 1.0 Inspect Data at a Macro Level"
   ]
  },
  {
   "cell_type": "code",
   "execution_count": null,
   "id": "3d691bda-dbf8-44dd-80d3-a6837b1813b2",
   "metadata": {},
   "outputs": [],
   "source": [
    "df.info()"
   ]
  },
  {
   "cell_type": "code",
   "execution_count": null,
   "id": "a0c9fb88-7c5a-460b-b446-57b8068d9ca4",
   "metadata": {},
   "outputs": [],
   "source": [
    "df.head()"
   ]
  },
  {
   "cell_type": "markdown",
   "id": "8d8308ee-9c88-4da3-a07f-4b9e3c9ab207",
   "metadata": {},
   "source": [
    "#### Step 1.1: Discard, Format, Downsize Each Column"
   ]
  },
  {
   "cell_type": "markdown",
   "id": "8ae42f01-dc0e-4133-96e8-cbb3086819ff",
   "metadata": {},
   "source": [
    "Column #0 \"Ticket ID\": Unless there are some duplicate ticket values that should be looked into further, I intend on discarding them.<sup>2</sup>"
   ]
  },
  {
   "cell_type": "code",
   "execution_count": null,
   "id": "2790861f-a64c-4e17-89cb-14bf8af55d67",
   "metadata": {},
   "outputs": [],
   "source": [
    "df[\"Ticket ID\"].value_counts().sort_values(ascending=False).head(1)"
   ]
  },
  {
   "cell_type": "markdown",
   "id": "9db8d4ef-9643-44a1-9d7e-bdb79b37f010",
   "metadata": {},
   "source": [
    "Clearly no duplicate values. Discarding Column #0 \"Ticket ID.\""
   ]
  },
  {
   "cell_type": "code",
   "execution_count": null,
   "id": "fbfa7a45-d7b7-4fa6-b3da-c8f243a6b17c",
   "metadata": {},
   "outputs": [],
   "source": [
    "df.drop(columns=\"Ticket ID\", inplace=True)"
   ]
  },
  {
   "cell_type": "markdown",
   "id": "59516305-fd1b-4af4-b8ad-4adcf6d40f63",
   "metadata": {},
   "source": [
    "<br/>Column #1 \"Ticket Created\": This column represents when the ticket was created in GMT time. This will be imported into GMT time and then converted to EST (FCC headquarters and our time zone). Also, we don't need seconds information."
   ]
  },
  {
   "cell_type": "code",
   "execution_count": null,
   "id": "c0e10a98-f4e2-4dc7-a76d-6af75f3564a0",
   "metadata": {},
   "outputs": [],
   "source": [
    "def _convert_to_EST_or_nan(ts_str: str):\n",
    "    try:\n",
    "        ts = pd.to_datetime(ts_str)\n",
    "        ts = ts.tz_convert(\"US/Eastern\")\n",
    "        ts = ts.floor('Min')\n",
    "        return ts\n",
    "    except:\n",
    "        return pd.NaT\n",
    "    \n",
    "df[\"Ticket Created\"] = df[\"Ticket Created\"].apply(_convert_to_EST_or_nan)\n",
    "df = df[df[\"Ticket Created\"].notnull()]"
   ]
  },
  {
   "cell_type": "code",
   "execution_count": null,
   "id": "1d6ca47b-44f2-4422-9498-b0bdb976b385",
   "metadata": {},
   "outputs": [],
   "source": [
    "df[\"Ticket Created\"].head()"
   ]
  },
  {
   "cell_type": "markdown",
   "id": "c69cbd44-06ff-496f-b420-da7c9dbf460c",
   "metadata": {},
   "source": [
    "<br/>Column #2 \"Date of Issue\": This column represents the date when the user actually experienced the issue. The consumer zip code will be mapped to a time zone, to which a particular date will be mapped to. *I will return to this once I have processed the consumer time zone information.*<sup>2</sup>"
   ]
  },
  {
   "cell_type": "markdown",
   "id": "62f65341-4440-4ffe-b98d-bc1626467e7f",
   "metadata": {},
   "source": [
    "<br/>Column #3 \"Time of Issue\": This column represents the time when the user actually experienced the issue. This information appears to be too specific for our analysis.<sup>2</sup>"
   ]
  },
  {
   "cell_type": "code",
   "execution_count": null,
   "id": "7087f5f8-3b26-47d0-88d3-41d00fa8b726",
   "metadata": {},
   "outputs": [],
   "source": [
    "df.drop(columns=\"Time of Issue\", inplace=True)"
   ]
  },
  {
   "cell_type": "markdown",
   "id": "2ec942d2-041a-4418-8232-fdfe046f4909",
   "metadata": {},
   "source": [
    "<br/>Column #4 \"Form\": This represents the method through which the consumers were contacted by the reported caller. These should all be \"Phone\"; we don't need it.<sup>2</sup>"
   ]
  },
  {
   "cell_type": "code",
   "execution_count": null,
   "id": "98b84f10-a04a-4ae4-8e98-817d2b0d9889",
   "metadata": {},
   "outputs": [],
   "source": [
    "df[\"Form\"].value_counts()"
   ]
  },
  {
   "cell_type": "code",
   "execution_count": null,
   "id": "7f721fac-2b27-40bf-b794-b282c4e0aad3",
   "metadata": {},
   "outputs": [],
   "source": [
    "df.drop(columns=\"Form\", inplace=True)"
   ]
  },
  {
   "cell_type": "markdown",
   "id": "63f7f997-f2ca-4c39-8055-6dee9e0d3af3",
   "metadata": {},
   "source": [
    "<br/>Column #5 \"Method\": How the reported caller contacted the consumer.<sup>2</sup>"
   ]
  },
  {
   "cell_type": "code",
   "execution_count": null,
   "id": "a5d6ad21-a920-40f7-9034-a71b9794a2b1",
   "metadata": {},
   "outputs": [],
   "source": [
    "df[\"Method\"] = pd.Categorical(df[\"Method\"], ordered=False)"
   ]
  },
  {
   "cell_type": "code",
   "execution_count": null,
   "id": "06777740-155c-4c71-9ab8-9d8edc36b0b1",
   "metadata": {},
   "outputs": [],
   "source": [
    "df[\"Method\"].head()"
   ]
  },
  {
   "cell_type": "markdown",
   "id": "37356e8d-56c0-420b-a92d-57e9e414b39d",
   "metadata": {},
   "source": [
    "There are three possibilities (nominal) categories: Internet (VOIP), which is something like Google Voice, wired, which is a landline, and wireless, which is a cell phone.<sup>2</sup>"
   ]
  },
  {
   "cell_type": "markdown",
   "id": "22aa0f54-7150-4d46-912a-317d48d3a4a8",
   "metadata": {},
   "source": [
    "<br/>Column #6 \"Issue\": "
   ]
  },
  {
   "cell_type": "code",
   "execution_count": null,
   "id": "22e72acd-9c2d-4b60-b057-b77472f86acd",
   "metadata": {},
   "outputs": [],
   "source": [
    "df[\"Issue\"] = pd.Categorical(df[\"Issue\"], ordered=False)"
   ]
  },
  {
   "cell_type": "code",
   "execution_count": null,
   "id": "805f7ff2-9a12-40e0-a9ca-d616f6f337d7",
   "metadata": {},
   "outputs": [],
   "source": [
    "df[\"Issue\"].head()"
   ]
  },
  {
   "cell_type": "markdown",
   "id": "5ada102c-a92d-4b71-9181-8ceae76a54ab",
   "metadata": {},
   "source": [
    "Looking close at the FCC descriptions of the different attributes, robocalls and telemarketing are currently being marked as unwanted calls instead of those two categories; hence, the values in this column are not consistent throughout across the reports/over time. This column will be removed, and the data set will be considered as containing data that represents reports of 'unwanted/spam' calls.<sup>2</sup>"
   ]
  },
  {
   "cell_type": "markdown",
   "id": "7cffd62f-2fa3-4805-b2d9-b0768479e00e",
   "metadata": {},
   "source": [
    "<br/>Column #7 \"Caller ID Number\": number (of reported call from corresponding unwanted caller) that appeared on the consumer's caller ID<sup>2</sup>\n",
    "\n",
    "We will use the Python wrapper of google's phonenumbers library.<sup>3</sup>\n",
    "\n",
    "Per \"Please enter the phone number in the following format 555-555-5555\" instructions on the FCC complaint form, all numbers are assumed to be USA, which makes sense since the FCC is a USA regulatory body which has jurisdiction in the USA.<sup>4</sup>"
   ]
  },
  {
   "cell_type": "code",
   "execution_count": null,
   "id": "fd1e0589-baf0-4e33-bb44-d06fe1a78c7e",
   "metadata": {},
   "outputs": [],
   "source": [
    "def _parse_ph_number(ph_num: str):\n",
    "    try:\n",
    "        ph_num = str(ph_num)\n",
    "        ph_num_parsed = phonenumbers.parse(ph_num, \"US\")\n",
    "    except phonenumbers.NumberParseException: \n",
    "        print(ph_num)\n",
    "        return np.NaN\n",
    "    if not phonenumbers.is_possible_number(ph_num_parsed):\n",
    "        print(2)\n",
    "        return np.NaN\n",
    "    if not phonenumbers.is_valid_number(ph_num_parsed):\n",
    "        print(3)\n",
    "        return np.NaN\n",
    "    return ph_num_parsed"
   ]
  },
  {
   "cell_type": "code",
   "execution_count": null,
   "id": "031e3a1a-86d6-4bc0-babe-6decc1758e9a",
   "metadata": {},
   "outputs": [],
   "source": [
    "%%capture \n",
    "# %%capture to not print the slew of lines that comes out with phonenumbers methods\n",
    "# for whatever reason (there are some patches that need to be resolved with\n",
    "# wrapping the Google Java library in Python)\n",
    "df[\"Caller ID Number\"] = \\\n",
    "df[\"Caller ID Number\"].apply(_parse_ph_number);"
   ]
  },
  {
   "cell_type": "code",
   "execution_count": null,
   "id": "88bae013-5f53-4331-8b49-1cddf667ceba",
   "metadata": {},
   "outputs": [],
   "source": [
    "df = df[df[\"Caller ID Number\"].notnull()] "
   ]
  },
  {
   "cell_type": "code",
   "execution_count": null,
   "id": "7412df90-c53f-40b3-a4f9-84de2393cc86",
   "metadata": {},
   "outputs": [],
   "source": [
    "df[\"Caller ID Number\"].head()"
   ]
  },
  {
   "cell_type": "markdown",
   "id": "ff03d34e-5b08-4a3d-935c-bd12ce9fff71",
   "metadata": {},
   "source": [
    "<br/>Column #8 \"Type of Call or Messge\": The type of the call (or message) received. Live voice? Prerecorded message? Text message?"
   ]
  },
  {
   "cell_type": "code",
   "execution_count": null,
   "id": "b74fbca2-e660-45ef-836b-061b308cc83b",
   "metadata": {},
   "outputs": [],
   "source": [
    "df[\"Type of Call or Messge\"] = pd.Categorical(df[\"Type of Call or Messge\"], ordered=False)"
   ]
  },
  {
   "cell_type": "code",
   "execution_count": null,
   "id": "937a9590-0509-4492-8b28-c4755f187a1b",
   "metadata": {},
   "outputs": [],
   "source": [
    "df[\"Type of Call or Messge\"].head()"
   ]
  },
  {
   "cell_type": "markdown",
   "id": "bd89f937-61a9-4b19-b250-a4875ce6c860",
   "metadata": {},
   "source": [
    "<br/>Column #9 \"Advertiser Business Number\": The number of the advertiser that the caller claims to be associated with."
   ]
  },
  {
   "cell_type": "code",
   "execution_count": null,
   "id": "499e3b8e-ed49-4a5c-ac4a-737fa21e3747",
   "metadata": {},
   "outputs": [],
   "source": [
    "%%capture \n",
    "# %%capture to not print the slew of lines that comes out with phonenumbers methods\n",
    "# for whatever reason (there are some patches that need to be resolved with\n",
    "# wrapping the Google Java library in Python)\n",
    "df[\"Advertiser Business Number\"] = \\\n",
    "df[\"Advertiser Business Number\"].apply(_parse_ph_number);"
   ]
  },
  {
   "cell_type": "markdown",
   "id": "e9e08c89-f45a-441b-8769-a9a060789cf8",
   "metadata": {},
   "source": [
    "Not every caller provides a business number which they're associated with. We do not need to remove all of the observations that had NaN values for this attribute."
   ]
  },
  {
   "cell_type": "code",
   "execution_count": null,
   "id": "d56ba8fe-bd56-45f1-a9c9-7723608640c0",
   "metadata": {},
   "outputs": [],
   "source": [
    "df[\"Advertiser Business Number\"].head()"
   ]
  },
  {
   "cell_type": "markdown",
   "id": "036bfd26-afd6-41a9-978b-2fdb07c669a7",
   "metadata": {},
   "source": [
    "<br/>Column #10 \"State\": State in which the reporting consumer resides in<sup>2</sup>"
   ]
  },
  {
   "cell_type": "code",
   "execution_count": null,
   "id": "37f75ac2-373e-4c92-a7dd-7c9887997b46",
   "metadata": {},
   "outputs": [],
   "source": [
    "def _validate_state(state_ab: str):\n",
    "    try:\n",
    "        if us.states.lookup(state_ab) in us.states.STATES:\n",
    "            return state_ab\n",
    "        else:\n",
    "            return np.NaN\n",
    "    except: # if np.NaN, for example\n",
    "        return np.NaN"
   ]
  },
  {
   "cell_type": "markdown",
   "id": "ff0c7ffc-8c60-4e70-a1c8-14bf92dc7092",
   "metadata": {},
   "source": [
    "```us``` documentation<sup>6</sup>"
   ]
  },
  {
   "cell_type": "code",
   "execution_count": null,
   "id": "6cbe9de3-ab78-496d-8cd6-2eb7c066567e",
   "metadata": {},
   "outputs": [],
   "source": [
    "df[\"State\"] = df[\"State\"].apply(_validate_state)"
   ]
  },
  {
   "cell_type": "markdown",
   "id": "eba22693-d656-4a5f-83d1-c04af3910f17",
   "metadata": {},
   "source": [
    "We don't have to eliminate observations without valid state abbreviations. Perhaps we can extrapolate the state of the customer from their area code, i.e. the phone number that received the call."
   ]
  },
  {
   "cell_type": "code",
   "execution_count": null,
   "id": "1118c747-2c10-4d78-9e02-18825d8a2247",
   "metadata": {},
   "outputs": [],
   "source": [
    "df[\"State\"] = pd.Categorical(df[\"State\"], ordered=False)"
   ]
  },
  {
   "cell_type": "markdown",
   "id": "e6cbce0f-be19-4442-8ce9-3fd682e96a13",
   "metadata": {},
   "source": [
    "State abbreviations are values within a nominal variable."
   ]
  },
  {
   "cell_type": "code",
   "execution_count": null,
   "id": "2ad05759-e864-4d81-9ef4-8417b23092fc",
   "metadata": {},
   "outputs": [],
   "source": [
    "df[\"State\"].head()"
   ]
  },
  {
   "cell_type": "markdown",
   "id": "c83bee00-0e72-4fd7-b6ee-425a70ec3181",
   "metadata": {},
   "source": [
    "We have each of the 50 states covered in our data sample. Yay!"
   ]
  },
  {
   "cell_type": "markdown",
   "id": "6e1c1e6c-84c8-4a87-bbcd-9b40237e4172",
   "metadata": {},
   "source": [
    "<br/>Column #11 \"Zip\": The zip code of where the consumer resides<sup>2</sup>"
   ]
  },
  {
   "cell_type": "markdown",
   "id": "22f76833-3e45-4e61-ab1e-1a22651867c8",
   "metadata": {},
   "source": [
    "Because we don't need all of the vast amount that this package provides *at the moment*, given that the latitude, longitude, state information is already given in our data set, we will start by using the simple version of the backend database provided by the ```uszipcode``` package."
   ]
  },
  {
   "cell_type": "code",
   "execution_count": null,
   "id": "b5fb1874-7139-4484-94a7-89f440b59f1b",
   "metadata": {
    "scrolled": true,
    "tags": []
   },
   "outputs": [],
   "source": [
    "search = SearchEngine(simple_zipcode=True, db_file_dir=\"../data/zip_data_raw\")"
   ]
  },
  {
   "cell_type": "code",
   "execution_count": null,
   "id": "cb49d19e-1a65-4ee2-ab42-dc5eea8a6e14",
   "metadata": {},
   "outputs": [],
   "source": [
    "df = df_raw.sample(frac=0.01).copy(deep=True)"
   ]
  },
  {
   "cell_type": "code",
   "execution_count": null,
   "id": "248af789-1435-4103-b590-701e400e3cf1",
   "metadata": {},
   "outputs": [],
   "source": [
    "def _validate_and_get_info_zipcode(zip: str):\n",
    "    try:\n",
    "        zip_obj = search.by_zipcode(zip)\n",
    "        if zip_obj.zipcode is None:\n",
    "            return np.NaN\n",
    "        return zip_obj\n",
    "    except:\n",
    "        return np.NaN"
   ]
  },
  {
   "cell_type": "code",
   "execution_count": null,
   "id": "e684c387-494b-45b3-af3a-617ca34b4238",
   "metadata": {},
   "outputs": [],
   "source": [
    "df[\"Zip Info\"] = df[\"Zip\"].apply(_validate_and_get_info_zipcode)"
   ]
  },
  {
   "cell_type": "markdown",
   "id": "bec3552e-cbb1-4655-9a8b-d153fc4ae909",
   "metadata": {},
   "source": [
    "We will now remove all entries with invalid ZIP Codes. We will be using the ZIP Code objects, which are now stored in the \"Zip Info\" column (newly created column), to also store otherr information associated with the Zip Code, such as latitude and longitude information; this way, the information is consolidated within the SimpleZipcode object. Plus, we can avoid painfully parsing \"Location...\" column (next column), keep the data consistent within the uszipcode package (information all from one database), and verify the validity of the latitude/longitude data all at the same time through the SimpleZipcode object."
   ]
  },
  {
   "cell_type": "code",
   "execution_count": null,
   "id": "4df3030a-a1a2-40fb-b455-1b3df1a8606a",
   "metadata": {},
   "outputs": [],
   "source": [
    "df = df[df[\"Zip Info\"]!=np.NaN]"
   ]
  },
  {
   "cell_type": "markdown",
   "id": "3dd8f0f6-30d1-4e96-a11b-1673ae3c7bbb",
   "metadata": {},
   "source": [
    "A zip code is technically a nominal variable (even though there may be *many* of them). We can perhaps sort the data sample by a zip code category to understand which zip codes had the most reports, for instance. Making the Zip Info column into a Categorical may not make sense if the pd.Categorical method does not pick up on two different objects potentially being the same if their contents are the same. For simplicity, the Zip Info column will not be converted into a pd.Categorical."
   ]
  },
  {
   "cell_type": "code",
   "execution_count": null,
   "id": "5c1bde75-52f3-454a-b188-d25247f1184b",
   "metadata": {},
   "outputs": [],
   "source": [
    "df[\"Zip\"] = pd.Categorical(df[\"Zip\"], ordered=False)"
   ]
  },
  {
   "cell_type": "code",
   "execution_count": null,
   "id": "59bf6bdb-5133-44a1-887a-805c6bbc58ad",
   "metadata": {},
   "outputs": [],
   "source": [
    "df[\"Zip\"].head()"
   ]
  },
  {
   "cell_type": "markdown",
   "id": "2f1d4038-35fa-43a7-88e3-642f0d655d9f",
   "metadata": {},
   "source": [
    "```uszipcode``` documentation<sup>5</sup>"
   ]
  },
  {
   "cell_type": "markdown",
   "id": "04346d9f-ed90-4fc1-ba7b-ae6219c8d2aa",
   "metadata": {},
   "source": [
    "<br/>Column #12 \"Location (Center point of the Zip Code)\": center of the zip code, not by consumer's address or anything specifically (data set maintains consumer privacy, which is the ethical thing to do and is solid computer science research ethics)<sup>2</sup>"
   ]
  },
  {
   "cell_type": "markdown",
   "id": "7ecb432c-84dd-4237-ba89-72580455ad33",
   "metadata": {},
   "source": [
    "Per the explanation above, I am removing this column.<br/>\n",
    "*\"We will be using the ZIP Code objects, which are now stored in the \"Zip Info\" column (newly created column), to also store otherr information associated with the Zip Code, such as latitude and longitude information; this way, the information is consolidated within the SimpleZipcode object. Plus, we can avoid painfully parsing \"Location...\" column (next column), keep the data consistent within the uszipcode package (information all from one database), and verify the validity of the latitude/longitude data all at the same time through the SimpleZipcode object.\"*"
   ]
  },
  {
   "cell_type": "code",
   "execution_count": null,
   "id": "20e51053-62b7-4fcf-bef6-4955381afc17",
   "metadata": {},
   "outputs": [],
   "source": [
    "df.drop(columns=\"Location (Center point of the Zip Code)\", inplace=True)"
   ]
  },
  {
   "cell_type": "markdown",
   "id": "2582d6e5-3706-4515-8985-8f1f8385fe6f",
   "metadata": {},
   "source": [
    "<br/>All in all (after initial preprocessing of columns):"
   ]
  },
  {
   "cell_type": "code",
   "execution_count": null,
   "id": "b9496326-6830-42ea-97bc-f5079c32669e",
   "metadata": {},
   "outputs": [],
   "source": [
    "df.head()"
   ]
  },
  {
   "cell_type": "markdown",
   "id": "0e063356-4d0e-4c1d-b57a-ff572d27feea",
   "metadata": {},
   "source": [
    "### References\n",
    "1. Data from https://data.world/kgarrett/unwanted-calls\n",
    "2. Verified description of the variable using https://opendata.fcc.gov/Consumer/Consumer-Complaints-Data-Unwanted-Calls/vakf-fz8e\n",
    "3. Python wrapper of Google's ```phonenumbers``` library (documentation): https://pypi.org/project/phonenumbers/\n",
    "4. FCC unwanted call complaint form: https://consumercomplaints.fcc.gov/hc/en-us/requests/new?ticket_form_id=39744\n",
    "5. ```uszipcode``` documentation: https://pypi.org/project/uszipcode/\n",
    "6. ```us``` documentation: https://pypi.org/project/us/"
   ]
  },
  {
   "cell_type": "code",
   "execution_count": null,
   "id": "14d051ba-8b5d-4e1c-b263-ce788fd63c02",
   "metadata": {},
   "outputs": [],
   "source": []
  }
 ],
 "metadata": {
  "kernelspec": {
   "display_name": "Python 3",
   "language": "python",
   "name": "python3"
  },
  "language_info": {
   "codemirror_mode": {
    "name": "ipython",
    "version": 3
   },
   "file_extension": ".py",
   "mimetype": "text/x-python",
   "name": "python",
   "nbconvert_exporter": "python",
   "pygments_lexer": "ipython3",
   "version": "3.8.8"
  }
 },
 "nbformat": 4,
 "nbformat_minor": 5
}
