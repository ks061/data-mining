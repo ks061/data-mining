{
 "cells": [
  {
   "cell_type": "markdown",
   "id": "a950db90-cc1f-40b8-9e94-9476d84c5180",
   "metadata": {},
   "source": [
    "# Final Project\n",
    "\n",
    "Name: Kartikeya Sharma <br/>Class: CSCI 349 - Intro to Data Mining  \n",
    "Semester: Spring 2021  \n",
    "Instructor: Brian King  "
   ]
  },
  {
   "cell_type": "markdown",
   "id": "d101627f-fabc-40ea-aaed-fbde1f346ee4",
   "metadata": {},
   "source": [
    "### Installations"
   ]
  },
  {
   "cell_type": "markdown",
   "id": "6bcaf051-7ecf-4a07-900c-eda53fa52634",
   "metadata": {},
   "source": [
    "```conda install phonenumbers``` # Python wrapper for Google's phone numbers API"
   ]
  },
  {
   "cell_type": "markdown",
   "id": "fe9fbad8-cdd2-47b3-8096-f143360a318a",
   "metadata": {},
   "source": [
    "### Imports"
   ]
  },
  {
   "cell_type": "code",
   "execution_count": 24,
   "id": "ab89d3d4-0303-4f2a-8006-1f87cb049658",
   "metadata": {},
   "outputs": [
    {
     "name": "stdout",
     "output_type": "stream",
     "text": [
      "CPU times: user 2 µs, sys: 0 ns, total: 2 µs\n",
      "Wall time: 5.01 µs\n"
     ]
    }
   ],
   "source": [
    "%time\n",
    "import numpy as np\n",
    "import pandas as pd\n",
    "import seaborn as sns\n",
    "import matplotlib.pyplot as plt\n",
    "\n",
    "from  matplotlib.ticker import PercentFormatter\n",
    "from sklearn.model_selection import train_test_split, KFold\n",
    "from sklearn.utils import shuffle\n",
    "from sklearn.metrics import classification_report, confusion_matrix, f1_score\n",
    "from sklearn.model_selection import cross_validate, cross_val_predict\n",
    "from sklearn.model_selection import GridSearchCV\n",
    "\n",
    "from sklearn.preprocessing import StandardScaler\n",
    "from sklearn.tree import DecisionTreeClassifier\n",
    "\n",
    "import tensorflow as tf\n",
    "from tensorflow import keras\n",
    "from tensorflow.keras import Input, Model\n",
    "from tensorflow.keras.layers import Dense, Activation\n",
    "from tensorflow.keras.optimizers import Adam, SGD\n",
    "from scikeras.wrappers import KerasClassifier"
   ]
  },
  {
   "cell_type": "code",
   "execution_count": 2,
   "id": "31432c7e-a052-4895-a18d-b8102061f878",
   "metadata": {},
   "outputs": [],
   "source": [
    "import phonenumbers\n",
    "import sys, os # for turning print on and off"
   ]
  },
  {
   "cell_type": "code",
   "execution_count": 26,
   "id": "be104950-19ab-468c-9c08-59828f927c41",
   "metadata": {},
   "outputs": [
    {
     "name": "stdout",
     "output_type": "stream",
     "text": [
      "CPU times: user 1.18 s, sys: 95.9 ms, total: 1.28 s\n",
      "Wall time: 1.28 s\n"
     ]
    }
   ],
   "source": [
    "%time df_raw = pd.read_csv(\\\n",
    "\"../data/Consumer_Complaints_Data_-_Unwanted_Calls_raw.csv\"\\\n",
    ")"
   ]
  },
  {
   "cell_type": "code",
   "execution_count": 27,
   "id": "afc8c008-5215-4b10-820c-422d98c138dc",
   "metadata": {},
   "outputs": [],
   "source": [
    "df = df_raw.sample(frac=0.01).copy(deep=True)"
   ]
  },
  {
   "cell_type": "markdown",
   "id": "38db2a76-cda5-4c52-b7f3-2f485d67a0ae",
   "metadata": {},
   "source": [
    "Data from https://data.world/kgarrett/unwanted-calls<sup>1</sup>"
   ]
  },
  {
   "cell_type": "markdown",
   "id": "50826f62-383b-4b46-b879-beef731c0e4e",
   "metadata": {},
   "source": [
    "### Step 1: Pre-Processing"
   ]
  },
  {
   "cell_type": "markdown",
   "id": "4b6178bd-5cb5-45de-9747-f39ced0492f7",
   "metadata": {},
   "source": [
    "#### Step 1.0 Inspect Data at a Macro Level"
   ]
  },
  {
   "cell_type": "code",
   "execution_count": 28,
   "id": "3d691bda-dbf8-44dd-80d3-a6837b1813b2",
   "metadata": {},
   "outputs": [
    {
     "name": "stdout",
     "output_type": "stream",
     "text": [
      "<class 'pandas.core.frame.DataFrame'>\n",
      "Int64Index: 4263 entries, 73412 to 301999\n",
      "Data columns (total 13 columns):\n",
      " #   Column                                   Non-Null Count  Dtype \n",
      "---  ------                                   --------------  ----- \n",
      " 0   Ticket ID                                4263 non-null   int64 \n",
      " 1   Ticket Created                           4263 non-null   object\n",
      " 2   Date of Issue                            4240 non-null   object\n",
      " 3   Time of Issue                            3209 non-null   object\n",
      " 4   Form                                     4263 non-null   object\n",
      " 5   Method                                   4252 non-null   object\n",
      " 6   Issue                                    4263 non-null   object\n",
      " 7   Caller ID Number                         3400 non-null   object\n",
      " 8   Type of Call or Messge                   4237 non-null   object\n",
      " 9   Advertiser Business Number               1781 non-null   object\n",
      " 10  State                                    4262 non-null   object\n",
      " 11  Zip                                      4263 non-null   object\n",
      " 12  Location (Center point of the Zip Code)  4262 non-null   object\n",
      "dtypes: int64(1), object(12)\n",
      "memory usage: 466.3+ KB\n"
     ]
    }
   ],
   "source": [
    "df.info()"
   ]
  },
  {
   "cell_type": "code",
   "execution_count": 29,
   "id": "a0c9fb88-7c5a-460b-b446-57b8068d9ca4",
   "metadata": {},
   "outputs": [
    {
     "data": {
      "text/html": [
       "<div>\n",
       "<style scoped>\n",
       "    .dataframe tbody tr th:only-of-type {\n",
       "        vertical-align: middle;\n",
       "    }\n",
       "\n",
       "    .dataframe tbody tr th {\n",
       "        vertical-align: top;\n",
       "    }\n",
       "\n",
       "    .dataframe thead th {\n",
       "        text-align: right;\n",
       "    }\n",
       "</style>\n",
       "<table border=\"1\" class=\"dataframe\">\n",
       "  <thead>\n",
       "    <tr style=\"text-align: right;\">\n",
       "      <th></th>\n",
       "      <th>Ticket ID</th>\n",
       "      <th>Ticket Created</th>\n",
       "      <th>Date of Issue</th>\n",
       "      <th>Time of Issue</th>\n",
       "      <th>Form</th>\n",
       "      <th>Method</th>\n",
       "      <th>Issue</th>\n",
       "      <th>Caller ID Number</th>\n",
       "      <th>Type of Call or Messge</th>\n",
       "      <th>Advertiser Business Number</th>\n",
       "      <th>State</th>\n",
       "      <th>Zip</th>\n",
       "      <th>Location (Center point of the Zip Code)</th>\n",
       "    </tr>\n",
       "  </thead>\n",
       "  <tbody>\n",
       "    <tr>\n",
       "      <th>73412</th>\n",
       "      <td>971417</td>\n",
       "      <td>05/11/2016 01:57:31 PM +0000</td>\n",
       "      <td>05/11/2016</td>\n",
       "      <td>8:45 am</td>\n",
       "      <td>Phone</td>\n",
       "      <td>Wireless (cell phone/other mobile device)</td>\n",
       "      <td>Telemarketing (including do not call and spoof...</td>\n",
       "      <td>305-587-2982</td>\n",
       "      <td>Live Voice</td>\n",
       "      <td>NaN</td>\n",
       "      <td>VA</td>\n",
       "      <td>22191</td>\n",
       "      <td>VA 22191\\n(38.627945, -77.272331)</td>\n",
       "    </tr>\n",
       "    <tr>\n",
       "      <th>424582</th>\n",
       "      <td>1750185</td>\n",
       "      <td>07/01/2017 07:25:48 PM +0000</td>\n",
       "      <td>06/30/2017</td>\n",
       "      <td>11:46 A.M.</td>\n",
       "      <td>Phone</td>\n",
       "      <td>Wired</td>\n",
       "      <td>Unwanted Calls</td>\n",
       "      <td>219-696-4928</td>\n",
       "      <td>Live Voice</td>\n",
       "      <td>219-696-4928</td>\n",
       "      <td>IN</td>\n",
       "      <td>46356</td>\n",
       "      <td>IN 46356\\n(41.268847, -87.420272)</td>\n",
       "    </tr>\n",
       "    <tr>\n",
       "      <th>329486</th>\n",
       "      <td>568291</td>\n",
       "      <td>10/04/2015 02:00:46 AM +0000</td>\n",
       "      <td>10/03/2015</td>\n",
       "      <td>8:31 a.m.</td>\n",
       "      <td>Phone</td>\n",
       "      <td>Wired</td>\n",
       "      <td>Telemarketing (including do not call and spoof...</td>\n",
       "      <td>832-615-8408</td>\n",
       "      <td>Live Voice</td>\n",
       "      <td>NaN</td>\n",
       "      <td>CA</td>\n",
       "      <td>95624</td>\n",
       "      <td>CA 95624\\n(38.427382, -121.347323)</td>\n",
       "    </tr>\n",
       "    <tr>\n",
       "      <th>358777</th>\n",
       "      <td>1395977</td>\n",
       "      <td>01/13/2017 08:10:55 PM +0000</td>\n",
       "      <td>01/11/2017</td>\n",
       "      <td>NaN</td>\n",
       "      <td>Phone</td>\n",
       "      <td>Wireless (cell phone/other mobile device)</td>\n",
       "      <td>Unwanted Calls</td>\n",
       "      <td>740-990-8156</td>\n",
       "      <td>Live Voice</td>\n",
       "      <td>None</td>\n",
       "      <td>WA</td>\n",
       "      <td>98204</td>\n",
       "      <td>WA 98204\\n(47.899424, -122.255648)</td>\n",
       "    </tr>\n",
       "    <tr>\n",
       "      <th>89070</th>\n",
       "      <td>153613</td>\n",
       "      <td>02/27/2015 06:22:43 PM +0000</td>\n",
       "      <td>02/27/2015</td>\n",
       "      <td>11:00 A.M.</td>\n",
       "      <td>Phone</td>\n",
       "      <td>Wireless (cell phone/other mobile device)</td>\n",
       "      <td>Telemarketing (including do not call and spoof...</td>\n",
       "      <td>NaN</td>\n",
       "      <td>Live Voice</td>\n",
       "      <td>NaN</td>\n",
       "      <td>NY</td>\n",
       "      <td>10044</td>\n",
       "      <td>NY 10044\\n(40.761127, -73.950758)</td>\n",
       "    </tr>\n",
       "  </tbody>\n",
       "</table>\n",
       "</div>"
      ],
      "text/plain": [
       "        Ticket ID                Ticket Created Date of Issue Time of Issue  \\\n",
       "73412      971417  05/11/2016 01:57:31 PM +0000    05/11/2016       8:45 am   \n",
       "424582    1750185  07/01/2017 07:25:48 PM +0000    06/30/2017    11:46 A.M.   \n",
       "329486     568291  10/04/2015 02:00:46 AM +0000    10/03/2015     8:31 a.m.   \n",
       "358777    1395977  01/13/2017 08:10:55 PM +0000    01/11/2017           NaN   \n",
       "89070      153613  02/27/2015 06:22:43 PM +0000    02/27/2015    11:00 A.M.   \n",
       "\n",
       "         Form                                     Method  \\\n",
       "73412   Phone  Wireless (cell phone/other mobile device)   \n",
       "424582  Phone                                      Wired   \n",
       "329486  Phone                                      Wired   \n",
       "358777  Phone  Wireless (cell phone/other mobile device)   \n",
       "89070   Phone  Wireless (cell phone/other mobile device)   \n",
       "\n",
       "                                                    Issue Caller ID Number  \\\n",
       "73412   Telemarketing (including do not call and spoof...     305-587-2982   \n",
       "424582                                     Unwanted Calls     219-696-4928   \n",
       "329486  Telemarketing (including do not call and spoof...     832-615-8408   \n",
       "358777                                     Unwanted Calls     740-990-8156   \n",
       "89070   Telemarketing (including do not call and spoof...              NaN   \n",
       "\n",
       "       Type of Call or Messge Advertiser Business Number State    Zip  \\\n",
       "73412              Live Voice                        NaN    VA  22191   \n",
       "424582             Live Voice               219-696-4928    IN  46356   \n",
       "329486             Live Voice                        NaN    CA  95624   \n",
       "358777             Live Voice                       None    WA  98204   \n",
       "89070              Live Voice                        NaN    NY  10044   \n",
       "\n",
       "       Location (Center point of the Zip Code)  \n",
       "73412        VA 22191\\n(38.627945, -77.272331)  \n",
       "424582       IN 46356\\n(41.268847, -87.420272)  \n",
       "329486      CA 95624\\n(38.427382, -121.347323)  \n",
       "358777      WA 98204\\n(47.899424, -122.255648)  \n",
       "89070        NY 10044\\n(40.761127, -73.950758)  "
      ]
     },
     "execution_count": 29,
     "metadata": {},
     "output_type": "execute_result"
    }
   ],
   "source": [
    "df.head()"
   ]
  },
  {
   "cell_type": "markdown",
   "id": "8d8308ee-9c88-4da3-a07f-4b9e3c9ab207",
   "metadata": {},
   "source": [
    "#### Step 1.1: Discard, Format, Downsize Each Column"
   ]
  },
  {
   "cell_type": "markdown",
   "id": "8ae42f01-dc0e-4133-96e8-cbb3086819ff",
   "metadata": {},
   "source": [
    "Column #0 \"Ticket ID\": Unless there are some duplicate ticket values that should be looked into further, I intend on discarding them.<sup>2</sup>"
   ]
  },
  {
   "cell_type": "code",
   "execution_count": 30,
   "id": "2790861f-a64c-4e17-89cb-14bf8af55d67",
   "metadata": {},
   "outputs": [
    {
     "data": {
      "text/plain": [
       "1533953    1\n",
       "Name: Ticket ID, dtype: int64"
      ]
     },
     "execution_count": 30,
     "metadata": {},
     "output_type": "execute_result"
    }
   ],
   "source": [
    "df[\"Ticket ID\"].value_counts().sort_values(ascending=False).head(1)"
   ]
  },
  {
   "cell_type": "markdown",
   "id": "9db8d4ef-9643-44a1-9d7e-bdb79b37f010",
   "metadata": {},
   "source": [
    "Clearly no duplicate values. Discarding Column #0 \"Ticket ID.\""
   ]
  },
  {
   "cell_type": "code",
   "execution_count": 31,
   "id": "fbfa7a45-d7b7-4fa6-b3da-c8f243a6b17c",
   "metadata": {},
   "outputs": [],
   "source": [
    "df.drop(columns=\"Ticket ID\", inplace=True)"
   ]
  },
  {
   "cell_type": "markdown",
   "id": "59516305-fd1b-4af4-b8ad-4adcf6d40f63",
   "metadata": {},
   "source": [
    "<br/>Column #1 \"Ticket Created\": This column represents when the ticket was created in GMT time. This will be imported into GMT time and then converted to EST (FCC headquarters and our time zone). Also, we don't need seconds information."
   ]
  },
  {
   "cell_type": "code",
   "execution_count": 32,
   "id": "c0e10a98-f4e2-4dc7-a76d-6af75f3564a0",
   "metadata": {},
   "outputs": [],
   "source": [
    "def _convert_to_EST_or_nan(ts_str: str):\n",
    "    try:\n",
    "        ts = pd.to_datetime(ts_str)\n",
    "        ts = ts.tz_convert(\"US/Eastern\")\n",
    "        ts = ts.floor('Min')\n",
    "        return ts\n",
    "    except:\n",
    "        return pd.NaT\n",
    "    \n",
    "df[\"Ticket Created\"] = df[\"Ticket Created\"].apply(_convert_to_EST_or_nan)\n",
    "df = df[df[\"Ticket Created\"].notnull()]\n",
    "df.index = df[\"Ticket Created\"]\n",
    "df.drop(columns=\"Ticket Created\", inplace=True)"
   ]
  },
  {
   "cell_type": "markdown",
   "id": "c69cbd44-06ff-496f-b420-da7c9dbf460c",
   "metadata": {},
   "source": [
    "<br/>Column #2 \"Date of Issue\": This column represents the date when the user actually experienced the issue. The consumer zip code will be mapped to a time zone, to which a particular date will be mapped to. *I will return to this once I have processed the consumer time zone information.*<sup>2</sup>"
   ]
  },
  {
   "cell_type": "markdown",
   "id": "62f65341-4440-4ffe-b98d-bc1626467e7f",
   "metadata": {},
   "source": [
    "<br/>Column #3 \"Time of Issue\": This column represents the time when the user actually experienced the issue. This information appears to be too specific for our analysis.<sup>2</sup>"
   ]
  },
  {
   "cell_type": "code",
   "execution_count": 33,
   "id": "7087f5f8-3b26-47d0-88d3-41d00fa8b726",
   "metadata": {},
   "outputs": [],
   "source": [
    "df.drop(columns=\"Time of Issue\", inplace=True)"
   ]
  },
  {
   "cell_type": "markdown",
   "id": "2ec942d2-041a-4418-8232-fdfe046f4909",
   "metadata": {},
   "source": [
    "<br/>Column #4 \"Form\": This represents the method through which the consumers were contacted by the reported caller. These should all be \"Phone\"; we don't need it.<sup>2</sup>"
   ]
  },
  {
   "cell_type": "code",
   "execution_count": 34,
   "id": "98b84f10-a04a-4ae4-8e98-817d2b0d9889",
   "metadata": {},
   "outputs": [
    {
     "data": {
      "text/plain": [
       "Phone    4263\n",
       "Name: Form, dtype: int64"
      ]
     },
     "execution_count": 34,
     "metadata": {},
     "output_type": "execute_result"
    }
   ],
   "source": [
    "df[\"Form\"].value_counts()"
   ]
  },
  {
   "cell_type": "code",
   "execution_count": 35,
   "id": "7f721fac-2b27-40bf-b794-b282c4e0aad3",
   "metadata": {},
   "outputs": [],
   "source": [
    "df.drop(columns=\"Form\", inplace=True)"
   ]
  },
  {
   "cell_type": "markdown",
   "id": "63f7f997-f2ca-4c39-8055-6dee9e0d3af3",
   "metadata": {},
   "source": [
    "<br/>Column #5 \"Method\": How the reported caller contacted the consumer.<sup>2</sup>"
   ]
  },
  {
   "cell_type": "code",
   "execution_count": 36,
   "id": "a5d6ad21-a920-40f7-9034-a71b9794a2b1",
   "metadata": {},
   "outputs": [],
   "source": [
    "df[\"Method\"] = pd.Categorical(df[\"Method\"], ordered=False)"
   ]
  },
  {
   "cell_type": "code",
   "execution_count": 37,
   "id": "06777740-155c-4c71-9ab8-9d8edc36b0b1",
   "metadata": {},
   "outputs": [
    {
     "data": {
      "text/plain": [
       "Index(['Internet (VOIP)', 'Wired',\n",
       "       'Wireless (cell phone/other mobile device)'],\n",
       "      dtype='object')"
      ]
     },
     "execution_count": 37,
     "metadata": {},
     "output_type": "execute_result"
    }
   ],
   "source": [
    "df[\"Method\"].cat.categories"
   ]
  },
  {
   "cell_type": "markdown",
   "id": "37356e8d-56c0-420b-a92d-57e9e414b39d",
   "metadata": {},
   "source": [
    "There are three possibilities (nominal) categories: Internet (VOIP), which is something like Google Voice, wired, which is a landline, and wireless, which is a cell phone.<sup>2</sup>"
   ]
  },
  {
   "cell_type": "markdown",
   "id": "22aa0f54-7150-4d46-912a-317d48d3a4a8",
   "metadata": {},
   "source": [
    "<br/>Column #6 \"Issue\": "
   ]
  },
  {
   "cell_type": "code",
   "execution_count": 38,
   "id": "22e72acd-9c2d-4b60-b057-b77472f86acd",
   "metadata": {},
   "outputs": [],
   "source": [
    "df[\"Issue\"] = pd.Categorical(df[\"Issue\"], ordered=False)"
   ]
  },
  {
   "cell_type": "code",
   "execution_count": 39,
   "id": "805f7ff2-9a12-40e0-a9ca-d616f6f337d7",
   "metadata": {},
   "outputs": [
    {
     "data": {
      "text/plain": [
       "Index(['Robocalls', 'Telemarketing (including do not call and spoofing)',\n",
       "       'Unwanted Calls'],\n",
       "      dtype='object')"
      ]
     },
     "execution_count": 39,
     "metadata": {},
     "output_type": "execute_result"
    }
   ],
   "source": [
    "df[\"Issue\"].cat.categories"
   ]
  },
  {
   "cell_type": "markdown",
   "id": "5ada102c-a92d-4b71-9181-8ceae76a54ab",
   "metadata": {},
   "source": [
    "Looking close at the FCC descriptions of the different attributes, robocalls and telemarketing are currently being marked as unwanted calls instead of those two categories; hence, the values in this column are not consistent throughout across the reports/over time. This column will be removed, and the data set will be considered as containing data that represents reports of 'unwanted/spam' calls.<sup>2</sup>"
   ]
  },
  {
   "cell_type": "markdown",
   "id": "7cffd62f-2fa3-4805-b2d9-b0768479e00e",
   "metadata": {},
   "source": [
    "<br/>Column #7 \"Caller ID Number\": number (of reported call from corresponding unwanted caller) that appeared on the consumer's caller ID\n",
    "\n",
    "We will use the Python wrapper of google's phonenumbers library.<sup>3</sup>\n",
    "\n",
    "Per \"Please enter the phone number in the following format 555-555-5555\" instructions on the FCC complaint form, all numbers are assumed to be USA, which makes sense since the FCC is a USA regulatory body which has jurisdiction in the USA.<sup>4</sup>"
   ]
  },
  {
   "cell_type": "code",
   "execution_count": 40,
   "id": "0596c977-fcb3-484f-be93-f88ae2639c03",
   "metadata": {},
   "outputs": [],
   "source": [
    "df = df_raw.sample(frac=0.01)"
   ]
  },
  {
   "cell_type": "code",
   "execution_count": 41,
   "id": "c4959795-b638-4729-bf90-00a919634fd4",
   "metadata": {},
   "outputs": [
    {
     "data": {
      "text/html": [
       "<div>\n",
       "<style scoped>\n",
       "    .dataframe tbody tr th:only-of-type {\n",
       "        vertical-align: middle;\n",
       "    }\n",
       "\n",
       "    .dataframe tbody tr th {\n",
       "        vertical-align: top;\n",
       "    }\n",
       "\n",
       "    .dataframe thead th {\n",
       "        text-align: right;\n",
       "    }\n",
       "</style>\n",
       "<table border=\"1\" class=\"dataframe\">\n",
       "  <thead>\n",
       "    <tr style=\"text-align: right;\">\n",
       "      <th></th>\n",
       "      <th>Ticket ID</th>\n",
       "      <th>Ticket Created</th>\n",
       "      <th>Date of Issue</th>\n",
       "      <th>Time of Issue</th>\n",
       "      <th>Form</th>\n",
       "      <th>Method</th>\n",
       "      <th>Issue</th>\n",
       "      <th>Caller ID Number</th>\n",
       "      <th>Type of Call or Messge</th>\n",
       "      <th>Advertiser Business Number</th>\n",
       "      <th>State</th>\n",
       "      <th>Zip</th>\n",
       "      <th>Location (Center point of the Zip Code)</th>\n",
       "    </tr>\n",
       "  </thead>\n",
       "  <tbody>\n",
       "    <tr>\n",
       "      <th>315571</th>\n",
       "      <td>1263348</td>\n",
       "      <td>10/13/2016 10:24:04 PM +0000</td>\n",
       "      <td>10/13/2016</td>\n",
       "      <td>3:15 PM</td>\n",
       "      <td>Phone</td>\n",
       "      <td>Wired</td>\n",
       "      <td>Robocalls</td>\n",
       "      <td>888-856-2755</td>\n",
       "      <td>Prerecorded Voice</td>\n",
       "      <td>888-856-2755</td>\n",
       "      <td>CA</td>\n",
       "      <td>94901</td>\n",
       "      <td>CA 94901\\n(37.973771, -122.51209)</td>\n",
       "    </tr>\n",
       "    <tr>\n",
       "      <th>66887</th>\n",
       "      <td>598294</td>\n",
       "      <td>10/18/2015 08:03:34 PM +0000</td>\n",
       "      <td>10/04/2015</td>\n",
       "      <td>NaN</td>\n",
       "      <td>Phone</td>\n",
       "      <td>Wired</td>\n",
       "      <td>Telemarketing (including do not call and spoof...</td>\n",
       "      <td>844-776-6275</td>\n",
       "      <td>Abandoned Calls</td>\n",
       "      <td>NaN</td>\n",
       "      <td>CA</td>\n",
       "      <td>00000</td>\n",
       "      <td>CA 00000\\n(18.113421, -66.163661)</td>\n",
       "    </tr>\n",
       "    <tr>\n",
       "      <th>400894</th>\n",
       "      <td>1722081</td>\n",
       "      <td>06/22/2017 06:57:25 PM +0000</td>\n",
       "      <td>06/22/2017</td>\n",
       "      <td>2:45 p.m.</td>\n",
       "      <td>Phone</td>\n",
       "      <td>Internet (VOIP)</td>\n",
       "      <td>Unwanted Calls</td>\n",
       "      <td>978-233-3802</td>\n",
       "      <td>Abandoned Calls</td>\n",
       "      <td>None</td>\n",
       "      <td>MA</td>\n",
       "      <td>01420</td>\n",
       "      <td>MA 01420\\n(42.579854, -71.809066)</td>\n",
       "    </tr>\n",
       "    <tr>\n",
       "      <th>134668</th>\n",
       "      <td>320170</td>\n",
       "      <td>06/03/2015 04:52:33 AM +0000</td>\n",
       "      <td>06/02/2015</td>\n",
       "      <td>8:30 P.M.</td>\n",
       "      <td>Phone</td>\n",
       "      <td>Wired</td>\n",
       "      <td>Robocalls</td>\n",
       "      <td>213-921-4695</td>\n",
       "      <td>Prerecorded Voice</td>\n",
       "      <td>213-921-4695</td>\n",
       "      <td>CA</td>\n",
       "      <td>92128</td>\n",
       "      <td>CA 92128\\n(32.99986, -117.073175)</td>\n",
       "    </tr>\n",
       "    <tr>\n",
       "      <th>388063</th>\n",
       "      <td>1505801</td>\n",
       "      <td>03/15/2017 04:11:01 PM +0000</td>\n",
       "      <td>03/15/2017</td>\n",
       "      <td>NaN</td>\n",
       "      <td>Phone</td>\n",
       "      <td>Wired</td>\n",
       "      <td>Unwanted Calls</td>\n",
       "      <td>509-320-4229</td>\n",
       "      <td>Prerecorded Voice</td>\n",
       "      <td>509-320-4229</td>\n",
       "      <td>VA</td>\n",
       "      <td>23462</td>\n",
       "      <td>VA 23462\\n(36.836388, -76.150289)</td>\n",
       "    </tr>\n",
       "  </tbody>\n",
       "</table>\n",
       "</div>"
      ],
      "text/plain": [
       "        Ticket ID                Ticket Created Date of Issue Time of Issue  \\\n",
       "315571    1263348  10/13/2016 10:24:04 PM +0000    10/13/2016       3:15 PM   \n",
       "66887      598294  10/18/2015 08:03:34 PM +0000    10/04/2015           NaN   \n",
       "400894    1722081  06/22/2017 06:57:25 PM +0000    06/22/2017     2:45 p.m.   \n",
       "134668     320170  06/03/2015 04:52:33 AM +0000    06/02/2015     8:30 P.M.   \n",
       "388063    1505801  03/15/2017 04:11:01 PM +0000    03/15/2017           NaN   \n",
       "\n",
       "         Form           Method  \\\n",
       "315571  Phone            Wired   \n",
       "66887   Phone            Wired   \n",
       "400894  Phone  Internet (VOIP)   \n",
       "134668  Phone            Wired   \n",
       "388063  Phone            Wired   \n",
       "\n",
       "                                                    Issue Caller ID Number  \\\n",
       "315571                                          Robocalls     888-856-2755   \n",
       "66887   Telemarketing (including do not call and spoof...     844-776-6275   \n",
       "400894                                     Unwanted Calls     978-233-3802   \n",
       "134668                                          Robocalls     213-921-4695   \n",
       "388063                                     Unwanted Calls     509-320-4229   \n",
       "\n",
       "       Type of Call or Messge Advertiser Business Number State    Zip  \\\n",
       "315571      Prerecorded Voice               888-856-2755    CA  94901   \n",
       "66887         Abandoned Calls                        NaN    CA  00000   \n",
       "400894        Abandoned Calls                       None    MA  01420   \n",
       "134668      Prerecorded Voice               213-921-4695    CA  92128   \n",
       "388063      Prerecorded Voice               509-320-4229    VA  23462   \n",
       "\n",
       "       Location (Center point of the Zip Code)  \n",
       "315571       CA 94901\\n(37.973771, -122.51209)  \n",
       "66887        CA 00000\\n(18.113421, -66.163661)  \n",
       "400894       MA 01420\\n(42.579854, -71.809066)  \n",
       "134668       CA 92128\\n(32.99986, -117.073175)  \n",
       "388063       VA 23462\\n(36.836388, -76.150289)  "
      ]
     },
     "execution_count": 41,
     "metadata": {},
     "output_type": "execute_result"
    }
   ],
   "source": [
    "df.head()"
   ]
  },
  {
   "cell_type": "code",
   "execution_count": 42,
   "id": "fd1e0589-baf0-4e33-bb44-d06fe1a78c7e",
   "metadata": {},
   "outputs": [],
   "source": [
    "def _parse_ph_number(ph_num: str):\n",
    "    try:\n",
    "        ph_num = str(ph_num)\n",
    "        ph_num_parsed = phonenumbers.parse(ph_num, \"US\")\n",
    "    except phonenumbers.NumberParseException: \n",
    "        print(ph_num)\n",
    "        return np.NaN\n",
    "    if not phonenumbers.is_possible_number(ph_num_parsed):\n",
    "        print(2)\n",
    "        return np.NaN\n",
    "    if not phonenumbers.is_valid_number(ph_num_parsed):\n",
    "        print(3)\n",
    "        return np.NaN\n",
    "    return ph_num_parsed"
   ]
  },
  {
   "cell_type": "code",
   "execution_count": null,
   "id": "02e87c60-e9c7-4d43-a978-99d31009cf4a",
   "metadata": {},
   "outputs": [],
   "source": [
    "# Disable\n",
    "def blockPrint():\n",
    "    sys.stdout = open(os.devnull, 'w')\n",
    "\n",
    "# Restore\n",
    "def enablePrint():\n",
    "    sys.stdout = sys.__stdout__"
   ]
  },
  {
   "cell_type": "markdown",
   "id": "bf5387e0-081f-4ba9-9cac-f3cc67554b39",
   "metadata": {},
   "source": [
    "blockPrint() and enablePrint() utilities used DIRECTLY from the source.<sup>5</sup>"
   ]
  },
  {
   "cell_type": "code",
   "execution_count": null,
   "id": "1659745b-39d4-4ee3-b3c0-e7f5ab8a303d",
   "metadata": {},
   "outputs": [],
   "source": [
    "blockPrint()"
   ]
  },
  {
   "cell_type": "code",
   "execution_count": null,
   "id": "031e3a1a-86d6-4bc0-babe-6decc1758e9a",
   "metadata": {},
   "outputs": [],
   "source": [
    "df[\"Caller ID Number\"] = \\\n",
    "df[\"Caller ID Number\"].apply(_parse_ph_number);"
   ]
  },
  {
   "cell_type": "code",
   "execution_count": null,
   "id": "f1644688-8c36-4f1e-a5c5-06ca111da6f1",
   "metadata": {},
   "outputs": [],
   "source": []
  },
  {
   "cell_type": "code",
   "execution_count": 44,
   "id": "88bae013-5f53-4331-8b49-1cddf667ceba",
   "metadata": {},
   "outputs": [
    {
     "data": {
      "text/plain": [
       "315571    Country Code: 1 National Number: 8888562755\n",
       "66887     Country Code: 1 National Number: 8447766275\n",
       "400894    Country Code: 1 National Number: 9782333802\n",
       "134668    Country Code: 1 National Number: 2139214695\n",
       "388063    Country Code: 1 National Number: 5093204229\n",
       "Name: Caller ID Number, dtype: object"
      ]
     },
     "execution_count": 44,
     "metadata": {},
     "output_type": "execute_result"
    }
   ],
   "source": [
    "df[\"Caller ID Number\"].head()"
   ]
  },
  {
   "cell_type": "markdown",
   "id": "ff03d34e-5b08-4a3d-935c-bd12ce9fff71",
   "metadata": {},
   "source": [
    "<br/>Column #8 \"Type of Call or Messge\": "
   ]
  },
  {
   "cell_type": "markdown",
   "id": "bd89f937-61a9-4b19-b250-a4875ce6c860",
   "metadata": {},
   "source": [
    "<br/>Column #9 \"Advertiser Business Number\": "
   ]
  },
  {
   "cell_type": "markdown",
   "id": "036bfd26-afd6-41a9-978b-2fdb07c669a7",
   "metadata": {},
   "source": [
    "<br/>Column #10 \"State\": "
   ]
  },
  {
   "cell_type": "markdown",
   "id": "6e1c1e6c-84c8-4a87-bbcd-9b40237e4172",
   "metadata": {},
   "source": [
    "<br/>Column #11 \"Zip\": "
   ]
  },
  {
   "cell_type": "markdown",
   "id": "04346d9f-ed90-4fc1-ba7b-ae6219c8d2aa",
   "metadata": {},
   "source": [
    "<br/>Column #12 \"Location (Center point of the Zip Code)\": "
   ]
  },
  {
   "cell_type": "markdown",
   "id": "0e063356-4d0e-4c1d-b57a-ff572d27feea",
   "metadata": {},
   "source": [
    "### References\n",
    "1. Data from https://data.world/kgarrett/unwanted-calls\n",
    "2. Verified description of the variable using https://opendata.fcc.gov/Consumer/Consumer-Complaints-Data-Unwanted-Calls/vakf-fz8e\n",
    "3. Python wrapper of Google's phonenumbers library: https://pypi.org/project/phonenumbers/\n",
    "4. FCC unwanted call complaint form: https://consumercomplaints.fcc.gov/hc/en-us/requests/new?ticket_form_id=39744\n",
    "5. Stack Overflow: https://stackoverflow.com/questions/8391411/how-to-block-calls-to-print"
   ]
  },
  {
   "cell_type": "code",
   "execution_count": null,
   "id": "14d051ba-8b5d-4e1c-b263-ce788fd63c02",
   "metadata": {},
   "outputs": [],
   "source": []
  }
 ],
 "metadata": {
  "kernelspec": {
   "display_name": "Python 3",
   "language": "python",
   "name": "python3"
  },
  "language_info": {
   "codemirror_mode": {
    "name": "ipython",
    "version": 3
   },
   "file_extension": ".py",
   "mimetype": "text/x-python",
   "name": "python",
   "nbconvert_exporter": "python",
   "pygments_lexer": "ipython3",
   "version": "3.8.8"
  }
 },
 "nbformat": 4,
 "nbformat_minor": 5
}
