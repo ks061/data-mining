{
 "cells": [
  {
   "cell_type": "markdown",
   "id": "a950db90-cc1f-40b8-9e94-9476d84c5180",
   "metadata": {},
   "source": [
    "# Final Project\n",
    "\n",
    "Name: Kartikeya Sharma <br/>Class: CSCI 349 - Intro to Data Mining  \n",
    "Semester: Spring 2021  \n",
    "Instructor: Brian King  "
   ]
  },
  {
   "cell_type": "markdown",
   "id": "136e0bad-e946-467e-a89a-76c60bd634db",
   "metadata": {},
   "source": [
    "### Step 0: Enivornment Setup"
   ]
  },
  {
   "cell_type": "markdown",
   "id": "d101627f-fabc-40ea-aaed-fbde1f346ee4",
   "metadata": {},
   "source": [
    "#### Step 0.0: Installations"
   ]
  },
  {
   "cell_type": "markdown",
   "id": "6bcaf051-7ecf-4a07-900c-eda53fa52634",
   "metadata": {},
   "source": [
    "- **phonenumbers:** Python wrapper for Google's phone numbers API: ```conda install phonenumbers```<br/>\n",
    "- **us:** package for conveniently working with state abbreviations: ```pip install us``` because conda-forge installation does not work (and is not listed as a primary way of installing this package, so we're stuck with pip)<br/>\n",
    "- **uszipcode:** package that has a vast amount of information on zipcodes, including the major city, post office city, common city, county, state, **area code list** (helpful), **latitude** (helpful), **longitude** (helpful), timezone, demographics (population, population_density, population by age, population by gender, population by race, etc.)... talk about data mining ```pip install uszipcode``` (pip had a solid installation of this)"
   ]
  },
  {
   "cell_type": "markdown",
   "id": "fe9fbad8-cdd2-47b3-8096-f143360a318a",
   "metadata": {},
   "source": [
    "#### Step 0.1: Imports"
   ]
  },
  {
   "cell_type": "code",
   "execution_count": 76,
   "id": "ab89d3d4-0303-4f2a-8006-1f87cb049658",
   "metadata": {},
   "outputs": [
    {
     "name": "stdout",
     "output_type": "stream",
     "text": [
      "CPU times: user 2 µs, sys: 1 µs, total: 3 µs\n",
      "Wall time: 4.05 µs\n"
     ]
    }
   ],
   "source": [
    "%time\n",
    "# imports used in the course\n",
    "import numpy as np\n",
    "import pandas as pd\n",
    "import seaborn as sns\n",
    "import matplotlib.pyplot as plt\n",
    "\n",
    "# from  matplotlib.ticker import PercentFormatter\n",
    "# from sklearn.model_selection import train_test_split, KFold\n",
    "# from sklearn.utils import shuffle\n",
    "# from sklearn.metrics import classification_report, confusion_matrix, f1_score\n",
    "# from sklearn.model_selection import cross_validate, cross_val_predict\n",
    "# from sklearn.model_selection import GridSearchCV\n",
    "\n",
    "# from sklearn.preprocessing import StandardScaler\n",
    "# from sklearn.tree import DecisionTreeClassifier\n",
    "\n",
    "# import tensorflow as tf\n",
    "# from tensorflow import keras\n",
    "# from tensorflow.keras import Input, Model\n",
    "# from tensorflow.keras.layers import Dense, Activation\n",
    "# from tensorflow.keras.optimizers import Adam, SGD\n",
    "# from scikeras.wrappers import KerasClassifier"
   ]
  },
  {
   "cell_type": "code",
   "execution_count": 77,
   "id": "31432c7e-a052-4895-a18d-b8102061f878",
   "metadata": {},
   "outputs": [],
   "source": [
    "# custom imports (not used in the course)\n",
    "import phonenumbers\n",
    "import us\n",
    "from uszipcode import SearchEngine # importing what is needed per the documentation"
   ]
  },
  {
   "cell_type": "markdown",
   "id": "2392a864-2b10-41f0-b632-d329e4705c12",
   "metadata": {},
   "source": [
    "```uszipcode``` documentation<sup>5</sup>"
   ]
  },
  {
   "cell_type": "code",
   "execution_count": 78,
   "id": "be104950-19ab-468c-9c08-59828f927c41",
   "metadata": {},
   "outputs": [
    {
     "name": "stdout",
     "output_type": "stream",
     "text": [
      "CPU times: user 2 µs, sys: 0 ns, total: 2 µs\n",
      "Wall time: 4.05 µs\n"
     ]
    }
   ],
   "source": [
    "%time \n",
    "try:\n",
    "    df_raw = pd.read_csv(\\\n",
    "    \"../data/Consumer_Complaints_Data_-_Unwanted_Calls_raw.csv\"\\\n",
    "    )\n",
    "except:\n",
    "    # import from online if not available on machine\n",
    "    df_raw = pd.read_csv('https://query.data.world/s/24xzbr2jaeuohhwmrzhj7jcyrdamlw')"
   ]
  },
  {
   "cell_type": "code",
   "execution_count": 87,
   "id": "afc8c008-5215-4b10-820c-422d98c138dc",
   "metadata": {},
   "outputs": [],
   "source": [
    "df = df_raw.sample(frac=0.01).copy(deep=True)"
   ]
  },
  {
   "cell_type": "markdown",
   "id": "38db2a76-cda5-4c52-b7f3-2f485d67a0ae",
   "metadata": {},
   "source": [
    "```df``` will be considered the sample of the data set, where ```df_raw``` will be considered as the whole data set; this is for simplicity and convenience by design, so I don't have to write ```df_samp``` or ```df_sample``` every time.\n",
    "<br/><br/>Data provided from data.world.<sup>1</sup>"
   ]
  },
  {
   "cell_type": "markdown",
   "id": "50826f62-383b-4b46-b879-beef731c0e4e",
   "metadata": {},
   "source": [
    "### Step 1: Pre-Processing"
   ]
  },
  {
   "cell_type": "markdown",
   "id": "4b6178bd-5cb5-45de-9747-f39ced0492f7",
   "metadata": {},
   "source": [
    "#### Step 1.0 Inspect Data at a Macro Level"
   ]
  },
  {
   "cell_type": "code",
   "execution_count": 80,
   "id": "3d691bda-dbf8-44dd-80d3-a6837b1813b2",
   "metadata": {},
   "outputs": [
    {
     "name": "stdout",
     "output_type": "stream",
     "text": [
      "<class 'pandas.core.frame.DataFrame'>\n",
      "Int64Index: 4263 entries, 130601 to 70067\n",
      "Data columns (total 13 columns):\n",
      " #   Column                                   Non-Null Count  Dtype \n",
      "---  ------                                   --------------  ----- \n",
      " 0   Ticket ID                                4263 non-null   int64 \n",
      " 1   Ticket Created                           4263 non-null   object\n",
      " 2   Date of Issue                            4219 non-null   object\n",
      " 3   Time of Issue                            3250 non-null   object\n",
      " 4   Form                                     4263 non-null   object\n",
      " 5   Method                                   4239 non-null   object\n",
      " 6   Issue                                    4263 non-null   object\n",
      " 7   Caller ID Number                         3418 non-null   object\n",
      " 8   Type of Call or Messge                   4217 non-null   object\n",
      " 9   Advertiser Business Number               1796 non-null   object\n",
      " 10  State                                    4260 non-null   object\n",
      " 11  Zip                                      4263 non-null   object\n",
      " 12  Location (Center point of the Zip Code)  4259 non-null   object\n",
      "dtypes: int64(1), object(12)\n",
      "memory usage: 466.3+ KB\n"
     ]
    }
   ],
   "source": [
    "df.info()"
   ]
  },
  {
   "cell_type": "code",
   "execution_count": 82,
   "id": "a0c9fb88-7c5a-460b-b446-57b8068d9ca4",
   "metadata": {},
   "outputs": [
    {
     "data": {
      "text/html": [
       "<div>\n",
       "<style scoped>\n",
       "    .dataframe tbody tr th:only-of-type {\n",
       "        vertical-align: middle;\n",
       "    }\n",
       "\n",
       "    .dataframe tbody tr th {\n",
       "        vertical-align: top;\n",
       "    }\n",
       "\n",
       "    .dataframe thead th {\n",
       "        text-align: right;\n",
       "    }\n",
       "</style>\n",
       "<table border=\"1\" class=\"dataframe\">\n",
       "  <thead>\n",
       "    <tr style=\"text-align: right;\">\n",
       "      <th></th>\n",
       "      <th>Ticket ID</th>\n",
       "      <th>Ticket Created</th>\n",
       "      <th>Date of Issue</th>\n",
       "      <th>Time of Issue</th>\n",
       "      <th>Form</th>\n",
       "      <th>Method</th>\n",
       "      <th>Issue</th>\n",
       "      <th>Caller ID Number</th>\n",
       "      <th>Type of Call or Messge</th>\n",
       "      <th>Advertiser Business Number</th>\n",
       "      <th>State</th>\n",
       "      <th>Zip</th>\n",
       "      <th>Location (Center point of the Zip Code)</th>\n",
       "    </tr>\n",
       "  </thead>\n",
       "  <tbody>\n",
       "    <tr>\n",
       "      <th>130601</th>\n",
       "      <td>304303</td>\n",
       "      <td>05/23/2015 01:38:57 AM +0000</td>\n",
       "      <td>05/22/2015</td>\n",
       "      <td>5:30 P.M.</td>\n",
       "      <td>Phone</td>\n",
       "      <td>Wired</td>\n",
       "      <td>Telemarketing (including do not call and spoof...</td>\n",
       "      <td>480-500-5307</td>\n",
       "      <td>Live Voice</td>\n",
       "      <td>NaN</td>\n",
       "      <td>AZ</td>\n",
       "      <td>85042</td>\n",
       "      <td>AZ 85042\\n(33.378287, -112.032881)</td>\n",
       "    </tr>\n",
       "    <tr>\n",
       "      <th>60775</th>\n",
       "      <td>824552</td>\n",
       "      <td>02/22/2016 03:38:40 PM +0000</td>\n",
       "      <td>02/22/2016</td>\n",
       "      <td>12:46 A.M.</td>\n",
       "      <td>Phone</td>\n",
       "      <td>Wireless (cell phone/other mobile device)</td>\n",
       "      <td>Robocalls</td>\n",
       "      <td>NaN</td>\n",
       "      <td>Text Message</td>\n",
       "      <td>NaN</td>\n",
       "      <td>GA</td>\n",
       "      <td>30252</td>\n",
       "      <td>GA 30252\\n(33.468174, -84.073668)</td>\n",
       "    </tr>\n",
       "    <tr>\n",
       "      <th>180535</th>\n",
       "      <td>493206</td>\n",
       "      <td>08/27/2015 04:32:07 AM +0000</td>\n",
       "      <td>08/26/2015</td>\n",
       "      <td>1:23 PM</td>\n",
       "      <td>Phone</td>\n",
       "      <td>Wireless (cell phone/other mobile device)</td>\n",
       "      <td>Telemarketing (including do not call and spoof...</td>\n",
       "      <td>NaN</td>\n",
       "      <td>Live Voice</td>\n",
       "      <td>214-687-4420</td>\n",
       "      <td>TN</td>\n",
       "      <td>37354</td>\n",
       "      <td>TN 37354\\n(35.503791, -84.351119)</td>\n",
       "    </tr>\n",
       "    <tr>\n",
       "      <th>205489</th>\n",
       "      <td>589107</td>\n",
       "      <td>10/14/2015 02:20:49 PM +0000</td>\n",
       "      <td>10/13/2015</td>\n",
       "      <td>5:45 pm</td>\n",
       "      <td>Phone</td>\n",
       "      <td>Internet (VOIP)</td>\n",
       "      <td>Robocalls</td>\n",
       "      <td>626-333-6138</td>\n",
       "      <td>Prerecorded Voice</td>\n",
       "      <td>NaN</td>\n",
       "      <td>NC</td>\n",
       "      <td>28226</td>\n",
       "      <td>NC 28226\\n(35.107444, -80.81869)</td>\n",
       "    </tr>\n",
       "    <tr>\n",
       "      <th>307133</th>\n",
       "      <td>1213645</td>\n",
       "      <td>09/22/2016 06:39:21 PM +0000</td>\n",
       "      <td>09/22/2016</td>\n",
       "      <td>10:09 am</td>\n",
       "      <td>Phone</td>\n",
       "      <td>Wireless (cell phone/other mobile device)</td>\n",
       "      <td>Robocalls</td>\n",
       "      <td>843-486-8171</td>\n",
       "      <td>Prerecorded Voice</td>\n",
       "      <td>843-486-8171</td>\n",
       "      <td>MN</td>\n",
       "      <td>55437</td>\n",
       "      <td>MN 55437\\n(44.825997, -93.344715)</td>\n",
       "    </tr>\n",
       "  </tbody>\n",
       "</table>\n",
       "</div>"
      ],
      "text/plain": [
       "        Ticket ID                Ticket Created Date of Issue Time of Issue  \\\n",
       "130601     304303  05/23/2015 01:38:57 AM +0000    05/22/2015     5:30 P.M.   \n",
       "60775      824552  02/22/2016 03:38:40 PM +0000    02/22/2016    12:46 A.M.   \n",
       "180535     493206  08/27/2015 04:32:07 AM +0000    08/26/2015       1:23 PM   \n",
       "205489     589107  10/14/2015 02:20:49 PM +0000    10/13/2015       5:45 pm   \n",
       "307133    1213645  09/22/2016 06:39:21 PM +0000    09/22/2016      10:09 am   \n",
       "\n",
       "         Form                                     Method  \\\n",
       "130601  Phone                                      Wired   \n",
       "60775   Phone  Wireless (cell phone/other mobile device)   \n",
       "180535  Phone  Wireless (cell phone/other mobile device)   \n",
       "205489  Phone                            Internet (VOIP)   \n",
       "307133  Phone  Wireless (cell phone/other mobile device)   \n",
       "\n",
       "                                                    Issue Caller ID Number  \\\n",
       "130601  Telemarketing (including do not call and spoof...     480-500-5307   \n",
       "60775                                           Robocalls              NaN   \n",
       "180535  Telemarketing (including do not call and spoof...              NaN   \n",
       "205489                                          Robocalls     626-333-6138   \n",
       "307133                                          Robocalls     843-486-8171   \n",
       "\n",
       "       Type of Call or Messge Advertiser Business Number State    Zip  \\\n",
       "130601             Live Voice                        NaN    AZ  85042   \n",
       "60775            Text Message                        NaN    GA  30252   \n",
       "180535             Live Voice               214-687-4420    TN  37354   \n",
       "205489      Prerecorded Voice                        NaN    NC  28226   \n",
       "307133      Prerecorded Voice               843-486-8171    MN  55437   \n",
       "\n",
       "       Location (Center point of the Zip Code)  \n",
       "130601      AZ 85042\\n(33.378287, -112.032881)  \n",
       "60775        GA 30252\\n(33.468174, -84.073668)  \n",
       "180535       TN 37354\\n(35.503791, -84.351119)  \n",
       "205489        NC 28226\\n(35.107444, -80.81869)  \n",
       "307133       MN 55437\\n(44.825997, -93.344715)  "
      ]
     },
     "execution_count": 82,
     "metadata": {},
     "output_type": "execute_result"
    }
   ],
   "source": [
    "df.head()"
   ]
  },
  {
   "cell_type": "markdown",
   "id": "8d8308ee-9c88-4da3-a07f-4b9e3c9ab207",
   "metadata": {},
   "source": [
    "#### Step 1.1: Discard, Format, Downsize Each Column"
   ]
  },
  {
   "cell_type": "markdown",
   "id": "8ae42f01-dc0e-4133-96e8-cbb3086819ff",
   "metadata": {},
   "source": [
    "Column #0 \"Ticket ID\": Unless there are some duplicate ticket values that should be looked into further, I intend on discarding them.<sup>2</sup>"
   ]
  },
  {
   "cell_type": "code",
   "execution_count": 83,
   "id": "2790861f-a64c-4e17-89cb-14bf8af55d67",
   "metadata": {},
   "outputs": [
    {
     "data": {
      "text/plain": [
       "235384    1\n",
       "Name: Ticket ID, dtype: int64"
      ]
     },
     "execution_count": 83,
     "metadata": {},
     "output_type": "execute_result"
    }
   ],
   "source": [
    "df[\"Ticket ID\"].value_counts().sort_values(ascending=False).head(1)"
   ]
  },
  {
   "cell_type": "markdown",
   "id": "9db8d4ef-9643-44a1-9d7e-bdb79b37f010",
   "metadata": {},
   "source": [
    "Clearly no duplicate values. Discarding Column #0 \"Ticket ID.\""
   ]
  },
  {
   "cell_type": "code",
   "execution_count": 84,
   "id": "fbfa7a45-d7b7-4fa6-b3da-c8f243a6b17c",
   "metadata": {},
   "outputs": [],
   "source": [
    "df.drop(columns=\"Ticket ID\", inplace=True)"
   ]
  },
  {
   "cell_type": "markdown",
   "id": "59516305-fd1b-4af4-b8ad-4adcf6d40f63",
   "metadata": {},
   "source": [
    "<br/>Column #1 \"Ticket Created\": This column represents when the ticket was created in GMT time. This will be imported into GMT time and then converted to EST (FCC headquarters and our time zone). Also, we don't need seconds information."
   ]
  },
  {
   "cell_type": "code",
   "execution_count": 85,
   "id": "f3415b92-f4ac-43f7-b0e8-328c07d40e04",
   "metadata": {},
   "outputs": [
    {
     "data": {
      "text/plain": [
       "0"
      ]
     },
     "execution_count": 85,
     "metadata": {},
     "output_type": "execute_result"
    }
   ],
   "source": [
    "df[\"Ticket Created\"].isna().sum()"
   ]
  },
  {
   "cell_type": "markdown",
   "id": "e7a21bd8-8dd0-4a59-b1f6-4503e2636caf",
   "metadata": {},
   "source": [
    "None are NaN at the moment."
   ]
  },
  {
   "cell_type": "code",
   "execution_count": 9,
   "id": "c0e10a98-f4e2-4dc7-a76d-6af75f3564a0",
   "metadata": {},
   "outputs": [],
   "source": [
    "def _convert_to_EST_or_nan(ts_str: str):\n",
    "    try:\n",
    "        ts = pd.to_datetime(ts_str)\n",
    "        ts = ts.tz_convert(\"US/Eastern\")\n",
    "        ts = ts.floor('Min')\n",
    "        return ts\n",
    "    except:\n",
    "        return pd.NaT\n",
    "    \n",
    "df[\"Ticket Created\"] = df[\"Ticket Created\"].apply(_convert_to_EST_or_nan)"
   ]
  },
  {
   "cell_type": "code",
   "execution_count": null,
   "id": "bf3ac290-3ee4-437a-9f5a-1a02f6615411",
   "metadata": {},
   "outputs": [],
   "source": [
    "df = df[df[\"Ticket Created\"].notnull()]"
   ]
  },
  {
   "cell_type": "code",
   "execution_count": 10,
   "id": "1d6ca47b-44f2-4422-9498-b0bdb976b385",
   "metadata": {},
   "outputs": [
    {
     "data": {
      "text/plain": [
       "294624   2016-05-02 18:15:00-04:00\n",
       "173828   2014-12-16 18:09:00-05:00\n",
       "192864   2014-12-23 11:39:00-05:00\n",
       "18430    2016-07-01 18:19:00-04:00\n",
       "189689   2015-09-15 10:01:00-04:00\n",
       "Name: Ticket Created, dtype: datetime64[ns, US/Eastern]"
      ]
     },
     "execution_count": 10,
     "metadata": {},
     "output_type": "execute_result"
    }
   ],
   "source": [
    "df[\"Ticket Created\"].head()"
   ]
  },
  {
   "cell_type": "markdown",
   "id": "ab1daffd-6fb7-451a-9778-991504adfad9",
   "metadata": {},
   "source": [
    "How many are NaN now?"
   ]
  },
  {
   "cell_type": "code",
   "execution_count": 86,
   "id": "7898b1ff-d032-4f7d-a1e5-4273f967eeb9",
   "metadata": {},
   "outputs": [
    {
     "data": {
      "text/plain": [
       "0"
      ]
     },
     "execution_count": 86,
     "metadata": {},
     "output_type": "execute_result"
    }
   ],
   "source": [
    "df[\"Ticket Created\"].isna().sum()"
   ]
  },
  {
   "cell_type": "markdown",
   "id": "954c054a-e9d7-4999-b72e-291690349a2f",
   "metadata": {},
   "source": [
    "Still 0 NaN values! Looks like no observations *failed* during the conversion."
   ]
  },
  {
   "cell_type": "markdown",
   "id": "c69cbd44-06ff-496f-b420-da7c9dbf460c",
   "metadata": {},
   "source": [
    "<br/>Column #2 \"Date of Issue\": This column represents the date when the user actually experienced the issue. It will be stored as a date without a time zone (since not all observations gave a particular time so that the dates can be informatively localized accordingly)."
   ]
  },
  {
   "cell_type": "code",
   "execution_count": 75,
   "id": "f8048668-9ee5-4793-bb49-178882082be4",
   "metadata": {},
   "outputs": [
    {
     "data": {
      "text/plain": [
       "12"
      ]
     },
     "execution_count": 75,
     "metadata": {},
     "output_type": "execute_result"
    }
   ],
   "source": [
    "df[\"Date of Issue\"].isna().sum()"
   ]
  },
  {
   "cell_type": "markdown",
   "id": "525c4377-2eb0-4236-9bda-afcf70a0c91e",
   "metadata": {},
   "source": [
    "No NaN values at the moment."
   ]
  },
  {
   "cell_type": "code",
   "execution_count": 73,
   "id": "068ab730-7a49-441e-82a3-d9c8402e7204",
   "metadata": {},
   "outputs": [],
   "source": [
    "def _convert_datetime(dt):\n",
    "    try:\n",
    "        return pd.to_datetime(dt)\n",
    "    except: \n",
    "        return np.NaN"
   ]
  },
  {
   "cell_type": "code",
   "execution_count": 70,
   "id": "2e2b6a7e-e924-44e8-bb2e-29955de8e568",
   "metadata": {},
   "outputs": [],
   "source": [
    "df[\"Date of Issue\"] = df[\"Date of Issue\"].apply(_convert_datetime)"
   ]
  },
  {
   "cell_type": "code",
   "execution_count": null,
   "id": "468b3f3e-754a-483a-9fed-939a09b478af",
   "metadata": {},
   "outputs": [],
   "source": []
  },
  {
   "cell_type": "markdown",
   "id": "62f65341-4440-4ffe-b98d-bc1626467e7f",
   "metadata": {},
   "source": [
    "<br/>Column #3 \"Time of Issue\": This column represents the time when the user actually experienced the issue. This information appears to be too specific for our analysis.<sup>2</sup>"
   ]
  },
  {
   "cell_type": "code",
   "execution_count": 11,
   "id": "7087f5f8-3b26-47d0-88d3-41d00fa8b726",
   "metadata": {},
   "outputs": [],
   "source": [
    "df.drop(columns=\"Time of Issue\", inplace=True)"
   ]
  },
  {
   "cell_type": "markdown",
   "id": "2ec942d2-041a-4418-8232-fdfe046f4909",
   "metadata": {},
   "source": [
    "<br/>Column #4 \"Form\": This represents the method through which the consumers were contacted by the reported caller. These should all be \"Phone\"; we don't need it.<sup>2</sup>"
   ]
  },
  {
   "cell_type": "code",
   "execution_count": 12,
   "id": "98b84f10-a04a-4ae4-8e98-817d2b0d9889",
   "metadata": {},
   "outputs": [
    {
     "data": {
      "text/plain": [
       "Phone    4263\n",
       "Name: Form, dtype: int64"
      ]
     },
     "execution_count": 12,
     "metadata": {},
     "output_type": "execute_result"
    }
   ],
   "source": [
    "df[\"Form\"].value_counts()"
   ]
  },
  {
   "cell_type": "code",
   "execution_count": 13,
   "id": "7f721fac-2b27-40bf-b794-b282c4e0aad3",
   "metadata": {},
   "outputs": [],
   "source": [
    "df.drop(columns=\"Form\", inplace=True)"
   ]
  },
  {
   "cell_type": "markdown",
   "id": "63f7f997-f2ca-4c39-8055-6dee9e0d3af3",
   "metadata": {},
   "source": [
    "<br/>Column #5 \"Method\": How the reported caller contacted the consumer.<sup>2</sup>"
   ]
  },
  {
   "cell_type": "code",
   "execution_count": 14,
   "id": "a5d6ad21-a920-40f7-9034-a71b9794a2b1",
   "metadata": {},
   "outputs": [],
   "source": [
    "df[\"Method\"] = pd.Categorical(df[\"Method\"], ordered=False)"
   ]
  },
  {
   "cell_type": "code",
   "execution_count": 15,
   "id": "06777740-155c-4c71-9ab8-9d8edc36b0b1",
   "metadata": {},
   "outputs": [
    {
     "data": {
      "text/plain": [
       "294624                                        Wired\n",
       "173828    Wireless (cell phone/other mobile device)\n",
       "192864    Wireless (cell phone/other mobile device)\n",
       "18430     Wireless (cell phone/other mobile device)\n",
       "189689                                        Wired\n",
       "Name: Method, dtype: category\n",
       "Categories (3, object): ['Internet (VOIP)', 'Wired', 'Wireless (cell phone/other mobile device)']"
      ]
     },
     "execution_count": 15,
     "metadata": {},
     "output_type": "execute_result"
    }
   ],
   "source": [
    "df[\"Method\"].head()"
   ]
  },
  {
   "cell_type": "markdown",
   "id": "37356e8d-56c0-420b-a92d-57e9e414b39d",
   "metadata": {},
   "source": [
    "There are three possibilities (nominal) categories: Internet (VOIP), which is something like Google Voice, wired, which is a landline, and wireless, which is a cell phone.<sup>2</sup>"
   ]
  },
  {
   "cell_type": "markdown",
   "id": "8657798e-ce72-4f4e-91f3-ff93a9662586",
   "metadata": {},
   "source": [
    "It is not necessary to clarify that wireless means cell phone or other mobile device. This category will be renamed to wireless."
   ]
  },
  {
   "cell_type": "code",
   "execution_count": 39,
   "id": "1b8ccb5b-b608-4086-bdbc-a9f89afd9c6e",
   "metadata": {},
   "outputs": [],
   "source": [
    "df[\"Method\"].cat.rename_categories(\n",
    "    new_categories = {\"Wireless (cell phone/other mobile device)\": \"Wireless\"},\n",
    "    inplace=True\n",
    ")"
   ]
  },
  {
   "cell_type": "markdown",
   "id": "22aa0f54-7150-4d46-912a-317d48d3a4a8",
   "metadata": {},
   "source": [
    "<br/>Column #6 \"Issue\": "
   ]
  },
  {
   "cell_type": "code",
   "execution_count": 16,
   "id": "22e72acd-9c2d-4b60-b057-b77472f86acd",
   "metadata": {},
   "outputs": [],
   "source": [
    "df[\"Issue\"] = pd.Categorical(df[\"Issue\"], ordered=False)"
   ]
  },
  {
   "cell_type": "code",
   "execution_count": 17,
   "id": "805f7ff2-9a12-40e0-a9ca-d616f6f337d7",
   "metadata": {},
   "outputs": [
    {
     "data": {
      "text/plain": [
       "294624                                            Robocalls\n",
       "173828    Telemarketing (including do not call and spoof...\n",
       "192864    Telemarketing (including do not call and spoof...\n",
       "18430                                             Robocalls\n",
       "189689    Telemarketing (including do not call and spoof...\n",
       "Name: Issue, dtype: category\n",
       "Categories (3, object): ['Robocalls', 'Telemarketing (including do not call and spoo..., 'Unwanted Calls']"
      ]
     },
     "execution_count": 17,
     "metadata": {},
     "output_type": "execute_result"
    }
   ],
   "source": [
    "df[\"Issue\"].head()"
   ]
  },
  {
   "cell_type": "markdown",
   "id": "5ada102c-a92d-4b71-9181-8ceae76a54ab",
   "metadata": {},
   "source": [
    "Looking close at the FCC descriptions of the different attributes, robocalls and telemarketing are currently being marked as unwanted calls instead of those two categories; hence, the values in this column are not consistent throughout across the reports/over time. This column will be removed, and the data set will be considered as containing data that represents reports of 'unwanted/spam' calls.<sup>2</sup>"
   ]
  },
  {
   "cell_type": "code",
   "execution_count": 18,
   "id": "4103f09a-46e7-41f4-b5ba-c4800484bbc1",
   "metadata": {},
   "outputs": [],
   "source": [
    "df.drop(columns=\"Issue\", inplace=True)"
   ]
  },
  {
   "cell_type": "markdown",
   "id": "7cffd62f-2fa3-4805-b2d9-b0768479e00e",
   "metadata": {},
   "source": [
    "<br/>Column #7 \"Caller ID Number\": number (of reported call from corresponding unwanted caller) that appeared on the consumer's caller ID<sup>2</sup>\n",
    "\n",
    "We will use the Python wrapper of google's phonenumbers library.<sup>3</sup>\n",
    "\n",
    "Per \"Please enter the phone number in the following format 555-555-5555\" instructions on the FCC complaint form, all numbers are assumed to be USA, which makes sense since the FCC is a USA regulatory body which has jurisdiction in the USA.<sup>4</sup>"
   ]
  },
  {
   "cell_type": "code",
   "execution_count": 19,
   "id": "fd1e0589-baf0-4e33-bb44-d06fe1a78c7e",
   "metadata": {},
   "outputs": [],
   "source": [
    "def _parse_ph_number(ph_num: str):\n",
    "    try:\n",
    "        ph_num = str(ph_num)\n",
    "        ph_num_parsed = phonenumbers.parse(ph_num, \"US\")\n",
    "    except phonenumbers.NumberParseException: \n",
    "        print(ph_num)\n",
    "        return np.NaN\n",
    "    if not phonenumbers.is_possible_number(ph_num_parsed):\n",
    "        print(2)\n",
    "        return np.NaN\n",
    "    if not phonenumbers.is_valid_number(ph_num_parsed):\n",
    "        print(3)\n",
    "        return np.NaN\n",
    "    return ph_num_parsed"
   ]
  },
  {
   "cell_type": "code",
   "execution_count": 20,
   "id": "031e3a1a-86d6-4bc0-babe-6decc1758e9a",
   "metadata": {},
   "outputs": [],
   "source": [
    "%%capture \n",
    "# %%capture to not print the slew of lines that comes out with phonenumbers methods\n",
    "# for whatever reason (there are some patches that need to be resolved with\n",
    "# wrapping the Google Java library in Python)\n",
    "df[\"Caller ID Number\"] = \\\n",
    "df[\"Caller ID Number\"].apply(_parse_ph_number);"
   ]
  },
  {
   "cell_type": "code",
   "execution_count": 21,
   "id": "88bae013-5f53-4331-8b49-1cddf667ceba",
   "metadata": {},
   "outputs": [],
   "source": [
    "df = df[df[\"Caller ID Number\"].notnull()] "
   ]
  },
  {
   "cell_type": "code",
   "execution_count": 22,
   "id": "7412df90-c53f-40b3-a4f9-84de2393cc86",
   "metadata": {},
   "outputs": [
    {
     "data": {
      "text/plain": [
       "192864    Country Code: 1 National Number: 8133473401\n",
       "404231    Country Code: 1 National Number: 2106257494\n",
       "253800    Country Code: 1 National Number: 3153633174\n",
       "250483    Country Code: 1 National Number: 4256817161\n",
       "379501    Country Code: 1 National Number: 8009564126\n",
       "Name: Caller ID Number, dtype: object"
      ]
     },
     "execution_count": 22,
     "metadata": {},
     "output_type": "execute_result"
    }
   ],
   "source": [
    "df[\"Caller ID Number\"].head()"
   ]
  },
  {
   "cell_type": "markdown",
   "id": "ff03d34e-5b08-4a3d-935c-bd12ce9fff71",
   "metadata": {},
   "source": [
    "<br/>Column #8 \"Type of Call or Messge\": The type of the call (or message) received. Live voice? Prerecorded message? Text message?"
   ]
  },
  {
   "cell_type": "code",
   "execution_count": 23,
   "id": "b74fbca2-e660-45ef-836b-061b308cc83b",
   "metadata": {},
   "outputs": [],
   "source": [
    "df[\"Type of Call or Messge\"] = pd.Categorical(df[\"Type of Call or Messge\"], ordered=False)"
   ]
  },
  {
   "cell_type": "code",
   "execution_count": 24,
   "id": "937a9590-0509-4492-8b28-c4755f187a1b",
   "metadata": {},
   "outputs": [
    {
     "data": {
      "text/plain": [
       "192864    Prerecorded Voice\n",
       "404231      Abandoned Calls\n",
       "253800      Abandoned Calls\n",
       "250483      Abandoned Calls\n",
       "379501    Prerecorded Voice\n",
       "Name: Type of Call or Messge, dtype: category\n",
       "Categories (5, object): ['Abandoned Calls', 'Autodialed Live Voice Call', 'Live Voice', 'Prerecorded Voice', 'Text Message']"
      ]
     },
     "execution_count": 24,
     "metadata": {},
     "output_type": "execute_result"
    }
   ],
   "source": [
    "df[\"Type of Call or Messge\"].head()"
   ]
  },
  {
   "cell_type": "markdown",
   "id": "bd89f937-61a9-4b19-b250-a4875ce6c860",
   "metadata": {},
   "source": [
    "<br/>Column #9 \"Advertiser Business Number\": The number of the advertiser that the caller claims to be associated with."
   ]
  },
  {
   "cell_type": "code",
   "execution_count": 25,
   "id": "499e3b8e-ed49-4a5c-ac4a-737fa21e3747",
   "metadata": {},
   "outputs": [],
   "source": [
    "%%capture \n",
    "# %%capture to not print the slew of lines that comes out with phonenumbers methods\n",
    "# for whatever reason (there are some patches that need to be resolved with\n",
    "# wrapping the Google Java library in Python)\n",
    "df[\"Advertiser Business Number\"] = \\\n",
    "df[\"Advertiser Business Number\"].apply(_parse_ph_number);"
   ]
  },
  {
   "cell_type": "markdown",
   "id": "e9e08c89-f45a-441b-8769-a9a060789cf8",
   "metadata": {},
   "source": [
    "Not every caller provides a business number which they're associated with. We do not need to remove all of the observations that had NaN values for this attribute."
   ]
  },
  {
   "cell_type": "code",
   "execution_count": 26,
   "id": "d56ba8fe-bd56-45f1-a9c9-7723608640c0",
   "metadata": {},
   "outputs": [
    {
     "data": {
      "text/plain": [
       "192864    NaN\n",
       "404231    NaN\n",
       "253800    NaN\n",
       "250483    NaN\n",
       "379501    NaN\n",
       "Name: Advertiser Business Number, dtype: object"
      ]
     },
     "execution_count": 26,
     "metadata": {},
     "output_type": "execute_result"
    }
   ],
   "source": [
    "df[\"Advertiser Business Number\"].head()"
   ]
  },
  {
   "cell_type": "markdown",
   "id": "036bfd26-afd6-41a9-978b-2fdb07c669a7",
   "metadata": {},
   "source": [
    "<br/>Column #10 \"State\": State in which the reporting consumer resides in<sup>2</sup>"
   ]
  },
  {
   "cell_type": "code",
   "execution_count": 27,
   "id": "37f75ac2-373e-4c92-a7dd-7c9887997b46",
   "metadata": {},
   "outputs": [],
   "source": [
    "def _validate_state(state_ab: str):\n",
    "    try:\n",
    "        if us.states.lookup(state_ab) in us.states.STATES:\n",
    "            return state_ab\n",
    "        else:\n",
    "            return np.NaN\n",
    "    except: # if np.NaN, for example\n",
    "        return np.NaN"
   ]
  },
  {
   "cell_type": "markdown",
   "id": "ff0c7ffc-8c60-4e70-a1c8-14bf92dc7092",
   "metadata": {},
   "source": [
    "```us``` documentation<sup>6</sup>"
   ]
  },
  {
   "cell_type": "code",
   "execution_count": 28,
   "id": "6cbe9de3-ab78-496d-8cd6-2eb7c066567e",
   "metadata": {},
   "outputs": [],
   "source": [
    "df[\"State\"] = df[\"State\"].apply(_validate_state)"
   ]
  },
  {
   "cell_type": "markdown",
   "id": "eba22693-d656-4a5f-83d1-c04af3910f17",
   "metadata": {},
   "source": [
    "We don't have to eliminate observations without valid state abbreviations. Perhaps we can extrapolate the state of the customer from their area code, i.e. the phone number that received the call."
   ]
  },
  {
   "cell_type": "code",
   "execution_count": 29,
   "id": "1118c747-2c10-4d78-9e02-18825d8a2247",
   "metadata": {},
   "outputs": [],
   "source": [
    "df[\"State\"] = pd.Categorical(df[\"State\"], ordered=False)"
   ]
  },
  {
   "cell_type": "markdown",
   "id": "e6cbce0f-be19-4442-8ce9-3fd682e96a13",
   "metadata": {},
   "source": [
    "State abbreviations are values within a nominal variable."
   ]
  },
  {
   "cell_type": "code",
   "execution_count": 30,
   "id": "2ad05759-e864-4d81-9ef4-8417b23092fc",
   "metadata": {},
   "outputs": [
    {
     "data": {
      "text/plain": [
       "192864    FL\n",
       "404231    TX\n",
       "253800    NY\n",
       "250483    WA\n",
       "379501    MT\n",
       "Name: State, dtype: category\n",
       "Categories (50, object): ['AK', 'AL', 'AR', 'AZ', ..., 'WA', 'WI', 'WV', 'WY']"
      ]
     },
     "execution_count": 30,
     "metadata": {},
     "output_type": "execute_result"
    }
   ],
   "source": [
    "df[\"State\"].head()"
   ]
  },
  {
   "cell_type": "markdown",
   "id": "c83bee00-0e72-4fd7-b6ee-425a70ec3181",
   "metadata": {},
   "source": [
    "We have each of the 50 states covered in our data sample. Yay!"
   ]
  },
  {
   "cell_type": "markdown",
   "id": "6e1c1e6c-84c8-4a87-bbcd-9b40237e4172",
   "metadata": {},
   "source": [
    "<br/>Column #11 \"Zip\": The zip code of where the consumer resides<sup>2</sup>"
   ]
  },
  {
   "cell_type": "markdown",
   "id": "22f76833-3e45-4e61-ab1e-1a22651867c8",
   "metadata": {},
   "source": [
    "Because we don't need all of the vast amount that this package provides *at the moment*, given that the latitude, longitude, state information is already given in our data set, we will start by using the simple version of the backend database provided by the ```uszipcode``` package."
   ]
  },
  {
   "cell_type": "code",
   "execution_count": 31,
   "id": "b5fb1874-7139-4484-94a7-89f440b59f1b",
   "metadata": {
    "scrolled": true,
    "tags": []
   },
   "outputs": [],
   "source": [
    "search = SearchEngine(simple_zipcode=True, db_file_dir=\"../data/zip_data_raw\")"
   ]
  },
  {
   "cell_type": "code",
   "execution_count": 32,
   "id": "248af789-1435-4103-b590-701e400e3cf1",
   "metadata": {},
   "outputs": [],
   "source": [
    "def _validate_and_get_info_zipcode(zip: str):\n",
    "    try:\n",
    "        zip_obj = search.by_zipcode(zip)\n",
    "        if zip_obj.zipcode is None:\n",
    "            return np.NaN\n",
    "        return zip_obj\n",
    "    except:\n",
    "        return np.NaN"
   ]
  },
  {
   "cell_type": "code",
   "execution_count": 33,
   "id": "e684c387-494b-45b3-af3a-617ca34b4238",
   "metadata": {},
   "outputs": [],
   "source": [
    "df[\"Zip Info\"] = df[\"Zip\"].apply(_validate_and_get_info_zipcode)"
   ]
  },
  {
   "cell_type": "markdown",
   "id": "bec3552e-cbb1-4655-9a8b-d153fc4ae909",
   "metadata": {},
   "source": [
    "We will now remove all entries with invalid ZIP Codes. We will be using the ZIP Code objects, which are now stored in the \"Zip Info\" column (newly created column), to also store otherr information associated with the Zip Code, such as latitude and longitude information; this way, the information is consolidated within the SimpleZipcode object. Plus, we can avoid painfully parsing \"Location...\" column (next column), keep the data consistent within the uszipcode package (information all from one database), and verify the validity of the latitude/longitude data all at the same time through the SimpleZipcode object."
   ]
  },
  {
   "cell_type": "code",
   "execution_count": 34,
   "id": "4df3030a-a1a2-40fb-b455-1b3df1a8606a",
   "metadata": {},
   "outputs": [],
   "source": [
    "df = df[df[\"Zip Info\"]!=np.NaN]"
   ]
  },
  {
   "cell_type": "markdown",
   "id": "3dd8f0f6-30d1-4e96-a11b-1673ae3c7bbb",
   "metadata": {},
   "source": [
    "A zip code is technically a nominal variable (even though there may be *many* of them). We can perhaps sort the data sample by a zip code category to understand which zip codes had the most reports, for instance. Making the Zip Info column into a Categorical may not make sense if the pd.Categorical method does not pick up on two different objects potentially being the same if their contents are the same. For simplicity, the Zip Info column will not be converted into a pd.Categorical."
   ]
  },
  {
   "cell_type": "code",
   "execution_count": 35,
   "id": "5c1bde75-52f3-454a-b188-d25247f1184b",
   "metadata": {},
   "outputs": [],
   "source": [
    "df[\"Zip\"] = pd.Categorical(df[\"Zip\"], ordered=False)"
   ]
  },
  {
   "cell_type": "code",
   "execution_count": 36,
   "id": "59bf6bdb-5133-44a1-887a-805c6bbc58ad",
   "metadata": {},
   "outputs": [
    {
     "data": {
      "text/plain": [
       "192864    33609\n",
       "404231    78232\n",
       "253800    13421\n",
       "250483    98072\n",
       "379501    59486\n",
       "Name: Zip, dtype: category\n",
       "Categories (2421, object): ['00000', '00725', '00792', '00977', ..., '99502', '99516', '99709', '99803']"
      ]
     },
     "execution_count": 36,
     "metadata": {},
     "output_type": "execute_result"
    }
   ],
   "source": [
    "df[\"Zip\"].head()"
   ]
  },
  {
   "cell_type": "markdown",
   "id": "2f1d4038-35fa-43a7-88e3-642f0d655d9f",
   "metadata": {},
   "source": [
    "```uszipcode``` documentation<sup>5</sup>"
   ]
  },
  {
   "cell_type": "markdown",
   "id": "04346d9f-ed90-4fc1-ba7b-ae6219c8d2aa",
   "metadata": {},
   "source": [
    "<br/>Column #12 \"Location (Center point of the Zip Code)\": center of the zip code, not by consumer's address or anything specifically (data set maintains consumer privacy, which is the ethical thing to do and is solid computer science research ethics)<sup>2</sup>"
   ]
  },
  {
   "cell_type": "markdown",
   "id": "7ecb432c-84dd-4237-ba89-72580455ad33",
   "metadata": {},
   "source": [
    "Per the explanation above, I am removing this column.<br/>\n",
    "*\"We will be using the ZIP Code objects, which are now stored in the \"Zip Info\" column (newly created column), to also store otherr information associated with the Zip Code, such as latitude and longitude information; this way, the information is consolidated within the SimpleZipcode object. Plus, we can avoid painfully parsing \"Location...\" column (next column), keep the data consistent within the uszipcode package (information all from one database), and verify the validity of the latitude/longitude data all at the same time through the SimpleZipcode object.\"*"
   ]
  },
  {
   "cell_type": "code",
   "execution_count": 37,
   "id": "20e51053-62b7-4fcf-bef6-4955381afc17",
   "metadata": {},
   "outputs": [],
   "source": [
    "df.drop(columns=\"Location (Center point of the Zip Code)\", inplace=True)"
   ]
  },
  {
   "cell_type": "markdown",
   "id": "462866ae-911e-44f4-bb6b-9fb07a9aa031",
   "metadata": {},
   "source": [
    "<br/>All in all (after the column conversions):"
   ]
  },
  {
   "cell_type": "code",
   "execution_count": 40,
   "id": "b9496326-6830-42ea-97bc-f5079c32669e",
   "metadata": {},
   "outputs": [
    {
     "data": {
      "text/html": [
       "<div>\n",
       "<style scoped>\n",
       "    .dataframe tbody tr th:only-of-type {\n",
       "        vertical-align: middle;\n",
       "    }\n",
       "\n",
       "    .dataframe tbody tr th {\n",
       "        vertical-align: top;\n",
       "    }\n",
       "\n",
       "    .dataframe thead th {\n",
       "        text-align: right;\n",
       "    }\n",
       "</style>\n",
       "<table border=\"1\" class=\"dataframe\">\n",
       "  <thead>\n",
       "    <tr style=\"text-align: right;\">\n",
       "      <th></th>\n",
       "      <th>Ticket Created</th>\n",
       "      <th>Date of Issue</th>\n",
       "      <th>Method</th>\n",
       "      <th>Caller ID Number</th>\n",
       "      <th>Type of Call or Messge</th>\n",
       "      <th>Advertiser Business Number</th>\n",
       "      <th>State</th>\n",
       "      <th>Zip</th>\n",
       "      <th>Zip Info</th>\n",
       "    </tr>\n",
       "  </thead>\n",
       "  <tbody>\n",
       "    <tr>\n",
       "      <th>192864</th>\n",
       "      <td>2014-12-23 11:39:00-05:00</td>\n",
       "      <td>12/23/2014</td>\n",
       "      <td>Wireless</td>\n",
       "      <td>Country Code: 1 National Number: 8133473401</td>\n",
       "      <td>Prerecorded Voice</td>\n",
       "      <td>NaN</td>\n",
       "      <td>FL</td>\n",
       "      <td>33609</td>\n",
       "      <td>SimpleZipcode(zipcode='33609', zipcode_type='S...</td>\n",
       "    </tr>\n",
       "    <tr>\n",
       "      <th>404231</th>\n",
       "      <td>2017-03-29 17:40:00-04:00</td>\n",
       "      <td>03/29/2017</td>\n",
       "      <td>Wired</td>\n",
       "      <td>Country Code: 1 National Number: 2106257494</td>\n",
       "      <td>Abandoned Calls</td>\n",
       "      <td>NaN</td>\n",
       "      <td>TX</td>\n",
       "      <td>78232</td>\n",
       "      <td>SimpleZipcode(zipcode='78232', zipcode_type='S...</td>\n",
       "    </tr>\n",
       "    <tr>\n",
       "      <th>253800</th>\n",
       "      <td>2016-01-29 14:57:00-05:00</td>\n",
       "      <td>01/28/2016</td>\n",
       "      <td>Wired</td>\n",
       "      <td>Country Code: 1 National Number: 3153633174</td>\n",
       "      <td>Abandoned Calls</td>\n",
       "      <td>NaN</td>\n",
       "      <td>NY</td>\n",
       "      <td>13421</td>\n",
       "      <td>SimpleZipcode(zipcode='13421', zipcode_type='S...</td>\n",
       "    </tr>\n",
       "    <tr>\n",
       "      <th>250483</th>\n",
       "      <td>2016-01-22 14:40:00-05:00</td>\n",
       "      <td>01/22/2016</td>\n",
       "      <td>Wireless</td>\n",
       "      <td>Country Code: 1 National Number: 4256817161</td>\n",
       "      <td>Abandoned Calls</td>\n",
       "      <td>NaN</td>\n",
       "      <td>WA</td>\n",
       "      <td>98072</td>\n",
       "      <td>SimpleZipcode(zipcode='98072', zipcode_type='S...</td>\n",
       "    </tr>\n",
       "    <tr>\n",
       "      <th>379501</th>\n",
       "      <td>2017-02-10 17:47:00-05:00</td>\n",
       "      <td>02/10/2017</td>\n",
       "      <td>Wireless</td>\n",
       "      <td>Country Code: 1 National Number: 8009564126</td>\n",
       "      <td>Prerecorded Voice</td>\n",
       "      <td>NaN</td>\n",
       "      <td>MT</td>\n",
       "      <td>59486</td>\n",
       "      <td>SimpleZipcode(zipcode='59486', zipcode_type='S...</td>\n",
       "    </tr>\n",
       "  </tbody>\n",
       "</table>\n",
       "</div>"
      ],
      "text/plain": [
       "                  Ticket Created Date of Issue    Method  \\\n",
       "192864 2014-12-23 11:39:00-05:00    12/23/2014  Wireless   \n",
       "404231 2017-03-29 17:40:00-04:00    03/29/2017     Wired   \n",
       "253800 2016-01-29 14:57:00-05:00    01/28/2016     Wired   \n",
       "250483 2016-01-22 14:40:00-05:00    01/22/2016  Wireless   \n",
       "379501 2017-02-10 17:47:00-05:00    02/10/2017  Wireless   \n",
       "\n",
       "                                   Caller ID Number Type of Call or Messge  \\\n",
       "192864  Country Code: 1 National Number: 8133473401      Prerecorded Voice   \n",
       "404231  Country Code: 1 National Number: 2106257494        Abandoned Calls   \n",
       "253800  Country Code: 1 National Number: 3153633174        Abandoned Calls   \n",
       "250483  Country Code: 1 National Number: 4256817161        Abandoned Calls   \n",
       "379501  Country Code: 1 National Number: 8009564126      Prerecorded Voice   \n",
       "\n",
       "       Advertiser Business Number State    Zip  \\\n",
       "192864                        NaN    FL  33609   \n",
       "404231                        NaN    TX  78232   \n",
       "253800                        NaN    NY  13421   \n",
       "250483                        NaN    WA  98072   \n",
       "379501                        NaN    MT  59486   \n",
       "\n",
       "                                                 Zip Info  \n",
       "192864  SimpleZipcode(zipcode='33609', zipcode_type='S...  \n",
       "404231  SimpleZipcode(zipcode='78232', zipcode_type='S...  \n",
       "253800  SimpleZipcode(zipcode='13421', zipcode_type='S...  \n",
       "250483  SimpleZipcode(zipcode='98072', zipcode_type='S...  \n",
       "379501  SimpleZipcode(zipcode='59486', zipcode_type='S...  "
      ]
     },
     "execution_count": 40,
     "metadata": {},
     "output_type": "execute_result"
    }
   ],
   "source": [
    "df.head()"
   ]
  },
  {
   "cell_type": "markdown",
   "id": "a1d224f4-292f-4a40-bac9-5b1d5e512025",
   "metadata": {},
   "source": [
    "### Step 2: EDA"
   ]
  },
  {
   "cell_type": "code",
   "execution_count": 41,
   "id": "b88ad436-65c5-45cc-a134-8f78f22bd60d",
   "metadata": {},
   "outputs": [],
   "source": [
    "#### Step 2.0: Plotting General Distributional Data"
   ]
  },
  {
   "cell_type": "code",
   "execution_count": 45,
   "id": "994e8bb9-2ca8-479b-a04f-33f78823aea2",
   "metadata": {},
   "outputs": [
    {
     "ename": "AttributeError",
     "evalue": "Can only use .dt accessor with datetimelike values",
     "output_type": "error",
     "traceback": [
      "\u001b[0;31m---------------------------------------------------------------------------\u001b[0m",
      "\u001b[0;31mAttributeError\u001b[0m                            Traceback (most recent call last)",
      "\u001b[0;32m<ipython-input-45-22988880a9fa>\u001b[0m in \u001b[0;36m<module>\u001b[0;34m\u001b[0m\n\u001b[0;32m----> 1\u001b[0;31m \u001b[0mdf\u001b[0m\u001b[0;34m.\u001b[0m\u001b[0mgroupby\u001b[0m\u001b[0;34m(\u001b[0m\u001b[0mdf\u001b[0m\u001b[0;34m[\u001b[0m\u001b[0;34m\"Date of Issue\"\u001b[0m\u001b[0;34m]\u001b[0m\u001b[0;34m.\u001b[0m\u001b[0mdt\u001b[0m\u001b[0;34m.\u001b[0m\u001b[0mmonth\u001b[0m\u001b[0;34m)\u001b[0m\u001b[0;34m.\u001b[0m\u001b[0mcount\u001b[0m\u001b[0;34m(\u001b[0m\u001b[0;34m)\u001b[0m\u001b[0;34m.\u001b[0m\u001b[0mplot\u001b[0m\u001b[0;34m(\u001b[0m\u001b[0mkind\u001b[0m\u001b[0;34m=\u001b[0m\u001b[0;34m\"bar\"\u001b[0m\u001b[0;34m)\u001b[0m\u001b[0;34m\u001b[0m\u001b[0;34m\u001b[0m\u001b[0m\n\u001b[0m",
      "\u001b[0;32m/opt/anaconda3/envs/csci349/lib/python3.8/site-packages/pandas/core/generic.py\u001b[0m in \u001b[0;36m__getattr__\u001b[0;34m(self, name)\u001b[0m\n\u001b[1;32m   5459\u001b[0m             \u001b[0;32mor\u001b[0m \u001b[0mname\u001b[0m \u001b[0;32min\u001b[0m \u001b[0mself\u001b[0m\u001b[0;34m.\u001b[0m\u001b[0m_accessors\u001b[0m\u001b[0;34m\u001b[0m\u001b[0;34m\u001b[0m\u001b[0m\n\u001b[1;32m   5460\u001b[0m         ):\n\u001b[0;32m-> 5461\u001b[0;31m             \u001b[0;32mreturn\u001b[0m \u001b[0mobject\u001b[0m\u001b[0;34m.\u001b[0m\u001b[0m__getattribute__\u001b[0m\u001b[0;34m(\u001b[0m\u001b[0mself\u001b[0m\u001b[0;34m,\u001b[0m \u001b[0mname\u001b[0m\u001b[0;34m)\u001b[0m\u001b[0;34m\u001b[0m\u001b[0;34m\u001b[0m\u001b[0m\n\u001b[0m\u001b[1;32m   5462\u001b[0m         \u001b[0;32melse\u001b[0m\u001b[0;34m:\u001b[0m\u001b[0;34m\u001b[0m\u001b[0;34m\u001b[0m\u001b[0m\n\u001b[1;32m   5463\u001b[0m             \u001b[0;32mif\u001b[0m \u001b[0mself\u001b[0m\u001b[0;34m.\u001b[0m\u001b[0m_info_axis\u001b[0m\u001b[0;34m.\u001b[0m\u001b[0m_can_hold_identifiers_and_holds_name\u001b[0m\u001b[0;34m(\u001b[0m\u001b[0mname\u001b[0m\u001b[0;34m)\u001b[0m\u001b[0;34m:\u001b[0m\u001b[0;34m\u001b[0m\u001b[0;34m\u001b[0m\u001b[0m\n",
      "\u001b[0;32m/opt/anaconda3/envs/csci349/lib/python3.8/site-packages/pandas/core/accessor.py\u001b[0m in \u001b[0;36m__get__\u001b[0;34m(self, obj, cls)\u001b[0m\n\u001b[1;32m    178\u001b[0m             \u001b[0;31m# we're accessing the attribute of the class, i.e., Dataset.geo\u001b[0m\u001b[0;34m\u001b[0m\u001b[0;34m\u001b[0m\u001b[0;34m\u001b[0m\u001b[0m\n\u001b[1;32m    179\u001b[0m             \u001b[0;32mreturn\u001b[0m \u001b[0mself\u001b[0m\u001b[0;34m.\u001b[0m\u001b[0m_accessor\u001b[0m\u001b[0;34m\u001b[0m\u001b[0;34m\u001b[0m\u001b[0m\n\u001b[0;32m--> 180\u001b[0;31m         \u001b[0maccessor_obj\u001b[0m \u001b[0;34m=\u001b[0m \u001b[0mself\u001b[0m\u001b[0;34m.\u001b[0m\u001b[0m_accessor\u001b[0m\u001b[0;34m(\u001b[0m\u001b[0mobj\u001b[0m\u001b[0;34m)\u001b[0m\u001b[0;34m\u001b[0m\u001b[0;34m\u001b[0m\u001b[0m\n\u001b[0m\u001b[1;32m    181\u001b[0m         \u001b[0;31m# Replace the property with the accessor object. Inspired by:\u001b[0m\u001b[0;34m\u001b[0m\u001b[0;34m\u001b[0m\u001b[0;34m\u001b[0m\u001b[0m\n\u001b[1;32m    182\u001b[0m         \u001b[0;31m# https://www.pydanny.com/cached-property.html\u001b[0m\u001b[0;34m\u001b[0m\u001b[0;34m\u001b[0m\u001b[0;34m\u001b[0m\u001b[0m\n",
      "\u001b[0;32m/opt/anaconda3/envs/csci349/lib/python3.8/site-packages/pandas/core/indexes/accessors.py\u001b[0m in \u001b[0;36m__new__\u001b[0;34m(cls, data)\u001b[0m\n\u001b[1;32m    492\u001b[0m             \u001b[0;32mreturn\u001b[0m \u001b[0mPeriodProperties\u001b[0m\u001b[0;34m(\u001b[0m\u001b[0mdata\u001b[0m\u001b[0;34m,\u001b[0m \u001b[0morig\u001b[0m\u001b[0;34m)\u001b[0m\u001b[0;34m\u001b[0m\u001b[0;34m\u001b[0m\u001b[0m\n\u001b[1;32m    493\u001b[0m \u001b[0;34m\u001b[0m\u001b[0m\n\u001b[0;32m--> 494\u001b[0;31m         \u001b[0;32mraise\u001b[0m \u001b[0mAttributeError\u001b[0m\u001b[0;34m(\u001b[0m\u001b[0;34m\"Can only use .dt accessor with datetimelike values\"\u001b[0m\u001b[0;34m)\u001b[0m\u001b[0;34m\u001b[0m\u001b[0;34m\u001b[0m\u001b[0m\n\u001b[0m",
      "\u001b[0;31mAttributeError\u001b[0m: Can only use .dt accessor with datetimelike values"
     ]
    }
   ],
   "source": [
    "df.groupby(df[\"Date of Issue\"].dt.month).count().plot(kind=\"bar\")"
   ]
  },
  {
   "cell_type": "markdown",
   "id": "cd1cc910-fa92-466f-a49a-8588d6cf1220",
   "metadata": {},
   "source": [
    "Retrieved from Stack Overflow<sup>7</sup>"
   ]
  },
  {
   "cell_type": "markdown",
   "id": "0e063356-4d0e-4c1d-b57a-ff572d27feea",
   "metadata": {},
   "source": [
    "### References\n",
    "1. Data from https://data.world/kgarrett/unwanted-calls\n",
    "2. Verified description of the variable using https://opendata.fcc.gov/Consumer/Consumer-Complaints-Data-Unwanted-Calls/vakf-fz8e\n",
    "3. Python wrapper of Google's ```phonenumbers``` library (documentation): https://pypi.org/project/phonenumbers/\n",
    "4. FCC unwanted call complaint form: https://consumercomplaints.fcc.gov/hc/en-us/requests/new?ticket_form_id=39744\n",
    "5. ```uszipcode``` documentation: https://pypi.org/project/uszipcode/\n",
    "6. ```us``` documentation: https://pypi.org/project/us/\n",
    "7. Stack Overflow: https://stackoverflow.com/questions/27365467/can-pandas-plot-a-histogram-of-dates"
   ]
  },
  {
   "cell_type": "code",
   "execution_count": null,
   "id": "14d051ba-8b5d-4e1c-b263-ce788fd63c02",
   "metadata": {},
   "outputs": [],
   "source": []
  }
 ],
 "metadata": {
  "kernelspec": {
   "display_name": "Python 3",
   "language": "python",
   "name": "python3"
  },
  "language_info": {
   "codemirror_mode": {
    "name": "ipython",
    "version": 3
   },
   "file_extension": ".py",
   "mimetype": "text/x-python",
   "name": "python",
   "nbconvert_exporter": "python",
   "pygments_lexer": "ipython3",
   "version": "3.8.10"
  }
 },
 "nbformat": 4,
 "nbformat_minor": 5
}
